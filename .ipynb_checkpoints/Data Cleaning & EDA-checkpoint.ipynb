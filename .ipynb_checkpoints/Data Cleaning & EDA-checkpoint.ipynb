{
 "cells": [
  {
   "cell_type": "markdown",
   "metadata": {},
   "source": [
    "## Data Cleaning & EDA\n",
    "---"
   ]
  },
  {
   "cell_type": "code",
   "execution_count": 1,
   "metadata": {
    "ExecuteTime": {
     "end_time": "2020-06-24T23:40:15.356722Z",
     "start_time": "2020-06-24T23:40:14.129755Z"
    }
   },
   "outputs": [],
   "source": [
    "import pandas as pd \n",
    "import geopandas as gpd \n",
    "import numpy as np \n",
    "import matplotlib.pyplot as plt\n",
    "import seaborn as sns\n",
    "\n",
    "from keplergl import KeplerGl\n",
    "import plotly_express as px \n",
    "import plotly.graph_objects as go\n",
    "from shapely import wkt \n",
    "from shapely.geometry import Polygon, Point\n",
    "\n",
    "plt.style.use('ggplot')\n",
    "pd.options.display.max_rows = 999\n",
    "pd.options.display.max_columns = 999"
   ]
  },
  {
   "cell_type": "code",
   "execution_count": 2,
   "metadata": {
    "ExecuteTime": {
     "end_time": "2020-06-24T23:40:16.518016Z",
     "start_time": "2020-06-24T23:40:15.360059Z"
    },
    "scrolled": true
   },
   "outputs": [
    {
     "name": "stderr",
     "output_type": "stream",
     "text": [
      "/Users/derekmcadam/opt/anaconda3/envs/dsi/lib/python3.7/site-packages/IPython/core/interactiveshell.py:3063: DtypeWarning: Columns (2,6,12) have mixed types.Specify dtype option on import or set low_memory=False.\n",
      "  interactivity=interactivity, compiler=compiler, result=result)\n"
     ]
    }
   ],
   "source": [
    "data = pd.read_csv('boston_crime_data.csv')"
   ]
  },
  {
   "cell_type": "code",
   "execution_count": 3,
   "metadata": {
    "ExecuteTime": {
     "end_time": "2020-06-24T23:40:16.537655Z",
     "start_time": "2020-06-24T23:40:16.520391Z"
    }
   },
   "outputs": [
    {
     "data": {
      "text/html": [
       "<div>\n",
       "<style scoped>\n",
       "    .dataframe tbody tr th:only-of-type {\n",
       "        vertical-align: middle;\n",
       "    }\n",
       "\n",
       "    .dataframe tbody tr th {\n",
       "        vertical-align: top;\n",
       "    }\n",
       "\n",
       "    .dataframe thead th {\n",
       "        text-align: right;\n",
       "    }\n",
       "</style>\n",
       "<table border=\"1\" class=\"dataframe\">\n",
       "  <thead>\n",
       "    <tr style=\"text-align: right;\">\n",
       "      <th></th>\n",
       "      <th>incident_number</th>\n",
       "      <th>offense_code</th>\n",
       "      <th>offense_code_group</th>\n",
       "      <th>offense_description</th>\n",
       "      <th>district</th>\n",
       "      <th>reporting_area</th>\n",
       "      <th>shooting</th>\n",
       "      <th>occurred_on_date</th>\n",
       "      <th>year</th>\n",
       "      <th>month</th>\n",
       "      <th>day_of_week</th>\n",
       "      <th>hour</th>\n",
       "      <th>ucr_part</th>\n",
       "      <th>street</th>\n",
       "      <th>lat</th>\n",
       "      <th>long</th>\n",
       "      <th>location</th>\n",
       "    </tr>\n",
       "  </thead>\n",
       "  <tbody>\n",
       "    <tr>\n",
       "      <th>0</th>\n",
       "      <td>TESTTEST2</td>\n",
       "      <td>423</td>\n",
       "      <td>NaN</td>\n",
       "      <td>ASSAULT - AGGRAVATED</td>\n",
       "      <td>External</td>\n",
       "      <td></td>\n",
       "      <td>0</td>\n",
       "      <td>2019-10-16 00:00:00</td>\n",
       "      <td>2019</td>\n",
       "      <td>10</td>\n",
       "      <td>Wednesday</td>\n",
       "      <td>0</td>\n",
       "      <td>NaN</td>\n",
       "      <td>RIVERVIEW DR</td>\n",
       "      <td>NaN</td>\n",
       "      <td>NaN</td>\n",
       "      <td>(0.00000000, 0.00000000)</td>\n",
       "    </tr>\n",
       "    <tr>\n",
       "      <th>1</th>\n",
       "      <td>I92102201</td>\n",
       "      <td>3301</td>\n",
       "      <td>NaN</td>\n",
       "      <td>VERBAL DISPUTE</td>\n",
       "      <td>E13</td>\n",
       "      <td>583</td>\n",
       "      <td>0</td>\n",
       "      <td>2019-12-20 03:08:00</td>\n",
       "      <td>2019</td>\n",
       "      <td>12</td>\n",
       "      <td>Friday</td>\n",
       "      <td>3</td>\n",
       "      <td>NaN</td>\n",
       "      <td>DAY ST</td>\n",
       "      <td>42.325122</td>\n",
       "      <td>-71.107779</td>\n",
       "      <td>(42.32512200, -71.10777900)</td>\n",
       "    </tr>\n",
       "    <tr>\n",
       "      <th>2</th>\n",
       "      <td>I92097173</td>\n",
       "      <td>3115</td>\n",
       "      <td>NaN</td>\n",
       "      <td>INVESTIGATE PERSON</td>\n",
       "      <td>C11</td>\n",
       "      <td>355</td>\n",
       "      <td>0</td>\n",
       "      <td>2019-10-23 00:00:00</td>\n",
       "      <td>2019</td>\n",
       "      <td>10</td>\n",
       "      <td>Wednesday</td>\n",
       "      <td>0</td>\n",
       "      <td>NaN</td>\n",
       "      <td>GIBSON ST</td>\n",
       "      <td>42.297555</td>\n",
       "      <td>-71.059709</td>\n",
       "      <td>(42.29755500, -71.05970900)</td>\n",
       "    </tr>\n",
       "    <tr>\n",
       "      <th>3</th>\n",
       "      <td>I92094519</td>\n",
       "      <td>3126</td>\n",
       "      <td>NaN</td>\n",
       "      <td>WARRANT ARREST - OUTSIDE OF BOSTON WARRANT</td>\n",
       "      <td>D14</td>\n",
       "      <td>765</td>\n",
       "      <td>0</td>\n",
       "      <td>2019-11-22 07:50:00</td>\n",
       "      <td>2019</td>\n",
       "      <td>11</td>\n",
       "      <td>Friday</td>\n",
       "      <td>7</td>\n",
       "      <td>NaN</td>\n",
       "      <td>BROOKS ST</td>\n",
       "      <td>42.355120</td>\n",
       "      <td>-71.162678</td>\n",
       "      <td>(42.35512000, -71.16267800)</td>\n",
       "    </tr>\n",
       "    <tr>\n",
       "      <th>4</th>\n",
       "      <td>I92089785</td>\n",
       "      <td>3005</td>\n",
       "      <td>NaN</td>\n",
       "      <td>SICK ASSIST</td>\n",
       "      <td>E13</td>\n",
       "      <td>574</td>\n",
       "      <td>0</td>\n",
       "      <td>2019-11-05 18:00:00</td>\n",
       "      <td>2019</td>\n",
       "      <td>11</td>\n",
       "      <td>Tuesday</td>\n",
       "      <td>18</td>\n",
       "      <td>NaN</td>\n",
       "      <td>WASHINGTON ST</td>\n",
       "      <td>42.309718</td>\n",
       "      <td>-71.104294</td>\n",
       "      <td>(42.30971800, -71.10429400)</td>\n",
       "    </tr>\n",
       "  </tbody>\n",
       "</table>\n",
       "</div>"
      ],
      "text/plain": [
       "  incident_number  offense_code offense_code_group  \\\n",
       "0       TESTTEST2           423                NaN   \n",
       "1       I92102201          3301                NaN   \n",
       "2       I92097173          3115                NaN   \n",
       "3       I92094519          3126                NaN   \n",
       "4       I92089785          3005                NaN   \n",
       "\n",
       "                          offense_description  district reporting_area  \\\n",
       "0                        ASSAULT - AGGRAVATED  External                  \n",
       "1                              VERBAL DISPUTE       E13            583   \n",
       "2                          INVESTIGATE PERSON       C11            355   \n",
       "3  WARRANT ARREST - OUTSIDE OF BOSTON WARRANT       D14            765   \n",
       "4                                 SICK ASSIST       E13            574   \n",
       "\n",
       "  shooting     occurred_on_date  year  month day_of_week  hour ucr_part  \\\n",
       "0        0  2019-10-16 00:00:00  2019     10   Wednesday     0      NaN   \n",
       "1        0  2019-12-20 03:08:00  2019     12      Friday     3      NaN   \n",
       "2        0  2019-10-23 00:00:00  2019     10   Wednesday     0      NaN   \n",
       "3        0  2019-11-22 07:50:00  2019     11      Friday     7      NaN   \n",
       "4        0  2019-11-05 18:00:00  2019     11     Tuesday    18      NaN   \n",
       "\n",
       "          street        lat       long                     location  \n",
       "0   RIVERVIEW DR        NaN        NaN     (0.00000000, 0.00000000)  \n",
       "1         DAY ST  42.325122 -71.107779  (42.32512200, -71.10777900)  \n",
       "2      GIBSON ST  42.297555 -71.059709  (42.29755500, -71.05970900)  \n",
       "3      BROOKS ST  42.355120 -71.162678  (42.35512000, -71.16267800)  \n",
       "4  WASHINGTON ST  42.309718 -71.104294  (42.30971800, -71.10429400)  "
      ]
     },
     "execution_count": 3,
     "metadata": {},
     "output_type": "execute_result"
    }
   ],
   "source": [
    "data.head()"
   ]
  },
  {
   "cell_type": "code",
   "execution_count": 4,
   "metadata": {
    "ExecuteTime": {
     "end_time": "2020-06-24T23:40:16.718599Z",
     "start_time": "2020-06-24T23:40:16.539737Z"
    }
   },
   "outputs": [
    {
     "name": "stdout",
     "output_type": "stream",
     "text": [
      "<class 'pandas.core.frame.DataFrame'>\n",
      "RangeIndex: 488822 entries, 0 to 488821\n",
      "Data columns (total 17 columns):\n",
      " #   Column               Non-Null Count   Dtype  \n",
      "---  ------               --------------   -----  \n",
      " 0   incident_number      488822 non-null  object \n",
      " 1   offense_code         488822 non-null  int64  \n",
      " 2   offense_code_group   426089 non-null  object \n",
      " 3   offense_description  488822 non-null  object \n",
      " 4   district             486399 non-null  object \n",
      " 5   reporting_area       488822 non-null  object \n",
      " 6   shooting             64113 non-null   object \n",
      " 7   occurred_on_date     488822 non-null  object \n",
      " 8   year                 488822 non-null  int64  \n",
      " 9   month                488822 non-null  int64  \n",
      " 10  day_of_week          488822 non-null  object \n",
      " 11  hour                 488822 non-null  int64  \n",
      " 12  ucr_part             425983 non-null  object \n",
      " 13  street               470943 non-null  object \n",
      " 14  lat                  460390 non-null  float64\n",
      " 15  long                 460390 non-null  float64\n",
      " 16  location             488822 non-null  object \n",
      "dtypes: float64(2), int64(4), object(11)\n",
      "memory usage: 63.4+ MB\n"
     ]
    }
   ],
   "source": [
    "data.info()"
   ]
  },
  {
   "cell_type": "code",
   "execution_count": 5,
   "metadata": {
    "ExecuteTime": {
     "end_time": "2020-06-24T23:40:16.723270Z",
     "start_time": "2020-06-24T23:40:16.720344Z"
    }
   },
   "outputs": [
    {
     "data": {
      "text/plain": [
       "(488822, 17)"
      ]
     },
     "execution_count": 5,
     "metadata": {},
     "output_type": "execute_result"
    }
   ],
   "source": [
    "data.shape"
   ]
  },
  {
   "cell_type": "code",
   "execution_count": 6,
   "metadata": {
    "ExecuteTime": {
     "end_time": "2020-06-24T23:40:16.842915Z",
     "start_time": "2020-06-24T23:40:16.724643Z"
    }
   },
   "outputs": [
    {
     "data": {
      "text/plain": [
       "438323"
      ]
     },
     "execution_count": 6,
     "metadata": {},
     "output_type": "execute_result"
    }
   ],
   "source": [
    "# Unique Incidents\n",
    "data['incident_number'].nunique()"
   ]
  },
  {
   "cell_type": "code",
   "execution_count": 7,
   "metadata": {
    "ExecuteTime": {
     "end_time": "2020-06-24T23:40:16.879694Z",
     "start_time": "2020-06-24T23:40:16.844405Z"
    }
   },
   "outputs": [],
   "source": [
    "data.drop(columns=['incident_number', \n",
    "                   'location',\n",
    "                   'street',\n",
    "                   'ucr_part'], inplace=True)"
   ]
  },
  {
   "cell_type": "code",
   "execution_count": 8,
   "metadata": {
    "ExecuteTime": {
     "end_time": "2020-06-24T23:40:16.976833Z",
     "start_time": "2020-06-24T23:40:16.883334Z"
    }
   },
   "outputs": [],
   "source": [
    "# Converting occurrance date to pandas datetime format\n",
    "data['occurred_on_date'] = pd.to_datetime(data['occurred_on_date']) "
   ]
  },
  {
   "cell_type": "code",
   "execution_count": 9,
   "metadata": {
    "ExecuteTime": {
     "end_time": "2020-06-24T23:40:17.071645Z",
     "start_time": "2020-06-24T23:40:16.979657Z"
    }
   },
   "outputs": [
    {
     "data": {
      "text/plain": [
       "offense_code                0\n",
       "offense_code_group      62733\n",
       "offense_description         0\n",
       "district                 2423\n",
       "reporting_area              0\n",
       "shooting               424709\n",
       "occurred_on_date            0\n",
       "year                        0\n",
       "month                       0\n",
       "day_of_week                 0\n",
       "hour                        0\n",
       "lat                     28432\n",
       "long                    28432\n",
       "dtype: int64"
      ]
     },
     "execution_count": 9,
     "metadata": {},
     "output_type": "execute_result"
    }
   ],
   "source": [
    "# checking nulls\n",
    "data.isnull().sum()"
   ]
  },
  {
   "cell_type": "code",
   "execution_count": 10,
   "metadata": {
    "ExecuteTime": {
     "end_time": "2020-06-24T23:40:17.136827Z",
     "start_time": "2020-06-24T23:40:17.073132Z"
    }
   },
   "outputs": [],
   "source": [
    "# Dropping crimes in 2015 and 2020\n",
    "crime_2015_2020 = data.loc[(data['year'] == 2020) | (data['year'] == 2015), :]\n",
    "data.drop(index=crime_2015_2020.index, inplace=True)"
   ]
  },
  {
   "cell_type": "code",
   "execution_count": 95,
   "metadata": {
    "ExecuteTime": {
     "end_time": "2020-06-24T23:37:18.524174Z",
     "start_time": "2020-06-24T23:37:18.520195Z"
    }
   },
   "outputs": [
    {
     "data": {
      "text/plain": [
       "(730273, 20)"
      ]
     },
     "execution_count": 95,
     "metadata": {},
     "output_type": "execute_result"
    }
   ],
   "source": [
    "data.shape"
   ]
  },
  {
   "cell_type": "code",
   "execution_count": 11,
   "metadata": {
    "ExecuteTime": {
     "end_time": "2020-06-24T23:40:17.200013Z",
     "start_time": "2020-06-24T23:40:17.138960Z"
    }
   },
   "outputs": [],
   "source": [
    "# Dropping crimes located outside boston\n",
    "external = data.loc[data['district'] == 'External']\n",
    "\n",
    "data.drop(external.index, axis=0, inplace=True)"
   ]
  },
  {
   "cell_type": "code",
   "execution_count": 12,
   "metadata": {
    "ExecuteTime": {
     "end_time": "2020-06-24T23:40:17.217461Z",
     "start_time": "2020-06-24T23:40:17.201829Z"
    }
   },
   "outputs": [
    {
     "data": {
      "text/plain": [
       "880"
      ]
     },
     "execution_count": 12,
     "metadata": {},
     "output_type": "execute_result"
    }
   ],
   "source": [
    "data['reporting_area'].nunique()"
   ]
  },
  {
   "cell_type": "code",
   "execution_count": 13,
   "metadata": {
    "ExecuteTime": {
     "end_time": "2020-06-24T23:40:17.272078Z",
     "start_time": "2020-06-24T23:40:17.218928Z"
    }
   },
   "outputs": [
    {
     "name": "stderr",
     "output_type": "stream",
     "text": [
      "/Users/derekmcadam/opt/anaconda3/envs/dsi/lib/python3.7/site-packages/ipykernel_launcher.py:2: FutureWarning: Indexing with multiple keys (implicitly converted to a tuple of keys) will be deprecated, use a list instead.\n",
      "  \n"
     ]
    }
   ],
   "source": [
    "# groupby Reporting Area and take the average of Long and Lat\n",
    "reporting_area_centers = data[~data['lat'].isna()].groupby('reporting_area')['lat', 'long'].mean().reset_index()"
   ]
  },
  {
   "cell_type": "code",
   "execution_count": 14,
   "metadata": {
    "ExecuteTime": {
     "end_time": "2020-06-24T23:40:17.276211Z",
     "start_time": "2020-06-24T23:40:17.273594Z"
    }
   },
   "outputs": [],
   "source": [
    "# reporting_area_centers['geom'] = gpd.GeoSeries([Point(x, y) for x, y in zip(reporting_area_centers['lat'], reporting_area_centers['long'])])"
   ]
  },
  {
   "cell_type": "code",
   "execution_count": 15,
   "metadata": {
    "ExecuteTime": {
     "end_time": "2020-06-24T23:40:17.306587Z",
     "start_time": "2020-06-24T23:40:17.277636Z"
    }
   },
   "outputs": [],
   "source": [
    "# create a WKT representation of Reporting Area Centers: Lat/Lon values\n",
    "reporting_area_centers[\"geom\"]=reporting_area_centers.loc[:,[\"long\",\"lat\"]].apply(lambda x: \"POINT(\"+str(x[\"long\"])+\" \"+str(x[\"lat\"])+\")\",axis=1)"
   ]
  },
  {
   "cell_type": "code",
   "execution_count": 16,
   "metadata": {
    "ExecuteTime": {
     "end_time": "2020-06-24T23:40:17.311037Z",
     "start_time": "2020-06-24T23:40:17.308136Z"
    }
   },
   "outputs": [
    {
     "data": {
      "text/plain": [
       "(880, 4)"
      ]
     },
     "execution_count": 16,
     "metadata": {},
     "output_type": "execute_result"
    }
   ],
   "source": [
    "reporting_area_centers.shape"
   ]
  },
  {
   "cell_type": "code",
   "execution_count": 17,
   "metadata": {
    "ExecuteTime": {
     "end_time": "2020-06-24T23:40:17.319393Z",
     "start_time": "2020-06-24T23:40:17.312411Z"
    }
   },
   "outputs": [
    {
     "data": {
      "text/html": [
       "<div>\n",
       "<style scoped>\n",
       "    .dataframe tbody tr th:only-of-type {\n",
       "        vertical-align: middle;\n",
       "    }\n",
       "\n",
       "    .dataframe tbody tr th {\n",
       "        vertical-align: top;\n",
       "    }\n",
       "\n",
       "    .dataframe thead th {\n",
       "        text-align: right;\n",
       "    }\n",
       "</style>\n",
       "<table border=\"1\" class=\"dataframe\">\n",
       "  <thead>\n",
       "    <tr style=\"text-align: right;\">\n",
       "      <th></th>\n",
       "      <th>reporting_area</th>\n",
       "      <th>lat</th>\n",
       "      <th>long</th>\n",
       "      <th>geom</th>\n",
       "    </tr>\n",
       "  </thead>\n",
       "  <tbody>\n",
       "    <tr>\n",
       "      <th>0</th>\n",
       "      <td></td>\n",
       "      <td>36.341992</td>\n",
       "      <td>-61.398317</td>\n",
       "      <td>POINT(-61.39831744305705 36.341991500206596)</td>\n",
       "    </tr>\n",
       "    <tr>\n",
       "      <th>1</th>\n",
       "      <td>000</td>\n",
       "      <td>-1.000000</td>\n",
       "      <td>-1.000000</td>\n",
       "      <td>POINT(-1.0 -1.0)</td>\n",
       "    </tr>\n",
       "    <tr>\n",
       "      <th>2</th>\n",
       "      <td>1</td>\n",
       "      <td>42.390213</td>\n",
       "      <td>-70.996685</td>\n",
       "      <td>POINT(-70.99668539744188 42.39021344627907)</td>\n",
       "    </tr>\n",
       "    <tr>\n",
       "      <th>3</th>\n",
       "      <td>10</td>\n",
       "      <td>42.388760</td>\n",
       "      <td>-71.008482</td>\n",
       "      <td>POINT(-71.00848226747742 42.388760055810785)</td>\n",
       "    </tr>\n",
       "    <tr>\n",
       "      <th>4</th>\n",
       "      <td>100</td>\n",
       "      <td>42.357868</td>\n",
       "      <td>-71.054794</td>\n",
       "      <td>POINT(-71.05479433899042 42.357867941562525)</td>\n",
       "    </tr>\n",
       "  </tbody>\n",
       "</table>\n",
       "</div>"
      ],
      "text/plain": [
       "  reporting_area        lat       long  \\\n",
       "0                 36.341992 -61.398317   \n",
       "1            000  -1.000000  -1.000000   \n",
       "2              1  42.390213 -70.996685   \n",
       "3             10  42.388760 -71.008482   \n",
       "4            100  42.357868 -71.054794   \n",
       "\n",
       "                                           geom  \n",
       "0  POINT(-61.39831744305705 36.341991500206596)  \n",
       "1                              POINT(-1.0 -1.0)  \n",
       "2   POINT(-70.99668539744188 42.39021344627907)  \n",
       "3  POINT(-71.00848226747742 42.388760055810785)  \n",
       "4  POINT(-71.05479433899042 42.357867941562525)  "
      ]
     },
     "execution_count": 17,
     "metadata": {},
     "output_type": "execute_result"
    }
   ],
   "source": [
    "# there are some outliers, we need to remove them\n",
    "reporting_area_centers.head()"
   ]
  },
  {
   "cell_type": "code",
   "execution_count": 18,
   "metadata": {
    "ExecuteTime": {
     "end_time": "2020-06-24T23:40:17.326798Z",
     "start_time": "2020-06-24T23:40:17.321086Z"
    }
   },
   "outputs": [
    {
     "name": "stdout",
     "output_type": "stream",
     "text": [
      "User Guide: https://docs.kepler.gl/docs/keplergl-jupyter\n"
     ]
    }
   ],
   "source": [
    "map_1 = KeplerGl(height=500)"
   ]
  },
  {
   "cell_type": "code",
   "execution_count": 19,
   "metadata": {
    "ExecuteTime": {
     "end_time": "2020-06-24T23:40:17.345493Z",
     "start_time": "2020-06-24T23:40:17.328323Z"
    }
   },
   "outputs": [],
   "source": [
    "# Create a geopandas dataframe. use tract_geom column for geometry.\n",
    "geodf_ra = gpd.GeoDataFrame(reporting_area_centers, geometry = reporting_area_centers['geom'].apply(wkt.loads))"
   ]
  },
  {
   "cell_type": "code",
   "execution_count": 20,
   "metadata": {
    "ExecuteTime": {
     "end_time": "2020-06-24T23:40:17.356568Z",
     "start_time": "2020-06-24T23:40:17.346952Z"
    }
   },
   "outputs": [
    {
     "data": {
      "text/html": [
       "<div>\n",
       "<style scoped>\n",
       "    .dataframe tbody tr th:only-of-type {\n",
       "        vertical-align: middle;\n",
       "    }\n",
       "\n",
       "    .dataframe tbody tr th {\n",
       "        vertical-align: top;\n",
       "    }\n",
       "\n",
       "    .dataframe thead th {\n",
       "        text-align: right;\n",
       "    }\n",
       "</style>\n",
       "<table border=\"1\" class=\"dataframe\">\n",
       "  <thead>\n",
       "    <tr style=\"text-align: right;\">\n",
       "      <th></th>\n",
       "      <th>reporting_area</th>\n",
       "      <th>lat</th>\n",
       "      <th>long</th>\n",
       "      <th>geom</th>\n",
       "      <th>geometry</th>\n",
       "    </tr>\n",
       "  </thead>\n",
       "  <tbody>\n",
       "    <tr>\n",
       "      <th>0</th>\n",
       "      <td></td>\n",
       "      <td>36.341992</td>\n",
       "      <td>-61.398317</td>\n",
       "      <td>POINT(-61.39831744305705 36.341991500206596)</td>\n",
       "      <td>POINT (-61.39832 36.34199)</td>\n",
       "    </tr>\n",
       "    <tr>\n",
       "      <th>1</th>\n",
       "      <td>000</td>\n",
       "      <td>-1.000000</td>\n",
       "      <td>-1.000000</td>\n",
       "      <td>POINT(-1.0 -1.0)</td>\n",
       "      <td>POINT (-1.00000 -1.00000)</td>\n",
       "    </tr>\n",
       "    <tr>\n",
       "      <th>2</th>\n",
       "      <td>1</td>\n",
       "      <td>42.390213</td>\n",
       "      <td>-70.996685</td>\n",
       "      <td>POINT(-70.99668539744188 42.39021344627907)</td>\n",
       "      <td>POINT (-70.99669 42.39021)</td>\n",
       "    </tr>\n",
       "    <tr>\n",
       "      <th>3</th>\n",
       "      <td>10</td>\n",
       "      <td>42.388760</td>\n",
       "      <td>-71.008482</td>\n",
       "      <td>POINT(-71.00848226747742 42.388760055810785)</td>\n",
       "      <td>POINT (-71.00848 42.38876)</td>\n",
       "    </tr>\n",
       "    <tr>\n",
       "      <th>4</th>\n",
       "      <td>100</td>\n",
       "      <td>42.357868</td>\n",
       "      <td>-71.054794</td>\n",
       "      <td>POINT(-71.05479433899042 42.357867941562525)</td>\n",
       "      <td>POINT (-71.05479 42.35787)</td>\n",
       "    </tr>\n",
       "  </tbody>\n",
       "</table>\n",
       "</div>"
      ],
      "text/plain": [
       "  reporting_area        lat       long  \\\n",
       "0                 36.341992 -61.398317   \n",
       "1            000  -1.000000  -1.000000   \n",
       "2              1  42.390213 -70.996685   \n",
       "3             10  42.388760 -71.008482   \n",
       "4            100  42.357868 -71.054794   \n",
       "\n",
       "                                           geom                    geometry  \n",
       "0  POINT(-61.39831744305705 36.341991500206596)  POINT (-61.39832 36.34199)  \n",
       "1                              POINT(-1.0 -1.0)   POINT (-1.00000 -1.00000)  \n",
       "2   POINT(-70.99668539744188 42.39021344627907)  POINT (-70.99669 42.39021)  \n",
       "3  POINT(-71.00848226747742 42.388760055810785)  POINT (-71.00848 42.38876)  \n",
       "4  POINT(-71.05479433899042 42.357867941562525)  POINT (-71.05479 42.35787)  "
      ]
     },
     "execution_count": 20,
     "metadata": {},
     "output_type": "execute_result"
    }
   ],
   "source": [
    "geodf_ra.head()"
   ]
  },
  {
   "cell_type": "code",
   "execution_count": 21,
   "metadata": {
    "ExecuteTime": {
     "end_time": "2020-06-24T23:40:17.399857Z",
     "start_time": "2020-06-24T23:40:17.358126Z"
    }
   },
   "outputs": [],
   "source": [
    "# Add data to Kepler Map\n",
    "map_1.add_data(data=geodf_ra, name=\"boston_crime\")"
   ]
  },
  {
   "cell_type": "code",
   "execution_count": 22,
   "metadata": {
    "ExecuteTime": {
     "end_time": "2020-06-24T23:40:17.407623Z",
     "start_time": "2020-06-24T23:40:17.401347Z"
    }
   },
   "outputs": [
    {
     "data": {
      "application/vnd.jupyter.widget-view+json": {
       "model_id": "1c077e044b54495093cff654fb28b49d",
       "version_major": 2,
       "version_minor": 0
      },
      "text/plain": [
       "KeplerGl(data={'boston_crime': {'index': [0, 1, 2, 3, 4, 5, 6, 7, 8, 9, 10, 11, 12, 13, 14, 15, 16, 17, 18, 19…"
      ]
     },
     "metadata": {},
     "output_type": "display_data"
    }
   ],
   "source": [
    "map_1"
   ]
  },
  {
   "cell_type": "markdown",
   "metadata": {},
   "source": [
    "**Clearly there are outlying points that are incorrect.  Lets remove them.**\n",
    "\n"
   ]
  },
  {
   "cell_type": "code",
   "execution_count": 23,
   "metadata": {
    "ExecuteTime": {
     "end_time": "2020-06-24T23:40:17.800496Z",
     "start_time": "2020-06-24T23:40:17.413149Z"
    }
   },
   "outputs": [],
   "source": [
    "# reading boston neighborhood shape file\n",
    "city_data = gpd.read_file('500Cities_City_11082016/CityBoundaries.shp')"
   ]
  },
  {
   "cell_type": "code",
   "execution_count": 24,
   "metadata": {
    "ExecuteTime": {
     "end_time": "2020-06-24T23:40:17.809243Z",
     "start_time": "2020-06-24T23:40:17.805632Z"
    }
   },
   "outputs": [
    {
     "data": {
      "text/plain": [
       "{'init': 'epsg:3857'}"
      ]
     },
     "execution_count": 24,
     "metadata": {},
     "output_type": "execute_result"
    }
   ],
   "source": [
    "city_data.crs"
   ]
  },
  {
   "cell_type": "code",
   "execution_count": 25,
   "metadata": {
    "ExecuteTime": {
     "end_time": "2020-06-24T23:40:19.243964Z",
     "start_time": "2020-06-24T23:40:17.811451Z"
    }
   },
   "outputs": [],
   "source": [
    "city_data['geometry'] = city_data['geometry'].to_crs(epsg=4326)"
   ]
  },
  {
   "cell_type": "code",
   "execution_count": 26,
   "metadata": {
    "ExecuteTime": {
     "end_time": "2020-06-24T23:40:19.249400Z",
     "start_time": "2020-06-24T23:40:19.245970Z"
    }
   },
   "outputs": [],
   "source": [
    "boston_shp = city_data.loc[city_data['NAME'] == 'Boston', :]"
   ]
  },
  {
   "cell_type": "code",
   "execution_count": 27,
   "metadata": {
    "ExecuteTime": {
     "end_time": "2020-06-24T23:40:19.285869Z",
     "start_time": "2020-06-24T23:40:19.250793Z"
    }
   },
   "outputs": [
    {
     "data": {
      "text/html": [
       "<div>\n",
       "<style scoped>\n",
       "    .dataframe tbody tr th:only-of-type {\n",
       "        vertical-align: middle;\n",
       "    }\n",
       "\n",
       "    .dataframe tbody tr th {\n",
       "        vertical-align: top;\n",
       "    }\n",
       "\n",
       "    .dataframe thead th {\n",
       "        text-align: right;\n",
       "    }\n",
       "</style>\n",
       "<table border=\"1\" class=\"dataframe\">\n",
       "  <thead>\n",
       "    <tr style=\"text-align: right;\">\n",
       "      <th></th>\n",
       "      <th>NAME</th>\n",
       "      <th>CLASS</th>\n",
       "      <th>ST</th>\n",
       "      <th>STFIPS</th>\n",
       "      <th>PLACEFIPS</th>\n",
       "      <th>POP2010</th>\n",
       "      <th>STPLFIPS</th>\n",
       "      <th>geometry</th>\n",
       "    </tr>\n",
       "  </thead>\n",
       "  <tbody>\n",
       "    <tr>\n",
       "      <th>79</th>\n",
       "      <td>Boston</td>\n",
       "      <td>city</td>\n",
       "      <td>MA</td>\n",
       "      <td>25</td>\n",
       "      <td>07000</td>\n",
       "      <td>617594</td>\n",
       "      <td>2507000</td>\n",
       "      <td>MULTIPOLYGON (((-71.05067 42.27752, -71.05092 ...</td>\n",
       "    </tr>\n",
       "  </tbody>\n",
       "</table>\n",
       "</div>"
      ],
      "text/plain": [
       "      NAME CLASS  ST STFIPS PLACEFIPS  POP2010 STPLFIPS  \\\n",
       "79  Boston  city  MA     25     07000   617594  2507000   \n",
       "\n",
       "                                             geometry  \n",
       "79  MULTIPOLYGON (((-71.05067 42.27752, -71.05092 ...  "
      ]
     },
     "execution_count": 27,
     "metadata": {},
     "output_type": "execute_result"
    }
   ],
   "source": [
    "boston_shp.head()"
   ]
  },
  {
   "cell_type": "code",
   "execution_count": 28,
   "metadata": {
    "ExecuteTime": {
     "end_time": "2020-06-24T23:40:19.296664Z",
     "start_time": "2020-06-24T23:40:19.287310Z"
    },
    "scrolled": true
   },
   "outputs": [
    {
     "data": {
      "text/html": [
       "<div>\n",
       "<style scoped>\n",
       "    .dataframe tbody tr th:only-of-type {\n",
       "        vertical-align: middle;\n",
       "    }\n",
       "\n",
       "    .dataframe tbody tr th {\n",
       "        vertical-align: top;\n",
       "    }\n",
       "\n",
       "    .dataframe thead th {\n",
       "        text-align: right;\n",
       "    }\n",
       "</style>\n",
       "<table border=\"1\" class=\"dataframe\">\n",
       "  <thead>\n",
       "    <tr style=\"text-align: right;\">\n",
       "      <th></th>\n",
       "      <th>reporting_area</th>\n",
       "      <th>lat</th>\n",
       "      <th>long</th>\n",
       "      <th>geom</th>\n",
       "      <th>geometry</th>\n",
       "    </tr>\n",
       "  </thead>\n",
       "  <tbody>\n",
       "    <tr>\n",
       "      <th>0</th>\n",
       "      <td></td>\n",
       "      <td>36.341992</td>\n",
       "      <td>-61.398317</td>\n",
       "      <td>POINT(-61.39831744305705 36.341991500206596)</td>\n",
       "      <td>POINT (-61.39832 36.34199)</td>\n",
       "    </tr>\n",
       "    <tr>\n",
       "      <th>1</th>\n",
       "      <td>000</td>\n",
       "      <td>-1.000000</td>\n",
       "      <td>-1.000000</td>\n",
       "      <td>POINT(-1.0 -1.0)</td>\n",
       "      <td>POINT (-1.00000 -1.00000)</td>\n",
       "    </tr>\n",
       "    <tr>\n",
       "      <th>2</th>\n",
       "      <td>1</td>\n",
       "      <td>42.390213</td>\n",
       "      <td>-70.996685</td>\n",
       "      <td>POINT(-70.99668539744188 42.39021344627907)</td>\n",
       "      <td>POINT (-70.99669 42.39021)</td>\n",
       "    </tr>\n",
       "    <tr>\n",
       "      <th>3</th>\n",
       "      <td>10</td>\n",
       "      <td>42.388760</td>\n",
       "      <td>-71.008482</td>\n",
       "      <td>POINT(-71.00848226747742 42.388760055810785)</td>\n",
       "      <td>POINT (-71.00848 42.38876)</td>\n",
       "    </tr>\n",
       "    <tr>\n",
       "      <th>4</th>\n",
       "      <td>100</td>\n",
       "      <td>42.357868</td>\n",
       "      <td>-71.054794</td>\n",
       "      <td>POINT(-71.05479433899042 42.357867941562525)</td>\n",
       "      <td>POINT (-71.05479 42.35787)</td>\n",
       "    </tr>\n",
       "  </tbody>\n",
       "</table>\n",
       "</div>"
      ],
      "text/plain": [
       "  reporting_area        lat       long  \\\n",
       "0                 36.341992 -61.398317   \n",
       "1            000  -1.000000  -1.000000   \n",
       "2              1  42.390213 -70.996685   \n",
       "3             10  42.388760 -71.008482   \n",
       "4            100  42.357868 -71.054794   \n",
       "\n",
       "                                           geom                    geometry  \n",
       "0  POINT(-61.39831744305705 36.341991500206596)  POINT (-61.39832 36.34199)  \n",
       "1                              POINT(-1.0 -1.0)   POINT (-1.00000 -1.00000)  \n",
       "2   POINT(-70.99668539744188 42.39021344627907)  POINT (-70.99669 42.39021)  \n",
       "3  POINT(-71.00848226747742 42.388760055810785)  POINT (-71.00848 42.38876)  \n",
       "4  POINT(-71.05479433899042 42.357867941562525)  POINT (-71.05479 42.35787)  "
      ]
     },
     "execution_count": 28,
     "metadata": {},
     "output_type": "execute_result"
    }
   ],
   "source": [
    "geodf_ra.head()"
   ]
  },
  {
   "cell_type": "code",
   "execution_count": 29,
   "metadata": {
    "ExecuteTime": {
     "end_time": "2020-06-24T23:40:19.363208Z",
     "start_time": "2020-06-24T23:40:19.298252Z"
    }
   },
   "outputs": [
    {
     "name": "stderr",
     "output_type": "stream",
     "text": [
      "/Users/derekmcadam/opt/anaconda3/envs/dsi/lib/python3.7/site-packages/geopandas/tools/sjoin.py:61: UserWarning: CRS of frames being joined does not match!(None != {'init': 'epsg:3857'})\n",
      "  \"(%s != %s)\" % (left_df.crs, right_df.crs)\n"
     ]
    }
   ],
   "source": [
    "geodf_ra_inboston = gpd.sjoin(geodf_ra,\n",
    "                              boston_shp,\n",
    "                              how='inner',\n",
    "                              op='within')"
   ]
  },
  {
   "cell_type": "code",
   "execution_count": 30,
   "metadata": {
    "ExecuteTime": {
     "end_time": "2020-06-24T23:40:19.367503Z",
     "start_time": "2020-06-24T23:40:19.364705Z"
    }
   },
   "outputs": [
    {
     "data": {
      "text/plain": [
       "(864, 13)"
      ]
     },
     "execution_count": 30,
     "metadata": {},
     "output_type": "execute_result"
    }
   ],
   "source": [
    "geodf_ra_inboston.shape"
   ]
  },
  {
   "cell_type": "code",
   "execution_count": 31,
   "metadata": {
    "ExecuteTime": {
     "end_time": "2020-06-24T23:40:19.382562Z",
     "start_time": "2020-06-24T23:40:19.369121Z"
    }
   },
   "outputs": [
    {
     "data": {
      "text/html": [
       "<div>\n",
       "<style scoped>\n",
       "    .dataframe tbody tr th:only-of-type {\n",
       "        vertical-align: middle;\n",
       "    }\n",
       "\n",
       "    .dataframe tbody tr th {\n",
       "        vertical-align: top;\n",
       "    }\n",
       "\n",
       "    .dataframe thead th {\n",
       "        text-align: right;\n",
       "    }\n",
       "</style>\n",
       "<table border=\"1\" class=\"dataframe\">\n",
       "  <thead>\n",
       "    <tr style=\"text-align: right;\">\n",
       "      <th></th>\n",
       "      <th>reporting_area</th>\n",
       "      <th>lat</th>\n",
       "      <th>long</th>\n",
       "      <th>geom</th>\n",
       "      <th>geometry</th>\n",
       "      <th>index_right</th>\n",
       "      <th>NAME</th>\n",
       "      <th>CLASS</th>\n",
       "      <th>ST</th>\n",
       "      <th>STFIPS</th>\n",
       "      <th>PLACEFIPS</th>\n",
       "      <th>POP2010</th>\n",
       "      <th>STPLFIPS</th>\n",
       "    </tr>\n",
       "  </thead>\n",
       "  <tbody>\n",
       "    <tr>\n",
       "      <th>2</th>\n",
       "      <td>1</td>\n",
       "      <td>42.390213</td>\n",
       "      <td>-70.996685</td>\n",
       "      <td>POINT(-70.99668539744188 42.39021344627907)</td>\n",
       "      <td>POINT (-70.99669 42.39021)</td>\n",
       "      <td>79</td>\n",
       "      <td>Boston</td>\n",
       "      <td>city</td>\n",
       "      <td>MA</td>\n",
       "      <td>25</td>\n",
       "      <td>07000</td>\n",
       "      <td>617594</td>\n",
       "      <td>2507000</td>\n",
       "    </tr>\n",
       "    <tr>\n",
       "      <th>3</th>\n",
       "      <td>10</td>\n",
       "      <td>42.388760</td>\n",
       "      <td>-71.008482</td>\n",
       "      <td>POINT(-71.00848226747742 42.388760055810785)</td>\n",
       "      <td>POINT (-71.00848 42.38876)</td>\n",
       "      <td>79</td>\n",
       "      <td>Boston</td>\n",
       "      <td>city</td>\n",
       "      <td>MA</td>\n",
       "      <td>25</td>\n",
       "      <td>07000</td>\n",
       "      <td>617594</td>\n",
       "      <td>2507000</td>\n",
       "    </tr>\n",
       "    <tr>\n",
       "      <th>4</th>\n",
       "      <td>100</td>\n",
       "      <td>42.357868</td>\n",
       "      <td>-71.054794</td>\n",
       "      <td>POINT(-71.05479433899042 42.357867941562525)</td>\n",
       "      <td>POINT (-71.05479 42.35787)</td>\n",
       "      <td>79</td>\n",
       "      <td>Boston</td>\n",
       "      <td>city</td>\n",
       "      <td>MA</td>\n",
       "      <td>25</td>\n",
       "      <td>07000</td>\n",
       "      <td>617594</td>\n",
       "      <td>2507000</td>\n",
       "    </tr>\n",
       "    <tr>\n",
       "      <th>5</th>\n",
       "      <td>101</td>\n",
       "      <td>42.357503</td>\n",
       "      <td>-71.054213</td>\n",
       "      <td>POINT(-71.05421275941778 42.35750309761282)</td>\n",
       "      <td>POINT (-71.05421 42.35750)</td>\n",
       "      <td>79</td>\n",
       "      <td>Boston</td>\n",
       "      <td>city</td>\n",
       "      <td>MA</td>\n",
       "      <td>25</td>\n",
       "      <td>07000</td>\n",
       "      <td>617594</td>\n",
       "      <td>2507000</td>\n",
       "    </tr>\n",
       "    <tr>\n",
       "      <th>6</th>\n",
       "      <td>102</td>\n",
       "      <td>42.356394</td>\n",
       "      <td>-71.061394</td>\n",
       "      <td>POINT(-71.06139370735856 42.35639385689004)</td>\n",
       "      <td>POINT (-71.06139 42.35639)</td>\n",
       "      <td>79</td>\n",
       "      <td>Boston</td>\n",
       "      <td>city</td>\n",
       "      <td>MA</td>\n",
       "      <td>25</td>\n",
       "      <td>07000</td>\n",
       "      <td>617594</td>\n",
       "      <td>2507000</td>\n",
       "    </tr>\n",
       "  </tbody>\n",
       "</table>\n",
       "</div>"
      ],
      "text/plain": [
       "  reporting_area        lat       long  \\\n",
       "2              1  42.390213 -70.996685   \n",
       "3             10  42.388760 -71.008482   \n",
       "4            100  42.357868 -71.054794   \n",
       "5            101  42.357503 -71.054213   \n",
       "6            102  42.356394 -71.061394   \n",
       "\n",
       "                                           geom                    geometry  \\\n",
       "2   POINT(-70.99668539744188 42.39021344627907)  POINT (-70.99669 42.39021)   \n",
       "3  POINT(-71.00848226747742 42.388760055810785)  POINT (-71.00848 42.38876)   \n",
       "4  POINT(-71.05479433899042 42.357867941562525)  POINT (-71.05479 42.35787)   \n",
       "5   POINT(-71.05421275941778 42.35750309761282)  POINT (-71.05421 42.35750)   \n",
       "6   POINT(-71.06139370735856 42.35639385689004)  POINT (-71.06139 42.35639)   \n",
       "\n",
       "   index_right    NAME CLASS  ST STFIPS PLACEFIPS  POP2010 STPLFIPS  \n",
       "2           79  Boston  city  MA     25     07000   617594  2507000  \n",
       "3           79  Boston  city  MA     25     07000   617594  2507000  \n",
       "4           79  Boston  city  MA     25     07000   617594  2507000  \n",
       "5           79  Boston  city  MA     25     07000   617594  2507000  \n",
       "6           79  Boston  city  MA     25     07000   617594  2507000  "
      ]
     },
     "execution_count": 31,
     "metadata": {},
     "output_type": "execute_result"
    }
   ],
   "source": [
    "geodf_ra_inboston.head()"
   ]
  },
  {
   "cell_type": "code",
   "execution_count": 32,
   "metadata": {
    "ExecuteTime": {
     "end_time": "2020-06-24T23:40:19.387866Z",
     "start_time": "2020-06-24T23:40:19.384022Z"
    }
   },
   "outputs": [],
   "source": [
    "reporting_area_centers = reporting_area_centers.loc[reporting_area_centers['reporting_area'].isin(geodf_ra_inboston['reporting_area']),:]"
   ]
  },
  {
   "cell_type": "code",
   "execution_count": 33,
   "metadata": {
    "ExecuteTime": {
     "end_time": "2020-06-24T23:40:19.392401Z",
     "start_time": "2020-06-24T23:40:19.389410Z"
    }
   },
   "outputs": [],
   "source": [
    "reporting_area_centers.drop('geometry', axis=1, inplace=True)"
   ]
  },
  {
   "cell_type": "code",
   "execution_count": 34,
   "metadata": {
    "ExecuteTime": {
     "end_time": "2020-06-24T23:40:19.399525Z",
     "start_time": "2020-06-24T23:40:19.393832Z"
    }
   },
   "outputs": [
    {
     "name": "stdout",
     "output_type": "stream",
     "text": [
      "User Guide: https://docs.kepler.gl/docs/keplergl-jupyter\n"
     ]
    }
   ],
   "source": [
    "map_2 = KeplerGl(height=500)"
   ]
  },
  {
   "cell_type": "code",
   "execution_count": 35,
   "metadata": {
    "ExecuteTime": {
     "end_time": "2020-06-24T23:40:19.461409Z",
     "start_time": "2020-06-24T23:40:19.401013Z"
    }
   },
   "outputs": [],
   "source": [
    "# Add data to Kepler\n",
    "map_2.add_data(data=reporting_area_centers, name=\"boston_crime\")\n",
    "# Add data to Kepler\n",
    "map_2.add_data(data=boston_shp, name=\"boston_polygon\")"
   ]
  },
  {
   "cell_type": "code",
   "execution_count": 36,
   "metadata": {
    "ExecuteTime": {
     "end_time": "2020-06-24T23:40:19.469228Z",
     "start_time": "2020-06-24T23:40:19.462812Z"
    }
   },
   "outputs": [
    {
     "data": {
      "application/vnd.jupyter.widget-view+json": {
       "model_id": "1c1305e39f86421ba7cf959ccbff247b",
       "version_major": 2,
       "version_minor": 0
      },
      "text/plain": [
       "KeplerGl(data={'boston_crime': {'index': [2, 3, 4, 5, 6, 7, 8, 9, 10, 11, 12, 14, 15, 16, 17, 18, 19, 20, 21, …"
      ]
     },
     "metadata": {},
     "output_type": "display_data"
    }
   ],
   "source": [
    "map_2"
   ]
  },
  {
   "cell_type": "markdown",
   "metadata": {},
   "source": [
    "### K-Means Clustering to Reduce Number of Reporting Centers"
   ]
  },
  {
   "cell_type": "code",
   "execution_count": 37,
   "metadata": {
    "ExecuteTime": {
     "end_time": "2020-06-24T23:40:19.538702Z",
     "start_time": "2020-06-24T23:40:19.470677Z"
    }
   },
   "outputs": [],
   "source": [
    "from sklearn.cluster import KMeans\n",
    "from sklearn.metrics import silhouette_score\n",
    "from sklearn.preprocessing import MinMaxScaler"
   ]
  },
  {
   "cell_type": "code",
   "execution_count": 38,
   "metadata": {
    "ExecuteTime": {
     "end_time": "2020-06-24T23:40:19.545827Z",
     "start_time": "2020-06-24T23:40:19.540413Z"
    }
   },
   "outputs": [
    {
     "name": "stdout",
     "output_type": "stream",
     "text": [
      "<class 'pandas.core.frame.DataFrame'>\n",
      "Int64Index: 864 entries, 2 to 879\n",
      "Data columns (total 4 columns):\n",
      " #   Column          Non-Null Count  Dtype  \n",
      "---  ------          --------------  -----  \n",
      " 0   reporting_area  864 non-null    object \n",
      " 1   lat             864 non-null    float64\n",
      " 2   long            864 non-null    float64\n",
      " 3   geom            864 non-null    object \n",
      "dtypes: float64(2), object(2)\n",
      "memory usage: 33.8+ KB\n"
     ]
    }
   ],
   "source": [
    "reporting_area_centers.info()"
   ]
  },
  {
   "cell_type": "code",
   "execution_count": 39,
   "metadata": {
    "ExecuteTime": {
     "end_time": "2020-06-24T23:40:21.454616Z",
     "start_time": "2020-06-24T23:40:19.547334Z"
    }
   },
   "outputs": [],
   "source": [
    "# create 500 centers\n",
    "clusters = KMeans(n_clusters=500).fit_predict(reporting_area_centers[['long', 'lat']])"
   ]
  },
  {
   "cell_type": "code",
   "execution_count": 40,
   "metadata": {
    "ExecuteTime": {
     "end_time": "2020-06-24T23:40:21.459710Z",
     "start_time": "2020-06-24T23:40:21.456593Z"
    }
   },
   "outputs": [],
   "source": [
    "# create cluster column\n",
    "reporting_area_centers['reporting_cluster'] = clusters"
   ]
  },
  {
   "cell_type": "code",
   "execution_count": 41,
   "metadata": {
    "ExecuteTime": {
     "end_time": "2020-06-24T23:40:21.467054Z",
     "start_time": "2020-06-24T23:40:21.461760Z"
    }
   },
   "outputs": [],
   "source": [
    "# calculate mean lat for each cluster\n",
    "reporting_area_centers_clusters=reporting_area_centers.groupby('reporting_cluster')['lat'].mean().reset_index()"
   ]
  },
  {
   "cell_type": "code",
   "execution_count": 42,
   "metadata": {
    "ExecuteTime": {
     "end_time": "2020-06-24T23:40:21.477228Z",
     "start_time": "2020-06-24T23:40:21.469070Z"
    }
   },
   "outputs": [],
   "source": [
    "# add average Long \n",
    "reporting_area_centers_clusters = pd.merge(reporting_area_centers_clusters,reporting_area_centers.groupby('reporting_cluster')['long'].mean().reset_index(),on='reporting_cluster')"
   ]
  },
  {
   "cell_type": "code",
   "execution_count": 43,
   "metadata": {
    "ExecuteTime": {
     "end_time": "2020-06-24T23:40:21.485501Z",
     "start_time": "2020-06-24T23:40:21.479161Z"
    }
   },
   "outputs": [
    {
     "name": "stdout",
     "output_type": "stream",
     "text": [
      "<class 'pandas.core.frame.DataFrame'>\n",
      "Int64Index: 500 entries, 0 to 499\n",
      "Data columns (total 3 columns):\n",
      " #   Column             Non-Null Count  Dtype  \n",
      "---  ------             --------------  -----  \n",
      " 0   reporting_cluster  500 non-null    int64  \n",
      " 1   lat                500 non-null    float64\n",
      " 2   long               500 non-null    float64\n",
      "dtypes: float64(2), int64(1)\n",
      "memory usage: 15.6 KB\n"
     ]
    }
   ],
   "source": [
    "reporting_area_centers_clusters.info()"
   ]
  },
  {
   "cell_type": "code",
   "execution_count": 92,
   "metadata": {
    "ExecuteTime": {
     "end_time": "2020-06-24T23:54:08.610910Z",
     "start_time": "2020-06-24T23:54:08.561597Z"
    }
   },
   "outputs": [
    {
     "name": "stdout",
     "output_type": "stream",
     "text": [
      "User Guide: https://docs.kepler.gl/docs/keplergl-jupyter\n"
     ]
    }
   ],
   "source": [
    "map_3 = KeplerGl(height=500)\n",
    "map_3.add_data(data=reporting_area_centers_clusters, name=\"rac_clusters\")\n",
    "map_3.add_data(data=boston_shp, name=\"boston_polygon\")"
   ]
  },
  {
   "cell_type": "code",
   "execution_count": 93,
   "metadata": {
    "ExecuteTime": {
     "end_time": "2020-06-24T23:54:18.222697Z",
     "start_time": "2020-06-24T23:54:18.216742Z"
    },
    "scrolled": false
   },
   "outputs": [
    {
     "data": {
      "application/vnd.jupyter.widget-view+json": {
       "model_id": "e562404ed2784d52ae2de2af86512fc0",
       "version_major": 2,
       "version_minor": 0
      },
      "text/plain": [
       "KeplerGl(data={'rac_clusters': {'index': [0, 1, 2, 3, 4, 5, 6, 7, 8, 9, 10, 11, 12, 13, 14, 15, 16, 17, 18, 19…"
      ]
     },
     "metadata": {},
     "output_type": "display_data"
    }
   ],
   "source": [
    "map_3"
   ]
  },
  {
   "cell_type": "code",
   "execution_count": 94,
   "metadata": {
    "ExecuteTime": {
     "end_time": "2020-06-24T23:57:42.981337Z",
     "start_time": "2020-06-24T23:57:42.969530Z"
    }
   },
   "outputs": [],
   "source": [
    "districts = gpd.read_file('Planning_Districts-shp/Planning_Districts.shp')"
   ]
  },
  {
   "cell_type": "code",
   "execution_count": 100,
   "metadata": {
    "ExecuteTime": {
     "end_time": "2020-06-25T00:05:12.624965Z",
     "start_time": "2020-06-25T00:05:12.621130Z"
    }
   },
   "outputs": [
    {
     "data": {
      "text/plain": [
       "array(['East Boston', 'Charlestown', 'South Boston', 'Central',\n",
       "       'Back Bay/Beacon Hill', 'South End', 'Fenway/Kenmore',\n",
       "       'Allston/Brighton', 'Jamaica Plain', 'Roxbury', 'North Dorchester',\n",
       "       'South Dorchester', 'Mattapan', 'Roslindale', 'West Roxbury',\n",
       "       'Hyde Park', 'Harbor Islands'], dtype=object)"
      ]
     },
     "execution_count": 100,
     "metadata": {},
     "output_type": "execute_result"
    }
   ],
   "source": [
    "districts['PD'].unique()"
   ]
  },
  {
   "cell_type": "code",
   "execution_count": 97,
   "metadata": {
    "ExecuteTime": {
     "end_time": "2020-06-25T00:01:08.383460Z",
     "start_time": "2020-06-25T00:01:08.302451Z"
    }
   },
   "outputs": [
    {
     "name": "stdout",
     "output_type": "stream",
     "text": [
      "User Guide: https://docs.kepler.gl/docs/keplergl-jupyter\n"
     ]
    }
   ],
   "source": [
    "map_4 = KeplerGl(height=500)\n",
    "map_4.add_data(data=reporting_area_centers_clusters, name=\"rac_clusters\")\n",
    "map_4.add_data(data=boston_shp, name=\"boston_polygon\")\n",
    "map_4.add_data(data=districts, name=\"districts_polygon\")"
   ]
  },
  {
   "cell_type": "code",
   "execution_count": 98,
   "metadata": {
    "ExecuteTime": {
     "end_time": "2020-06-25T00:01:18.211345Z",
     "start_time": "2020-06-25T00:01:18.204070Z"
    }
   },
   "outputs": [
    {
     "data": {
      "application/vnd.jupyter.widget-view+json": {
       "model_id": "78b6dac5230f4499ab7656b0c9d4e428",
       "version_major": 2,
       "version_minor": 0
      },
      "text/plain": [
       "KeplerGl(data={'rac_clusters': {'index': [0, 1, 2, 3, 4, 5, 6, 7, 8, 9, 10, 11, 12, 13, 14, 15, 16, 17, 18, 19…"
      ]
     },
     "metadata": {},
     "output_type": "display_data"
    }
   ],
   "source": [
    "map_4"
   ]
  },
  {
   "cell_type": "code",
   "execution_count": 46,
   "metadata": {
    "ExecuteTime": {
     "end_time": "2020-06-24T23:40:21.545801Z",
     "start_time": "2020-06-24T23:40:21.543455Z"
    }
   },
   "outputs": [],
   "source": [
    "# reporting_area_centers.to_csv('reporting_area_centers.csv', index=False)"
   ]
  },
  {
   "cell_type": "code",
   "execution_count": 47,
   "metadata": {
    "ExecuteTime": {
     "end_time": "2020-06-24T23:40:21.556444Z",
     "start_time": "2020-06-24T23:40:21.547879Z"
    }
   },
   "outputs": [
    {
     "data": {
      "text/html": [
       "<div>\n",
       "<style scoped>\n",
       "    .dataframe tbody tr th:only-of-type {\n",
       "        vertical-align: middle;\n",
       "    }\n",
       "\n",
       "    .dataframe tbody tr th {\n",
       "        vertical-align: top;\n",
       "    }\n",
       "\n",
       "    .dataframe thead th {\n",
       "        text-align: right;\n",
       "    }\n",
       "</style>\n",
       "<table border=\"1\" class=\"dataframe\">\n",
       "  <thead>\n",
       "    <tr style=\"text-align: right;\">\n",
       "      <th></th>\n",
       "      <th>reporting_area</th>\n",
       "      <th>lat</th>\n",
       "      <th>long</th>\n",
       "      <th>geom</th>\n",
       "      <th>reporting_cluster</th>\n",
       "    </tr>\n",
       "  </thead>\n",
       "  <tbody>\n",
       "    <tr>\n",
       "      <th>2</th>\n",
       "      <td>1</td>\n",
       "      <td>42.390213</td>\n",
       "      <td>-70.996685</td>\n",
       "      <td>POINT(-70.99668539744188 42.39021344627907)</td>\n",
       "      <td>218</td>\n",
       "    </tr>\n",
       "    <tr>\n",
       "      <th>3</th>\n",
       "      <td>10</td>\n",
       "      <td>42.388760</td>\n",
       "      <td>-71.008482</td>\n",
       "      <td>POINT(-71.00848226747742 42.388760055810785)</td>\n",
       "      <td>310</td>\n",
       "    </tr>\n",
       "    <tr>\n",
       "      <th>4</th>\n",
       "      <td>100</td>\n",
       "      <td>42.357868</td>\n",
       "      <td>-71.054794</td>\n",
       "      <td>POINT(-71.05479433899042 42.357867941562525)</td>\n",
       "      <td>283</td>\n",
       "    </tr>\n",
       "    <tr>\n",
       "      <th>5</th>\n",
       "      <td>101</td>\n",
       "      <td>42.357503</td>\n",
       "      <td>-71.054213</td>\n",
       "      <td>POINT(-71.05421275941778 42.35750309761282)</td>\n",
       "      <td>283</td>\n",
       "    </tr>\n",
       "    <tr>\n",
       "      <th>6</th>\n",
       "      <td>102</td>\n",
       "      <td>42.356394</td>\n",
       "      <td>-71.061394</td>\n",
       "      <td>POINT(-71.06139370735856 42.35639385689004)</td>\n",
       "      <td>441</td>\n",
       "    </tr>\n",
       "  </tbody>\n",
       "</table>\n",
       "</div>"
      ],
      "text/plain": [
       "  reporting_area        lat       long  \\\n",
       "2              1  42.390213 -70.996685   \n",
       "3             10  42.388760 -71.008482   \n",
       "4            100  42.357868 -71.054794   \n",
       "5            101  42.357503 -71.054213   \n",
       "6            102  42.356394 -71.061394   \n",
       "\n",
       "                                           geom  reporting_cluster  \n",
       "2   POINT(-70.99668539744188 42.39021344627907)                218  \n",
       "3  POINT(-71.00848226747742 42.388760055810785)                310  \n",
       "4  POINT(-71.05479433899042 42.357867941562525)                283  \n",
       "5   POINT(-71.05421275941778 42.35750309761282)                283  \n",
       "6   POINT(-71.06139370735856 42.35639385689004)                441  "
      ]
     },
     "execution_count": 47,
     "metadata": {},
     "output_type": "execute_result"
    }
   ],
   "source": [
    "reporting_area_centers.head()"
   ]
  },
  {
   "cell_type": "code",
   "execution_count": 48,
   "metadata": {
    "ExecuteTime": {
     "end_time": "2020-06-24T23:40:21.598491Z",
     "start_time": "2020-06-24T23:40:21.558316Z"
    }
   },
   "outputs": [],
   "source": [
    "data = data.loc[data['reporting_area'].isin(reporting_area_centers['reporting_area']), :]"
   ]
  },
  {
   "cell_type": "code",
   "execution_count": 49,
   "metadata": {
    "ExecuteTime": {
     "end_time": "2020-06-24T23:40:21.732872Z",
     "start_time": "2020-06-24T23:40:21.600405Z"
    }
   },
   "outputs": [],
   "source": [
    "# adding clusters to crime data\n",
    "data = pd.merge(data, reporting_area_centers[['reporting_area', 'reporting_cluster']], on='reporting_area')"
   ]
  },
  {
   "cell_type": "code",
   "execution_count": 50,
   "metadata": {
    "ExecuteTime": {
     "end_time": "2020-06-24T23:40:21.748107Z",
     "start_time": "2020-06-24T23:40:21.734430Z"
    }
   },
   "outputs": [
    {
     "data": {
      "text/html": [
       "<div>\n",
       "<style scoped>\n",
       "    .dataframe tbody tr th:only-of-type {\n",
       "        vertical-align: middle;\n",
       "    }\n",
       "\n",
       "    .dataframe tbody tr th {\n",
       "        vertical-align: top;\n",
       "    }\n",
       "\n",
       "    .dataframe thead th {\n",
       "        text-align: right;\n",
       "    }\n",
       "</style>\n",
       "<table border=\"1\" class=\"dataframe\">\n",
       "  <thead>\n",
       "    <tr style=\"text-align: right;\">\n",
       "      <th></th>\n",
       "      <th>offense_code</th>\n",
       "      <th>offense_code_group</th>\n",
       "      <th>offense_description</th>\n",
       "      <th>district</th>\n",
       "      <th>reporting_area</th>\n",
       "      <th>shooting</th>\n",
       "      <th>occurred_on_date</th>\n",
       "      <th>year</th>\n",
       "      <th>month</th>\n",
       "      <th>day_of_week</th>\n",
       "      <th>hour</th>\n",
       "      <th>lat</th>\n",
       "      <th>long</th>\n",
       "      <th>reporting_cluster</th>\n",
       "    </tr>\n",
       "  </thead>\n",
       "  <tbody>\n",
       "    <tr>\n",
       "      <th>0</th>\n",
       "      <td>3301</td>\n",
       "      <td>NaN</td>\n",
       "      <td>VERBAL DISPUTE</td>\n",
       "      <td>E13</td>\n",
       "      <td>583</td>\n",
       "      <td>0</td>\n",
       "      <td>2019-12-20 03:08:00</td>\n",
       "      <td>2019</td>\n",
       "      <td>12</td>\n",
       "      <td>Friday</td>\n",
       "      <td>3</td>\n",
       "      <td>42.325122</td>\n",
       "      <td>-71.107779</td>\n",
       "      <td>29</td>\n",
       "    </tr>\n",
       "    <tr>\n",
       "      <th>1</th>\n",
       "      <td>1402</td>\n",
       "      <td>Vandalism</td>\n",
       "      <td>VANDALISM</td>\n",
       "      <td>E13</td>\n",
       "      <td>583</td>\n",
       "      <td>NaN</td>\n",
       "      <td>2019-09-22 19:20:00</td>\n",
       "      <td>2019</td>\n",
       "      <td>9</td>\n",
       "      <td>Sunday</td>\n",
       "      <td>19</td>\n",
       "      <td>42.324692</td>\n",
       "      <td>-71.106189</td>\n",
       "      <td>29</td>\n",
       "    </tr>\n",
       "    <tr>\n",
       "      <th>2</th>\n",
       "      <td>3301</td>\n",
       "      <td>Verbal Disputes</td>\n",
       "      <td>VERBAL DISPUTE</td>\n",
       "      <td>E13</td>\n",
       "      <td>583</td>\n",
       "      <td>NaN</td>\n",
       "      <td>2019-09-22 22:42:00</td>\n",
       "      <td>2019</td>\n",
       "      <td>9</td>\n",
       "      <td>Sunday</td>\n",
       "      <td>22</td>\n",
       "      <td>42.324692</td>\n",
       "      <td>-71.106189</td>\n",
       "      <td>29</td>\n",
       "    </tr>\n",
       "    <tr>\n",
       "      <th>3</th>\n",
       "      <td>802</td>\n",
       "      <td>Simple Assault</td>\n",
       "      <td>ASSAULT SIMPLE - BATTERY</td>\n",
       "      <td>E13</td>\n",
       "      <td>583</td>\n",
       "      <td>NaN</td>\n",
       "      <td>2019-09-22 19:32:00</td>\n",
       "      <td>2019</td>\n",
       "      <td>9</td>\n",
       "      <td>Sunday</td>\n",
       "      <td>19</td>\n",
       "      <td>42.324248</td>\n",
       "      <td>-71.105252</td>\n",
       "      <td>29</td>\n",
       "    </tr>\n",
       "    <tr>\n",
       "      <th>4</th>\n",
       "      <td>3114</td>\n",
       "      <td>Investigate Property</td>\n",
       "      <td>INVESTIGATE PROPERTY</td>\n",
       "      <td>E13</td>\n",
       "      <td>583</td>\n",
       "      <td>NaN</td>\n",
       "      <td>2019-09-15 18:05:37</td>\n",
       "      <td>2019</td>\n",
       "      <td>9</td>\n",
       "      <td>Sunday</td>\n",
       "      <td>18</td>\n",
       "      <td>42.325064</td>\n",
       "      <td>-71.104900</td>\n",
       "      <td>29</td>\n",
       "    </tr>\n",
       "  </tbody>\n",
       "</table>\n",
       "</div>"
      ],
      "text/plain": [
       "   offense_code    offense_code_group       offense_description district  \\\n",
       "0          3301                   NaN            VERBAL DISPUTE      E13   \n",
       "1          1402             Vandalism                 VANDALISM      E13   \n",
       "2          3301       Verbal Disputes            VERBAL DISPUTE      E13   \n",
       "3           802        Simple Assault  ASSAULT SIMPLE - BATTERY      E13   \n",
       "4          3114  Investigate Property      INVESTIGATE PROPERTY      E13   \n",
       "\n",
       "  reporting_area shooting    occurred_on_date  year  month day_of_week  hour  \\\n",
       "0            583        0 2019-12-20 03:08:00  2019     12      Friday     3   \n",
       "1            583      NaN 2019-09-22 19:20:00  2019      9      Sunday    19   \n",
       "2            583      NaN 2019-09-22 22:42:00  2019      9      Sunday    22   \n",
       "3            583      NaN 2019-09-22 19:32:00  2019      9      Sunday    19   \n",
       "4            583      NaN 2019-09-15 18:05:37  2019      9      Sunday    18   \n",
       "\n",
       "         lat       long  reporting_cluster  \n",
       "0  42.325122 -71.107779                 29  \n",
       "1  42.324692 -71.106189                 29  \n",
       "2  42.324692 -71.106189                 29  \n",
       "3  42.324248 -71.105252                 29  \n",
       "4  42.325064 -71.104900                 29  "
      ]
     },
     "execution_count": 50,
     "metadata": {},
     "output_type": "execute_result"
    }
   ],
   "source": [
    "data.head()"
   ]
  },
  {
   "cell_type": "code",
   "execution_count": 51,
   "metadata": {
    "ExecuteTime": {
     "end_time": "2020-06-24T23:40:21.848241Z",
     "start_time": "2020-06-24T23:40:21.749538Z"
    }
   },
   "outputs": [
    {
     "name": "stdout",
     "output_type": "stream",
     "text": [
      "<class 'pandas.core.frame.DataFrame'>\n",
      "Int64Index: 361690 entries, 0 to 361689\n",
      "Data columns (total 14 columns):\n",
      " #   Column               Non-Null Count   Dtype         \n",
      "---  ------               --------------   -----         \n",
      " 0   offense_code         361690 non-null  int64         \n",
      " 1   offense_code_group   340806 non-null  object        \n",
      " 2   offense_description  361690 non-null  object        \n",
      " 3   district             361666 non-null  object        \n",
      " 4   reporting_area       361690 non-null  object        \n",
      " 5   shooting             22037 non-null   object        \n",
      " 6   occurred_on_date     361690 non-null  datetime64[ns]\n",
      " 7   year                 361690 non-null  int64         \n",
      " 8   month                361690 non-null  int64         \n",
      " 9   day_of_week          361690 non-null  object        \n",
      " 10  hour                 361690 non-null  int64         \n",
      " 11  lat                  358550 non-null  float64       \n",
      " 12  long                 358550 non-null  float64       \n",
      " 13  reporting_cluster    361690 non-null  int32         \n",
      "dtypes: datetime64[ns](1), float64(2), int32(1), int64(4), object(6)\n",
      "memory usage: 40.0+ MB\n"
     ]
    }
   ],
   "source": [
    "data.info()"
   ]
  },
  {
   "cell_type": "code",
   "execution_count": 52,
   "metadata": {
    "ExecuteTime": {
     "end_time": "2020-06-24T23:40:21.890752Z",
     "start_time": "2020-06-24T23:40:21.849988Z"
    }
   },
   "outputs": [
    {
     "data": {
      "text/html": [
       "<div>\n",
       "<style scoped>\n",
       "    .dataframe tbody tr th:only-of-type {\n",
       "        vertical-align: middle;\n",
       "    }\n",
       "\n",
       "    .dataframe tbody tr th {\n",
       "        vertical-align: top;\n",
       "    }\n",
       "\n",
       "    .dataframe thead th {\n",
       "        text-align: right;\n",
       "    }\n",
       "</style>\n",
       "<table border=\"1\" class=\"dataframe\">\n",
       "  <thead>\n",
       "    <tr style=\"text-align: right;\">\n",
       "      <th></th>\n",
       "      <th>offense_code_group</th>\n",
       "      <th>0</th>\n",
       "    </tr>\n",
       "  </thead>\n",
       "  <tbody>\n",
       "    <tr>\n",
       "      <th>0</th>\n",
       "      <td>Aggravated Assault</td>\n",
       "      <td>8421</td>\n",
       "    </tr>\n",
       "    <tr>\n",
       "      <th>1</th>\n",
       "      <td>Aircraft</td>\n",
       "      <td>44</td>\n",
       "    </tr>\n",
       "    <tr>\n",
       "      <th>2</th>\n",
       "      <td>Arson</td>\n",
       "      <td>95</td>\n",
       "    </tr>\n",
       "    <tr>\n",
       "      <th>3</th>\n",
       "      <td>Assembly or Gathering Violations</td>\n",
       "      <td>835</td>\n",
       "    </tr>\n",
       "    <tr>\n",
       "      <th>4</th>\n",
       "      <td>Auto Theft</td>\n",
       "      <td>4889</td>\n",
       "    </tr>\n",
       "    <tr>\n",
       "      <th>5</th>\n",
       "      <td>Auto Theft Recovery</td>\n",
       "      <td>1169</td>\n",
       "    </tr>\n",
       "    <tr>\n",
       "      <th>6</th>\n",
       "      <td>Ballistics</td>\n",
       "      <td>1099</td>\n",
       "    </tr>\n",
       "    <tr>\n",
       "      <th>7</th>\n",
       "      <td>Biological Threat</td>\n",
       "      <td>3</td>\n",
       "    </tr>\n",
       "    <tr>\n",
       "      <th>8</th>\n",
       "      <td>Bomb Hoax</td>\n",
       "      <td>84</td>\n",
       "    </tr>\n",
       "    <tr>\n",
       "      <th>9</th>\n",
       "      <td>Burglary - No Property Taken</td>\n",
       "      <td>1</td>\n",
       "    </tr>\n",
       "    <tr>\n",
       "      <th>10</th>\n",
       "      <td>Commercial Burglary</td>\n",
       "      <td>1370</td>\n",
       "    </tr>\n",
       "    <tr>\n",
       "      <th>11</th>\n",
       "      <td>Confidence Games</td>\n",
       "      <td>3240</td>\n",
       "    </tr>\n",
       "    <tr>\n",
       "      <th>12</th>\n",
       "      <td>Counterfeiting</td>\n",
       "      <td>1588</td>\n",
       "    </tr>\n",
       "    <tr>\n",
       "      <th>13</th>\n",
       "      <td>Criminal Harassment</td>\n",
       "      <td>113</td>\n",
       "    </tr>\n",
       "    <tr>\n",
       "      <th>14</th>\n",
       "      <td>Disorderly Conduct</td>\n",
       "      <td>2507</td>\n",
       "    </tr>\n",
       "    <tr>\n",
       "      <th>15</th>\n",
       "      <td>Drug Violation</td>\n",
       "      <td>16080</td>\n",
       "    </tr>\n",
       "    <tr>\n",
       "      <th>16</th>\n",
       "      <td>Embezzlement</td>\n",
       "      <td>339</td>\n",
       "    </tr>\n",
       "    <tr>\n",
       "      <th>17</th>\n",
       "      <td>Evading Fare</td>\n",
       "      <td>417</td>\n",
       "    </tr>\n",
       "    <tr>\n",
       "      <th>18</th>\n",
       "      <td>Explosives</td>\n",
       "      <td>22</td>\n",
       "    </tr>\n",
       "    <tr>\n",
       "      <th>19</th>\n",
       "      <td>Fire Related Reports</td>\n",
       "      <td>2057</td>\n",
       "    </tr>\n",
       "    <tr>\n",
       "      <th>20</th>\n",
       "      <td>Firearm Discovery</td>\n",
       "      <td>678</td>\n",
       "    </tr>\n",
       "    <tr>\n",
       "      <th>21</th>\n",
       "      <td>Firearm Violations</td>\n",
       "      <td>1834</td>\n",
       "    </tr>\n",
       "    <tr>\n",
       "      <th>22</th>\n",
       "      <td>Fraud</td>\n",
       "      <td>6972</td>\n",
       "    </tr>\n",
       "    <tr>\n",
       "      <th>23</th>\n",
       "      <td>Gambling</td>\n",
       "      <td>6</td>\n",
       "    </tr>\n",
       "    <tr>\n",
       "      <th>24</th>\n",
       "      <td>HOME INVASION</td>\n",
       "      <td>88</td>\n",
       "    </tr>\n",
       "    <tr>\n",
       "      <th>25</th>\n",
       "      <td>HUMAN TRAFFICKING</td>\n",
       "      <td>7</td>\n",
       "    </tr>\n",
       "    <tr>\n",
       "      <th>26</th>\n",
       "      <td>HUMAN TRAFFICKING - INVOLUNTARY SERVITUDE</td>\n",
       "      <td>4</td>\n",
       "    </tr>\n",
       "    <tr>\n",
       "      <th>27</th>\n",
       "      <td>Harassment</td>\n",
       "      <td>5006</td>\n",
       "    </tr>\n",
       "    <tr>\n",
       "      <th>28</th>\n",
       "      <td>Harbor Related Incidents</td>\n",
       "      <td>89</td>\n",
       "    </tr>\n",
       "    <tr>\n",
       "      <th>29</th>\n",
       "      <td>Homicide</td>\n",
       "      <td>173</td>\n",
       "    </tr>\n",
       "    <tr>\n",
       "      <th>30</th>\n",
       "      <td>INVESTIGATE PERSON</td>\n",
       "      <td>3</td>\n",
       "    </tr>\n",
       "    <tr>\n",
       "      <th>31</th>\n",
       "      <td>Investigate Person</td>\n",
       "      <td>20969</td>\n",
       "    </tr>\n",
       "    <tr>\n",
       "      <th>32</th>\n",
       "      <td>Investigate Property</td>\n",
       "      <td>13027</td>\n",
       "    </tr>\n",
       "    <tr>\n",
       "      <th>33</th>\n",
       "      <td>Landlord/Tenant Disputes</td>\n",
       "      <td>1141</td>\n",
       "    </tr>\n",
       "    <tr>\n",
       "      <th>34</th>\n",
       "      <td>Larceny</td>\n",
       "      <td>28438</td>\n",
       "    </tr>\n",
       "    <tr>\n",
       "      <th>35</th>\n",
       "      <td>Larceny From Motor Vehicle</td>\n",
       "      <td>10906</td>\n",
       "    </tr>\n",
       "    <tr>\n",
       "      <th>36</th>\n",
       "      <td>License Plate Related Incidents</td>\n",
       "      <td>639</td>\n",
       "    </tr>\n",
       "    <tr>\n",
       "      <th>37</th>\n",
       "      <td>License Violation</td>\n",
       "      <td>1891</td>\n",
       "    </tr>\n",
       "    <tr>\n",
       "      <th>38</th>\n",
       "      <td>Liquor Violation</td>\n",
       "      <td>1240</td>\n",
       "    </tr>\n",
       "    <tr>\n",
       "      <th>39</th>\n",
       "      <td>Manslaughter</td>\n",
       "      <td>8</td>\n",
       "    </tr>\n",
       "    <tr>\n",
       "      <th>40</th>\n",
       "      <td>Medical Assistance</td>\n",
       "      <td>27568</td>\n",
       "    </tr>\n",
       "    <tr>\n",
       "      <th>41</th>\n",
       "      <td>Missing Person Located</td>\n",
       "      <td>6098</td>\n",
       "    </tr>\n",
       "    <tr>\n",
       "      <th>42</th>\n",
       "      <td>Missing Person Reported</td>\n",
       "      <td>3993</td>\n",
       "    </tr>\n",
       "    <tr>\n",
       "      <th>43</th>\n",
       "      <td>Motor Vehicle Accident Response</td>\n",
       "      <td>34839</td>\n",
       "    </tr>\n",
       "    <tr>\n",
       "      <th>44</th>\n",
       "      <td>Offenses Against Child / Family</td>\n",
       "      <td>528</td>\n",
       "    </tr>\n",
       "    <tr>\n",
       "      <th>45</th>\n",
       "      <td>Operating Under the Influence</td>\n",
       "      <td>474</td>\n",
       "    </tr>\n",
       "    <tr>\n",
       "      <th>46</th>\n",
       "      <td>Other</td>\n",
       "      <td>19196</td>\n",
       "    </tr>\n",
       "    <tr>\n",
       "      <th>47</th>\n",
       "      <td>Other Burglary</td>\n",
       "      <td>451</td>\n",
       "    </tr>\n",
       "    <tr>\n",
       "      <th>48</th>\n",
       "      <td>Phone Call Complaints</td>\n",
       "      <td>40</td>\n",
       "    </tr>\n",
       "    <tr>\n",
       "      <th>49</th>\n",
       "      <td>Police Service Incidents</td>\n",
       "      <td>2919</td>\n",
       "    </tr>\n",
       "    <tr>\n",
       "      <th>50</th>\n",
       "      <td>Prisoner Related Incidents</td>\n",
       "      <td>275</td>\n",
       "    </tr>\n",
       "    <tr>\n",
       "      <th>51</th>\n",
       "      <td>Property Found</td>\n",
       "      <td>4134</td>\n",
       "    </tr>\n",
       "    <tr>\n",
       "      <th>52</th>\n",
       "      <td>Property Lost</td>\n",
       "      <td>11089</td>\n",
       "    </tr>\n",
       "    <tr>\n",
       "      <th>53</th>\n",
       "      <td>Property Related Damage</td>\n",
       "      <td>963</td>\n",
       "    </tr>\n",
       "    <tr>\n",
       "      <th>54</th>\n",
       "      <td>Prostitution</td>\n",
       "      <td>207</td>\n",
       "    </tr>\n",
       "    <tr>\n",
       "      <th>55</th>\n",
       "      <td>Recovered Stolen Property</td>\n",
       "      <td>1484</td>\n",
       "    </tr>\n",
       "    <tr>\n",
       "      <th>56</th>\n",
       "      <td>Residential Burglary</td>\n",
       "      <td>5360</td>\n",
       "    </tr>\n",
       "    <tr>\n",
       "      <th>57</th>\n",
       "      <td>Restraining Order Violations</td>\n",
       "      <td>1806</td>\n",
       "    </tr>\n",
       "    <tr>\n",
       "      <th>58</th>\n",
       "      <td>Robbery</td>\n",
       "      <td>4425</td>\n",
       "    </tr>\n",
       "    <tr>\n",
       "      <th>59</th>\n",
       "      <td>Search Warrants</td>\n",
       "      <td>1063</td>\n",
       "    </tr>\n",
       "    <tr>\n",
       "      <th>60</th>\n",
       "      <td>Service</td>\n",
       "      <td>298</td>\n",
       "    </tr>\n",
       "    <tr>\n",
       "      <th>61</th>\n",
       "      <td>Simple Assault</td>\n",
       "      <td>17333</td>\n",
       "    </tr>\n",
       "    <tr>\n",
       "      <th>62</th>\n",
       "      <td>Towed</td>\n",
       "      <td>12463</td>\n",
       "    </tr>\n",
       "    <tr>\n",
       "      <th>63</th>\n",
       "      <td>Vandalism</td>\n",
       "      <td>16476</td>\n",
       "    </tr>\n",
       "    <tr>\n",
       "      <th>64</th>\n",
       "      <td>Verbal Disputes</td>\n",
       "      <td>15854</td>\n",
       "    </tr>\n",
       "    <tr>\n",
       "      <th>65</th>\n",
       "      <td>Violations</td>\n",
       "      <td>5344</td>\n",
       "    </tr>\n",
       "    <tr>\n",
       "      <th>66</th>\n",
       "      <td>Warrant Arrests</td>\n",
       "      <td>8634</td>\n",
       "    </tr>\n",
       "  </tbody>\n",
       "</table>\n",
       "</div>"
      ],
      "text/plain": [
       "                           offense_code_group      0\n",
       "0                          Aggravated Assault   8421\n",
       "1                                    Aircraft     44\n",
       "2                                       Arson     95\n",
       "3            Assembly or Gathering Violations    835\n",
       "4                                  Auto Theft   4889\n",
       "5                         Auto Theft Recovery   1169\n",
       "6                                  Ballistics   1099\n",
       "7                           Biological Threat      3\n",
       "8                                   Bomb Hoax     84\n",
       "9                Burglary - No Property Taken      1\n",
       "10                        Commercial Burglary   1370\n",
       "11                           Confidence Games   3240\n",
       "12                             Counterfeiting   1588\n",
       "13                        Criminal Harassment    113\n",
       "14                         Disorderly Conduct   2507\n",
       "15                             Drug Violation  16080\n",
       "16                               Embezzlement    339\n",
       "17                               Evading Fare    417\n",
       "18                                 Explosives     22\n",
       "19                       Fire Related Reports   2057\n",
       "20                          Firearm Discovery    678\n",
       "21                         Firearm Violations   1834\n",
       "22                                      Fraud   6972\n",
       "23                                   Gambling      6\n",
       "24                              HOME INVASION     88\n",
       "25                          HUMAN TRAFFICKING      7\n",
       "26  HUMAN TRAFFICKING - INVOLUNTARY SERVITUDE      4\n",
       "27                                 Harassment   5006\n",
       "28                   Harbor Related Incidents     89\n",
       "29                                   Homicide    173\n",
       "30                         INVESTIGATE PERSON      3\n",
       "31                         Investigate Person  20969\n",
       "32                       Investigate Property  13027\n",
       "33                   Landlord/Tenant Disputes   1141\n",
       "34                                    Larceny  28438\n",
       "35                 Larceny From Motor Vehicle  10906\n",
       "36            License Plate Related Incidents    639\n",
       "37                          License Violation   1891\n",
       "38                           Liquor Violation   1240\n",
       "39                               Manslaughter      8\n",
       "40                         Medical Assistance  27568\n",
       "41                     Missing Person Located   6098\n",
       "42                    Missing Person Reported   3993\n",
       "43            Motor Vehicle Accident Response  34839\n",
       "44            Offenses Against Child / Family    528\n",
       "45              Operating Under the Influence    474\n",
       "46                                      Other  19196\n",
       "47                             Other Burglary    451\n",
       "48                      Phone Call Complaints     40\n",
       "49                   Police Service Incidents   2919\n",
       "50                 Prisoner Related Incidents    275\n",
       "51                             Property Found   4134\n",
       "52                              Property Lost  11089\n",
       "53                    Property Related Damage    963\n",
       "54                               Prostitution    207\n",
       "55                  Recovered Stolen Property   1484\n",
       "56                       Residential Burglary   5360\n",
       "57               Restraining Order Violations   1806\n",
       "58                                    Robbery   4425\n",
       "59                            Search Warrants   1063\n",
       "60                                    Service    298\n",
       "61                             Simple Assault  17333\n",
       "62                                      Towed  12463\n",
       "63                                  Vandalism  16476\n",
       "64                            Verbal Disputes  15854\n",
       "65                                 Violations   5344\n",
       "66                            Warrant Arrests   8634"
      ]
     },
     "execution_count": 52,
     "metadata": {},
     "output_type": "execute_result"
    }
   ],
   "source": [
    "data_offense_codes = data.groupby(['offense_code_group']).size().reset_index()\n",
    "data_offense_codes"
   ]
  },
  {
   "cell_type": "code",
   "execution_count": 53,
   "metadata": {
    "ExecuteTime": {
     "end_time": "2020-06-24T23:40:21.918098Z",
     "start_time": "2020-06-24T23:40:21.892832Z"
    }
   },
   "outputs": [
    {
     "data": {
      "text/plain": [
       "258"
      ]
     },
     "execution_count": 53,
     "metadata": {},
     "output_type": "execute_result"
    }
   ],
   "source": [
    "# Unique offenses\n",
    "data['offense_description'].nunique()"
   ]
  },
  {
   "cell_type": "code",
   "execution_count": 54,
   "metadata": {
    "ExecuteTime": {
     "end_time": "2020-06-24T23:40:22.202581Z",
     "start_time": "2020-06-24T23:40:21.920209Z"
    },
    "scrolled": false
   },
   "outputs": [
    {
     "name": "stderr",
     "output_type": "stream",
     "text": [
      "/Users/derekmcadam/opt/anaconda3/envs/dsi/lib/python3.7/site-packages/pandas/core/generic.py:6245: SettingWithCopyWarning: \n",
      "A value is trying to be set on a copy of a slice from a DataFrame\n",
      "\n",
      "See the caveats in the documentation: https://pandas.pydata.org/pandas-docs/stable/user_guide/indexing.html#returning-a-view-versus-a-copy\n",
      "  self._update_inplace(new_data)\n"
     ]
    }
   ],
   "source": [
    "data.loc[data['offense_description'].str.contains('sex offense', case=False), :]['offense_code_group'].fillna('SEX OFFENSE', inplace=True)"
   ]
  },
  {
   "cell_type": "code",
   "execution_count": 55,
   "metadata": {
    "ExecuteTime": {
     "end_time": "2020-06-24T23:40:22.206432Z",
     "start_time": "2020-06-24T23:40:22.204306Z"
    }
   },
   "outputs": [],
   "source": [
    "violent_crime_list = ['sex offense', 'assault', 'manslaughter', 'human trafficking' 'criminal harrassment', 'murder']"
   ]
  },
  {
   "cell_type": "code",
   "execution_count": 56,
   "metadata": {
    "ExecuteTime": {
     "end_time": "2020-06-24T23:40:22.819705Z",
     "start_time": "2020-06-24T23:40:22.207965Z"
    }
   },
   "outputs": [],
   "source": [
    "violent_crime = data.loc[data['offense_description'].str.contains('|'.join(violent_crime_list), case=False)]"
   ]
  },
  {
   "cell_type": "code",
   "execution_count": 57,
   "metadata": {
    "ExecuteTime": {
     "end_time": "2020-06-24T23:40:22.824303Z",
     "start_time": "2020-06-24T23:40:22.821288Z"
    }
   },
   "outputs": [
    {
     "data": {
      "text/plain": [
       "(28174, 14)"
      ]
     },
     "execution_count": 57,
     "metadata": {},
     "output_type": "execute_result"
    }
   ],
   "source": [
    "violent_crime.shape"
   ]
  },
  {
   "cell_type": "code",
   "execution_count": 58,
   "metadata": {
    "ExecuteTime": {
     "end_time": "2020-06-24T23:40:24.175995Z",
     "start_time": "2020-06-24T23:40:22.825978Z"
    }
   },
   "outputs": [],
   "source": [
    "data['is_violent'] = data['offense_description'].apply(lambda x: 1 if x in violent_crime['offense_description'] else 0)"
   ]
  },
  {
   "cell_type": "code",
   "execution_count": 59,
   "metadata": {
    "ExecuteTime": {
     "end_time": "2020-06-24T23:40:24.252819Z",
     "start_time": "2020-06-24T23:40:24.177541Z"
    },
    "scrolled": true
   },
   "outputs": [
    {
     "data": {
      "text/plain": [
       "offense_code                0\n",
       "offense_code_group      20884\n",
       "offense_description         0\n",
       "district                   24\n",
       "reporting_area              0\n",
       "shooting               339653\n",
       "occurred_on_date            0\n",
       "year                        0\n",
       "month                       0\n",
       "day_of_week                 0\n",
       "hour                        0\n",
       "lat                      3140\n",
       "long                     3140\n",
       "reporting_cluster           0\n",
       "is_violent                  0\n",
       "dtype: int64"
      ]
     },
     "execution_count": 59,
     "metadata": {},
     "output_type": "execute_result"
    }
   ],
   "source": [
    "data.isnull().sum()"
   ]
  },
  {
   "cell_type": "code",
   "execution_count": 60,
   "metadata": {
    "ExecuteTime": {
     "end_time": "2020-06-24T23:40:24.257045Z",
     "start_time": "2020-06-24T23:40:24.254379Z"
    }
   },
   "outputs": [
    {
     "data": {
      "text/plain": [
       "(361690, 15)"
      ]
     },
     "execution_count": 60,
     "metadata": {},
     "output_type": "execute_result"
    }
   ],
   "source": [
    "data.shape"
   ]
  },
  {
   "cell_type": "code",
   "execution_count": 61,
   "metadata": {
    "ExecuteTime": {
     "end_time": "2020-06-24T23:40:24.260431Z",
     "start_time": "2020-06-24T23:40:24.258320Z"
    }
   },
   "outputs": [],
   "source": [
    "property_crime_list = ['auto theft', 'larceny', 'home invasion', 'robbery', 'burglary', 'b&e']"
   ]
  },
  {
   "cell_type": "code",
   "execution_count": 62,
   "metadata": {
    "ExecuteTime": {
     "end_time": "2020-06-24T23:40:24.822039Z",
     "start_time": "2020-06-24T23:40:24.261858Z"
    }
   },
   "outputs": [],
   "source": [
    "property_crime = data.loc[data['offense_description'].str.contains('|'.join(property_crime_list), case=False)]"
   ]
  },
  {
   "cell_type": "code",
   "execution_count": 63,
   "metadata": {
    "ExecuteTime": {
     "end_time": "2020-06-24T23:40:24.826513Z",
     "start_time": "2020-06-24T23:40:24.823750Z"
    }
   },
   "outputs": [
    {
     "data": {
      "text/plain": [
       "(59194, 15)"
      ]
     },
     "execution_count": 63,
     "metadata": {},
     "output_type": "execute_result"
    }
   ],
   "source": [
    "property_crime.shape"
   ]
  },
  {
   "cell_type": "code",
   "execution_count": 64,
   "metadata": {
    "ExecuteTime": {
     "end_time": "2020-06-24T23:40:26.088962Z",
     "start_time": "2020-06-24T23:40:24.828077Z"
    }
   },
   "outputs": [],
   "source": [
    "data['is_property'] = data['offense_description'].apply(lambda x: 1 if x in property_crime['offense_description'] else 0)"
   ]
  },
  {
   "cell_type": "code",
   "execution_count": 65,
   "metadata": {
    "ExecuteTime": {
     "end_time": "2020-06-24T23:40:26.350302Z",
     "start_time": "2020-06-24T23:40:26.091098Z"
    }
   },
   "outputs": [],
   "source": [
    "drug_crime = data.loc[data['offense_description'].str.contains('drug', case=False)]"
   ]
  },
  {
   "cell_type": "code",
   "execution_count": 66,
   "metadata": {
    "ExecuteTime": {
     "end_time": "2020-06-24T23:40:26.354751Z",
     "start_time": "2020-06-24T23:40:26.351959Z"
    }
   },
   "outputs": [
    {
     "data": {
      "text/plain": [
       "(16724, 16)"
      ]
     },
     "execution_count": 66,
     "metadata": {},
     "output_type": "execute_result"
    }
   ],
   "source": [
    "drug_crime.shape"
   ]
  },
  {
   "cell_type": "code",
   "execution_count": 67,
   "metadata": {
    "ExecuteTime": {
     "end_time": "2020-06-24T23:40:27.593871Z",
     "start_time": "2020-06-24T23:40:26.356379Z"
    }
   },
   "outputs": [],
   "source": [
    "data['is_drug'] = data['offense_description'].apply(lambda x: 1 if x in drug_crime['offense_description'] else 0)"
   ]
  },
  {
   "cell_type": "code",
   "execution_count": 68,
   "metadata": {
    "ExecuteTime": {
     "end_time": "2020-06-24T23:40:28.836064Z",
     "start_time": "2020-06-24T23:40:27.609215Z"
    }
   },
   "outputs": [],
   "source": [
    "data['is_other'] = data['offense_description'].apply(lambda x: 1 if x not in property_crime['offense_description'] or \n",
    "                                                     x not in violent_crime['offense_description'] or \n",
    "                                                     x not in drug_crime['offense_description'] else 0)"
   ]
  },
  {
   "cell_type": "code",
   "execution_count": 69,
   "metadata": {
    "ExecuteTime": {
     "end_time": "2020-06-24T23:40:28.936208Z",
     "start_time": "2020-06-24T23:40:28.844444Z"
    },
    "scrolled": false
   },
   "outputs": [
    {
     "name": "stdout",
     "output_type": "stream",
     "text": [
      "<class 'pandas.core.frame.DataFrame'>\n",
      "Int64Index: 361690 entries, 0 to 361689\n",
      "Data columns (total 18 columns):\n",
      " #   Column               Non-Null Count   Dtype         \n",
      "---  ------               --------------   -----         \n",
      " 0   offense_code         361690 non-null  int64         \n",
      " 1   offense_code_group   340806 non-null  object        \n",
      " 2   offense_description  361690 non-null  object        \n",
      " 3   district             361666 non-null  object        \n",
      " 4   reporting_area       361690 non-null  object        \n",
      " 5   shooting             22037 non-null   object        \n",
      " 6   occurred_on_date     361690 non-null  datetime64[ns]\n",
      " 7   year                 361690 non-null  int64         \n",
      " 8   month                361690 non-null  int64         \n",
      " 9   day_of_week          361690 non-null  object        \n",
      " 10  hour                 361690 non-null  int64         \n",
      " 11  lat                  358550 non-null  float64       \n",
      " 12  long                 358550 non-null  float64       \n",
      " 13  reporting_cluster    361690 non-null  int32         \n",
      " 14  is_violent           361690 non-null  int64         \n",
      " 15  is_property          361690 non-null  int64         \n",
      " 16  is_drug              361690 non-null  int64         \n",
      " 17  is_other             361690 non-null  int64         \n",
      "dtypes: datetime64[ns](1), float64(2), int32(1), int64(8), object(6)\n",
      "memory usage: 51.1+ MB\n"
     ]
    }
   ],
   "source": [
    "data.info()"
   ]
  },
  {
   "cell_type": "markdown",
   "metadata": {},
   "source": [
    "#### Importing clusters from census data"
   ]
  },
  {
   "cell_type": "code",
   "execution_count": 70,
   "metadata": {
    "ExecuteTime": {
     "end_time": "2020-06-24T23:40:28.946181Z",
     "start_time": "2020-06-24T23:40:28.937903Z"
    }
   },
   "outputs": [],
   "source": [
    "census = pd.read_csv('clusters-final.csv')"
   ]
  },
  {
   "cell_type": "code",
   "execution_count": 71,
   "metadata": {
    "ExecuteTime": {
     "end_time": "2020-06-24T23:40:28.986914Z",
     "start_time": "2020-06-24T23:40:28.947832Z"
    }
   },
   "outputs": [
    {
     "data": {
      "text/html": [
       "<div>\n",
       "<style scoped>\n",
       "    .dataframe tbody tr th:only-of-type {\n",
       "        vertical-align: middle;\n",
       "    }\n",
       "\n",
       "    .dataframe tbody tr th {\n",
       "        vertical-align: top;\n",
       "    }\n",
       "\n",
       "    .dataframe thead th {\n",
       "        text-align: right;\n",
       "    }\n",
       "</style>\n",
       "<table border=\"1\" class=\"dataframe\">\n",
       "  <thead>\n",
       "    <tr style=\"text-align: right;\">\n",
       "      <th></th>\n",
       "      <th>Neighborhood</th>\n",
       "      <th>Total Population</th>\n",
       "      <th>Median Age</th>\n",
       "      <th>Total Housing Units:</th>\n",
       "      <th>Total Occupied</th>\n",
       "      <th>Owner Occupied</th>\n",
       "      <th>Renter Occupied</th>\n",
       "      <th>% of Occupied Units</th>\n",
       "      <th>median_rent</th>\n",
       "      <th>Total Household Type</th>\n",
       "      <th>Married-couple family</th>\n",
       "      <th>pct_married</th>\n",
       "      <th>Male householder, no wife present-family</th>\n",
       "      <th>single_male household</th>\n",
       "      <th>Female householder, no husband present-family</th>\n",
       "      <th>single female household</th>\n",
       "      <th>White Alone</th>\n",
       "      <th>pct_white</th>\n",
       "      <th>Black/African-American Alone</th>\n",
       "      <th>pct_black</th>\n",
       "      <th>Hispanic or Latino</th>\n",
       "      <th>pct_latino</th>\n",
       "      <th>Asian Alone</th>\n",
       "      <th>pct_asian</th>\n",
       "      <th>Other Races or multiple races</th>\n",
       "      <th>pct_other_minority</th>\n",
       "      <th>Total population 25 years and over</th>\n",
       "      <th>Less than High School</th>\n",
       "      <th>High School Graduate</th>\n",
       "      <th>Some College</th>\n",
       "      <th>Bachelor's Degree or more</th>\n",
       "      <th>% Bachelors Degree</th>\n",
       "      <th>Workers 16 years and over</th>\n",
       "      <th>Commute 0-29 minutes</th>\n",
       "      <th>Commute 30-59 minutes</th>\n",
       "      <th>Commute 60+ minutes</th>\n",
       "      <th>avg_commute_mins</th>\n",
       "      <th>Civilian employed population 16 years and over</th>\n",
       "      <th>Management, business, and financial occupations:</th>\n",
       "      <th>Computer, engineering, and science occupations:</th>\n",
       "      <th>Education, legal, community service, arts, and media occupations:</th>\n",
       "      <th>Healthcare practitioner, technical, and support occupations:</th>\n",
       "      <th>Protective service, food preparation, building cleaning, and other service occupations</th>\n",
       "      <th>Sales and office occupations:</th>\n",
       "      <th>Natural resources, construction, and maintenance occupations:</th>\n",
       "      <th>Production, transportation, and material moving occupations:</th>\n",
       "      <th>Total Population 16+</th>\n",
       "      <th>Civilian Labor Force</th>\n",
       "      <th>Labor Force Participation Rate</th>\n",
       "      <th>Employed Civilians</th>\n",
       "      <th>Unemployment Rate</th>\n",
       "      <th>Civilian Labor Force Population 16-19</th>\n",
       "      <th>Labor Force Participation Rate.1</th>\n",
       "      <th>Civilian Labor Force Population 20-34</th>\n",
       "      <th>Labor Force Participation Rate.2</th>\n",
       "      <th>Civilian Labor Force Population 35-64</th>\n",
       "      <th>Labor Force Participation Rate.3</th>\n",
       "      <th>Civilian Labor Force Population 35-64.1</th>\n",
       "      <th>Labor Force Participation Rate.4</th>\n",
       "      <th>Per Capita Income</th>\n",
       "      <th>Median Income</th>\n",
       "      <th>Total Households</th>\n",
       "      <th>Household Income Below $25k</th>\n",
       "      <th>Household Income $25k - $50k</th>\n",
       "      <th>Household Income $50k - $75k</th>\n",
       "      <th>Household Income $75k - $100k</th>\n",
       "      <th>Household Income $100k -$150k</th>\n",
       "      <th>Household Income $150,000 +</th>\n",
       "      <th>Median Family Income</th>\n",
       "      <th>Total population for whom poverty status is determined</th>\n",
       "      <th>Total in poverty</th>\n",
       "      <th>Total Poverty Under 18</th>\n",
       "      <th>Total Poverty 18 to 64 years</th>\n",
       "      <th>Total Poverty 65 years and over</th>\n",
       "      <th>Total families</th>\n",
       "      <th>Familes Below Poverty Level</th>\n",
       "      <th>Total  Families with Female Householder, no husband present</th>\n",
       "      <th>Families with Female Householder, no husband present Below Poverty Level</th>\n",
       "      <th>cluster</th>\n",
       "      <th>district</th>\n",
       "    </tr>\n",
       "  </thead>\n",
       "  <tbody>\n",
       "    <tr>\n",
       "      <th>0</th>\n",
       "      <td>Allston</td>\n",
       "      <td>19363</td>\n",
       "      <td>26</td>\n",
       "      <td>7110</td>\n",
       "      <td>6457</td>\n",
       "      <td>631</td>\n",
       "      <td>5826</td>\n",
       "      <td>0.902</td>\n",
       "      <td>2150</td>\n",
       "      <td>6457</td>\n",
       "      <td>909</td>\n",
       "      <td>0.140777</td>\n",
       "      <td>111</td>\n",
       "      <td>0.017191</td>\n",
       "      <td>368</td>\n",
       "      <td>0.056992</td>\n",
       "      <td>10494</td>\n",
       "      <td>0.541961</td>\n",
       "      <td>1194</td>\n",
       "      <td>0.061664</td>\n",
       "      <td>2674</td>\n",
       "      <td>0.138098</td>\n",
       "      <td>4200</td>\n",
       "      <td>0.216909</td>\n",
       "      <td>801</td>\n",
       "      <td>0.041368</td>\n",
       "      <td>10561</td>\n",
       "      <td>715</td>\n",
       "      <td>986</td>\n",
       "      <td>1265</td>\n",
       "      <td>7595</td>\n",
       "      <td>0.719155</td>\n",
       "      <td>9923</td>\n",
       "      <td>4402</td>\n",
       "      <td>4084</td>\n",
       "      <td>974</td>\n",
       "      <td>3153.333333</td>\n",
       "      <td>10159</td>\n",
       "      <td>2092</td>\n",
       "      <td>1361</td>\n",
       "      <td>1552</td>\n",
       "      <td>761</td>\n",
       "      <td>1741</td>\n",
       "      <td>2141</td>\n",
       "      <td>154</td>\n",
       "      <td>357</td>\n",
       "      <td>10754</td>\n",
       "      <td>0.578079</td>\n",
       "      <td>10017</td>\n",
       "      <td>0.931467</td>\n",
       "      <td>0.068533</td>\n",
       "      <td>946</td>\n",
       "      <td>0.381298</td>\n",
       "      <td>7985</td>\n",
       "      <td>0.610287</td>\n",
       "      <td>1823</td>\n",
       "      <td>0.764040</td>\n",
       "      <td>150</td>\n",
       "      <td>0.230061</td>\n",
       "      <td>28986.25</td>\n",
       "      <td>46982.76</td>\n",
       "      <td>6457</td>\n",
       "      <td>2037</td>\n",
       "      <td>1384</td>\n",
       "      <td>1042</td>\n",
       "      <td>544</td>\n",
       "      <td>912</td>\n",
       "      <td>538</td>\n",
       "      <td>65019.69</td>\n",
       "      <td>13892</td>\n",
       "      <td>4326</td>\n",
       "      <td>151</td>\n",
       "      <td>4055</td>\n",
       "      <td>120</td>\n",
       "      <td>1388</td>\n",
       "      <td>109</td>\n",
       "      <td>368</td>\n",
       "      <td>38</td>\n",
       "      <td>2</td>\n",
       "      <td>D14</td>\n",
       "    </tr>\n",
       "    <tr>\n",
       "      <th>1</th>\n",
       "      <td>Back Bay</td>\n",
       "      <td>18176</td>\n",
       "      <td>33</td>\n",
       "      <td>11773</td>\n",
       "      <td>9824</td>\n",
       "      <td>3196</td>\n",
       "      <td>6628</td>\n",
       "      <td>0.675</td>\n",
       "      <td>2800</td>\n",
       "      <td>9824</td>\n",
       "      <td>2957</td>\n",
       "      <td>0.300998</td>\n",
       "      <td>95</td>\n",
       "      <td>0.009670</td>\n",
       "      <td>369</td>\n",
       "      <td>0.037561</td>\n",
       "      <td>13731</td>\n",
       "      <td>0.755447</td>\n",
       "      <td>757</td>\n",
       "      <td>0.041648</td>\n",
       "      <td>1480</td>\n",
       "      <td>0.081426</td>\n",
       "      <td>1794</td>\n",
       "      <td>0.098702</td>\n",
       "      <td>414</td>\n",
       "      <td>0.022777</td>\n",
       "      <td>14166</td>\n",
       "      <td>324</td>\n",
       "      <td>699</td>\n",
       "      <td>1095</td>\n",
       "      <td>12048</td>\n",
       "      <td>0.850487</td>\n",
       "      <td>11074</td>\n",
       "      <td>7005</td>\n",
       "      <td>3091</td>\n",
       "      <td>375</td>\n",
       "      <td>3490.333333</td>\n",
       "      <td>11294</td>\n",
       "      <td>4353</td>\n",
       "      <td>1228</td>\n",
       "      <td>1828</td>\n",
       "      <td>1124</td>\n",
       "      <td>651</td>\n",
       "      <td>1897</td>\n",
       "      <td>73</td>\n",
       "      <td>140</td>\n",
       "      <td>11114</td>\n",
       "      <td>0.653304</td>\n",
       "      <td>10617</td>\n",
       "      <td>0.955282</td>\n",
       "      <td>0.044718</td>\n",
       "      <td>481</td>\n",
       "      <td>0.379937</td>\n",
       "      <td>6122</td>\n",
       "      <td>0.816484</td>\n",
       "      <td>4511</td>\n",
       "      <td>0.803241</td>\n",
       "      <td>697</td>\n",
       "      <td>0.264818</td>\n",
       "      <td>98494.96</td>\n",
       "      <td>102070.55</td>\n",
       "      <td>9824</td>\n",
       "      <td>1783</td>\n",
       "      <td>932</td>\n",
       "      <td>1237</td>\n",
       "      <td>879</td>\n",
       "      <td>1586</td>\n",
       "      <td>3407</td>\n",
       "      <td>175136.24</td>\n",
       "      <td>16661</td>\n",
       "      <td>1958</td>\n",
       "      <td>19</td>\n",
       "      <td>1629</td>\n",
       "      <td>310</td>\n",
       "      <td>3421</td>\n",
       "      <td>136</td>\n",
       "      <td>369</td>\n",
       "      <td>8</td>\n",
       "      <td>1</td>\n",
       "      <td>A1</td>\n",
       "    </tr>\n",
       "    <tr>\n",
       "      <th>2</th>\n",
       "      <td>Beacon Hill</td>\n",
       "      <td>9751</td>\n",
       "      <td>32</td>\n",
       "      <td>6014</td>\n",
       "      <td>5458</td>\n",
       "      <td>1849</td>\n",
       "      <td>3609</td>\n",
       "      <td>0.661</td>\n",
       "      <td>2450</td>\n",
       "      <td>5458</td>\n",
       "      <td>1475</td>\n",
       "      <td>0.270246</td>\n",
       "      <td>48</td>\n",
       "      <td>0.008794</td>\n",
       "      <td>105</td>\n",
       "      <td>0.019238</td>\n",
       "      <td>8137</td>\n",
       "      <td>0.834479</td>\n",
       "      <td>123</td>\n",
       "      <td>0.012614</td>\n",
       "      <td>676</td>\n",
       "      <td>0.069326</td>\n",
       "      <td>603</td>\n",
       "      <td>0.061840</td>\n",
       "      <td>212</td>\n",
       "      <td>0.021741</td>\n",
       "      <td>7948</td>\n",
       "      <td>182</td>\n",
       "      <td>176</td>\n",
       "      <td>455</td>\n",
       "      <td>7135</td>\n",
       "      <td>0.897710</td>\n",
       "      <td>6732</td>\n",
       "      <td>4169</td>\n",
       "      <td>1944</td>\n",
       "      <td>267</td>\n",
       "      <td>2126.666667</td>\n",
       "      <td>6761</td>\n",
       "      <td>2425</td>\n",
       "      <td>800</td>\n",
       "      <td>1329</td>\n",
       "      <td>780</td>\n",
       "      <td>253</td>\n",
       "      <td>1070</td>\n",
       "      <td>41</td>\n",
       "      <td>63</td>\n",
       "      <td>6699</td>\n",
       "      <td>0.757291</td>\n",
       "      <td>6455</td>\n",
       "      <td>0.963577</td>\n",
       "      <td>0.036423</td>\n",
       "      <td>20</td>\n",
       "      <td>0.137931</td>\n",
       "      <td>4456</td>\n",
       "      <td>0.936528</td>\n",
       "      <td>2223</td>\n",
       "      <td>0.809246</td>\n",
       "      <td>306</td>\n",
       "      <td>0.255853</td>\n",
       "      <td>90227.22</td>\n",
       "      <td>98069.24</td>\n",
       "      <td>5458</td>\n",
       "      <td>787</td>\n",
       "      <td>519</td>\n",
       "      <td>730</td>\n",
       "      <td>751</td>\n",
       "      <td>939</td>\n",
       "      <td>1732</td>\n",
       "      <td>206650.86</td>\n",
       "      <td>9751</td>\n",
       "      <td>907</td>\n",
       "      <td>0</td>\n",
       "      <td>780</td>\n",
       "      <td>127</td>\n",
       "      <td>1628</td>\n",
       "      <td>9</td>\n",
       "      <td>105</td>\n",
       "      <td>0</td>\n",
       "      <td>1</td>\n",
       "      <td>A1</td>\n",
       "    </tr>\n",
       "    <tr>\n",
       "      <th>3</th>\n",
       "      <td>Brighton</td>\n",
       "      <td>51785</td>\n",
       "      <td>29</td>\n",
       "      <td>23214</td>\n",
       "      <td>21605</td>\n",
       "      <td>5117</td>\n",
       "      <td>16488</td>\n",
       "      <td>0.763</td>\n",
       "      <td>1800</td>\n",
       "      <td>21605</td>\n",
       "      <td>5538</td>\n",
       "      <td>0.256330</td>\n",
       "      <td>381</td>\n",
       "      <td>0.017635</td>\n",
       "      <td>1217</td>\n",
       "      <td>0.056330</td>\n",
       "      <td>33674</td>\n",
       "      <td>0.650266</td>\n",
       "      <td>2287</td>\n",
       "      <td>0.044163</td>\n",
       "      <td>5609</td>\n",
       "      <td>0.108313</td>\n",
       "      <td>8241</td>\n",
       "      <td>0.159139</td>\n",
       "      <td>1974</td>\n",
       "      <td>0.038119</td>\n",
       "      <td>35808</td>\n",
       "      <td>3107</td>\n",
       "      <td>4549</td>\n",
       "      <td>4861</td>\n",
       "      <td>23291</td>\n",
       "      <td>0.650441</td>\n",
       "      <td>31094</td>\n",
       "      <td>12210</td>\n",
       "      <td>14044</td>\n",
       "      <td>3415</td>\n",
       "      <td>9889.666667</td>\n",
       "      <td>31727</td>\n",
       "      <td>6124</td>\n",
       "      <td>4837</td>\n",
       "      <td>6677</td>\n",
       "      <td>2332</td>\n",
       "      <td>4182</td>\n",
       "      <td>5452</td>\n",
       "      <td>1055</td>\n",
       "      <td>1068</td>\n",
       "      <td>32466</td>\n",
       "      <td>0.689343</td>\n",
       "      <td>30870</td>\n",
       "      <td>0.950841</td>\n",
       "      <td>0.049159</td>\n",
       "      <td>734</td>\n",
       "      <td>0.401752</td>\n",
       "      <td>22527</td>\n",
       "      <td>0.822183</td>\n",
       "      <td>9205</td>\n",
       "      <td>0.788302</td>\n",
       "      <td>898</td>\n",
       "      <td>0.144979</td>\n",
       "      <td>35875.59</td>\n",
       "      <td>62041.20</td>\n",
       "      <td>21605</td>\n",
       "      <td>5467</td>\n",
       "      <td>3625</td>\n",
       "      <td>3650</td>\n",
       "      <td>2249</td>\n",
       "      <td>3831</td>\n",
       "      <td>2783</td>\n",
       "      <td>81419.68</td>\n",
       "      <td>48366</td>\n",
       "      <td>9627</td>\n",
       "      <td>928</td>\n",
       "      <td>7041</td>\n",
       "      <td>1658</td>\n",
       "      <td>7136</td>\n",
       "      <td>844</td>\n",
       "      <td>1217</td>\n",
       "      <td>425</td>\n",
       "      <td>2</td>\n",
       "      <td>D14</td>\n",
       "    </tr>\n",
       "    <tr>\n",
       "      <th>4</th>\n",
       "      <td>Charlestown</td>\n",
       "      <td>18901</td>\n",
       "      <td>35</td>\n",
       "      <td>9407</td>\n",
       "      <td>8931</td>\n",
       "      <td>4068</td>\n",
       "      <td>4863</td>\n",
       "      <td>0.545</td>\n",
       "      <td>2500</td>\n",
       "      <td>8931</td>\n",
       "      <td>2904</td>\n",
       "      <td>0.325160</td>\n",
       "      <td>274</td>\n",
       "      <td>0.030680</td>\n",
       "      <td>973</td>\n",
       "      <td>0.108946</td>\n",
       "      <td>13835</td>\n",
       "      <td>0.731972</td>\n",
       "      <td>1103</td>\n",
       "      <td>0.058357</td>\n",
       "      <td>2238</td>\n",
       "      <td>0.118406</td>\n",
       "      <td>1354</td>\n",
       "      <td>0.071636</td>\n",
       "      <td>371</td>\n",
       "      <td>0.019629</td>\n",
       "      <td>14496</td>\n",
       "      <td>1432</td>\n",
       "      <td>2133</td>\n",
       "      <td>1728</td>\n",
       "      <td>9203</td>\n",
       "      <td>0.634865</td>\n",
       "      <td>11214</td>\n",
       "      <td>5107</td>\n",
       "      <td>4540</td>\n",
       "      <td>1021</td>\n",
       "      <td>3556.000000</td>\n",
       "      <td>11290</td>\n",
       "      <td>3804</td>\n",
       "      <td>947</td>\n",
       "      <td>1295</td>\n",
       "      <td>795</td>\n",
       "      <td>1078</td>\n",
       "      <td>2718</td>\n",
       "      <td>249</td>\n",
       "      <td>404</td>\n",
       "      <td>11219</td>\n",
       "      <td>0.713541</td>\n",
       "      <td>10782</td>\n",
       "      <td>0.961048</td>\n",
       "      <td>0.038952</td>\n",
       "      <td>167</td>\n",
       "      <td>0.377828</td>\n",
       "      <td>5286</td>\n",
       "      <td>0.921227</td>\n",
       "      <td>5766</td>\n",
       "      <td>0.760385</td>\n",
       "      <td>530</td>\n",
       "      <td>0.270408</td>\n",
       "      <td>69219.23</td>\n",
       "      <td>103243.16</td>\n",
       "      <td>8931</td>\n",
       "      <td>1911</td>\n",
       "      <td>831</td>\n",
       "      <td>842</td>\n",
       "      <td>782</td>\n",
       "      <td>1436</td>\n",
       "      <td>3129</td>\n",
       "      <td>135558.82</td>\n",
       "      <td>18816</td>\n",
       "      <td>3378</td>\n",
       "      <td>1205</td>\n",
       "      <td>1815</td>\n",
       "      <td>358</td>\n",
       "      <td>4151</td>\n",
       "      <td>885</td>\n",
       "      <td>973</td>\n",
       "      <td>528</td>\n",
       "      <td>1</td>\n",
       "      <td>A15</td>\n",
       "    </tr>\n",
       "  </tbody>\n",
       "</table>\n",
       "</div>"
      ],
      "text/plain": [
       "  Neighborhood  Total Population  Median Age  Total Housing Units:   \\\n",
       "0      Allston             19363          26                   7110   \n",
       "1     Back Bay             18176          33                  11773   \n",
       "2  Beacon Hill              9751          32                   6014   \n",
       "3     Brighton             51785          29                  23214   \n",
       "4  Charlestown             18901          35                   9407   \n",
       "\n",
       "   Total Occupied  Owner Occupied  Renter Occupied  % of Occupied Units  \\\n",
       "0            6457             631             5826                0.902   \n",
       "1            9824            3196             6628                0.675   \n",
       "2            5458            1849             3609                0.661   \n",
       "3           21605            5117            16488                0.763   \n",
       "4            8931            4068             4863                0.545   \n",
       "\n",
       "   median_rent  Total Household Type  Married-couple family  pct_married  \\\n",
       "0         2150                  6457                    909     0.140777   \n",
       "1         2800                  9824                   2957     0.300998   \n",
       "2         2450                  5458                   1475     0.270246   \n",
       "3         1800                 21605                   5538     0.256330   \n",
       "4         2500                  8931                   2904     0.325160   \n",
       "\n",
       "   Male householder, no wife present-family  single_male household  \\\n",
       "0                                       111               0.017191   \n",
       "1                                        95               0.009670   \n",
       "2                                        48               0.008794   \n",
       "3                                       381               0.017635   \n",
       "4                                       274               0.030680   \n",
       "\n",
       "   Female householder, no husband present-family  single female household  \\\n",
       "0                                            368                 0.056992   \n",
       "1                                            369                 0.037561   \n",
       "2                                            105                 0.019238   \n",
       "3                                           1217                 0.056330   \n",
       "4                                            973                 0.108946   \n",
       "\n",
       "   White Alone  pct_white  Black/African-American Alone  pct_black  \\\n",
       "0        10494   0.541961                          1194   0.061664   \n",
       "1        13731   0.755447                           757   0.041648   \n",
       "2         8137   0.834479                           123   0.012614   \n",
       "3        33674   0.650266                          2287   0.044163   \n",
       "4        13835   0.731972                          1103   0.058357   \n",
       "\n",
       "   Hispanic or Latino  pct_latino  Asian Alone  pct_asian  \\\n",
       "0                2674    0.138098         4200   0.216909   \n",
       "1                1480    0.081426         1794   0.098702   \n",
       "2                 676    0.069326          603   0.061840   \n",
       "3                5609    0.108313         8241   0.159139   \n",
       "4                2238    0.118406         1354   0.071636   \n",
       "\n",
       "   Other Races or multiple races  pct_other_minority  \\\n",
       "0                            801            0.041368   \n",
       "1                            414            0.022777   \n",
       "2                            212            0.021741   \n",
       "3                           1974            0.038119   \n",
       "4                            371            0.019629   \n",
       "\n",
       "   Total population 25 years and over  Less than High School   \\\n",
       "0                               10561                     715   \n",
       "1                               14166                     324   \n",
       "2                                7948                     182   \n",
       "3                               35808                    3107   \n",
       "4                               14496                    1432   \n",
       "\n",
       "   High School Graduate  Some College   Bachelor's Degree or more   \\\n",
       "0                   986           1265                        7595   \n",
       "1                   699           1095                       12048   \n",
       "2                   176            455                        7135   \n",
       "3                  4549           4861                       23291   \n",
       "4                  2133           1728                        9203   \n",
       "\n",
       "   % Bachelors Degree  Workers 16 years and over  Commute 0-29 minutes  \\\n",
       "0            0.719155                       9923                  4402   \n",
       "1            0.850487                      11074                  7005   \n",
       "2            0.897710                       6732                  4169   \n",
       "3            0.650441                      31094                 12210   \n",
       "4            0.634865                      11214                  5107   \n",
       "\n",
       "   Commute 30-59 minutes  Commute 60+ minutes  avg_commute_mins  \\\n",
       "0                   4084                  974       3153.333333   \n",
       "1                   3091                  375       3490.333333   \n",
       "2                   1944                  267       2126.666667   \n",
       "3                  14044                 3415       9889.666667   \n",
       "4                   4540                 1021       3556.000000   \n",
       "\n",
       "   Civilian employed population 16 years and over  \\\n",
       "0                                           10159   \n",
       "1                                           11294   \n",
       "2                                            6761   \n",
       "3                                           31727   \n",
       "4                                           11290   \n",
       "\n",
       "     Management, business, and financial occupations:  \\\n",
       "0                                               2092    \n",
       "1                                               4353    \n",
       "2                                               2425    \n",
       "3                                               6124    \n",
       "4                                               3804    \n",
       "\n",
       "     Computer, engineering, and science occupations:  \\\n",
       "0                                               1361   \n",
       "1                                               1228   \n",
       "2                                                800   \n",
       "3                                               4837   \n",
       "4                                                947   \n",
       "\n",
       "     Education, legal, community service, arts, and media occupations:  \\\n",
       "0                                               1552                     \n",
       "1                                               1828                     \n",
       "2                                               1329                     \n",
       "3                                               6677                     \n",
       "4                                               1295                     \n",
       "\n",
       "     Healthcare practitioner, technical, and support occupations:  \\\n",
       "0                                                761                \n",
       "1                                               1124                \n",
       "2                                                780                \n",
       "3                                               2332                \n",
       "4                                                795                \n",
       "\n",
       "   Protective service, food preparation, building cleaning, and other service occupations  \\\n",
       "0                                               1741                                        \n",
       "1                                                651                                        \n",
       "2                                                253                                        \n",
       "3                                               4182                                        \n",
       "4                                               1078                                        \n",
       "\n",
       "   Sales and office occupations:  \\\n",
       "0                           2141   \n",
       "1                           1897   \n",
       "2                           1070   \n",
       "3                           5452   \n",
       "4                           2718   \n",
       "\n",
       "   Natural resources, construction, and maintenance occupations:  \\\n",
       "0                                                154               \n",
       "1                                                 73               \n",
       "2                                                 41               \n",
       "3                                               1055               \n",
       "4                                                249               \n",
       "\n",
       "   Production, transportation, and material moving occupations:  \\\n",
       "0                                                357              \n",
       "1                                                140              \n",
       "2                                                 63              \n",
       "3                                               1068              \n",
       "4                                                404              \n",
       "\n",
       "   Total Population 16+  Civilian Labor Force  Labor Force Participation Rate  \\\n",
       "0                 10754              0.578079                           10017   \n",
       "1                 11114              0.653304                           10617   \n",
       "2                  6699              0.757291                            6455   \n",
       "3                 32466              0.689343                           30870   \n",
       "4                 11219              0.713541                           10782   \n",
       "\n",
       "   Employed Civilians  Unemployment Rate  \\\n",
       "0            0.931467           0.068533   \n",
       "1            0.955282           0.044718   \n",
       "2            0.963577           0.036423   \n",
       "3            0.950841           0.049159   \n",
       "4            0.961048           0.038952   \n",
       "\n",
       "   Civilian Labor Force Population 16-19  Labor Force Participation Rate.1  \\\n",
       "0                                    946                          0.381298   \n",
       "1                                    481                          0.379937   \n",
       "2                                     20                          0.137931   \n",
       "3                                    734                          0.401752   \n",
       "4                                    167                          0.377828   \n",
       "\n",
       "   Civilian Labor Force Population 20-34  Labor Force Participation Rate.2  \\\n",
       "0                                   7985                          0.610287   \n",
       "1                                   6122                          0.816484   \n",
       "2                                   4456                          0.936528   \n",
       "3                                  22527                          0.822183   \n",
       "4                                   5286                          0.921227   \n",
       "\n",
       "   Civilian Labor Force Population 35-64  Labor Force Participation Rate.3  \\\n",
       "0                                   1823                          0.764040   \n",
       "1                                   4511                          0.803241   \n",
       "2                                   2223                          0.809246   \n",
       "3                                   9205                          0.788302   \n",
       "4                                   5766                          0.760385   \n",
       "\n",
       "   Civilian Labor Force Population 35-64.1  Labor Force Participation Rate.4  \\\n",
       "0                                      150                          0.230061   \n",
       "1                                      697                          0.264818   \n",
       "2                                      306                          0.255853   \n",
       "3                                      898                          0.144979   \n",
       "4                                      530                          0.270408   \n",
       "\n",
       "   Per Capita Income  Median Income  Total Households  \\\n",
       "0           28986.25       46982.76              6457   \n",
       "1           98494.96      102070.55              9824   \n",
       "2           90227.22       98069.24              5458   \n",
       "3           35875.59       62041.20             21605   \n",
       "4           69219.23      103243.16              8931   \n",
       "\n",
       "   Household Income Below $25k  Household Income $25k - $50k  \\\n",
       "0                         2037                          1384   \n",
       "1                         1783                           932   \n",
       "2                          787                           519   \n",
       "3                         5467                          3625   \n",
       "4                         1911                           831   \n",
       "\n",
       "   Household Income $50k - $75k  Household Income $75k - $100k  \\\n",
       "0                          1042                            544   \n",
       "1                          1237                            879   \n",
       "2                           730                            751   \n",
       "3                          3650                           2249   \n",
       "4                           842                            782   \n",
       "\n",
       "   Household Income $100k -$150k  Household Income $150,000 +  \\\n",
       "0                            912                          538   \n",
       "1                           1586                         3407   \n",
       "2                            939                         1732   \n",
       "3                           3831                         2783   \n",
       "4                           1436                         3129   \n",
       "\n",
       "   Median Family Income  \\\n",
       "0              65019.69   \n",
       "1             175136.24   \n",
       "2             206650.86   \n",
       "3              81419.68   \n",
       "4             135558.82   \n",
       "\n",
       "   Total population for whom poverty status is determined  Total in poverty  \\\n",
       "0                                              13892                   4326   \n",
       "1                                              16661                   1958   \n",
       "2                                               9751                    907   \n",
       "3                                              48366                   9627   \n",
       "4                                              18816                   3378   \n",
       "\n",
       "   Total Poverty Under 18  Total Poverty 18 to 64 years   \\\n",
       "0                     151                           4055   \n",
       "1                      19                           1629   \n",
       "2                       0                            780   \n",
       "3                     928                           7041   \n",
       "4                    1205                           1815   \n",
       "\n",
       "   Total Poverty 65 years and over  Total families  \\\n",
       "0                              120            1388   \n",
       "1                              310            3421   \n",
       "2                              127            1628   \n",
       "3                             1658            7136   \n",
       "4                              358            4151   \n",
       "\n",
       "   Familes Below Poverty Level  \\\n",
       "0                          109   \n",
       "1                          136   \n",
       "2                            9   \n",
       "3                          844   \n",
       "4                          885   \n",
       "\n",
       "   Total  Families with Female Householder, no husband present  \\\n",
       "0                                                368             \n",
       "1                                                369             \n",
       "2                                                105             \n",
       "3                                               1217             \n",
       "4                                                973             \n",
       "\n",
       "   Families with Female Householder, no husband present Below Poverty Level  \\\n",
       "0                                                 38                          \n",
       "1                                                  8                          \n",
       "2                                                  0                          \n",
       "3                                                425                          \n",
       "4                                                528                          \n",
       "\n",
       "   cluster district  \n",
       "0        2      D14  \n",
       "1        1       A1  \n",
       "2        1       A1  \n",
       "3        2      D14  \n",
       "4        1      A15  "
      ]
     },
     "execution_count": 71,
     "metadata": {},
     "output_type": "execute_result"
    }
   ],
   "source": [
    "census.head()"
   ]
  },
  {
   "cell_type": "code",
   "execution_count": 72,
   "metadata": {
    "ExecuteTime": {
     "end_time": "2020-06-24T23:40:28.991393Z",
     "start_time": "2020-06-24T23:40:28.988442Z"
    }
   },
   "outputs": [],
   "source": [
    "census = census[['Neighborhood', 'cluster', 'district']]"
   ]
  },
  {
   "cell_type": "code",
   "execution_count": 73,
   "metadata": {
    "ExecuteTime": {
     "end_time": "2020-06-24T23:40:29.000694Z",
     "start_time": "2020-06-24T23:40:28.993110Z"
    }
   },
   "outputs": [
    {
     "data": {
      "text/html": [
       "<div>\n",
       "<style scoped>\n",
       "    .dataframe tbody tr th:only-of-type {\n",
       "        vertical-align: middle;\n",
       "    }\n",
       "\n",
       "    .dataframe tbody tr th {\n",
       "        vertical-align: top;\n",
       "    }\n",
       "\n",
       "    .dataframe thead th {\n",
       "        text-align: right;\n",
       "    }\n",
       "</style>\n",
       "<table border=\"1\" class=\"dataframe\">\n",
       "  <thead>\n",
       "    <tr style=\"text-align: right;\">\n",
       "      <th></th>\n",
       "      <th>Neighborhood</th>\n",
       "      <th>cluster</th>\n",
       "      <th>district</th>\n",
       "    </tr>\n",
       "  </thead>\n",
       "  <tbody>\n",
       "    <tr>\n",
       "      <th>0</th>\n",
       "      <td>Allston</td>\n",
       "      <td>2</td>\n",
       "      <td>D14</td>\n",
       "    </tr>\n",
       "    <tr>\n",
       "      <th>1</th>\n",
       "      <td>Back Bay</td>\n",
       "      <td>1</td>\n",
       "      <td>A1</td>\n",
       "    </tr>\n",
       "    <tr>\n",
       "      <th>2</th>\n",
       "      <td>Beacon Hill</td>\n",
       "      <td>1</td>\n",
       "      <td>A1</td>\n",
       "    </tr>\n",
       "    <tr>\n",
       "      <th>3</th>\n",
       "      <td>Brighton</td>\n",
       "      <td>2</td>\n",
       "      <td>D14</td>\n",
       "    </tr>\n",
       "    <tr>\n",
       "      <th>4</th>\n",
       "      <td>Charlestown</td>\n",
       "      <td>1</td>\n",
       "      <td>A15</td>\n",
       "    </tr>\n",
       "    <tr>\n",
       "      <th>5</th>\n",
       "      <td>Dorchester</td>\n",
       "      <td>0</td>\n",
       "      <td>C11</td>\n",
       "    </tr>\n",
       "    <tr>\n",
       "      <th>6</th>\n",
       "      <td>Downtown</td>\n",
       "      <td>2</td>\n",
       "      <td>A1</td>\n",
       "    </tr>\n",
       "    <tr>\n",
       "      <th>7</th>\n",
       "      <td>East Boston</td>\n",
       "      <td>3</td>\n",
       "      <td>A7</td>\n",
       "    </tr>\n",
       "    <tr>\n",
       "      <th>8</th>\n",
       "      <td>Fenway</td>\n",
       "      <td>2</td>\n",
       "      <td>D4</td>\n",
       "    </tr>\n",
       "    <tr>\n",
       "      <th>9</th>\n",
       "      <td>Hyde Park</td>\n",
       "      <td>3</td>\n",
       "      <td>E18</td>\n",
       "    </tr>\n",
       "    <tr>\n",
       "      <th>10</th>\n",
       "      <td>Jamaica Plain</td>\n",
       "      <td>3</td>\n",
       "      <td>E13</td>\n",
       "    </tr>\n",
       "    <tr>\n",
       "      <th>11</th>\n",
       "      <td>Longwood</td>\n",
       "      <td>2</td>\n",
       "      <td>D4</td>\n",
       "    </tr>\n",
       "    <tr>\n",
       "      <th>12</th>\n",
       "      <td>Mattapan</td>\n",
       "      <td>0</td>\n",
       "      <td>B3</td>\n",
       "    </tr>\n",
       "    <tr>\n",
       "      <th>13</th>\n",
       "      <td>Mission Hill</td>\n",
       "      <td>2</td>\n",
       "      <td>B2</td>\n",
       "    </tr>\n",
       "    <tr>\n",
       "      <th>14</th>\n",
       "      <td>North End</td>\n",
       "      <td>1</td>\n",
       "      <td>A1</td>\n",
       "    </tr>\n",
       "    <tr>\n",
       "      <th>15</th>\n",
       "      <td>Roslindale</td>\n",
       "      <td>3</td>\n",
       "      <td>E5</td>\n",
       "    </tr>\n",
       "    <tr>\n",
       "      <th>16</th>\n",
       "      <td>Roxbury</td>\n",
       "      <td>0</td>\n",
       "      <td>B2</td>\n",
       "    </tr>\n",
       "    <tr>\n",
       "      <th>17</th>\n",
       "      <td>South Boston</td>\n",
       "      <td>1</td>\n",
       "      <td>C6</td>\n",
       "    </tr>\n",
       "    <tr>\n",
       "      <th>18</th>\n",
       "      <td>South Boston Waterfront</td>\n",
       "      <td>1</td>\n",
       "      <td>C6</td>\n",
       "    </tr>\n",
       "    <tr>\n",
       "      <th>19</th>\n",
       "      <td>South End</td>\n",
       "      <td>1</td>\n",
       "      <td>D4</td>\n",
       "    </tr>\n",
       "    <tr>\n",
       "      <th>20</th>\n",
       "      <td>West End</td>\n",
       "      <td>1</td>\n",
       "      <td>A1</td>\n",
       "    </tr>\n",
       "    <tr>\n",
       "      <th>21</th>\n",
       "      <td>West Roxbury</td>\n",
       "      <td>3</td>\n",
       "      <td>E5</td>\n",
       "    </tr>\n",
       "  </tbody>\n",
       "</table>\n",
       "</div>"
      ],
      "text/plain": [
       "               Neighborhood  cluster district\n",
       "0                   Allston        2      D14\n",
       "1                  Back Bay        1       A1\n",
       "2               Beacon Hill        1       A1\n",
       "3                  Brighton        2      D14\n",
       "4               Charlestown        1      A15\n",
       "5                Dorchester        0      C11\n",
       "6                  Downtown        2       A1\n",
       "7               East Boston        3       A7\n",
       "8                    Fenway        2       D4\n",
       "9                 Hyde Park        3      E18\n",
       "10            Jamaica Plain        3      E13\n",
       "11                 Longwood        2       D4\n",
       "12                 Mattapan        0       B3\n",
       "13             Mission Hill        2       B2\n",
       "14                North End        1       A1\n",
       "15               Roslindale        3       E5\n",
       "16                  Roxbury        0       B2\n",
       "17             South Boston        1       C6\n",
       "18  South Boston Waterfront        1       C6\n",
       "19                South End        1       D4\n",
       "20                 West End        1       A1\n",
       "21             West Roxbury        3       E5"
      ]
     },
     "execution_count": 73,
     "metadata": {},
     "output_type": "execute_result"
    }
   ],
   "source": [
    "census"
   ]
  },
  {
   "cell_type": "code",
   "execution_count": 74,
   "metadata": {
    "ExecuteTime": {
     "end_time": "2020-06-24T23:40:29.078472Z",
     "start_time": "2020-06-24T23:40:29.002312Z"
    }
   },
   "outputs": [
    {
     "name": "stdout",
     "output_type": "stream",
     "text": [
      "<class 'pandas.core.frame.DataFrame'>\n",
      "Int64Index: 361690 entries, 0 to 361689\n",
      "Data columns (total 18 columns):\n",
      " #   Column               Non-Null Count   Dtype         \n",
      "---  ------               --------------   -----         \n",
      " 0   offense_code         361690 non-null  int64         \n",
      " 1   offense_code_group   340806 non-null  object        \n",
      " 2   offense_description  361690 non-null  object        \n",
      " 3   district             361666 non-null  object        \n",
      " 4   reporting_area       361690 non-null  object        \n",
      " 5   shooting             22037 non-null   object        \n",
      " 6   occurred_on_date     361690 non-null  datetime64[ns]\n",
      " 7   year                 361690 non-null  int64         \n",
      " 8   month                361690 non-null  int64         \n",
      " 9   day_of_week          361690 non-null  object        \n",
      " 10  hour                 361690 non-null  int64         \n",
      " 11  lat                  358550 non-null  float64       \n",
      " 12  long                 358550 non-null  float64       \n",
      " 13  reporting_cluster    361690 non-null  int32         \n",
      " 14  is_violent           361690 non-null  int64         \n",
      " 15  is_property          361690 non-null  int64         \n",
      " 16  is_drug              361690 non-null  int64         \n",
      " 17  is_other             361690 non-null  int64         \n",
      "dtypes: datetime64[ns](1), float64(2), int32(1), int64(8), object(6)\n",
      "memory usage: 51.1+ MB\n"
     ]
    }
   ],
   "source": [
    "data.info()"
   ]
  },
  {
   "cell_type": "code",
   "execution_count": 75,
   "metadata": {
    "ExecuteTime": {
     "end_time": "2020-06-24T23:40:29.320140Z",
     "start_time": "2020-06-24T23:40:29.079984Z"
    }
   },
   "outputs": [],
   "source": [
    "data = pd.merge(data, census, how='left', on='district')"
   ]
  },
  {
   "cell_type": "code",
   "execution_count": 76,
   "metadata": {
    "ExecuteTime": {
     "end_time": "2020-06-24T23:40:29.464132Z",
     "start_time": "2020-06-24T23:40:29.321923Z"
    }
   },
   "outputs": [],
   "source": [
    "data.rename(columns={'cluster': 'census_cluster'}, inplace=True) "
   ]
  },
  {
   "cell_type": "code",
   "execution_count": 77,
   "metadata": {
    "ExecuteTime": {
     "end_time": "2020-06-24T23:40:29.627252Z",
     "start_time": "2020-06-24T23:40:29.466000Z"
    }
   },
   "outputs": [
    {
     "name": "stdout",
     "output_type": "stream",
     "text": [
      "<class 'pandas.core.frame.DataFrame'>\n",
      "Int64Index: 726644 entries, 0 to 726643\n",
      "Data columns (total 20 columns):\n",
      " #   Column               Non-Null Count   Dtype         \n",
      "---  ------               --------------   -----         \n",
      " 0   offense_code         726644 non-null  int64         \n",
      " 1   offense_code_group   685902 non-null  object        \n",
      " 2   offense_description  726644 non-null  object        \n",
      " 3   district             726620 non-null  object        \n",
      " 4   reporting_area       726644 non-null  object        \n",
      " 5   shooting             42520 non-null   object        \n",
      " 6   occurred_on_date     726644 non-null  datetime64[ns]\n",
      " 7   year                 726644 non-null  int64         \n",
      " 8   month                726644 non-null  int64         \n",
      " 9   day_of_week          726644 non-null  object        \n",
      " 10  hour                 726644 non-null  int64         \n",
      " 11  lat                  718523 non-null  float64       \n",
      " 12  long                 718523 non-null  float64       \n",
      " 13  reporting_cluster    726644 non-null  int32         \n",
      " 14  is_violent           726644 non-null  int64         \n",
      " 15  is_property          726644 non-null  int64         \n",
      " 16  is_drug              726644 non-null  int64         \n",
      " 17  is_other             726644 non-null  int64         \n",
      " 18  Neighborhood         726620 non-null  object        \n",
      " 19  census_cluster       726620 non-null  float64       \n",
      "dtypes: datetime64[ns](1), float64(3), int32(1), int64(8), object(7)\n",
      "memory usage: 113.6+ MB\n"
     ]
    }
   ],
   "source": [
    "data.info()"
   ]
  },
  {
   "cell_type": "code",
   "execution_count": 83,
   "metadata": {
    "ExecuteTime": {
     "end_time": "2020-06-24T23:45:59.333881Z",
     "start_time": "2020-06-24T23:45:59.331449Z"
    }
   },
   "outputs": [],
   "source": [
    "zip_list = list(zip(census['district'], census['cluster']))"
   ]
  },
  {
   "cell_type": "code",
   "execution_count": 85,
   "metadata": {
    "ExecuteTime": {
     "end_time": "2020-06-24T23:47:05.585102Z",
     "start_time": "2020-06-24T23:47:05.581999Z"
    }
   },
   "outputs": [],
   "source": [
    "zip_list_df = pd.DataFrame(zip_list)"
   ]
  },
  {
   "cell_type": "code",
   "execution_count": 90,
   "metadata": {
    "ExecuteTime": {
     "end_time": "2020-06-24T23:48:03.917591Z",
     "start_time": "2020-06-24T23:48:03.912450Z"
    }
   },
   "outputs": [
    {
     "data": {
      "text/plain": [
       "A1     5\n",
       "D4     3\n",
       "D14    2\n",
       "E5     2\n",
       "B2     2\n",
       "C6     2\n",
       "E13    1\n",
       "C11    1\n",
       "E18    1\n",
       "B3     1\n",
       "A15    1\n",
       "A7     1\n",
       "Name: 0, dtype: int64"
      ]
     },
     "execution_count": 90,
     "metadata": {},
     "output_type": "execute_result"
    }
   ],
   "source": [
    "zip_list_df[0].value_counts()"
   ]
  },
  {
   "cell_type": "code",
   "execution_count": null,
   "metadata": {},
   "outputs": [],
   "source": [
    "data['census_cluster'] = "
   ]
  },
  {
   "cell_type": "code",
   "execution_count": null,
   "metadata": {},
   "outputs": [],
   "source": []
  },
  {
   "cell_type": "code",
   "execution_count": null,
   "metadata": {
    "ExecuteTime": {
     "end_time": "2020-06-24T23:34:37.553100Z",
     "start_time": "2020-06-24T23:34:37.513023Z"
    }
   },
   "outputs": [],
   "source": []
  },
  {
   "cell_type": "markdown",
   "metadata": {},
   "source": [
    "### EDA Visualizations"
   ]
  },
  {
   "cell_type": "code",
   "execution_count": 87,
   "metadata": {
    "ExecuteTime": {
     "end_time": "2020-06-24T23:33:34.078811Z",
     "start_time": "2020-06-24T23:33:33.935303Z"
    }
   },
   "outputs": [
    {
     "data": {
      "image/png": "[encoded data removed]",
      "text/plain": [
       "<Figure size 432x288 with 1 Axes>"
      ]
     },
     "metadata": {},
     "output_type": "display_data"
    }
   ],
   "source": [
    "data['year'].value_counts().sort_index().plot(kind='line', color='skyblue')\n",
    "plt.title('Police Calls YoY');"
   ]
  },
  {
   "cell_type": "code",
   "execution_count": 47,
   "metadata": {
    "ExecuteTime": {
     "end_time": "2020-06-22T22:56:34.022116Z",
     "start_time": "2020-06-22T22:56:33.893701Z"
    },
    "scrolled": true
   },
   "outputs": [
    {
     "data": {
      "text/plain": [
       "''"
      ]
     },
     "execution_count": 47,
     "metadata": {},
     "output_type": "execute_result"
    },
    {
     "data": {
      "image/png": "[encoded data removed]",
      "text/plain": [
       "<Figure size 432x288 with 1 Axes>"
      ]
     },
     "metadata": {},
     "output_type": "display_data"
    }
   ],
   "source": [
    "data['month'].value_counts().sort_index().plot(kind='bar', color='skyblue')\n",
    "plt.title('Police Calls per Month')\n",
    ";"
   ]
  },
  {
   "cell_type": "code",
   "execution_count": 48,
   "metadata": {
    "ExecuteTime": {
     "end_time": "2020-06-22T22:56:34.179211Z",
     "start_time": "2020-06-22T22:56:34.023975Z"
    }
   },
   "outputs": [
    {
     "data": {
      "image/png": "[encoded data removed]",
      "text/plain": [
       "<Figure size 432x288 with 1 Axes>"
      ]
     },
     "metadata": {},
     "output_type": "display_data"
    }
   ],
   "source": [
    "data['hour'].value_counts().sort_index().plot(kind='bar', color='skyblue')\n",
    "plt.title('Police Calls by Hour')\n",
    "plt.xticks(rotation='horizontal');\n"
   ]
  },
  {
   "cell_type": "code",
   "execution_count": 49,
   "metadata": {
    "ExecuteTime": {
     "end_time": "2020-06-22T22:56:34.203054Z",
     "start_time": "2020-06-22T22:56:34.180850Z"
    }
   },
   "outputs": [],
   "source": [
    "data['day_of_week'] = pd.Categorical(data['day_of_week'], \n",
    "              categories=['Monday','Tuesday','Wednesday','Thursday','Friday','Saturday','Sunday'],\n",
    "              ordered=True)"
   ]
  },
  {
   "cell_type": "code",
   "execution_count": 50,
   "metadata": {
    "ExecuteTime": {
     "end_time": "2020-06-22T22:56:34.321674Z",
     "start_time": "2020-06-22T22:56:34.204679Z"
    }
   },
   "outputs": [
    {
     "data": {
      "image/png": "[encoded data removed]",
      "text/plain": [
       "<Figure size 432x288 with 1 Axes>"
      ]
     },
     "metadata": {},
     "output_type": "display_data"
    }
   ],
   "source": [
    "data['day_of_week'].value_counts().sort_index().plot(kind='bar', color='skyblue')\n",
    "plt.title('Police Calls by Day of Week');"
   ]
  },
  {
   "cell_type": "code",
   "execution_count": 51,
   "metadata": {
    "ExecuteTime": {
     "end_time": "2020-06-22T22:56:34.472451Z",
     "start_time": "2020-06-22T22:56:34.323175Z"
    }
   },
   "outputs": [
    {
     "data": {
      "image/png": "[encoded data removed]",
      "text/plain": [
       "<Figure size 432x288 with 1 Axes>"
      ]
     },
     "metadata": {},
     "output_type": "display_data"
    }
   ],
   "source": [
    "data['district'].value_counts().sort_values(ascending=False).plot(kind='bar', color='skyblue')\n",
    "plt.title('Police Calls by District');"
   ]
  },
  {
   "cell_type": "code",
   "execution_count": 52,
   "metadata": {
    "ExecuteTime": {
     "end_time": "2020-06-22T22:56:34.490397Z",
     "start_time": "2020-06-22T22:56:34.474080Z"
    }
   },
   "outputs": [
    {
     "data": {
      "text/html": [
       "<div>\n",
       "<style scoped>\n",
       "    .dataframe tbody tr th:only-of-type {\n",
       "        vertical-align: middle;\n",
       "    }\n",
       "\n",
       "    .dataframe tbody tr th {\n",
       "        vertical-align: top;\n",
       "    }\n",
       "\n",
       "    .dataframe thead th {\n",
       "        text-align: right;\n",
       "    }\n",
       "</style>\n",
       "<table border=\"1\" class=\"dataframe\">\n",
       "  <thead>\n",
       "    <tr style=\"text-align: right;\">\n",
       "      <th></th>\n",
       "      <th>offense_code</th>\n",
       "      <th>offense_code_group</th>\n",
       "      <th>offense_description</th>\n",
       "      <th>district</th>\n",
       "      <th>reporting_area</th>\n",
       "      <th>shooting</th>\n",
       "      <th>occurred_on_date</th>\n",
       "      <th>year</th>\n",
       "      <th>month</th>\n",
       "      <th>day_of_week</th>\n",
       "      <th>hour</th>\n",
       "      <th>ucr_part</th>\n",
       "      <th>street</th>\n",
       "      <th>lat</th>\n",
       "      <th>long</th>\n",
       "      <th>is_auto_theft</th>\n",
       "      <th>is_robbery</th>\n",
       "      <th>is_larceny</th>\n",
       "      <th>is_burglary</th>\n",
       "      <th>is_drug</th>\n",
       "      <th>is_sexual_assault</th>\n",
       "      <th>is_weapon</th>\n",
       "      <th>is_aggrevated_assault</th>\n",
       "      <th>is_murder</th>\n",
       "    </tr>\n",
       "  </thead>\n",
       "  <tbody>\n",
       "    <tr>\n",
       "      <th>1</th>\n",
       "      <td>3301</td>\n",
       "      <td>NaN</td>\n",
       "      <td>VERBAL DISPUTE</td>\n",
       "      <td>E13</td>\n",
       "      <td>583</td>\n",
       "      <td>0.0</td>\n",
       "      <td>2019-12-20 03:08:00</td>\n",
       "      <td>2019</td>\n",
       "      <td>12</td>\n",
       "      <td>Friday</td>\n",
       "      <td>3</td>\n",
       "      <td>unknown</td>\n",
       "      <td>DAY ST</td>\n",
       "      <td>42.325122</td>\n",
       "      <td>-71.107779</td>\n",
       "      <td>0</td>\n",
       "      <td>0</td>\n",
       "      <td>0</td>\n",
       "      <td>0</td>\n",
       "      <td>0</td>\n",
       "      <td>0</td>\n",
       "      <td>0</td>\n",
       "      <td>0</td>\n",
       "      <td>0</td>\n",
       "    </tr>\n",
       "    <tr>\n",
       "      <th>2</th>\n",
       "      <td>3115</td>\n",
       "      <td>NaN</td>\n",
       "      <td>INVESTIGATE PERSON</td>\n",
       "      <td>C11</td>\n",
       "      <td>355</td>\n",
       "      <td>0.0</td>\n",
       "      <td>2019-10-23 00:00:00</td>\n",
       "      <td>2019</td>\n",
       "      <td>10</td>\n",
       "      <td>Wednesday</td>\n",
       "      <td>0</td>\n",
       "      <td>unknown</td>\n",
       "      <td>GIBSON ST</td>\n",
       "      <td>42.297555</td>\n",
       "      <td>-71.059709</td>\n",
       "      <td>0</td>\n",
       "      <td>0</td>\n",
       "      <td>0</td>\n",
       "      <td>0</td>\n",
       "      <td>0</td>\n",
       "      <td>0</td>\n",
       "      <td>0</td>\n",
       "      <td>0</td>\n",
       "      <td>0</td>\n",
       "    </tr>\n",
       "    <tr>\n",
       "      <th>3</th>\n",
       "      <td>3126</td>\n",
       "      <td>NaN</td>\n",
       "      <td>WARRANT ARREST - OUTSIDE OF BOSTON WARRANT</td>\n",
       "      <td>D14</td>\n",
       "      <td>765</td>\n",
       "      <td>0.0</td>\n",
       "      <td>2019-11-22 07:50:00</td>\n",
       "      <td>2019</td>\n",
       "      <td>11</td>\n",
       "      <td>Friday</td>\n",
       "      <td>7</td>\n",
       "      <td>unknown</td>\n",
       "      <td>BROOKS ST</td>\n",
       "      <td>42.355120</td>\n",
       "      <td>-71.162678</td>\n",
       "      <td>0</td>\n",
       "      <td>0</td>\n",
       "      <td>0</td>\n",
       "      <td>0</td>\n",
       "      <td>0</td>\n",
       "      <td>0</td>\n",
       "      <td>0</td>\n",
       "      <td>0</td>\n",
       "      <td>0</td>\n",
       "    </tr>\n",
       "    <tr>\n",
       "      <th>4</th>\n",
       "      <td>3005</td>\n",
       "      <td>NaN</td>\n",
       "      <td>SICK ASSIST</td>\n",
       "      <td>E13</td>\n",
       "      <td>574</td>\n",
       "      <td>0.0</td>\n",
       "      <td>2019-11-05 18:00:00</td>\n",
       "      <td>2019</td>\n",
       "      <td>11</td>\n",
       "      <td>Tuesday</td>\n",
       "      <td>18</td>\n",
       "      <td>unknown</td>\n",
       "      <td>WASHINGTON ST</td>\n",
       "      <td>42.309718</td>\n",
       "      <td>-71.104294</td>\n",
       "      <td>0</td>\n",
       "      <td>0</td>\n",
       "      <td>0</td>\n",
       "      <td>0</td>\n",
       "      <td>0</td>\n",
       "      <td>0</td>\n",
       "      <td>0</td>\n",
       "      <td>0</td>\n",
       "      <td>0</td>\n",
       "    </tr>\n",
       "    <tr>\n",
       "      <th>5</th>\n",
       "      <td>1402</td>\n",
       "      <td>NaN</td>\n",
       "      <td>VANDALISM</td>\n",
       "      <td>E18</td>\n",
       "      <td>498</td>\n",
       "      <td>0.0</td>\n",
       "      <td>2019-11-02 05:09:00</td>\n",
       "      <td>2019</td>\n",
       "      <td>11</td>\n",
       "      <td>Saturday</td>\n",
       "      <td>5</td>\n",
       "      <td>unknown</td>\n",
       "      <td>BRADLEE ST</td>\n",
       "      <td>42.271616</td>\n",
       "      <td>-71.118074</td>\n",
       "      <td>0</td>\n",
       "      <td>0</td>\n",
       "      <td>0</td>\n",
       "      <td>0</td>\n",
       "      <td>0</td>\n",
       "      <td>0</td>\n",
       "      <td>0</td>\n",
       "      <td>0</td>\n",
       "      <td>0</td>\n",
       "    </tr>\n",
       "  </tbody>\n",
       "</table>\n",
       "</div>"
      ],
      "text/plain": [
       "   offense_code offense_code_group  \\\n",
       "1          3301                NaN   \n",
       "2          3115                NaN   \n",
       "3          3126                NaN   \n",
       "4          3005                NaN   \n",
       "5          1402                NaN   \n",
       "\n",
       "                          offense_description district reporting_area  \\\n",
       "1                              VERBAL DISPUTE      E13            583   \n",
       "2                          INVESTIGATE PERSON      C11            355   \n",
       "3  WARRANT ARREST - OUTSIDE OF BOSTON WARRANT      D14            765   \n",
       "4                                 SICK ASSIST      E13            574   \n",
       "5                                   VANDALISM      E18            498   \n",
       "\n",
       "   shooting    occurred_on_date  year  month day_of_week  hour ucr_part  \\\n",
       "1       0.0 2019-12-20 03:08:00  2019     12      Friday     3  unknown   \n",
       "2       0.0 2019-10-23 00:00:00  2019     10   Wednesday     0  unknown   \n",
       "3       0.0 2019-11-22 07:50:00  2019     11      Friday     7  unknown   \n",
       "4       0.0 2019-11-05 18:00:00  2019     11     Tuesday    18  unknown   \n",
       "5       0.0 2019-11-02 05:09:00  2019     11    Saturday     5  unknown   \n",
       "\n",
       "          street        lat       long  is_auto_theft  is_robbery  is_larceny  \\\n",
       "1         DAY ST  42.325122 -71.107779              0           0           0   \n",
       "2      GIBSON ST  42.297555 -71.059709              0           0           0   \n",
       "3      BROOKS ST  42.355120 -71.162678              0           0           0   \n",
       "4  WASHINGTON ST  42.309718 -71.104294              0           0           0   \n",
       "5     BRADLEE ST  42.271616 -71.118074              0           0           0   \n",
       "\n",
       "   is_burglary  is_drug  is_sexual_assault  is_weapon  is_aggrevated_assault  \\\n",
       "1            0        0                  0          0                      0   \n",
       "2            0        0                  0          0                      0   \n",
       "3            0        0                  0          0                      0   \n",
       "4            0        0                  0          0                      0   \n",
       "5            0        0                  0          0                      0   \n",
       "\n",
       "   is_murder  \n",
       "1          0  \n",
       "2          0  \n",
       "3          0  \n",
       "4          0  \n",
       "5          0  "
      ]
     },
     "execution_count": 52,
     "metadata": {},
     "output_type": "execute_result"
    }
   ],
   "source": [
    "data.head()"
   ]
  },
  {
   "cell_type": "code",
   "execution_count": 53,
   "metadata": {
    "ExecuteTime": {
     "end_time": "2020-06-22T22:56:34.500687Z",
     "start_time": "2020-06-22T22:56:34.492080Z"
    }
   },
   "outputs": [],
   "source": [
    "violent_related = data[[ 'is_auto_theft',\n",
    " 'is_robbery',\n",
    " 'is_larceny',\n",
    " 'is_burglary',\n",
    " 'is_drug',\n",
    " 'is_sexual_assault',\n",
    " 'is_weapon',\n",
    " 'is_aggrevated_assault',\n",
    " 'is_murder', \n",
    " 'shooting']]"
   ]
  },
  {
   "cell_type": "code",
   "execution_count": 54,
   "metadata": {
    "ExecuteTime": {
     "end_time": "2020-06-22T22:56:34.558268Z",
     "start_time": "2020-06-22T22:56:34.502318Z"
    }
   },
   "outputs": [],
   "source": [
    "data['is_violent'] = violent_related.sum(axis=1)"
   ]
  },
  {
   "cell_type": "code",
   "execution_count": 55,
   "metadata": {
    "ExecuteTime": {
     "end_time": "2020-06-22T22:56:34.562695Z",
     "start_time": "2020-06-22T22:56:34.559688Z"
    }
   },
   "outputs": [
    {
     "data": {
      "text/plain": [
       "(409611, 25)"
      ]
     },
     "execution_count": 55,
     "metadata": {},
     "output_type": "execute_result"
    }
   ],
   "source": [
    "data.shape"
   ]
  },
  {
   "cell_type": "code",
   "execution_count": 56,
   "metadata": {
    "ExecuteTime": {
     "end_time": "2020-06-22T22:56:34.703148Z",
     "start_time": "2020-06-22T22:56:34.564201Z"
    }
   },
   "outputs": [
    {
     "name": "stdout",
     "output_type": "stream",
     "text": [
      "<class 'pandas.core.frame.DataFrame'>\n",
      "Int64Index: 409611 entries, 1 to 489571\n",
      "Data columns (total 25 columns):\n",
      " #   Column                 Non-Null Count   Dtype         \n",
      "---  ------                 --------------   -----         \n",
      " 0   offense_code           409611 non-null  int64         \n",
      " 1   offense_code_group     348166 non-null  object        \n",
      " 2   offense_description    409611 non-null  object        \n",
      " 3   district               407706 non-null  object        \n",
      " 4   reporting_area         409611 non-null  object        \n",
      " 5   shooting               409611 non-null  float64       \n",
      " 6   occurred_on_date       409611 non-null  datetime64[ns]\n",
      " 7   year                   409611 non-null  int64         \n",
      " 8   month                  409611 non-null  int64         \n",
      " 9   day_of_week            409611 non-null  category      \n",
      " 10  hour                   409611 non-null  int64         \n",
      " 11  ucr_part               409611 non-null  object        \n",
      " 12  street                 401668 non-null  object        \n",
      " 13  lat                    409611 non-null  float64       \n",
      " 14  long                   409611 non-null  float64       \n",
      " 15  is_auto_theft          409611 non-null  int64         \n",
      " 16  is_robbery             409611 non-null  int64         \n",
      " 17  is_larceny             409611 non-null  int64         \n",
      " 18  is_burglary            409611 non-null  int64         \n",
      " 19  is_drug                409611 non-null  int64         \n",
      " 20  is_sexual_assault      409611 non-null  int64         \n",
      " 21  is_weapon              409611 non-null  int64         \n",
      " 22  is_aggrevated_assault  409611 non-null  int64         \n",
      " 23  is_murder              409611 non-null  int64         \n",
      " 24  is_violent             409611 non-null  float64       \n",
      "dtypes: category(1), datetime64[ns](1), float64(4), int64(13), object(6)\n",
      "memory usage: 78.5+ MB\n"
     ]
    }
   ],
   "source": [
    "data.info()"
   ]
  },
  {
   "cell_type": "code",
   "execution_count": 57,
   "metadata": {
    "ExecuteTime": {
     "end_time": "2020-06-22T22:56:34.873117Z",
     "start_time": "2020-06-22T22:56:34.705083Z"
    }
   },
   "outputs": [
    {
     "data": {
      "text/html": [
       "<div>\n",
       "<style scoped>\n",
       "    .dataframe tbody tr th:only-of-type {\n",
       "        vertical-align: middle;\n",
       "    }\n",
       "\n",
       "    .dataframe tbody tr th {\n",
       "        vertical-align: top;\n",
       "    }\n",
       "\n",
       "    .dataframe thead th {\n",
       "        text-align: right;\n",
       "    }\n",
       "</style>\n",
       "<table border=\"1\" class=\"dataframe\">\n",
       "  <thead>\n",
       "    <tr style=\"text-align: right;\">\n",
       "      <th></th>\n",
       "      <th>count</th>\n",
       "      <th>mean</th>\n",
       "      <th>std</th>\n",
       "      <th>min</th>\n",
       "      <th>25%</th>\n",
       "      <th>50%</th>\n",
       "      <th>75%</th>\n",
       "      <th>max</th>\n",
       "    </tr>\n",
       "  </thead>\n",
       "  <tbody>\n",
       "    <tr>\n",
       "      <th>offense_code</th>\n",
       "      <td>409611.0</td>\n",
       "      <td>2332.329088</td>\n",
       "      <td>1175.424895</td>\n",
       "      <td>111.000000</td>\n",
       "      <td>1102.000000</td>\n",
       "      <td>3006.000000</td>\n",
       "      <td>3201.000000</td>\n",
       "      <td>3831.000000</td>\n",
       "    </tr>\n",
       "    <tr>\n",
       "      <th>shooting</th>\n",
       "      <td>409611.0</td>\n",
       "      <td>0.005036</td>\n",
       "      <td>0.070789</td>\n",
       "      <td>0.000000</td>\n",
       "      <td>0.000000</td>\n",
       "      <td>0.000000</td>\n",
       "      <td>0.000000</td>\n",
       "      <td>1.000000</td>\n",
       "    </tr>\n",
       "    <tr>\n",
       "      <th>year</th>\n",
       "      <td>409611.0</td>\n",
       "      <td>2017.727832</td>\n",
       "      <td>1.285221</td>\n",
       "      <td>2016.000000</td>\n",
       "      <td>2017.000000</td>\n",
       "      <td>2018.000000</td>\n",
       "      <td>2019.000000</td>\n",
       "      <td>2020.000000</td>\n",
       "    </tr>\n",
       "    <tr>\n",
       "      <th>month</th>\n",
       "      <td>409611.0</td>\n",
       "      <td>6.261861</td>\n",
       "      <td>3.404410</td>\n",
       "      <td>1.000000</td>\n",
       "      <td>3.000000</td>\n",
       "      <td>6.000000</td>\n",
       "      <td>9.000000</td>\n",
       "      <td>12.000000</td>\n",
       "    </tr>\n",
       "    <tr>\n",
       "      <th>hour</th>\n",
       "      <td>409611.0</td>\n",
       "      <td>13.106694</td>\n",
       "      <td>6.316336</td>\n",
       "      <td>0.000000</td>\n",
       "      <td>9.000000</td>\n",
       "      <td>14.000000</td>\n",
       "      <td>18.000000</td>\n",
       "      <td>23.000000</td>\n",
       "    </tr>\n",
       "    <tr>\n",
       "      <th>lat</th>\n",
       "      <td>409611.0</td>\n",
       "      <td>42.228220</td>\n",
       "      <td>2.010579</td>\n",
       "      <td>-1.000000</td>\n",
       "      <td>42.296661</td>\n",
       "      <td>42.324923</td>\n",
       "      <td>42.348288</td>\n",
       "      <td>42.395042</td>\n",
       "    </tr>\n",
       "    <tr>\n",
       "      <th>long</th>\n",
       "      <td>409611.0</td>\n",
       "      <td>-70.932001</td>\n",
       "      <td>3.252455</td>\n",
       "      <td>-71.178674</td>\n",
       "      <td>-71.097567</td>\n",
       "      <td>-71.077763</td>\n",
       "      <td>-71.062563</td>\n",
       "      <td>0.000000</td>\n",
       "    </tr>\n",
       "    <tr>\n",
       "      <th>is_auto_theft</th>\n",
       "      <td>409611.0</td>\n",
       "      <td>0.014028</td>\n",
       "      <td>0.117606</td>\n",
       "      <td>0.000000</td>\n",
       "      <td>0.000000</td>\n",
       "      <td>0.000000</td>\n",
       "      <td>0.000000</td>\n",
       "      <td>1.000000</td>\n",
       "    </tr>\n",
       "    <tr>\n",
       "      <th>is_robbery</th>\n",
       "      <td>409611.0</td>\n",
       "      <td>0.012402</td>\n",
       "      <td>0.110672</td>\n",
       "      <td>0.000000</td>\n",
       "      <td>0.000000</td>\n",
       "      <td>0.000000</td>\n",
       "      <td>0.000000</td>\n",
       "      <td>1.000000</td>\n",
       "    </tr>\n",
       "    <tr>\n",
       "      <th>is_larceny</th>\n",
       "      <td>409611.0</td>\n",
       "      <td>0.113298</td>\n",
       "      <td>0.316957</td>\n",
       "      <td>0.000000</td>\n",
       "      <td>0.000000</td>\n",
       "      <td>0.000000</td>\n",
       "      <td>0.000000</td>\n",
       "      <td>1.000000</td>\n",
       "    </tr>\n",
       "    <tr>\n",
       "      <th>is_burglary</th>\n",
       "      <td>409611.0</td>\n",
       "      <td>0.021144</td>\n",
       "      <td>0.143866</td>\n",
       "      <td>0.000000</td>\n",
       "      <td>0.000000</td>\n",
       "      <td>0.000000</td>\n",
       "      <td>0.000000</td>\n",
       "      <td>1.000000</td>\n",
       "    </tr>\n",
       "    <tr>\n",
       "      <th>is_drug</th>\n",
       "      <td>409611.0</td>\n",
       "      <td>0.044401</td>\n",
       "      <td>0.205984</td>\n",
       "      <td>0.000000</td>\n",
       "      <td>0.000000</td>\n",
       "      <td>0.000000</td>\n",
       "      <td>0.000000</td>\n",
       "      <td>1.000000</td>\n",
       "    </tr>\n",
       "    <tr>\n",
       "      <th>is_sexual_assault</th>\n",
       "      <td>409611.0</td>\n",
       "      <td>0.000471</td>\n",
       "      <td>0.021702</td>\n",
       "      <td>0.000000</td>\n",
       "      <td>0.000000</td>\n",
       "      <td>0.000000</td>\n",
       "      <td>0.000000</td>\n",
       "      <td>1.000000</td>\n",
       "    </tr>\n",
       "    <tr>\n",
       "      <th>is_weapon</th>\n",
       "      <td>409611.0</td>\n",
       "      <td>0.007268</td>\n",
       "      <td>0.084942</td>\n",
       "      <td>0.000000</td>\n",
       "      <td>0.000000</td>\n",
       "      <td>0.000000</td>\n",
       "      <td>0.000000</td>\n",
       "      <td>1.000000</td>\n",
       "    </tr>\n",
       "    <tr>\n",
       "      <th>is_aggrevated_assault</th>\n",
       "      <td>409611.0</td>\n",
       "      <td>0.078142</td>\n",
       "      <td>0.268396</td>\n",
       "      <td>0.000000</td>\n",
       "      <td>0.000000</td>\n",
       "      <td>0.000000</td>\n",
       "      <td>0.000000</td>\n",
       "      <td>1.000000</td>\n",
       "    </tr>\n",
       "    <tr>\n",
       "      <th>is_murder</th>\n",
       "      <td>409611.0</td>\n",
       "      <td>0.000581</td>\n",
       "      <td>0.024098</td>\n",
       "      <td>0.000000</td>\n",
       "      <td>0.000000</td>\n",
       "      <td>0.000000</td>\n",
       "      <td>0.000000</td>\n",
       "      <td>1.000000</td>\n",
       "    </tr>\n",
       "    <tr>\n",
       "      <th>is_violent</th>\n",
       "      <td>409611.0</td>\n",
       "      <td>0.296772</td>\n",
       "      <td>0.463494</td>\n",
       "      <td>0.000000</td>\n",
       "      <td>0.000000</td>\n",
       "      <td>0.000000</td>\n",
       "      <td>1.000000</td>\n",
       "      <td>2.000000</td>\n",
       "    </tr>\n",
       "  </tbody>\n",
       "</table>\n",
       "</div>"
      ],
      "text/plain": [
       "                          count         mean          std          min  \\\n",
       "offense_code           409611.0  2332.329088  1175.424895   111.000000   \n",
       "shooting               409611.0     0.005036     0.070789     0.000000   \n",
       "year                   409611.0  2017.727832     1.285221  2016.000000   \n",
       "month                  409611.0     6.261861     3.404410     1.000000   \n",
       "hour                   409611.0    13.106694     6.316336     0.000000   \n",
       "lat                    409611.0    42.228220     2.010579    -1.000000   \n",
       "long                   409611.0   -70.932001     3.252455   -71.178674   \n",
       "is_auto_theft          409611.0     0.014028     0.117606     0.000000   \n",
       "is_robbery             409611.0     0.012402     0.110672     0.000000   \n",
       "is_larceny             409611.0     0.113298     0.316957     0.000000   \n",
       "is_burglary            409611.0     0.021144     0.143866     0.000000   \n",
       "is_drug                409611.0     0.044401     0.205984     0.000000   \n",
       "is_sexual_assault      409611.0     0.000471     0.021702     0.000000   \n",
       "is_weapon              409611.0     0.007268     0.084942     0.000000   \n",
       "is_aggrevated_assault  409611.0     0.078142     0.268396     0.000000   \n",
       "is_murder              409611.0     0.000581     0.024098     0.000000   \n",
       "is_violent             409611.0     0.296772     0.463494     0.000000   \n",
       "\n",
       "                               25%          50%          75%          max  \n",
       "offense_code           1102.000000  3006.000000  3201.000000  3831.000000  \n",
       "shooting                  0.000000     0.000000     0.000000     1.000000  \n",
       "year                   2017.000000  2018.000000  2019.000000  2020.000000  \n",
       "month                     3.000000     6.000000     9.000000    12.000000  \n",
       "hour                      9.000000    14.000000    18.000000    23.000000  \n",
       "lat                      42.296661    42.324923    42.348288    42.395042  \n",
       "long                    -71.097567   -71.077763   -71.062563     0.000000  \n",
       "is_auto_theft             0.000000     0.000000     0.000000     1.000000  \n",
       "is_robbery                0.000000     0.000000     0.000000     1.000000  \n",
       "is_larceny                0.000000     0.000000     0.000000     1.000000  \n",
       "is_burglary               0.000000     0.000000     0.000000     1.000000  \n",
       "is_drug                   0.000000     0.000000     0.000000     1.000000  \n",
       "is_sexual_assault         0.000000     0.000000     0.000000     1.000000  \n",
       "is_weapon                 0.000000     0.000000     0.000000     1.000000  \n",
       "is_aggrevated_assault     0.000000     0.000000     0.000000     1.000000  \n",
       "is_murder                 0.000000     0.000000     0.000000     1.000000  \n",
       "is_violent                0.000000     0.000000     1.000000     2.000000  "
      ]
     },
     "execution_count": 57,
     "metadata": {},
     "output_type": "execute_result"
    }
   ],
   "source": [
    "data.describe().T"
   ]
  },
  {
   "cell_type": "code",
   "execution_count": 58,
   "metadata": {
    "ExecuteTime": {
     "end_time": "2020-06-22T22:56:34.883076Z",
     "start_time": "2020-06-22T22:56:34.874504Z"
    }
   },
   "outputs": [],
   "source": [
    "crime_types = data[[ \n",
    " 'is_auto_theft',\n",
    " 'is_robbery',\n",
    " 'is_larceny',\n",
    " 'is_burglary',\n",
    " 'is_drug',\n",
    " 'is_sexual_assault',\n",
    " 'is_weapon',\n",
    " 'is_aggrevated_assault',\n",
    " 'is_murder',\n",
    " 'shooting']]"
   ]
  },
  {
   "cell_type": "code",
   "execution_count": 61,
   "metadata": {
    "ExecuteTime": {
     "end_time": "2020-06-22T23:16:29.710372Z",
     "start_time": "2020-06-22T23:16:29.561539Z"
    }
   },
   "outputs": [
    {
     "data": {
      "image/png": "[encoded data removed]",
      "text/plain": [
       "<Figure size 432x288 with 1 Axes>"
      ]
     },
     "metadata": {},
     "output_type": "display_data"
    }
   ],
   "source": [
    "crime_types.sum().sort_values().plot(kind='barh');"
   ]
  },
  {
   "cell_type": "code",
   "execution_count": null,
   "metadata": {},
   "outputs": [],
   "source": []
  }
 ],
 "metadata": {
  "kernelspec": {
   "display_name": "Python 3.7.7 64-bit ('dsi': conda)",
   "language": "python",
   "name": "python37764bitdsicondaddfe0c05640c4e1581da44e0f6b96ae5"
  },
  "language_info": {
   "codemirror_mode": {
    "name": "ipython",
    "version": 3
   },
   "file_extension": ".py",
   "mimetype": "text/x-python",
   "name": "python",
   "nbconvert_exporter": "python",
   "pygments_lexer": "ipython3",
   "version": "3.7.7"
  },
  "toc": {
   "base_numbering": 1,
   "nav_menu": {},
   "number_sections": true,
   "sideBar": true,
   "skip_h1_title": false,
   "title_cell": "Table of Contents",
   "title_sidebar": "Contents",
   "toc_cell": false,
   "toc_position": {},
   "toc_section_display": true,
   "toc_window_display": false
  },
  "varInspector": {
   "cols": {
    "lenName": 16,
    "lenType": 16,
    "lenVar": 40
   },
   "kernels_config": {
    "python": {
     "delete_cmd_postfix": "",
     "delete_cmd_prefix": "del ",
     "library": "var_list.py",
     "varRefreshCmd": "print(var_dic_list())"
    },
    "r": {
     "delete_cmd_postfix": ") ",
     "delete_cmd_prefix": "rm(",
     "library": "var_list.r",
     "varRefreshCmd": "cat(var_dic_list()) "
    }
   },
   "types_to_exclude": [
    "module",
    "function",
    "builtin_function_or_method",
    "instance",
    "_Feature"
   ],
   "window_display": false
  }
 },
 "nbformat": 4,
 "nbformat_minor": 4
}
