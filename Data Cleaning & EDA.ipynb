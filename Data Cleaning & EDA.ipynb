{
 "cells": [
  {
   "cell_type": "markdown",
   "metadata": {},
   "source": [
    "## Data Cleaning & EDA\n",
    "---"
   ]
  },
  {
   "cell_type": "code",
   "execution_count": 54,
   "metadata": {
    "ExecuteTime": {
     "end_time": "2020-06-28T21:12:21.656964Z",
     "start_time": "2020-06-28T21:12:21.651951Z"
    }
   },
   "outputs": [],
   "source": [
    "import pandas as pd \n",
    "import geopandas as gpd \n",
    "import numpy as np \n",
    "import matplotlib.pyplot as plt\n",
    "import seaborn as sns\n",
    "\n",
    "from keplergl import KeplerGl\n",
    "from keplergl_quickvis import Visualize\n",
    "import IPython\n",
    "import plotly_express as px \n",
    "import plotly.graph_objects as go\n",
    "from shapely import wkt \n",
    "from shapely.geometry import Polygon, Point\n",
    "from shapely.ops import cascaded_union\n",
    "\n",
    "plt.style.use('ggplot')\n",
    "pd.options.display.max_rows = 999\n",
    "pd.options.display.max_columns = 999"
   ]
  },
  {
   "cell_type": "code",
   "execution_count": 2,
   "metadata": {
    "ExecuteTime": {
     "end_time": "2020-06-28T20:24:54.336674Z",
     "start_time": "2020-06-28T20:24:53.146119Z"
    },
    "scrolled": true
   },
   "outputs": [
    {
     "name": "stderr",
     "output_type": "stream",
     "text": [
      "/Users/derekmcadam/opt/anaconda3/envs/dbm/lib/python3.7/site-packages/IPython/core/interactiveshell.py:3063: DtypeWarning: Columns (2,6,12) have mixed types.Specify dtype option on import or set low_memory=False.\n",
      "  interactivity=interactivity, compiler=compiler, result=result)\n"
     ]
    }
   ],
   "source": [
    "data = pd.read_csv('boston_crime_data.csv')"
   ]
  },
  {
   "cell_type": "code",
   "execution_count": 3,
   "metadata": {
    "ExecuteTime": {
     "end_time": "2020-06-28T20:24:54.376419Z",
     "start_time": "2020-06-28T20:24:54.353883Z"
    }
   },
   "outputs": [
    {
     "data": {
      "text/html": [
       "<div>\n",
       "<style scoped>\n",
       "    .dataframe tbody tr th:only-of-type {\n",
       "        vertical-align: middle;\n",
       "    }\n",
       "\n",
       "    .dataframe tbody tr th {\n",
       "        vertical-align: top;\n",
       "    }\n",
       "\n",
       "    .dataframe thead th {\n",
       "        text-align: right;\n",
       "    }\n",
       "</style>\n",
       "<table border=\"1\" class=\"dataframe\">\n",
       "  <thead>\n",
       "    <tr style=\"text-align: right;\">\n",
       "      <th></th>\n",
       "      <th>incident_number</th>\n",
       "      <th>offense_code</th>\n",
       "      <th>offense_code_group</th>\n",
       "      <th>offense_description</th>\n",
       "      <th>district</th>\n",
       "      <th>reporting_area</th>\n",
       "      <th>shooting</th>\n",
       "      <th>occurred_on_date</th>\n",
       "      <th>year</th>\n",
       "      <th>month</th>\n",
       "      <th>day_of_week</th>\n",
       "      <th>hour</th>\n",
       "      <th>ucr_part</th>\n",
       "      <th>street</th>\n",
       "      <th>lat</th>\n",
       "      <th>long</th>\n",
       "      <th>location</th>\n",
       "    </tr>\n",
       "  </thead>\n",
       "  <tbody>\n",
       "    <tr>\n",
       "      <th>0</th>\n",
       "      <td>TESTTEST2</td>\n",
       "      <td>423</td>\n",
       "      <td>NaN</td>\n",
       "      <td>ASSAULT - AGGRAVATED</td>\n",
       "      <td>External</td>\n",
       "      <td></td>\n",
       "      <td>0</td>\n",
       "      <td>2019-10-16 00:00:00</td>\n",
       "      <td>2019</td>\n",
       "      <td>10</td>\n",
       "      <td>Wednesday</td>\n",
       "      <td>0</td>\n",
       "      <td>NaN</td>\n",
       "      <td>RIVERVIEW DR</td>\n",
       "      <td>NaN</td>\n",
       "      <td>NaN</td>\n",
       "      <td>(0.00000000, 0.00000000)</td>\n",
       "    </tr>\n",
       "    <tr>\n",
       "      <th>1</th>\n",
       "      <td>I92102201</td>\n",
       "      <td>3301</td>\n",
       "      <td>NaN</td>\n",
       "      <td>VERBAL DISPUTE</td>\n",
       "      <td>E13</td>\n",
       "      <td>583</td>\n",
       "      <td>0</td>\n",
       "      <td>2019-12-20 03:08:00</td>\n",
       "      <td>2019</td>\n",
       "      <td>12</td>\n",
       "      <td>Friday</td>\n",
       "      <td>3</td>\n",
       "      <td>NaN</td>\n",
       "      <td>DAY ST</td>\n",
       "      <td>42.325122</td>\n",
       "      <td>-71.107779</td>\n",
       "      <td>(42.32512200, -71.10777900)</td>\n",
       "    </tr>\n",
       "    <tr>\n",
       "      <th>2</th>\n",
       "      <td>I92097173</td>\n",
       "      <td>3115</td>\n",
       "      <td>NaN</td>\n",
       "      <td>INVESTIGATE PERSON</td>\n",
       "      <td>C11</td>\n",
       "      <td>355</td>\n",
       "      <td>0</td>\n",
       "      <td>2019-10-23 00:00:00</td>\n",
       "      <td>2019</td>\n",
       "      <td>10</td>\n",
       "      <td>Wednesday</td>\n",
       "      <td>0</td>\n",
       "      <td>NaN</td>\n",
       "      <td>GIBSON ST</td>\n",
       "      <td>42.297555</td>\n",
       "      <td>-71.059709</td>\n",
       "      <td>(42.29755500, -71.05970900)</td>\n",
       "    </tr>\n",
       "    <tr>\n",
       "      <th>3</th>\n",
       "      <td>I92094519</td>\n",
       "      <td>3126</td>\n",
       "      <td>NaN</td>\n",
       "      <td>WARRANT ARREST - OUTSIDE OF BOSTON WARRANT</td>\n",
       "      <td>D14</td>\n",
       "      <td>765</td>\n",
       "      <td>0</td>\n",
       "      <td>2019-11-22 07:50:00</td>\n",
       "      <td>2019</td>\n",
       "      <td>11</td>\n",
       "      <td>Friday</td>\n",
       "      <td>7</td>\n",
       "      <td>NaN</td>\n",
       "      <td>BROOKS ST</td>\n",
       "      <td>42.355120</td>\n",
       "      <td>-71.162678</td>\n",
       "      <td>(42.35512000, -71.16267800)</td>\n",
       "    </tr>\n",
       "    <tr>\n",
       "      <th>4</th>\n",
       "      <td>I92089785</td>\n",
       "      <td>3005</td>\n",
       "      <td>NaN</td>\n",
       "      <td>SICK ASSIST</td>\n",
       "      <td>E13</td>\n",
       "      <td>574</td>\n",
       "      <td>0</td>\n",
       "      <td>2019-11-05 18:00:00</td>\n",
       "      <td>2019</td>\n",
       "      <td>11</td>\n",
       "      <td>Tuesday</td>\n",
       "      <td>18</td>\n",
       "      <td>NaN</td>\n",
       "      <td>WASHINGTON ST</td>\n",
       "      <td>42.309718</td>\n",
       "      <td>-71.104294</td>\n",
       "      <td>(42.30971800, -71.10429400)</td>\n",
       "    </tr>\n",
       "  </tbody>\n",
       "</table>\n",
       "</div>"
      ],
      "text/plain": [
       "  incident_number  offense_code offense_code_group  \\\n",
       "0       TESTTEST2           423                NaN   \n",
       "1       I92102201          3301                NaN   \n",
       "2       I92097173          3115                NaN   \n",
       "3       I92094519          3126                NaN   \n",
       "4       I92089785          3005                NaN   \n",
       "\n",
       "                          offense_description  district reporting_area  \\\n",
       "0                        ASSAULT - AGGRAVATED  External                  \n",
       "1                              VERBAL DISPUTE       E13            583   \n",
       "2                          INVESTIGATE PERSON       C11            355   \n",
       "3  WARRANT ARREST - OUTSIDE OF BOSTON WARRANT       D14            765   \n",
       "4                                 SICK ASSIST       E13            574   \n",
       "\n",
       "  shooting     occurred_on_date  year  month day_of_week  hour ucr_part  \\\n",
       "0        0  2019-10-16 00:00:00  2019     10   Wednesday     0      NaN   \n",
       "1        0  2019-12-20 03:08:00  2019     12      Friday     3      NaN   \n",
       "2        0  2019-10-23 00:00:00  2019     10   Wednesday     0      NaN   \n",
       "3        0  2019-11-22 07:50:00  2019     11      Friday     7      NaN   \n",
       "4        0  2019-11-05 18:00:00  2019     11     Tuesday    18      NaN   \n",
       "\n",
       "          street        lat       long                     location  \n",
       "0   RIVERVIEW DR        NaN        NaN     (0.00000000, 0.00000000)  \n",
       "1         DAY ST  42.325122 -71.107779  (42.32512200, -71.10777900)  \n",
       "2      GIBSON ST  42.297555 -71.059709  (42.29755500, -71.05970900)  \n",
       "3      BROOKS ST  42.355120 -71.162678  (42.35512000, -71.16267800)  \n",
       "4  WASHINGTON ST  42.309718 -71.104294  (42.30971800, -71.10429400)  "
      ]
     },
     "execution_count": 3,
     "metadata": {},
     "output_type": "execute_result"
    }
   ],
   "source": [
    "data.head()"
   ]
  },
  {
   "cell_type": "code",
   "execution_count": 4,
   "metadata": {
    "ExecuteTime": {
     "end_time": "2020-06-28T20:24:54.585930Z",
     "start_time": "2020-06-28T20:24:54.391209Z"
    }
   },
   "outputs": [
    {
     "name": "stdout",
     "output_type": "stream",
     "text": [
      "<class 'pandas.core.frame.DataFrame'>\n",
      "RangeIndex: 488822 entries, 0 to 488821\n",
      "Data columns (total 17 columns):\n",
      " #   Column               Non-Null Count   Dtype  \n",
      "---  ------               --------------   -----  \n",
      " 0   incident_number      488822 non-null  object \n",
      " 1   offense_code         488822 non-null  int64  \n",
      " 2   offense_code_group   426089 non-null  object \n",
      " 3   offense_description  488822 non-null  object \n",
      " 4   district             486399 non-null  object \n",
      " 5   reporting_area       488822 non-null  object \n",
      " 6   shooting             64113 non-null   object \n",
      " 7   occurred_on_date     488822 non-null  object \n",
      " 8   year                 488822 non-null  int64  \n",
      " 9   month                488822 non-null  int64  \n",
      " 10  day_of_week          488822 non-null  object \n",
      " 11  hour                 488822 non-null  int64  \n",
      " 12  ucr_part             425983 non-null  object \n",
      " 13  street               470943 non-null  object \n",
      " 14  lat                  460390 non-null  float64\n",
      " 15  long                 460390 non-null  float64\n",
      " 16  location             488822 non-null  object \n",
      "dtypes: float64(2), int64(4), object(11)\n",
      "memory usage: 63.4+ MB\n"
     ]
    }
   ],
   "source": [
    "data.info()"
   ]
  },
  {
   "cell_type": "code",
   "execution_count": 5,
   "metadata": {
    "ExecuteTime": {
     "end_time": "2020-06-28T20:24:54.606103Z",
     "start_time": "2020-06-28T20:24:54.602559Z"
    }
   },
   "outputs": [
    {
     "data": {
      "text/plain": [
       "(488822, 17)"
      ]
     },
     "execution_count": 5,
     "metadata": {},
     "output_type": "execute_result"
    }
   ],
   "source": [
    "data.shape"
   ]
  },
  {
   "cell_type": "code",
   "execution_count": 6,
   "metadata": {
    "ExecuteTime": {
     "end_time": "2020-06-28T20:24:54.742784Z",
     "start_time": "2020-06-28T20:24:54.623257Z"
    }
   },
   "outputs": [
    {
     "data": {
      "text/plain": [
       "438323"
      ]
     },
     "execution_count": 6,
     "metadata": {},
     "output_type": "execute_result"
    }
   ],
   "source": [
    "# Unique Incidents\n",
    "data['incident_number'].nunique()"
   ]
  },
  {
   "cell_type": "code",
   "execution_count": 7,
   "metadata": {
    "ExecuteTime": {
     "end_time": "2020-06-28T20:24:54.784349Z",
     "start_time": "2020-06-28T20:24:54.744206Z"
    }
   },
   "outputs": [],
   "source": [
    "data.drop(columns=['incident_number', \n",
    "                   'location',\n",
    "                   'street',\n",
    "                   'ucr_part'], inplace=True)"
   ]
  },
  {
   "cell_type": "code",
   "execution_count": 8,
   "metadata": {
    "ExecuteTime": {
     "end_time": "2020-06-28T20:24:55.014314Z",
     "start_time": "2020-06-28T20:24:54.810607Z"
    }
   },
   "outputs": [],
   "source": [
    "# Converting occurrance date to pandas datetime format\n",
    "data['occurred_on_date'] = pd.to_datetime(data['occurred_on_date']) \n",
    "data['occurred_on_date'] = data['occurred_on_date'].dt.date"
   ]
  },
  {
   "cell_type": "code",
   "execution_count": 9,
   "metadata": {
    "ExecuteTime": {
     "end_time": "2020-06-28T20:24:55.191925Z",
     "start_time": "2020-06-28T20:24:55.031572Z"
    }
   },
   "outputs": [
    {
     "data": {
      "text/plain": [
       "offense_code                0\n",
       "offense_code_group      62733\n",
       "offense_description         0\n",
       "district                 2423\n",
       "reporting_area              0\n",
       "shooting               424709\n",
       "occurred_on_date            0\n",
       "year                        0\n",
       "month                       0\n",
       "day_of_week                 0\n",
       "hour                        0\n",
       "lat                     28432\n",
       "long                    28432\n",
       "dtype: int64"
      ]
     },
     "execution_count": 9,
     "metadata": {},
     "output_type": "execute_result"
    }
   ],
   "source": [
    "# checking nulls\n",
    "data.isnull().sum()"
   ]
  },
  {
   "cell_type": "code",
   "execution_count": 10,
   "metadata": {
    "ExecuteTime": {
     "end_time": "2020-06-28T20:24:55.282823Z",
     "start_time": "2020-06-28T20:24:55.205031Z"
    }
   },
   "outputs": [],
   "source": [
    "# Dropping crimes in 2015 and 2020\n",
    "crime_2015_2020 = data.loc[(data['year'] == 2020) | (data['year'] == 2015), :]\n",
    "data.drop(index=crime_2015_2020.index, inplace=True)"
   ]
  },
  {
   "cell_type": "code",
   "execution_count": 11,
   "metadata": {
    "ExecuteTime": {
     "end_time": "2020-06-28T20:24:55.308762Z",
     "start_time": "2020-06-28T20:24:55.304244Z"
    }
   },
   "outputs": [
    {
     "data": {
      "text/plain": [
       "(397165, 13)"
      ]
     },
     "execution_count": 11,
     "metadata": {},
     "output_type": "execute_result"
    }
   ],
   "source": [
    "data.shape"
   ]
  },
  {
   "cell_type": "code",
   "execution_count": 12,
   "metadata": {
    "ExecuteTime": {
     "end_time": "2020-06-28T20:24:55.394900Z",
     "start_time": "2020-06-28T20:24:55.332155Z"
    }
   },
   "outputs": [],
   "source": [
    "# Dropping crimes located outside boston\n",
    "external = data.loc[data['district'] == 'External']\n",
    "\n",
    "data.drop(external.index, axis=0, inplace=True)"
   ]
  },
  {
   "cell_type": "code",
   "execution_count": 13,
   "metadata": {
    "ExecuteTime": {
     "end_time": "2020-06-28T20:24:55.442969Z",
     "start_time": "2020-06-28T20:24:55.426735Z"
    }
   },
   "outputs": [
    {
     "data": {
      "text/plain": [
       "880"
      ]
     },
     "execution_count": 13,
     "metadata": {},
     "output_type": "execute_result"
    }
   ],
   "source": [
    "data['reporting_area'].nunique()"
   ]
  },
  {
   "cell_type": "code",
   "execution_count": 14,
   "metadata": {
    "ExecuteTime": {
     "end_time": "2020-06-28T20:24:55.525517Z",
     "start_time": "2020-06-28T20:24:55.472310Z"
    }
   },
   "outputs": [
    {
     "name": "stderr",
     "output_type": "stream",
     "text": [
      "/Users/derekmcadam/opt/anaconda3/envs/dbm/lib/python3.7/site-packages/ipykernel_launcher.py:2: FutureWarning: Indexing with multiple keys (implicitly converted to a tuple of keys) will be deprecated, use a list instead.\n",
      "  \n"
     ]
    }
   ],
   "source": [
    "# groupby Reporting Area and take the average of Long and Lat\n",
    "reporting_area_centers = data[~data['lat'].isna()].groupby('reporting_area')['lat', 'long'].mean().reset_index()"
   ]
  },
  {
   "cell_type": "code",
   "execution_count": 15,
   "metadata": {
    "ExecuteTime": {
     "end_time": "2020-06-28T20:24:55.577715Z",
     "start_time": "2020-06-28T20:24:55.576020Z"
    }
   },
   "outputs": [],
   "source": [
    "# reporting_area_centers['geom'] = gpd.GeoSeries([Point(x, y) for x, y in zip(reporting_area_centers['lat'], reporting_area_centers['long'])])"
   ]
  },
  {
   "cell_type": "code",
   "execution_count": 16,
   "metadata": {
    "ExecuteTime": {
     "end_time": "2020-06-28T20:24:55.652583Z",
     "start_time": "2020-06-28T20:24:55.625732Z"
    }
   },
   "outputs": [],
   "source": [
    "# create a WKT representation of Reporting Area Centers: Lat/Lon values\n",
    "reporting_area_centers[\"geom\"]=reporting_area_centers.loc[:,[\"long\",\"lat\"]].apply(lambda x: \"POINT(\"+str(x[\"long\"])+\" \"+str(x[\"lat\"])+\")\",axis=1)"
   ]
  },
  {
   "cell_type": "code",
   "execution_count": 17,
   "metadata": {
    "ExecuteTime": {
     "end_time": "2020-06-28T20:24:55.717565Z",
     "start_time": "2020-06-28T20:24:55.714621Z"
    }
   },
   "outputs": [
    {
     "data": {
      "text/plain": [
       "(880, 4)"
      ]
     },
     "execution_count": 17,
     "metadata": {},
     "output_type": "execute_result"
    }
   ],
   "source": [
    "reporting_area_centers.shape"
   ]
  },
  {
   "cell_type": "code",
   "execution_count": 18,
   "metadata": {
    "ExecuteTime": {
     "end_time": "2020-06-28T20:24:55.784302Z",
     "start_time": "2020-06-28T20:24:55.777480Z"
    }
   },
   "outputs": [
    {
     "data": {
      "text/html": [
       "<div>\n",
       "<style scoped>\n",
       "    .dataframe tbody tr th:only-of-type {\n",
       "        vertical-align: middle;\n",
       "    }\n",
       "\n",
       "    .dataframe tbody tr th {\n",
       "        vertical-align: top;\n",
       "    }\n",
       "\n",
       "    .dataframe thead th {\n",
       "        text-align: right;\n",
       "    }\n",
       "</style>\n",
       "<table border=\"1\" class=\"dataframe\">\n",
       "  <thead>\n",
       "    <tr style=\"text-align: right;\">\n",
       "      <th></th>\n",
       "      <th>reporting_area</th>\n",
       "      <th>lat</th>\n",
       "      <th>long</th>\n",
       "      <th>geom</th>\n",
       "    </tr>\n",
       "  </thead>\n",
       "  <tbody>\n",
       "    <tr>\n",
       "      <th>0</th>\n",
       "      <td></td>\n",
       "      <td>36.341992</td>\n",
       "      <td>-61.398317</td>\n",
       "      <td>POINT(-61.39831744305705 36.341991500206596)</td>\n",
       "    </tr>\n",
       "    <tr>\n",
       "      <th>1</th>\n",
       "      <td>000</td>\n",
       "      <td>-1.000000</td>\n",
       "      <td>-1.000000</td>\n",
       "      <td>POINT(-1.0 -1.0)</td>\n",
       "    </tr>\n",
       "    <tr>\n",
       "      <th>2</th>\n",
       "      <td>1</td>\n",
       "      <td>42.390213</td>\n",
       "      <td>-70.996685</td>\n",
       "      <td>POINT(-70.99668539744188 42.39021344627907)</td>\n",
       "    </tr>\n",
       "    <tr>\n",
       "      <th>3</th>\n",
       "      <td>10</td>\n",
       "      <td>42.388760</td>\n",
       "      <td>-71.008482</td>\n",
       "      <td>POINT(-71.00848226747742 42.388760055810785)</td>\n",
       "    </tr>\n",
       "    <tr>\n",
       "      <th>4</th>\n",
       "      <td>100</td>\n",
       "      <td>42.357868</td>\n",
       "      <td>-71.054794</td>\n",
       "      <td>POINT(-71.05479433899042 42.357867941562525)</td>\n",
       "    </tr>\n",
       "  </tbody>\n",
       "</table>\n",
       "</div>"
      ],
      "text/plain": [
       "  reporting_area        lat       long  \\\n",
       "0                 36.341992 -61.398317   \n",
       "1            000  -1.000000  -1.000000   \n",
       "2              1  42.390213 -70.996685   \n",
       "3             10  42.388760 -71.008482   \n",
       "4            100  42.357868 -71.054794   \n",
       "\n",
       "                                           geom  \n",
       "0  POINT(-61.39831744305705 36.341991500206596)  \n",
       "1                              POINT(-1.0 -1.0)  \n",
       "2   POINT(-70.99668539744188 42.39021344627907)  \n",
       "3  POINT(-71.00848226747742 42.388760055810785)  \n",
       "4  POINT(-71.05479433899042 42.357867941562525)  "
      ]
     },
     "execution_count": 18,
     "metadata": {},
     "output_type": "execute_result"
    }
   ],
   "source": [
    "# there are some outliers, we need to remove them\n",
    "reporting_area_centers.head()"
   ]
  },
  {
   "cell_type": "code",
   "execution_count": 19,
   "metadata": {
    "ExecuteTime": {
     "end_time": "2020-06-28T20:24:55.849459Z",
     "start_time": "2020-06-28T20:24:55.843817Z"
    }
   },
   "outputs": [
    {
     "name": "stdout",
     "output_type": "stream",
     "text": [
      "User Guide: https://docs.kepler.gl/docs/keplergl-jupyter\n"
     ]
    }
   ],
   "source": [
    "map_1 = KeplerGl(height=500)"
   ]
  },
  {
   "cell_type": "code",
   "execution_count": 20,
   "metadata": {
    "ExecuteTime": {
     "end_time": "2020-06-28T20:24:55.929069Z",
     "start_time": "2020-06-28T20:24:55.914113Z"
    }
   },
   "outputs": [],
   "source": [
    "# Create a geopandas dataframe. use tract_geom column for geometry.\n",
    "geodf_ra = gpd.GeoDataFrame(reporting_area_centers, geometry = reporting_area_centers['geom'].apply(wkt.loads))"
   ]
  },
  {
   "cell_type": "code",
   "execution_count": 21,
   "metadata": {
    "ExecuteTime": {
     "end_time": "2020-06-28T20:24:56.095643Z",
     "start_time": "2020-06-28T20:24:56.087232Z"
    }
   },
   "outputs": [
    {
     "data": {
      "text/html": [
       "<div>\n",
       "<style scoped>\n",
       "    .dataframe tbody tr th:only-of-type {\n",
       "        vertical-align: middle;\n",
       "    }\n",
       "\n",
       "    .dataframe tbody tr th {\n",
       "        vertical-align: top;\n",
       "    }\n",
       "\n",
       "    .dataframe thead th {\n",
       "        text-align: right;\n",
       "    }\n",
       "</style>\n",
       "<table border=\"1\" class=\"dataframe\">\n",
       "  <thead>\n",
       "    <tr style=\"text-align: right;\">\n",
       "      <th></th>\n",
       "      <th>reporting_area</th>\n",
       "      <th>lat</th>\n",
       "      <th>long</th>\n",
       "      <th>geom</th>\n",
       "      <th>geometry</th>\n",
       "    </tr>\n",
       "  </thead>\n",
       "  <tbody>\n",
       "    <tr>\n",
       "      <th>0</th>\n",
       "      <td></td>\n",
       "      <td>36.341992</td>\n",
       "      <td>-61.398317</td>\n",
       "      <td>POINT(-61.39831744305705 36.341991500206596)</td>\n",
       "      <td>POINT (-61.39832 36.34199)</td>\n",
       "    </tr>\n",
       "    <tr>\n",
       "      <th>1</th>\n",
       "      <td>000</td>\n",
       "      <td>-1.000000</td>\n",
       "      <td>-1.000000</td>\n",
       "      <td>POINT(-1.0 -1.0)</td>\n",
       "      <td>POINT (-1.00000 -1.00000)</td>\n",
       "    </tr>\n",
       "    <tr>\n",
       "      <th>2</th>\n",
       "      <td>1</td>\n",
       "      <td>42.390213</td>\n",
       "      <td>-70.996685</td>\n",
       "      <td>POINT(-70.99668539744188 42.39021344627907)</td>\n",
       "      <td>POINT (-70.99669 42.39021)</td>\n",
       "    </tr>\n",
       "    <tr>\n",
       "      <th>3</th>\n",
       "      <td>10</td>\n",
       "      <td>42.388760</td>\n",
       "      <td>-71.008482</td>\n",
       "      <td>POINT(-71.00848226747742 42.388760055810785)</td>\n",
       "      <td>POINT (-71.00848 42.38876)</td>\n",
       "    </tr>\n",
       "    <tr>\n",
       "      <th>4</th>\n",
       "      <td>100</td>\n",
       "      <td>42.357868</td>\n",
       "      <td>-71.054794</td>\n",
       "      <td>POINT(-71.05479433899042 42.357867941562525)</td>\n",
       "      <td>POINT (-71.05479 42.35787)</td>\n",
       "    </tr>\n",
       "  </tbody>\n",
       "</table>\n",
       "</div>"
      ],
      "text/plain": [
       "  reporting_area        lat       long  \\\n",
       "0                 36.341992 -61.398317   \n",
       "1            000  -1.000000  -1.000000   \n",
       "2              1  42.390213 -70.996685   \n",
       "3             10  42.388760 -71.008482   \n",
       "4            100  42.357868 -71.054794   \n",
       "\n",
       "                                           geom                    geometry  \n",
       "0  POINT(-61.39831744305705 36.341991500206596)  POINT (-61.39832 36.34199)  \n",
       "1                              POINT(-1.0 -1.0)   POINT (-1.00000 -1.00000)  \n",
       "2   POINT(-70.99668539744188 42.39021344627907)  POINT (-70.99669 42.39021)  \n",
       "3  POINT(-71.00848226747742 42.388760055810785)  POINT (-71.00848 42.38876)  \n",
       "4  POINT(-71.05479433899042 42.357867941562525)  POINT (-71.05479 42.35787)  "
      ]
     },
     "execution_count": 21,
     "metadata": {},
     "output_type": "execute_result"
    }
   ],
   "source": [
    "geodf_ra.head()"
   ]
  },
  {
   "cell_type": "code",
   "execution_count": 22,
   "metadata": {
    "ExecuteTime": {
     "end_time": "2020-06-28T20:24:56.277729Z",
     "start_time": "2020-06-28T20:24:56.235852Z"
    }
   },
   "outputs": [
    {
     "name": "stderr",
     "output_type": "stream",
     "text": [
      "/Users/derekmcadam/opt/anaconda3/envs/dbm/lib/python3.7/site-packages/geopandas/geodataframe.py:830: UserWarning: Geometry column does not contain geometry.\n",
      "  warnings.warn(\"Geometry column does not contain geometry.\")\n"
     ]
    }
   ],
   "source": [
    "# Add data to Kepler Map\n",
    "map_1.add_data(data=geodf_ra, name=\"boston_crime\")"
   ]
  },
  {
   "cell_type": "code",
   "execution_count": 23,
   "metadata": {
    "ExecuteTime": {
     "end_time": "2020-06-28T20:24:56.421239Z",
     "start_time": "2020-06-28T20:24:56.415949Z"
    }
   },
   "outputs": [
    {
     "data": {
      "application/vnd.jupyter.widget-view+json": {
       "model_id": "df56325f55c74e13bb956efb43442c72",
       "version_major": 2,
       "version_minor": 0
      },
      "text/plain": [
       "KeplerGl(data={'boston_crime': {'index': [0, 1, 2, 3, 4, 5, 6, 7, 8, 9, 10, 11, 12, 13, 14, 15, 16, 17, 18, 19…"
      ]
     },
     "metadata": {},
     "output_type": "display_data"
    }
   ],
   "source": [
    "map_1"
   ]
  },
  {
   "cell_type": "code",
   "execution_count": 24,
   "metadata": {
    "ExecuteTime": {
     "end_time": "2020-06-28T20:24:56.884437Z",
     "start_time": "2020-06-28T20:24:56.881817Z"
    }
   },
   "outputs": [],
   "source": [
    "# map_1.save_to_html()"
   ]
  },
  {
   "cell_type": "markdown",
   "metadata": {},
   "source": [
    "**Clearly there are outlying points that are incorrect.  Lets remove them.**\n",
    "\n"
   ]
  },
  {
   "cell_type": "code",
   "execution_count": 25,
   "metadata": {
    "ExecuteTime": {
     "end_time": "2020-06-28T20:24:57.406566Z",
     "start_time": "2020-06-28T20:24:57.397249Z"
    }
   },
   "outputs": [],
   "source": [
    "# reading boston neighborhood shape file\n",
    "city_data = gpd.read_file('geo_data/boston-census-clustered.shp')"
   ]
  },
  {
   "cell_type": "code",
   "execution_count": 26,
   "metadata": {
    "ExecuteTime": {
     "end_time": "2020-06-28T20:24:57.443600Z",
     "start_time": "2020-06-28T20:24:57.434340Z"
    },
    "scrolled": true
   },
   "outputs": [
    {
     "data": {
      "text/html": [
       "<div>\n",
       "<style scoped>\n",
       "    .dataframe tbody tr th:only-of-type {\n",
       "        vertical-align: middle;\n",
       "    }\n",
       "\n",
       "    .dataframe tbody tr th {\n",
       "        vertical-align: top;\n",
       "    }\n",
       "\n",
       "    .dataframe thead th {\n",
       "        text-align: right;\n",
       "    }\n",
       "</style>\n",
       "<table border=\"1\" class=\"dataframe\">\n",
       "  <thead>\n",
       "    <tr style=\"text-align: right;\">\n",
       "      <th></th>\n",
       "      <th>reporting_area</th>\n",
       "      <th>lat</th>\n",
       "      <th>long</th>\n",
       "      <th>geom</th>\n",
       "      <th>geometry</th>\n",
       "    </tr>\n",
       "  </thead>\n",
       "  <tbody>\n",
       "    <tr>\n",
       "      <th>0</th>\n",
       "      <td></td>\n",
       "      <td>36.341992</td>\n",
       "      <td>-61.398317</td>\n",
       "      <td>POINT(-61.39831744305705 36.341991500206596)</td>\n",
       "      <td>POINT (-61.39832 36.34199)</td>\n",
       "    </tr>\n",
       "    <tr>\n",
       "      <th>1</th>\n",
       "      <td>000</td>\n",
       "      <td>-1.000000</td>\n",
       "      <td>-1.000000</td>\n",
       "      <td>POINT(-1.0 -1.0)</td>\n",
       "      <td>POINT (-1.00000 -1.00000)</td>\n",
       "    </tr>\n",
       "    <tr>\n",
       "      <th>2</th>\n",
       "      <td>1</td>\n",
       "      <td>42.390213</td>\n",
       "      <td>-70.996685</td>\n",
       "      <td>POINT(-70.99668539744188 42.39021344627907)</td>\n",
       "      <td>POINT (-70.99669 42.39021)</td>\n",
       "    </tr>\n",
       "    <tr>\n",
       "      <th>3</th>\n",
       "      <td>10</td>\n",
       "      <td>42.388760</td>\n",
       "      <td>-71.008482</td>\n",
       "      <td>POINT(-71.00848226747742 42.388760055810785)</td>\n",
       "      <td>POINT (-71.00848 42.38876)</td>\n",
       "    </tr>\n",
       "    <tr>\n",
       "      <th>4</th>\n",
       "      <td>100</td>\n",
       "      <td>42.357868</td>\n",
       "      <td>-71.054794</td>\n",
       "      <td>POINT(-71.05479433899042 42.357867941562525)</td>\n",
       "      <td>POINT (-71.05479 42.35787)</td>\n",
       "    </tr>\n",
       "  </tbody>\n",
       "</table>\n",
       "</div>"
      ],
      "text/plain": [
       "  reporting_area        lat       long  \\\n",
       "0                 36.341992 -61.398317   \n",
       "1            000  -1.000000  -1.000000   \n",
       "2              1  42.390213 -70.996685   \n",
       "3             10  42.388760 -71.008482   \n",
       "4            100  42.357868 -71.054794   \n",
       "\n",
       "                                           geom                    geometry  \n",
       "0  POINT(-61.39831744305705 36.341991500206596)  POINT (-61.39832 36.34199)  \n",
       "1                              POINT(-1.0 -1.0)   POINT (-1.00000 -1.00000)  \n",
       "2   POINT(-70.99668539744188 42.39021344627907)  POINT (-70.99669 42.39021)  \n",
       "3  POINT(-71.00848226747742 42.388760055810785)  POINT (-71.00848 42.38876)  \n",
       "4  POINT(-71.05479433899042 42.357867941562525)  POINT (-71.05479 42.35787)  "
      ]
     },
     "execution_count": 26,
     "metadata": {},
     "output_type": "execute_result"
    }
   ],
   "source": [
    "geodf_ra.head()"
   ]
  },
  {
   "cell_type": "code",
   "execution_count": 27,
   "metadata": {
    "ExecuteTime": {
     "end_time": "2020-06-28T20:24:57.915347Z",
     "start_time": "2020-06-28T20:24:57.901028Z"
    }
   },
   "outputs": [
    {
     "data": {
      "text/html": [
       "<div>\n",
       "<style scoped>\n",
       "    .dataframe tbody tr th:only-of-type {\n",
       "        vertical-align: middle;\n",
       "    }\n",
       "\n",
       "    .dataframe tbody tr th {\n",
       "        vertical-align: top;\n",
       "    }\n",
       "\n",
       "    .dataframe thead th {\n",
       "        text-align: right;\n",
       "    }\n",
       "</style>\n",
       "<table border=\"1\" class=\"dataframe\">\n",
       "  <thead>\n",
       "    <tr style=\"text-align: right;\">\n",
       "      <th></th>\n",
       "      <th>Neighborho</th>\n",
       "      <th>census_clu</th>\n",
       "      <th>district</th>\n",
       "      <th>geometry</th>\n",
       "    </tr>\n",
       "  </thead>\n",
       "  <tbody>\n",
       "    <tr>\n",
       "      <th>0</th>\n",
       "      <td>Back Bay</td>\n",
       "      <td>2</td>\n",
       "      <td>A1</td>\n",
       "      <td>POLYGON ((-71.06262 42.35237, -71.06279 42.351...</td>\n",
       "    </tr>\n",
       "    <tr>\n",
       "      <th>1</th>\n",
       "      <td>Beacon Hill</td>\n",
       "      <td>2</td>\n",
       "      <td>A1</td>\n",
       "      <td>POLYGON ((-71.07751 42.35865, -71.07650 42.359...</td>\n",
       "    </tr>\n",
       "    <tr>\n",
       "      <th>2</th>\n",
       "      <td>Brighton</td>\n",
       "      <td>0</td>\n",
       "      <td>D14</td>\n",
       "      <td>POLYGON ((-71.16769 42.36009, -71.16686 42.360...</td>\n",
       "    </tr>\n",
       "    <tr>\n",
       "      <th>3</th>\n",
       "      <td>Charlestown</td>\n",
       "      <td>2</td>\n",
       "      <td>A15</td>\n",
       "      <td>POLYGON ((-71.05553 42.38724, -71.05502 42.386...</td>\n",
       "    </tr>\n",
       "    <tr>\n",
       "      <th>4</th>\n",
       "      <td>Dorchester</td>\n",
       "      <td>1</td>\n",
       "      <td>C11</td>\n",
       "      <td>POLYGON ((-71.04193 42.28938, -71.04191 42.289...</td>\n",
       "    </tr>\n",
       "  </tbody>\n",
       "</table>\n",
       "</div>"
      ],
      "text/plain": [
       "    Neighborho  census_clu district  \\\n",
       "0     Back Bay           2       A1   \n",
       "1  Beacon Hill           2       A1   \n",
       "2     Brighton           0      D14   \n",
       "3  Charlestown           2      A15   \n",
       "4   Dorchester           1      C11   \n",
       "\n",
       "                                            geometry  \n",
       "0  POLYGON ((-71.06262 42.35237, -71.06279 42.351...  \n",
       "1  POLYGON ((-71.07751 42.35865, -71.07650 42.359...  \n",
       "2  POLYGON ((-71.16769 42.36009, -71.16686 42.360...  \n",
       "3  POLYGON ((-71.05553 42.38724, -71.05502 42.386...  \n",
       "4  POLYGON ((-71.04193 42.28938, -71.04191 42.289...  "
      ]
     },
     "execution_count": 27,
     "metadata": {},
     "output_type": "execute_result"
    }
   ],
   "source": [
    "city_data.head()"
   ]
  },
  {
   "cell_type": "code",
   "execution_count": 28,
   "metadata": {
    "ExecuteTime": {
     "end_time": "2020-06-28T20:24:58.305292Z",
     "start_time": "2020-06-28T20:24:58.211608Z"
    }
   },
   "outputs": [],
   "source": [
    "geodf_ra_inboston = gpd.sjoin(geodf_ra,\n",
    "                              city_data,\n",
    "                              how='inner',\n",
    "                              op='intersects')"
   ]
  },
  {
   "cell_type": "code",
   "execution_count": 29,
   "metadata": {
    "ExecuteTime": {
     "end_time": "2020-06-28T20:24:58.688710Z",
     "start_time": "2020-06-28T20:24:58.685713Z"
    }
   },
   "outputs": [
    {
     "data": {
      "text/plain": [
       "(863, 9)"
      ]
     },
     "execution_count": 29,
     "metadata": {},
     "output_type": "execute_result"
    }
   ],
   "source": [
    "geodf_ra_inboston.shape"
   ]
  },
  {
   "cell_type": "code",
   "execution_count": 30,
   "metadata": {
    "ExecuteTime": {
     "end_time": "2020-06-28T20:24:58.953127Z",
     "start_time": "2020-06-28T20:24:58.942210Z"
    }
   },
   "outputs": [
    {
     "data": {
      "text/html": [
       "<div>\n",
       "<style scoped>\n",
       "    .dataframe tbody tr th:only-of-type {\n",
       "        vertical-align: middle;\n",
       "    }\n",
       "\n",
       "    .dataframe tbody tr th {\n",
       "        vertical-align: top;\n",
       "    }\n",
       "\n",
       "    .dataframe thead th {\n",
       "        text-align: right;\n",
       "    }\n",
       "</style>\n",
       "<table border=\"1\" class=\"dataframe\">\n",
       "  <thead>\n",
       "    <tr style=\"text-align: right;\">\n",
       "      <th></th>\n",
       "      <th>reporting_area</th>\n",
       "      <th>lat</th>\n",
       "      <th>long</th>\n",
       "      <th>geom</th>\n",
       "      <th>geometry</th>\n",
       "      <th>index_right</th>\n",
       "      <th>Neighborho</th>\n",
       "      <th>census_clu</th>\n",
       "      <th>district</th>\n",
       "    </tr>\n",
       "  </thead>\n",
       "  <tbody>\n",
       "    <tr>\n",
       "      <th>2</th>\n",
       "      <td>1</td>\n",
       "      <td>42.390213</td>\n",
       "      <td>-70.996685</td>\n",
       "      <td>POINT(-70.99668539744188 42.39021344627907)</td>\n",
       "      <td>POINT (-70.99669 42.39021)</td>\n",
       "      <td>6</td>\n",
       "      <td>East Boston</td>\n",
       "      <td>1</td>\n",
       "      <td>A7</td>\n",
       "    </tr>\n",
       "    <tr>\n",
       "      <th>3</th>\n",
       "      <td>10</td>\n",
       "      <td>42.388760</td>\n",
       "      <td>-71.008482</td>\n",
       "      <td>POINT(-71.00848226747742 42.388760055810785)</td>\n",
       "      <td>POINT (-71.00848 42.38876)</td>\n",
       "      <td>6</td>\n",
       "      <td>East Boston</td>\n",
       "      <td>1</td>\n",
       "      <td>A7</td>\n",
       "    </tr>\n",
       "    <tr>\n",
       "      <th>14</th>\n",
       "      <td>11</td>\n",
       "      <td>42.389570</td>\n",
       "      <td>-71.015855</td>\n",
       "      <td>POINT(-71.01585515232004 42.38956999644001)</td>\n",
       "      <td>POINT (-71.01586 42.38957)</td>\n",
       "      <td>6</td>\n",
       "      <td>East Boston</td>\n",
       "      <td>1</td>\n",
       "      <td>A7</td>\n",
       "    </tr>\n",
       "    <tr>\n",
       "      <th>25</th>\n",
       "      <td>12</td>\n",
       "      <td>42.386319</td>\n",
       "      <td>-71.012529</td>\n",
       "      <td>POINT(-71.01252932723203 42.38631864574775)</td>\n",
       "      <td>POINT (-71.01253 42.38632)</td>\n",
       "      <td>6</td>\n",
       "      <td>East Boston</td>\n",
       "      <td>1</td>\n",
       "      <td>A7</td>\n",
       "    </tr>\n",
       "    <tr>\n",
       "      <th>36</th>\n",
       "      <td>13</td>\n",
       "      <td>42.381848</td>\n",
       "      <td>-71.012877</td>\n",
       "      <td>POINT(-71.01287659724136 42.38184819051723)</td>\n",
       "      <td>POINT (-71.01288 42.38185)</td>\n",
       "      <td>6</td>\n",
       "      <td>East Boston</td>\n",
       "      <td>1</td>\n",
       "      <td>A7</td>\n",
       "    </tr>\n",
       "  </tbody>\n",
       "</table>\n",
       "</div>"
      ],
      "text/plain": [
       "   reporting_area        lat       long  \\\n",
       "2               1  42.390213 -70.996685   \n",
       "3              10  42.388760 -71.008482   \n",
       "14             11  42.389570 -71.015855   \n",
       "25             12  42.386319 -71.012529   \n",
       "36             13  42.381848 -71.012877   \n",
       "\n",
       "                                            geom                    geometry  \\\n",
       "2    POINT(-70.99668539744188 42.39021344627907)  POINT (-70.99669 42.39021)   \n",
       "3   POINT(-71.00848226747742 42.388760055810785)  POINT (-71.00848 42.38876)   \n",
       "14   POINT(-71.01585515232004 42.38956999644001)  POINT (-71.01586 42.38957)   \n",
       "25   POINT(-71.01252932723203 42.38631864574775)  POINT (-71.01253 42.38632)   \n",
       "36   POINT(-71.01287659724136 42.38184819051723)  POINT (-71.01288 42.38185)   \n",
       "\n",
       "    index_right   Neighborho  census_clu district  \n",
       "2             6  East Boston           1       A7  \n",
       "3             6  East Boston           1       A7  \n",
       "14            6  East Boston           1       A7  \n",
       "25            6  East Boston           1       A7  \n",
       "36            6  East Boston           1       A7  "
      ]
     },
     "execution_count": 30,
     "metadata": {},
     "output_type": "execute_result"
    }
   ],
   "source": [
    "geodf_ra_inboston.head()"
   ]
  },
  {
   "cell_type": "code",
   "execution_count": 31,
   "metadata": {
    "ExecuteTime": {
     "end_time": "2020-06-28T20:24:59.175994Z",
     "start_time": "2020-06-28T20:24:59.171785Z"
    }
   },
   "outputs": [],
   "source": [
    "reporting_area_centers = reporting_area_centers.loc[reporting_area_centers['reporting_area'].isin(geodf_ra_inboston['reporting_area']),:]"
   ]
  },
  {
   "cell_type": "code",
   "execution_count": 32,
   "metadata": {
    "ExecuteTime": {
     "end_time": "2020-06-28T20:24:59.432044Z",
     "start_time": "2020-06-28T20:24:59.429032Z"
    }
   },
   "outputs": [],
   "source": [
    "reporting_area_centers['neighborhood'] = geodf_ra_inboston['Neighborho']"
   ]
  },
  {
   "cell_type": "code",
   "execution_count": 33,
   "metadata": {
    "ExecuteTime": {
     "end_time": "2020-06-28T20:24:59.436599Z",
     "start_time": "2020-06-28T20:24:59.433837Z"
    }
   },
   "outputs": [],
   "source": [
    "reporting_area_centers['census_cluster'] = geodf_ra_inboston['census_clu']"
   ]
  },
  {
   "cell_type": "code",
   "execution_count": 34,
   "metadata": {
    "ExecuteTime": {
     "end_time": "2020-06-28T20:24:59.897213Z",
     "start_time": "2020-06-28T20:24:59.893938Z"
    }
   },
   "outputs": [],
   "source": [
    "reporting_area_centers.drop('geometry', axis=1, inplace=True)"
   ]
  },
  {
   "cell_type": "code",
   "execution_count": 35,
   "metadata": {
    "ExecuteTime": {
     "end_time": "2020-06-28T20:25:00.118041Z",
     "start_time": "2020-06-28T20:25:00.110062Z"
    }
   },
   "outputs": [
    {
     "name": "stdout",
     "output_type": "stream",
     "text": [
      "User Guide: https://docs.kepler.gl/docs/keplergl-jupyter\n"
     ]
    }
   ],
   "source": [
    "map_2 = KeplerGl(height=500)"
   ]
  },
  {
   "cell_type": "code",
   "execution_count": 36,
   "metadata": {
    "ExecuteTime": {
     "end_time": "2020-06-28T20:25:00.391772Z",
     "start_time": "2020-06-28T20:25:00.340719Z"
    }
   },
   "outputs": [
    {
     "name": "stderr",
     "output_type": "stream",
     "text": [
      "/Users/derekmcadam/opt/anaconda3/envs/dbm/lib/python3.7/site-packages/geopandas/geodataframe.py:830: UserWarning: Geometry column does not contain geometry.\n",
      "  warnings.warn(\"Geometry column does not contain geometry.\")\n"
     ]
    }
   ],
   "source": [
    "# Add data to Kepler\n",
    "map_2.add_data(data=reporting_area_centers, name=\"boston_crime\")\n",
    "# Add data to Kepler\n",
    "map_2.add_data(data=city_data, name=\"neighborhood_polys\")"
   ]
  },
  {
   "cell_type": "code",
   "execution_count": 37,
   "metadata": {
    "ExecuteTime": {
     "end_time": "2020-06-28T20:25:00.606577Z",
     "start_time": "2020-06-28T20:25:00.600995Z"
    },
    "scrolled": true
   },
   "outputs": [
    {
     "data": {
      "application/vnd.jupyter.widget-view+json": {
       "model_id": "02db89a053f44951bd630ecd4a6219ed",
       "version_major": 2,
       "version_minor": 0
      },
      "text/plain": [
       "KeplerGl(data={'boston_crime': {'index': [2, 3, 4, 5, 6, 7, 8, 9, 10, 11, 12, 14, 15, 16, 17, 18, 19, 20, 21, …"
      ]
     },
     "metadata": {},
     "output_type": "display_data"
    }
   ],
   "source": [
    "map_2"
   ]
  },
  {
   "cell_type": "markdown",
   "metadata": {},
   "source": [
    "### K-Means Clustering to Reduce Number of Reporting Centers"
   ]
  },
  {
   "cell_type": "code",
   "execution_count": 38,
   "metadata": {
    "ExecuteTime": {
     "end_time": "2020-06-28T20:25:00.918918Z",
     "start_time": "2020-06-28T20:25:00.824951Z"
    }
   },
   "outputs": [],
   "source": [
    "from sklearn.cluster import KMeans\n",
    "from sklearn.metrics import silhouette_score\n",
    "from sklearn.preprocessing import MinMaxScaler"
   ]
  },
  {
   "cell_type": "code",
   "execution_count": 39,
   "metadata": {
    "ExecuteTime": {
     "end_time": "2020-06-28T20:25:01.149021Z",
     "start_time": "2020-06-28T20:25:01.142992Z"
    },
    "scrolled": true
   },
   "outputs": [
    {
     "name": "stdout",
     "output_type": "stream",
     "text": [
      "<class 'pandas.core.frame.DataFrame'>\n",
      "Int64Index: 863 entries, 2 to 879\n",
      "Data columns (total 6 columns):\n",
      " #   Column          Non-Null Count  Dtype  \n",
      "---  ------          --------------  -----  \n",
      " 0   reporting_area  863 non-null    object \n",
      " 1   lat             863 non-null    float64\n",
      " 2   long            863 non-null    float64\n",
      " 3   geom            863 non-null    object \n",
      " 4   neighborhood    863 non-null    object \n",
      " 5   census_cluster  863 non-null    int64  \n",
      "dtypes: float64(2), int64(1), object(3)\n",
      "memory usage: 47.2+ KB\n"
     ]
    }
   ],
   "source": [
    "reporting_area_centers.info()"
   ]
  },
  {
   "cell_type": "code",
   "execution_count": 40,
   "metadata": {
    "ExecuteTime": {
     "end_time": "2020-06-28T20:25:03.482908Z",
     "start_time": "2020-06-28T20:25:01.504691Z"
    }
   },
   "outputs": [],
   "source": [
    "# create 500 centers\n",
    "clusters = KMeans(n_clusters=500).fit_predict(reporting_area_centers[['long', 'lat']])"
   ]
  },
  {
   "cell_type": "code",
   "execution_count": 41,
   "metadata": {
    "ExecuteTime": {
     "end_time": "2020-06-28T20:25:03.487715Z",
     "start_time": "2020-06-28T20:25:03.484729Z"
    }
   },
   "outputs": [],
   "source": [
    "# create cluster column\n",
    "reporting_area_centers['reporting_cluster'] = clusters"
   ]
  },
  {
   "cell_type": "code",
   "execution_count": 42,
   "metadata": {
    "ExecuteTime": {
     "end_time": "2020-06-28T20:25:03.941862Z",
     "start_time": "2020-06-28T20:25:03.937701Z"
    }
   },
   "outputs": [],
   "source": [
    "# calculate mean lat for each cluster\n",
    "reporting_area_centers_clusters=reporting_area_centers.groupby('reporting_cluster')['lat'].mean().reset_index()"
   ]
  },
  {
   "cell_type": "code",
   "execution_count": 43,
   "metadata": {
    "ExecuteTime": {
     "end_time": "2020-06-28T20:25:03.948652Z",
     "start_time": "2020-06-28T20:25:03.943045Z"
    }
   },
   "outputs": [],
   "source": [
    "# add average Long \n",
    "reporting_area_centers_clusters = pd.merge(reporting_area_centers_clusters,reporting_area_centers.groupby('reporting_cluster')['long'].mean().reset_index(),on='reporting_cluster')"
   ]
  },
  {
   "cell_type": "code",
   "execution_count": 44,
   "metadata": {
    "ExecuteTime": {
     "end_time": "2020-06-28T20:25:03.958850Z",
     "start_time": "2020-06-28T20:25:03.951553Z"
    }
   },
   "outputs": [
    {
     "data": {
      "text/html": [
       "<div>\n",
       "<style scoped>\n",
       "    .dataframe tbody tr th:only-of-type {\n",
       "        vertical-align: middle;\n",
       "    }\n",
       "\n",
       "    .dataframe tbody tr th {\n",
       "        vertical-align: top;\n",
       "    }\n",
       "\n",
       "    .dataframe thead th {\n",
       "        text-align: right;\n",
       "    }\n",
       "</style>\n",
       "<table border=\"1\" class=\"dataframe\">\n",
       "  <thead>\n",
       "    <tr style=\"text-align: right;\">\n",
       "      <th></th>\n",
       "      <th>reporting_cluster</th>\n",
       "      <th>lat</th>\n",
       "      <th>long</th>\n",
       "    </tr>\n",
       "  </thead>\n",
       "  <tbody>\n",
       "    <tr>\n",
       "      <th>0</th>\n",
       "      <td>0</td>\n",
       "      <td>42.294491</td>\n",
       "      <td>-71.052194</td>\n",
       "    </tr>\n",
       "    <tr>\n",
       "      <th>1</th>\n",
       "      <td>1</td>\n",
       "      <td>42.286841</td>\n",
       "      <td>-71.142157</td>\n",
       "    </tr>\n",
       "    <tr>\n",
       "      <th>2</th>\n",
       "      <td>2</td>\n",
       "      <td>42.348640</td>\n",
       "      <td>-71.081481</td>\n",
       "    </tr>\n",
       "    <tr>\n",
       "      <th>3</th>\n",
       "      <td>3</td>\n",
       "      <td>42.351266</td>\n",
       "      <td>-71.160128</td>\n",
       "    </tr>\n",
       "    <tr>\n",
       "      <th>4</th>\n",
       "      <td>4</td>\n",
       "      <td>42.358290</td>\n",
       "      <td>-71.054846</td>\n",
       "    </tr>\n",
       "  </tbody>\n",
       "</table>\n",
       "</div>"
      ],
      "text/plain": [
       "   reporting_cluster        lat       long\n",
       "0                  0  42.294491 -71.052194\n",
       "1                  1  42.286841 -71.142157\n",
       "2                  2  42.348640 -71.081481\n",
       "3                  3  42.351266 -71.160128\n",
       "4                  4  42.358290 -71.054846"
      ]
     },
     "execution_count": 44,
     "metadata": {},
     "output_type": "execute_result"
    }
   ],
   "source": [
    "reporting_area_centers_clusters.head()"
   ]
  },
  {
   "cell_type": "code",
   "execution_count": 45,
   "metadata": {
    "ExecuteTime": {
     "end_time": "2020-06-28T20:25:04.634476Z",
     "start_time": "2020-06-28T20:25:04.628401Z"
    }
   },
   "outputs": [
    {
     "name": "stdout",
     "output_type": "stream",
     "text": [
      "<class 'pandas.core.frame.DataFrame'>\n",
      "Int64Index: 500 entries, 0 to 499\n",
      "Data columns (total 3 columns):\n",
      " #   Column             Non-Null Count  Dtype  \n",
      "---  ------             --------------  -----  \n",
      " 0   reporting_cluster  500 non-null    int64  \n",
      " 1   lat                500 non-null    float64\n",
      " 2   long               500 non-null    float64\n",
      "dtypes: float64(2), int64(1)\n",
      "memory usage: 15.6 KB\n"
     ]
    }
   ],
   "source": [
    "reporting_area_centers_clusters.info()"
   ]
  },
  {
   "cell_type": "code",
   "execution_count": 46,
   "metadata": {
    "ExecuteTime": {
     "end_time": "2020-06-28T20:25:04.906107Z",
     "start_time": "2020-06-28T20:25:04.869859Z"
    }
   },
   "outputs": [
    {
     "name": "stdout",
     "output_type": "stream",
     "text": [
      "User Guide: https://docs.kepler.gl/docs/keplergl-jupyter\n"
     ]
    },
    {
     "name": "stderr",
     "output_type": "stream",
     "text": [
      "/Users/derekmcadam/opt/anaconda3/envs/dbm/lib/python3.7/site-packages/geopandas/geodataframe.py:830: UserWarning: Geometry column does not contain geometry.\n",
      "  warnings.warn(\"Geometry column does not contain geometry.\")\n"
     ]
    }
   ],
   "source": [
    "map_3 = KeplerGl(height=800, width=1000)\n",
    "map_3.add_data(data=reporting_area_centers_clusters, name=\"rac_clusters\")\n",
    "map_3.add_data(data=city_data, name=\"neighborhood_polys\")"
   ]
  },
  {
   "cell_type": "code",
   "execution_count": 47,
   "metadata": {
    "ExecuteTime": {
     "end_time": "2020-06-28T20:25:05.129074Z",
     "start_time": "2020-06-28T20:25:05.122897Z"
    },
    "scrolled": false
   },
   "outputs": [
    {
     "data": {
      "application/vnd.jupyter.widget-view+json": {
       "model_id": "40812d938c944339a0235b3819097d34",
       "version_major": 2,
       "version_minor": 0
      },
      "text/plain": [
       "KeplerGl(data={'rac_clusters': {'index': [0, 1, 2, 3, 4, 5, 6, 7, 8, 9, 10, 11, 12, 13, 14, 15, 16, 17, 18, 19…"
      ]
     },
     "metadata": {},
     "output_type": "display_data"
    }
   ],
   "source": [
    "map_3"
   ]
  },
  {
   "cell_type": "code",
   "execution_count": 58,
   "metadata": {
    "ExecuteTime": {
     "end_time": "2020-06-28T21:15:04.161245Z",
     "start_time": "2020-06-28T21:15:04.157421Z"
    },
    "slideshow": {
     "slide_type": "-"
    }
   },
   "outputs": [
    {
     "data": {
      "text/html": [
       "file:///Users/derekmcadam/GA/Boston-Census-Crime/keplergl_map.html"
      ],
      "text/plain": [
       "<IPython.core.display.HTML object>"
      ]
     },
     "execution_count": 58,
     "metadata": {},
     "output_type": "execute_result"
    }
   ],
   "source": [
    "\n",
    "\n",
    "IPython.display.HTML('file:///Users/derekmcadam/GA/Boston-Census-Crime/keplergl_map.html')"
   ]
  },
  {
   "cell_type": "code",
   "execution_count": null,
   "metadata": {},
   "outputs": [],
   "source": [
    "map_3.save_to_html()"
   ]
  },
  {
   "cell_type": "markdown",
   "metadata": {},
   "source": []
  },
  {
   "cell_type": "code",
   "execution_count": 49,
   "metadata": {
    "ExecuteTime": {
     "end_time": "2020-06-28T20:34:02.900528Z",
     "start_time": "2020-06-28T20:34:02.894971Z"
    }
   },
   "outputs": [
    {
     "name": "stdout",
     "output_type": "stream",
     "text": [
      "Map saved to keplergl_map.html!\n"
     ]
    }
   ],
   "source": [
    "map_3.save_to_html()"
   ]
  },
  {
   "cell_type": "code",
   "execution_count": 48,
   "metadata": {
    "ExecuteTime": {
     "end_time": "2020-06-28T20:25:05.363835Z",
     "start_time": "2020-06-28T20:25:05.361462Z"
    }
   },
   "outputs": [],
   "source": [
    "# reporting_area_centers.to_csv('reporting_area_centers.csv', index=False)"
   ]
  },
  {
   "cell_type": "code",
   "execution_count": 48,
   "metadata": {
    "ExecuteTime": {
     "end_time": "2020-06-25T22:45:00.482728Z",
     "start_time": "2020-06-25T22:45:00.470788Z"
    },
    "scrolled": true
   },
   "outputs": [
    {
     "data": {
      "text/html": [
       "<div>\n",
       "<style scoped>\n",
       "    .dataframe tbody tr th:only-of-type {\n",
       "        vertical-align: middle;\n",
       "    }\n",
       "\n",
       "    .dataframe tbody tr th {\n",
       "        vertical-align: top;\n",
       "    }\n",
       "\n",
       "    .dataframe thead th {\n",
       "        text-align: right;\n",
       "    }\n",
       "</style>\n",
       "<table border=\"1\" class=\"dataframe\">\n",
       "  <thead>\n",
       "    <tr style=\"text-align: right;\">\n",
       "      <th></th>\n",
       "      <th>reporting_area</th>\n",
       "      <th>lat</th>\n",
       "      <th>long</th>\n",
       "      <th>geom</th>\n",
       "      <th>neighborhood</th>\n",
       "      <th>census_cluster</th>\n",
       "      <th>reporting_cluster</th>\n",
       "    </tr>\n",
       "  </thead>\n",
       "  <tbody>\n",
       "    <tr>\n",
       "      <th>2</th>\n",
       "      <td>1</td>\n",
       "      <td>42.390213</td>\n",
       "      <td>-70.996685</td>\n",
       "      <td>POINT(-70.99668539744188 42.39021344627907)</td>\n",
       "      <td>East Boston</td>\n",
       "      <td>1</td>\n",
       "      <td>175</td>\n",
       "    </tr>\n",
       "    <tr>\n",
       "      <th>3</th>\n",
       "      <td>10</td>\n",
       "      <td>42.388760</td>\n",
       "      <td>-71.008482</td>\n",
       "      <td>POINT(-71.00848226747742 42.388760055810785)</td>\n",
       "      <td>East Boston</td>\n",
       "      <td>1</td>\n",
       "      <td>424</td>\n",
       "    </tr>\n",
       "    <tr>\n",
       "      <th>4</th>\n",
       "      <td>100</td>\n",
       "      <td>42.357868</td>\n",
       "      <td>-71.054794</td>\n",
       "      <td>POINT(-71.05479433899042 42.357867941562525)</td>\n",
       "      <td>Downtown</td>\n",
       "      <td>3</td>\n",
       "      <td>226</td>\n",
       "    </tr>\n",
       "    <tr>\n",
       "      <th>5</th>\n",
       "      <td>101</td>\n",
       "      <td>42.357503</td>\n",
       "      <td>-71.054213</td>\n",
       "      <td>POINT(-71.05421275941778 42.35750309761282)</td>\n",
       "      <td>Downtown</td>\n",
       "      <td>3</td>\n",
       "      <td>226</td>\n",
       "    </tr>\n",
       "    <tr>\n",
       "      <th>6</th>\n",
       "      <td>102</td>\n",
       "      <td>42.356394</td>\n",
       "      <td>-71.061394</td>\n",
       "      <td>POINT(-71.06139370735856 42.35639385689004)</td>\n",
       "      <td>Downtown</td>\n",
       "      <td>3</td>\n",
       "      <td>90</td>\n",
       "    </tr>\n",
       "  </tbody>\n",
       "</table>\n",
       "</div>"
      ],
      "text/plain": [
       "  reporting_area        lat       long  \\\n",
       "2              1  42.390213 -70.996685   \n",
       "3             10  42.388760 -71.008482   \n",
       "4            100  42.357868 -71.054794   \n",
       "5            101  42.357503 -71.054213   \n",
       "6            102  42.356394 -71.061394   \n",
       "\n",
       "                                           geom neighborhood  census_cluster  \\\n",
       "2   POINT(-70.99668539744188 42.39021344627907)  East Boston               1   \n",
       "3  POINT(-71.00848226747742 42.388760055810785)  East Boston               1   \n",
       "4  POINT(-71.05479433899042 42.357867941562525)     Downtown               3   \n",
       "5   POINT(-71.05421275941778 42.35750309761282)     Downtown               3   \n",
       "6   POINT(-71.06139370735856 42.35639385689004)     Downtown               3   \n",
       "\n",
       "   reporting_cluster  \n",
       "2                175  \n",
       "3                424  \n",
       "4                226  \n",
       "5                226  \n",
       "6                 90  "
      ]
     },
     "execution_count": 48,
     "metadata": {},
     "output_type": "execute_result"
    }
   ],
   "source": [
    "reporting_area_centers.head()"
   ]
  },
  {
   "cell_type": "code",
   "execution_count": 49,
   "metadata": {
    "ExecuteTime": {
     "end_time": "2020-06-25T22:45:00.532913Z",
     "start_time": "2020-06-25T22:45:00.484844Z"
    }
   },
   "outputs": [],
   "source": [
    "data = data.loc[data['reporting_area'].isin(reporting_area_centers['reporting_area']), :]"
   ]
  },
  {
   "cell_type": "code",
   "execution_count": 50,
   "metadata": {
    "ExecuteTime": {
     "end_time": "2020-06-25T22:45:00.727828Z",
     "start_time": "2020-06-25T22:45:00.534707Z"
    }
   },
   "outputs": [],
   "source": [
    "# adding clusters to crime data\n",
    "data = pd.merge(data, reporting_area_centers[['reporting_area', 'reporting_cluster', 'neighborhood', 'census_cluster']], on='reporting_area')"
   ]
  },
  {
   "cell_type": "code",
   "execution_count": 51,
   "metadata": {
    "ExecuteTime": {
     "end_time": "2020-06-25T22:45:00.743886Z",
     "start_time": "2020-06-25T22:45:00.729946Z"
    }
   },
   "outputs": [
    {
     "data": {
      "text/html": [
       "<div>\n",
       "<style scoped>\n",
       "    .dataframe tbody tr th:only-of-type {\n",
       "        vertical-align: middle;\n",
       "    }\n",
       "\n",
       "    .dataframe tbody tr th {\n",
       "        vertical-align: top;\n",
       "    }\n",
       "\n",
       "    .dataframe thead th {\n",
       "        text-align: right;\n",
       "    }\n",
       "</style>\n",
       "<table border=\"1\" class=\"dataframe\">\n",
       "  <thead>\n",
       "    <tr style=\"text-align: right;\">\n",
       "      <th></th>\n",
       "      <th>offense_code</th>\n",
       "      <th>offense_code_group</th>\n",
       "      <th>offense_description</th>\n",
       "      <th>district</th>\n",
       "      <th>reporting_area</th>\n",
       "      <th>shooting</th>\n",
       "      <th>occurred_on_date</th>\n",
       "      <th>year</th>\n",
       "      <th>month</th>\n",
       "      <th>day_of_week</th>\n",
       "      <th>hour</th>\n",
       "      <th>lat</th>\n",
       "      <th>long</th>\n",
       "      <th>reporting_cluster</th>\n",
       "      <th>neighborhood</th>\n",
       "      <th>census_cluster</th>\n",
       "    </tr>\n",
       "  </thead>\n",
       "  <tbody>\n",
       "    <tr>\n",
       "      <th>0</th>\n",
       "      <td>3301</td>\n",
       "      <td>NaN</td>\n",
       "      <td>VERBAL DISPUTE</td>\n",
       "      <td>E13</td>\n",
       "      <td>583</td>\n",
       "      <td>0</td>\n",
       "      <td>2019-12-20</td>\n",
       "      <td>2019</td>\n",
       "      <td>12</td>\n",
       "      <td>Friday</td>\n",
       "      <td>3</td>\n",
       "      <td>42.325122</td>\n",
       "      <td>-71.107779</td>\n",
       "      <td>270</td>\n",
       "      <td>Jamaica Plain</td>\n",
       "      <td>2</td>\n",
       "    </tr>\n",
       "    <tr>\n",
       "      <th>1</th>\n",
       "      <td>1402</td>\n",
       "      <td>Vandalism</td>\n",
       "      <td>VANDALISM</td>\n",
       "      <td>E13</td>\n",
       "      <td>583</td>\n",
       "      <td>NaN</td>\n",
       "      <td>2019-09-22</td>\n",
       "      <td>2019</td>\n",
       "      <td>9</td>\n",
       "      <td>Sunday</td>\n",
       "      <td>19</td>\n",
       "      <td>42.324692</td>\n",
       "      <td>-71.106189</td>\n",
       "      <td>270</td>\n",
       "      <td>Jamaica Plain</td>\n",
       "      <td>2</td>\n",
       "    </tr>\n",
       "    <tr>\n",
       "      <th>2</th>\n",
       "      <td>3301</td>\n",
       "      <td>Verbal Disputes</td>\n",
       "      <td>VERBAL DISPUTE</td>\n",
       "      <td>E13</td>\n",
       "      <td>583</td>\n",
       "      <td>NaN</td>\n",
       "      <td>2019-09-22</td>\n",
       "      <td>2019</td>\n",
       "      <td>9</td>\n",
       "      <td>Sunday</td>\n",
       "      <td>22</td>\n",
       "      <td>42.324692</td>\n",
       "      <td>-71.106189</td>\n",
       "      <td>270</td>\n",
       "      <td>Jamaica Plain</td>\n",
       "      <td>2</td>\n",
       "    </tr>\n",
       "    <tr>\n",
       "      <th>3</th>\n",
       "      <td>802</td>\n",
       "      <td>Simple Assault</td>\n",
       "      <td>ASSAULT SIMPLE - BATTERY</td>\n",
       "      <td>E13</td>\n",
       "      <td>583</td>\n",
       "      <td>NaN</td>\n",
       "      <td>2019-09-22</td>\n",
       "      <td>2019</td>\n",
       "      <td>9</td>\n",
       "      <td>Sunday</td>\n",
       "      <td>19</td>\n",
       "      <td>42.324248</td>\n",
       "      <td>-71.105252</td>\n",
       "      <td>270</td>\n",
       "      <td>Jamaica Plain</td>\n",
       "      <td>2</td>\n",
       "    </tr>\n",
       "    <tr>\n",
       "      <th>4</th>\n",
       "      <td>3114</td>\n",
       "      <td>Investigate Property</td>\n",
       "      <td>INVESTIGATE PROPERTY</td>\n",
       "      <td>E13</td>\n",
       "      <td>583</td>\n",
       "      <td>NaN</td>\n",
       "      <td>2019-09-15</td>\n",
       "      <td>2019</td>\n",
       "      <td>9</td>\n",
       "      <td>Sunday</td>\n",
       "      <td>18</td>\n",
       "      <td>42.325064</td>\n",
       "      <td>-71.104900</td>\n",
       "      <td>270</td>\n",
       "      <td>Jamaica Plain</td>\n",
       "      <td>2</td>\n",
       "    </tr>\n",
       "  </tbody>\n",
       "</table>\n",
       "</div>"
      ],
      "text/plain": [
       "   offense_code    offense_code_group       offense_description district  \\\n",
       "0          3301                   NaN            VERBAL DISPUTE      E13   \n",
       "1          1402             Vandalism                 VANDALISM      E13   \n",
       "2          3301       Verbal Disputes            VERBAL DISPUTE      E13   \n",
       "3           802        Simple Assault  ASSAULT SIMPLE - BATTERY      E13   \n",
       "4          3114  Investigate Property      INVESTIGATE PROPERTY      E13   \n",
       "\n",
       "  reporting_area shooting occurred_on_date  year  month day_of_week  hour  \\\n",
       "0            583        0       2019-12-20  2019     12      Friday     3   \n",
       "1            583      NaN       2019-09-22  2019      9      Sunday    19   \n",
       "2            583      NaN       2019-09-22  2019      9      Sunday    22   \n",
       "3            583      NaN       2019-09-22  2019      9      Sunday    19   \n",
       "4            583      NaN       2019-09-15  2019      9      Sunday    18   \n",
       "\n",
       "         lat       long  reporting_cluster   neighborhood  census_cluster  \n",
       "0  42.325122 -71.107779                270  Jamaica Plain               2  \n",
       "1  42.324692 -71.106189                270  Jamaica Plain               2  \n",
       "2  42.324692 -71.106189                270  Jamaica Plain               2  \n",
       "3  42.324248 -71.105252                270  Jamaica Plain               2  \n",
       "4  42.325064 -71.104900                270  Jamaica Plain               2  "
      ]
     },
     "execution_count": 51,
     "metadata": {},
     "output_type": "execute_result"
    }
   ],
   "source": [
    "data.head()"
   ]
  },
  {
   "cell_type": "code",
   "execution_count": 52,
   "metadata": {
    "ExecuteTime": {
     "end_time": "2020-06-25T22:45:00.944197Z",
     "start_time": "2020-06-25T22:45:00.745594Z"
    }
   },
   "outputs": [
    {
     "name": "stdout",
     "output_type": "stream",
     "text": [
      "<class 'pandas.core.frame.DataFrame'>\n",
      "Int64Index: 361418 entries, 0 to 361417\n",
      "Data columns (total 16 columns):\n",
      " #   Column               Non-Null Count   Dtype  \n",
      "---  ------               --------------   -----  \n",
      " 0   offense_code         361418 non-null  int64  \n",
      " 1   offense_code_group   340548 non-null  object \n",
      " 2   offense_description  361418 non-null  object \n",
      " 3   district             361394 non-null  object \n",
      " 4   reporting_area       361418 non-null  object \n",
      " 5   shooting             22023 non-null   object \n",
      " 6   occurred_on_date     361418 non-null  object \n",
      " 7   year                 361418 non-null  int64  \n",
      " 8   month                361418 non-null  int64  \n",
      " 9   day_of_week          361418 non-null  object \n",
      " 10  hour                 361418 non-null  int64  \n",
      " 11  lat                  358287 non-null  float64\n",
      " 12  long                 358287 non-null  float64\n",
      " 13  reporting_cluster    361418 non-null  int32  \n",
      " 14  neighborhood         361418 non-null  object \n",
      " 15  census_cluster       361418 non-null  int64  \n",
      "dtypes: float64(2), int32(1), int64(5), object(8)\n",
      "memory usage: 45.5+ MB\n"
     ]
    }
   ],
   "source": [
    "data.info()"
   ]
  },
  {
   "cell_type": "code",
   "execution_count": null,
   "metadata": {},
   "outputs": [],
   "source": []
  },
  {
   "cell_type": "code",
   "execution_count": 53,
   "metadata": {
    "ExecuteTime": {
     "end_time": "2020-06-25T22:45:00.961639Z",
     "start_time": "2020-06-25T22:45:00.946302Z"
    }
   },
   "outputs": [
    {
     "data": {
      "text/html": [
       "<div>\n",
       "<style scoped>\n",
       "    .dataframe tbody tr th:only-of-type {\n",
       "        vertical-align: middle;\n",
       "    }\n",
       "\n",
       "    .dataframe tbody tr th {\n",
       "        vertical-align: top;\n",
       "    }\n",
       "\n",
       "    .dataframe thead th {\n",
       "        text-align: right;\n",
       "    }\n",
       "</style>\n",
       "<table border=\"1\" class=\"dataframe\">\n",
       "  <thead>\n",
       "    <tr style=\"text-align: right;\">\n",
       "      <th></th>\n",
       "      <th>Neighborho</th>\n",
       "      <th>census_clu</th>\n",
       "      <th>district</th>\n",
       "      <th>geometry</th>\n",
       "    </tr>\n",
       "  </thead>\n",
       "  <tbody>\n",
       "    <tr>\n",
       "      <th>0</th>\n",
       "      <td>Back Bay</td>\n",
       "      <td>2</td>\n",
       "      <td>A1</td>\n",
       "      <td>POLYGON ((-71.06262 42.35237, -71.06279 42.351...</td>\n",
       "    </tr>\n",
       "    <tr>\n",
       "      <th>1</th>\n",
       "      <td>Beacon Hill</td>\n",
       "      <td>2</td>\n",
       "      <td>A1</td>\n",
       "      <td>POLYGON ((-71.07751 42.35865, -71.07650 42.359...</td>\n",
       "    </tr>\n",
       "    <tr>\n",
       "      <th>2</th>\n",
       "      <td>Brighton</td>\n",
       "      <td>0</td>\n",
       "      <td>D14</td>\n",
       "      <td>POLYGON ((-71.16769 42.36009, -71.16686 42.360...</td>\n",
       "    </tr>\n",
       "    <tr>\n",
       "      <th>3</th>\n",
       "      <td>Charlestown</td>\n",
       "      <td>2</td>\n",
       "      <td>A15</td>\n",
       "      <td>POLYGON ((-71.05553 42.38724, -71.05502 42.386...</td>\n",
       "    </tr>\n",
       "    <tr>\n",
       "      <th>4</th>\n",
       "      <td>Dorchester</td>\n",
       "      <td>1</td>\n",
       "      <td>C11</td>\n",
       "      <td>POLYGON ((-71.04193 42.28938, -71.04191 42.289...</td>\n",
       "    </tr>\n",
       "  </tbody>\n",
       "</table>\n",
       "</div>"
      ],
      "text/plain": [
       "    Neighborho  census_clu district  \\\n",
       "0     Back Bay           2       A1   \n",
       "1  Beacon Hill           2       A1   \n",
       "2     Brighton           0      D14   \n",
       "3  Charlestown           2      A15   \n",
       "4   Dorchester           1      C11   \n",
       "\n",
       "                                            geometry  \n",
       "0  POLYGON ((-71.06262 42.35237, -71.06279 42.351...  \n",
       "1  POLYGON ((-71.07751 42.35865, -71.07650 42.359...  \n",
       "2  POLYGON ((-71.16769 42.36009, -71.16686 42.360...  \n",
       "3  POLYGON ((-71.05553 42.38724, -71.05502 42.386...  \n",
       "4  POLYGON ((-71.04193 42.28938, -71.04191 42.289...  "
      ]
     },
     "execution_count": 53,
     "metadata": {},
     "output_type": "execute_result"
    }
   ],
   "source": [
    "city_data.head()"
   ]
  },
  {
   "cell_type": "code",
   "execution_count": null,
   "metadata": {},
   "outputs": [],
   "source": []
  },
  {
   "cell_type": "code",
   "execution_count": null,
   "metadata": {},
   "outputs": [],
   "source": []
  },
  {
   "cell_type": "code",
   "execution_count": null,
   "metadata": {},
   "outputs": [],
   "source": []
  },
  {
   "cell_type": "code",
   "execution_count": null,
   "metadata": {},
   "outputs": [],
   "source": []
  },
  {
   "cell_type": "code",
   "execution_count": null,
   "metadata": {},
   "outputs": [],
   "source": []
  },
  {
   "cell_type": "code",
   "execution_count": null,
   "metadata": {},
   "outputs": [],
   "source": []
  },
  {
   "cell_type": "code",
   "execution_count": 54,
   "metadata": {
    "ExecuteTime": {
     "end_time": "2020-06-25T22:45:01.003709Z",
     "start_time": "2020-06-25T22:45:00.963110Z"
    }
   },
   "outputs": [
    {
     "data": {
      "text/html": [
       "<div>\n",
       "<style scoped>\n",
       "    .dataframe tbody tr th:only-of-type {\n",
       "        vertical-align: middle;\n",
       "    }\n",
       "\n",
       "    .dataframe tbody tr th {\n",
       "        vertical-align: top;\n",
       "    }\n",
       "\n",
       "    .dataframe thead th {\n",
       "        text-align: right;\n",
       "    }\n",
       "</style>\n",
       "<table border=\"1\" class=\"dataframe\">\n",
       "  <thead>\n",
       "    <tr style=\"text-align: right;\">\n",
       "      <th></th>\n",
       "      <th>offense_code_group</th>\n",
       "      <th>0</th>\n",
       "    </tr>\n",
       "  </thead>\n",
       "  <tbody>\n",
       "    <tr>\n",
       "      <th>0</th>\n",
       "      <td>Aggravated Assault</td>\n",
       "      <td>8416</td>\n",
       "    </tr>\n",
       "    <tr>\n",
       "      <th>1</th>\n",
       "      <td>Aircraft</td>\n",
       "      <td>44</td>\n",
       "    </tr>\n",
       "    <tr>\n",
       "      <th>2</th>\n",
       "      <td>Arson</td>\n",
       "      <td>95</td>\n",
       "    </tr>\n",
       "    <tr>\n",
       "      <th>3</th>\n",
       "      <td>Assembly or Gathering Violations</td>\n",
       "      <td>835</td>\n",
       "    </tr>\n",
       "    <tr>\n",
       "      <th>4</th>\n",
       "      <td>Auto Theft</td>\n",
       "      <td>4883</td>\n",
       "    </tr>\n",
       "    <tr>\n",
       "      <th>5</th>\n",
       "      <td>Auto Theft Recovery</td>\n",
       "      <td>1167</td>\n",
       "    </tr>\n",
       "    <tr>\n",
       "      <th>6</th>\n",
       "      <td>Ballistics</td>\n",
       "      <td>1099</td>\n",
       "    </tr>\n",
       "    <tr>\n",
       "      <th>7</th>\n",
       "      <td>Biological Threat</td>\n",
       "      <td>3</td>\n",
       "    </tr>\n",
       "    <tr>\n",
       "      <th>8</th>\n",
       "      <td>Bomb Hoax</td>\n",
       "      <td>84</td>\n",
       "    </tr>\n",
       "    <tr>\n",
       "      <th>9</th>\n",
       "      <td>Burglary - No Property Taken</td>\n",
       "      <td>1</td>\n",
       "    </tr>\n",
       "    <tr>\n",
       "      <th>10</th>\n",
       "      <td>Commercial Burglary</td>\n",
       "      <td>1369</td>\n",
       "    </tr>\n",
       "    <tr>\n",
       "      <th>11</th>\n",
       "      <td>Confidence Games</td>\n",
       "      <td>3236</td>\n",
       "    </tr>\n",
       "    <tr>\n",
       "      <th>12</th>\n",
       "      <td>Counterfeiting</td>\n",
       "      <td>1587</td>\n",
       "    </tr>\n",
       "    <tr>\n",
       "      <th>13</th>\n",
       "      <td>Criminal Harassment</td>\n",
       "      <td>113</td>\n",
       "    </tr>\n",
       "    <tr>\n",
       "      <th>14</th>\n",
       "      <td>Disorderly Conduct</td>\n",
       "      <td>2507</td>\n",
       "    </tr>\n",
       "    <tr>\n",
       "      <th>15</th>\n",
       "      <td>Drug Violation</td>\n",
       "      <td>16077</td>\n",
       "    </tr>\n",
       "    <tr>\n",
       "      <th>16</th>\n",
       "      <td>Embezzlement</td>\n",
       "      <td>339</td>\n",
       "    </tr>\n",
       "    <tr>\n",
       "      <th>17</th>\n",
       "      <td>Evading Fare</td>\n",
       "      <td>417</td>\n",
       "    </tr>\n",
       "    <tr>\n",
       "      <th>18</th>\n",
       "      <td>Explosives</td>\n",
       "      <td>22</td>\n",
       "    </tr>\n",
       "    <tr>\n",
       "      <th>19</th>\n",
       "      <td>Fire Related Reports</td>\n",
       "      <td>2056</td>\n",
       "    </tr>\n",
       "    <tr>\n",
       "      <th>20</th>\n",
       "      <td>Firearm Discovery</td>\n",
       "      <td>677</td>\n",
       "    </tr>\n",
       "    <tr>\n",
       "      <th>21</th>\n",
       "      <td>Firearm Violations</td>\n",
       "      <td>1834</td>\n",
       "    </tr>\n",
       "    <tr>\n",
       "      <th>22</th>\n",
       "      <td>Fraud</td>\n",
       "      <td>6966</td>\n",
       "    </tr>\n",
       "    <tr>\n",
       "      <th>23</th>\n",
       "      <td>Gambling</td>\n",
       "      <td>6</td>\n",
       "    </tr>\n",
       "    <tr>\n",
       "      <th>24</th>\n",
       "      <td>HOME INVASION</td>\n",
       "      <td>88</td>\n",
       "    </tr>\n",
       "    <tr>\n",
       "      <th>25</th>\n",
       "      <td>HUMAN TRAFFICKING</td>\n",
       "      <td>7</td>\n",
       "    </tr>\n",
       "    <tr>\n",
       "      <th>26</th>\n",
       "      <td>HUMAN TRAFFICKING - INVOLUNTARY SERVITUDE</td>\n",
       "      <td>4</td>\n",
       "    </tr>\n",
       "    <tr>\n",
       "      <th>27</th>\n",
       "      <td>Harassment</td>\n",
       "      <td>4997</td>\n",
       "    </tr>\n",
       "    <tr>\n",
       "      <th>28</th>\n",
       "      <td>Harbor Related Incidents</td>\n",
       "      <td>89</td>\n",
       "    </tr>\n",
       "    <tr>\n",
       "      <th>29</th>\n",
       "      <td>Homicide</td>\n",
       "      <td>173</td>\n",
       "    </tr>\n",
       "    <tr>\n",
       "      <th>30</th>\n",
       "      <td>INVESTIGATE PERSON</td>\n",
       "      <td>3</td>\n",
       "    </tr>\n",
       "    <tr>\n",
       "      <th>31</th>\n",
       "      <td>Investigate Person</td>\n",
       "      <td>20950</td>\n",
       "    </tr>\n",
       "    <tr>\n",
       "      <th>32</th>\n",
       "      <td>Investigate Property</td>\n",
       "      <td>13017</td>\n",
       "    </tr>\n",
       "    <tr>\n",
       "      <th>33</th>\n",
       "      <td>Landlord/Tenant Disputes</td>\n",
       "      <td>1141</td>\n",
       "    </tr>\n",
       "    <tr>\n",
       "      <th>34</th>\n",
       "      <td>Larceny</td>\n",
       "      <td>28426</td>\n",
       "    </tr>\n",
       "    <tr>\n",
       "      <th>35</th>\n",
       "      <td>Larceny From Motor Vehicle</td>\n",
       "      <td>10877</td>\n",
       "    </tr>\n",
       "    <tr>\n",
       "      <th>36</th>\n",
       "      <td>License Plate Related Incidents</td>\n",
       "      <td>639</td>\n",
       "    </tr>\n",
       "    <tr>\n",
       "      <th>37</th>\n",
       "      <td>License Violation</td>\n",
       "      <td>1891</td>\n",
       "    </tr>\n",
       "    <tr>\n",
       "      <th>38</th>\n",
       "      <td>Liquor Violation</td>\n",
       "      <td>1240</td>\n",
       "    </tr>\n",
       "    <tr>\n",
       "      <th>39</th>\n",
       "      <td>Manslaughter</td>\n",
       "      <td>8</td>\n",
       "    </tr>\n",
       "    <tr>\n",
       "      <th>40</th>\n",
       "      <td>Medical Assistance</td>\n",
       "      <td>27525</td>\n",
       "    </tr>\n",
       "    <tr>\n",
       "      <th>41</th>\n",
       "      <td>Missing Person Located</td>\n",
       "      <td>6085</td>\n",
       "    </tr>\n",
       "    <tr>\n",
       "      <th>42</th>\n",
       "      <td>Missing Person Reported</td>\n",
       "      <td>3988</td>\n",
       "    </tr>\n",
       "    <tr>\n",
       "      <th>43</th>\n",
       "      <td>Motor Vehicle Accident Response</td>\n",
       "      <td>34824</td>\n",
       "    </tr>\n",
       "    <tr>\n",
       "      <th>44</th>\n",
       "      <td>Offenses Against Child / Family</td>\n",
       "      <td>528</td>\n",
       "    </tr>\n",
       "    <tr>\n",
       "      <th>45</th>\n",
       "      <td>Operating Under the Influence</td>\n",
       "      <td>474</td>\n",
       "    </tr>\n",
       "    <tr>\n",
       "      <th>46</th>\n",
       "      <td>Other</td>\n",
       "      <td>19180</td>\n",
       "    </tr>\n",
       "    <tr>\n",
       "      <th>47</th>\n",
       "      <td>Other Burglary</td>\n",
       "      <td>451</td>\n",
       "    </tr>\n",
       "    <tr>\n",
       "      <th>48</th>\n",
       "      <td>Phone Call Complaints</td>\n",
       "      <td>40</td>\n",
       "    </tr>\n",
       "    <tr>\n",
       "      <th>49</th>\n",
       "      <td>Police Service Incidents</td>\n",
       "      <td>2919</td>\n",
       "    </tr>\n",
       "    <tr>\n",
       "      <th>50</th>\n",
       "      <td>Prisoner Related Incidents</td>\n",
       "      <td>275</td>\n",
       "    </tr>\n",
       "    <tr>\n",
       "      <th>51</th>\n",
       "      <td>Property Found</td>\n",
       "      <td>4132</td>\n",
       "    </tr>\n",
       "    <tr>\n",
       "      <th>52</th>\n",
       "      <td>Property Lost</td>\n",
       "      <td>11086</td>\n",
       "    </tr>\n",
       "    <tr>\n",
       "      <th>53</th>\n",
       "      <td>Property Related Damage</td>\n",
       "      <td>961</td>\n",
       "    </tr>\n",
       "    <tr>\n",
       "      <th>54</th>\n",
       "      <td>Prostitution</td>\n",
       "      <td>207</td>\n",
       "    </tr>\n",
       "    <tr>\n",
       "      <th>55</th>\n",
       "      <td>Recovered Stolen Property</td>\n",
       "      <td>1484</td>\n",
       "    </tr>\n",
       "    <tr>\n",
       "      <th>56</th>\n",
       "      <td>Residential Burglary</td>\n",
       "      <td>5357</td>\n",
       "    </tr>\n",
       "    <tr>\n",
       "      <th>57</th>\n",
       "      <td>Restraining Order Violations</td>\n",
       "      <td>1806</td>\n",
       "    </tr>\n",
       "    <tr>\n",
       "      <th>58</th>\n",
       "      <td>Robbery</td>\n",
       "      <td>4425</td>\n",
       "    </tr>\n",
       "    <tr>\n",
       "      <th>59</th>\n",
       "      <td>Search Warrants</td>\n",
       "      <td>1063</td>\n",
       "    </tr>\n",
       "    <tr>\n",
       "      <th>60</th>\n",
       "      <td>Service</td>\n",
       "      <td>298</td>\n",
       "    </tr>\n",
       "    <tr>\n",
       "      <th>61</th>\n",
       "      <td>Simple Assault</td>\n",
       "      <td>17319</td>\n",
       "    </tr>\n",
       "    <tr>\n",
       "      <th>62</th>\n",
       "      <td>Towed</td>\n",
       "      <td>12454</td>\n",
       "    </tr>\n",
       "    <tr>\n",
       "      <th>63</th>\n",
       "      <td>Vandalism</td>\n",
       "      <td>16462</td>\n",
       "    </tr>\n",
       "    <tr>\n",
       "      <th>64</th>\n",
       "      <td>Verbal Disputes</td>\n",
       "      <td>15849</td>\n",
       "    </tr>\n",
       "    <tr>\n",
       "      <th>65</th>\n",
       "      <td>Violations</td>\n",
       "      <td>5341</td>\n",
       "    </tr>\n",
       "    <tr>\n",
       "      <th>66</th>\n",
       "      <td>Warrant Arrests</td>\n",
       "      <td>8632</td>\n",
       "    </tr>\n",
       "  </tbody>\n",
       "</table>\n",
       "</div>"
      ],
      "text/plain": [
       "                           offense_code_group      0\n",
       "0                          Aggravated Assault   8416\n",
       "1                                    Aircraft     44\n",
       "2                                       Arson     95\n",
       "3            Assembly or Gathering Violations    835\n",
       "4                                  Auto Theft   4883\n",
       "5                         Auto Theft Recovery   1167\n",
       "6                                  Ballistics   1099\n",
       "7                           Biological Threat      3\n",
       "8                                   Bomb Hoax     84\n",
       "9                Burglary - No Property Taken      1\n",
       "10                        Commercial Burglary   1369\n",
       "11                           Confidence Games   3236\n",
       "12                             Counterfeiting   1587\n",
       "13                        Criminal Harassment    113\n",
       "14                         Disorderly Conduct   2507\n",
       "15                             Drug Violation  16077\n",
       "16                               Embezzlement    339\n",
       "17                               Evading Fare    417\n",
       "18                                 Explosives     22\n",
       "19                       Fire Related Reports   2056\n",
       "20                          Firearm Discovery    677\n",
       "21                         Firearm Violations   1834\n",
       "22                                      Fraud   6966\n",
       "23                                   Gambling      6\n",
       "24                              HOME INVASION     88\n",
       "25                          HUMAN TRAFFICKING      7\n",
       "26  HUMAN TRAFFICKING - INVOLUNTARY SERVITUDE      4\n",
       "27                                 Harassment   4997\n",
       "28                   Harbor Related Incidents     89\n",
       "29                                   Homicide    173\n",
       "30                         INVESTIGATE PERSON      3\n",
       "31                         Investigate Person  20950\n",
       "32                       Investigate Property  13017\n",
       "33                   Landlord/Tenant Disputes   1141\n",
       "34                                    Larceny  28426\n",
       "35                 Larceny From Motor Vehicle  10877\n",
       "36            License Plate Related Incidents    639\n",
       "37                          License Violation   1891\n",
       "38                           Liquor Violation   1240\n",
       "39                               Manslaughter      8\n",
       "40                         Medical Assistance  27525\n",
       "41                     Missing Person Located   6085\n",
       "42                    Missing Person Reported   3988\n",
       "43            Motor Vehicle Accident Response  34824\n",
       "44            Offenses Against Child / Family    528\n",
       "45              Operating Under the Influence    474\n",
       "46                                      Other  19180\n",
       "47                             Other Burglary    451\n",
       "48                      Phone Call Complaints     40\n",
       "49                   Police Service Incidents   2919\n",
       "50                 Prisoner Related Incidents    275\n",
       "51                             Property Found   4132\n",
       "52                              Property Lost  11086\n",
       "53                    Property Related Damage    961\n",
       "54                               Prostitution    207\n",
       "55                  Recovered Stolen Property   1484\n",
       "56                       Residential Burglary   5357\n",
       "57               Restraining Order Violations   1806\n",
       "58                                    Robbery   4425\n",
       "59                            Search Warrants   1063\n",
       "60                                    Service    298\n",
       "61                             Simple Assault  17319\n",
       "62                                      Towed  12454\n",
       "63                                  Vandalism  16462\n",
       "64                            Verbal Disputes  15849\n",
       "65                                 Violations   5341\n",
       "66                            Warrant Arrests   8632"
      ]
     },
     "execution_count": 54,
     "metadata": {},
     "output_type": "execute_result"
    }
   ],
   "source": [
    "data_offense_codes = data.groupby(['offense_code_group']).size().reset_index()\n",
    "data_offense_codes"
   ]
  },
  {
   "cell_type": "code",
   "execution_count": 55,
   "metadata": {
    "ExecuteTime": {
     "end_time": "2020-06-25T22:45:01.026742Z",
     "start_time": "2020-06-25T22:45:01.005433Z"
    }
   },
   "outputs": [
    {
     "data": {
      "text/plain": [
       "258"
      ]
     },
     "execution_count": 55,
     "metadata": {},
     "output_type": "execute_result"
    }
   ],
   "source": [
    "# Unique offenses\n",
    "data['offense_description'].nunique()"
   ]
  },
  {
   "cell_type": "code",
   "execution_count": 56,
   "metadata": {
    "ExecuteTime": {
     "end_time": "2020-06-25T22:45:01.369384Z",
     "start_time": "2020-06-25T22:45:01.028202Z"
    },
    "scrolled": false
   },
   "outputs": [
    {
     "name": "stderr",
     "output_type": "stream",
     "text": [
      "/Users/derekmcadam/opt/anaconda3/envs/dsi/lib/python3.7/site-packages/pandas/core/generic.py:6245: SettingWithCopyWarning: \n",
      "A value is trying to be set on a copy of a slice from a DataFrame\n",
      "\n",
      "See the caveats in the documentation: https://pandas.pydata.org/pandas-docs/stable/user_guide/indexing.html#returning-a-view-versus-a-copy\n",
      "  self._update_inplace(new_data)\n"
     ]
    }
   ],
   "source": [
    "data.loc[data['offense_description'].str.contains('sex offense', case=False), :]['offense_code_group'].fillna('SEX OFFENSE', inplace=True)"
   ]
  },
  {
   "cell_type": "code",
   "execution_count": 57,
   "metadata": {
    "ExecuteTime": {
     "end_time": "2020-06-25T22:46:59.587984Z",
     "start_time": "2020-06-25T22:45:01.371817Z"
    }
   },
   "outputs": [],
   "source": [
    "violent_crime_list = ['sex offense', 'assault', 'manslaughter', 'human trafficking' 'criminal harrassment', 'murder']\n",
    "\n",
    "violent_crime = data.loc[data['offense_description'].str.contains('|'.join(violent_crime_list), case=False)]\n",
    "\n",
    "data['is_violent'] = data['offense_description'].transform(lambda x: 1 if x in violent_crime['offense_description'].values else 0)"
   ]
  },
  {
   "cell_type": "code",
   "execution_count": 58,
   "metadata": {
    "ExecuteTime": {
     "end_time": "2020-06-25T22:50:50.083713Z",
     "start_time": "2020-06-25T22:46:59.589751Z"
    }
   },
   "outputs": [],
   "source": [
    "property_crime_list = ['auto theft', 'larceny', 'home invasion', 'robbery', 'burglary', 'b&e']\n",
    "\n",
    "property_crime = data.loc[data['offense_description'].str.contains('|'.join(property_crime_list), case=False)]\n",
    "\n",
    "data['is_property'] = data['offense_description'].transform(lambda x: 1 if x in property_crime['offense_description'].values else 0)"
   ]
  },
  {
   "cell_type": "code",
   "execution_count": 59,
   "metadata": {
    "ExecuteTime": {
     "end_time": "2020-06-25T22:51:55.451668Z",
     "start_time": "2020-06-25T22:50:50.084868Z"
    }
   },
   "outputs": [],
   "source": [
    "drug_crime = data.loc[data['offense_description'].str.contains('drug', case=False)]\n",
    "\n",
    "data['is_drug'] = data['offense_description'].transform(lambda x: 1 if x in drug_crime['offense_description'].values else 0)"
   ]
  },
  {
   "cell_type": "code",
   "execution_count": 60,
   "metadata": {
    "ExecuteTime": {
     "end_time": "2020-06-25T22:56:02.089999Z",
     "start_time": "2020-06-25T22:51:55.453281Z"
    }
   },
   "outputs": [],
   "source": [
    "data['is_other'] = data['offense_description'].transform(lambda x: 1 if x not in property_crime['offense_description'].values or \n",
    "                                                     x not in violent_crime['offense_description'].values or \n",
    "                                                     x not in drug_crime['offense_description'].values else 0)"
   ]
  },
  {
   "cell_type": "code",
   "execution_count": 61,
   "metadata": {
    "ExecuteTime": {
     "end_time": "2020-06-25T22:56:02.115619Z",
     "start_time": "2020-06-25T22:56:02.091718Z"
    }
   },
   "outputs": [],
   "source": [
    "null_lats = data.loc[data['lat'].isna(), :]"
   ]
  },
  {
   "cell_type": "code",
   "execution_count": 62,
   "metadata": {
    "ExecuteTime": {
     "end_time": "2020-06-25T22:56:02.170237Z",
     "start_time": "2020-06-25T22:56:02.117126Z"
    }
   },
   "outputs": [],
   "source": [
    "data.drop(index=null_lats.index, axis=0, inplace=True)"
   ]
  },
  {
   "cell_type": "markdown",
   "metadata": {},
   "source": [
    "### EDA Visualizations"
   ]
  },
  {
   "cell_type": "code",
   "execution_count": 63,
   "metadata": {
    "ExecuteTime": {
     "end_time": "2020-06-25T22:56:02.186757Z",
     "start_time": "2020-06-25T22:56:02.172085Z"
    }
   },
   "outputs": [
    {
     "data": {
      "text/html": [
       "<div>\n",
       "<style scoped>\n",
       "    .dataframe tbody tr th:only-of-type {\n",
       "        vertical-align: middle;\n",
       "    }\n",
       "\n",
       "    .dataframe tbody tr th {\n",
       "        vertical-align: top;\n",
       "    }\n",
       "\n",
       "    .dataframe thead th {\n",
       "        text-align: right;\n",
       "    }\n",
       "</style>\n",
       "<table border=\"1\" class=\"dataframe\">\n",
       "  <thead>\n",
       "    <tr style=\"text-align: right;\">\n",
       "      <th></th>\n",
       "      <th>offense_code</th>\n",
       "      <th>offense_code_group</th>\n",
       "      <th>offense_description</th>\n",
       "      <th>district</th>\n",
       "      <th>reporting_area</th>\n",
       "      <th>shooting</th>\n",
       "      <th>occurred_on_date</th>\n",
       "      <th>year</th>\n",
       "      <th>month</th>\n",
       "      <th>day_of_week</th>\n",
       "      <th>hour</th>\n",
       "      <th>lat</th>\n",
       "      <th>long</th>\n",
       "      <th>reporting_cluster</th>\n",
       "      <th>neighborhood</th>\n",
       "      <th>census_cluster</th>\n",
       "      <th>is_violent</th>\n",
       "      <th>is_property</th>\n",
       "      <th>is_drug</th>\n",
       "      <th>is_other</th>\n",
       "    </tr>\n",
       "  </thead>\n",
       "  <tbody>\n",
       "    <tr>\n",
       "      <th>0</th>\n",
       "      <td>3301</td>\n",
       "      <td>NaN</td>\n",
       "      <td>VERBAL DISPUTE</td>\n",
       "      <td>E13</td>\n",
       "      <td>583</td>\n",
       "      <td>0</td>\n",
       "      <td>2019-12-20</td>\n",
       "      <td>2019</td>\n",
       "      <td>12</td>\n",
       "      <td>Friday</td>\n",
       "      <td>3</td>\n",
       "      <td>42.325122</td>\n",
       "      <td>-71.107779</td>\n",
       "      <td>270</td>\n",
       "      <td>Jamaica Plain</td>\n",
       "      <td>2</td>\n",
       "      <td>0</td>\n",
       "      <td>0</td>\n",
       "      <td>0</td>\n",
       "      <td>1</td>\n",
       "    </tr>\n",
       "    <tr>\n",
       "      <th>1</th>\n",
       "      <td>1402</td>\n",
       "      <td>Vandalism</td>\n",
       "      <td>VANDALISM</td>\n",
       "      <td>E13</td>\n",
       "      <td>583</td>\n",
       "      <td>NaN</td>\n",
       "      <td>2019-09-22</td>\n",
       "      <td>2019</td>\n",
       "      <td>9</td>\n",
       "      <td>Sunday</td>\n",
       "      <td>19</td>\n",
       "      <td>42.324692</td>\n",
       "      <td>-71.106189</td>\n",
       "      <td>270</td>\n",
       "      <td>Jamaica Plain</td>\n",
       "      <td>2</td>\n",
       "      <td>0</td>\n",
       "      <td>0</td>\n",
       "      <td>0</td>\n",
       "      <td>1</td>\n",
       "    </tr>\n",
       "    <tr>\n",
       "      <th>2</th>\n",
       "      <td>3301</td>\n",
       "      <td>Verbal Disputes</td>\n",
       "      <td>VERBAL DISPUTE</td>\n",
       "      <td>E13</td>\n",
       "      <td>583</td>\n",
       "      <td>NaN</td>\n",
       "      <td>2019-09-22</td>\n",
       "      <td>2019</td>\n",
       "      <td>9</td>\n",
       "      <td>Sunday</td>\n",
       "      <td>22</td>\n",
       "      <td>42.324692</td>\n",
       "      <td>-71.106189</td>\n",
       "      <td>270</td>\n",
       "      <td>Jamaica Plain</td>\n",
       "      <td>2</td>\n",
       "      <td>0</td>\n",
       "      <td>0</td>\n",
       "      <td>0</td>\n",
       "      <td>1</td>\n",
       "    </tr>\n",
       "    <tr>\n",
       "      <th>3</th>\n",
       "      <td>802</td>\n",
       "      <td>Simple Assault</td>\n",
       "      <td>ASSAULT SIMPLE - BATTERY</td>\n",
       "      <td>E13</td>\n",
       "      <td>583</td>\n",
       "      <td>NaN</td>\n",
       "      <td>2019-09-22</td>\n",
       "      <td>2019</td>\n",
       "      <td>9</td>\n",
       "      <td>Sunday</td>\n",
       "      <td>19</td>\n",
       "      <td>42.324248</td>\n",
       "      <td>-71.105252</td>\n",
       "      <td>270</td>\n",
       "      <td>Jamaica Plain</td>\n",
       "      <td>2</td>\n",
       "      <td>1</td>\n",
       "      <td>0</td>\n",
       "      <td>0</td>\n",
       "      <td>1</td>\n",
       "    </tr>\n",
       "    <tr>\n",
       "      <th>4</th>\n",
       "      <td>3114</td>\n",
       "      <td>Investigate Property</td>\n",
       "      <td>INVESTIGATE PROPERTY</td>\n",
       "      <td>E13</td>\n",
       "      <td>583</td>\n",
       "      <td>NaN</td>\n",
       "      <td>2019-09-15</td>\n",
       "      <td>2019</td>\n",
       "      <td>9</td>\n",
       "      <td>Sunday</td>\n",
       "      <td>18</td>\n",
       "      <td>42.325064</td>\n",
       "      <td>-71.104900</td>\n",
       "      <td>270</td>\n",
       "      <td>Jamaica Plain</td>\n",
       "      <td>2</td>\n",
       "      <td>0</td>\n",
       "      <td>0</td>\n",
       "      <td>0</td>\n",
       "      <td>1</td>\n",
       "    </tr>\n",
       "  </tbody>\n",
       "</table>\n",
       "</div>"
      ],
      "text/plain": [
       "   offense_code    offense_code_group       offense_description district  \\\n",
       "0          3301                   NaN            VERBAL DISPUTE      E13   \n",
       "1          1402             Vandalism                 VANDALISM      E13   \n",
       "2          3301       Verbal Disputes            VERBAL DISPUTE      E13   \n",
       "3           802        Simple Assault  ASSAULT SIMPLE - BATTERY      E13   \n",
       "4          3114  Investigate Property      INVESTIGATE PROPERTY      E13   \n",
       "\n",
       "  reporting_area shooting occurred_on_date  year  month day_of_week  hour  \\\n",
       "0            583        0       2019-12-20  2019     12      Friday     3   \n",
       "1            583      NaN       2019-09-22  2019      9      Sunday    19   \n",
       "2            583      NaN       2019-09-22  2019      9      Sunday    22   \n",
       "3            583      NaN       2019-09-22  2019      9      Sunday    19   \n",
       "4            583      NaN       2019-09-15  2019      9      Sunday    18   \n",
       "\n",
       "         lat       long  reporting_cluster   neighborhood  census_cluster  \\\n",
       "0  42.325122 -71.107779                270  Jamaica Plain               2   \n",
       "1  42.324692 -71.106189                270  Jamaica Plain               2   \n",
       "2  42.324692 -71.106189                270  Jamaica Plain               2   \n",
       "3  42.324248 -71.105252                270  Jamaica Plain               2   \n",
       "4  42.325064 -71.104900                270  Jamaica Plain               2   \n",
       "\n",
       "   is_violent  is_property  is_drug  is_other  \n",
       "0           0            0        0         1  \n",
       "1           0            0        0         1  \n",
       "2           0            0        0         1  \n",
       "3           1            0        0         1  \n",
       "4           0            0        0         1  "
      ]
     },
     "execution_count": 63,
     "metadata": {},
     "output_type": "execute_result"
    }
   ],
   "source": [
    "data.head()"
   ]
  },
  {
   "cell_type": "code",
   "execution_count": 64,
   "metadata": {
    "ExecuteTime": {
     "end_time": "2020-06-25T22:56:02.308409Z",
     "start_time": "2020-06-25T22:56:02.188381Z"
    }
   },
   "outputs": [
    {
     "name": "stdout",
     "output_type": "stream",
     "text": [
      "<class 'pandas.core.frame.DataFrame'>\n",
      "Int64Index: 358287 entries, 0 to 361417\n",
      "Data columns (total 20 columns):\n",
      " #   Column               Non-Null Count   Dtype  \n",
      "---  ------               --------------   -----  \n",
      " 0   offense_code         358287 non-null  int64  \n",
      " 1   offense_code_group   337571 non-null  object \n",
      " 2   offense_description  358287 non-null  object \n",
      " 3   district             358282 non-null  object \n",
      " 4   reporting_area       358287 non-null  object \n",
      " 5   shooting             21854 non-null   object \n",
      " 6   occurred_on_date     358287 non-null  object \n",
      " 7   year                 358287 non-null  int64  \n",
      " 8   month                358287 non-null  int64  \n",
      " 9   day_of_week          358287 non-null  object \n",
      " 10  hour                 358287 non-null  int64  \n",
      " 11  lat                  358287 non-null  float64\n",
      " 12  long                 358287 non-null  float64\n",
      " 13  reporting_cluster    358287 non-null  int32  \n",
      " 14  neighborhood         358287 non-null  object \n",
      " 15  census_cluster       358287 non-null  int64  \n",
      " 16  is_violent           358287 non-null  int64  \n",
      " 17  is_property          358287 non-null  int64  \n",
      " 18  is_drug              358287 non-null  int64  \n",
      " 19  is_other             358287 non-null  int64  \n",
      "dtypes: float64(2), int32(1), int64(9), object(8)\n",
      "memory usage: 56.0+ MB\n"
     ]
    }
   ],
   "source": [
    "data.info()"
   ]
  },
  {
   "cell_type": "code",
   "execution_count": 65,
   "metadata": {
    "ExecuteTime": {
     "end_time": "2020-06-25T22:56:02.411959Z",
     "start_time": "2020-06-25T22:56:02.309904Z"
    }
   },
   "outputs": [
    {
     "data": {
      "text/plain": [
       "offense_code                0\n",
       "offense_code_group      20716\n",
       "offense_description         0\n",
       "district                    5\n",
       "reporting_area              0\n",
       "shooting               336433\n",
       "occurred_on_date            0\n",
       "year                        0\n",
       "month                       0\n",
       "day_of_week                 0\n",
       "hour                        0\n",
       "lat                         0\n",
       "long                        0\n",
       "reporting_cluster           0\n",
       "neighborhood                0\n",
       "census_cluster              0\n",
       "is_violent                  0\n",
       "is_property                 0\n",
       "is_drug                     0\n",
       "is_other                    0\n",
       "dtype: int64"
      ]
     },
     "execution_count": 65,
     "metadata": {},
     "output_type": "execute_result"
    }
   ],
   "source": [
    "data.isnull().sum()"
   ]
  },
  {
   "cell_type": "code",
   "execution_count": 66,
   "metadata": {
    "ExecuteTime": {
     "end_time": "2020-06-25T22:56:02.423325Z",
     "start_time": "2020-06-25T22:56:02.413497Z"
    }
   },
   "outputs": [
    {
     "data": {
      "text/plain": [
       "array(['0', nan, 0, 'Y', 1], dtype=object)"
      ]
     },
     "execution_count": 66,
     "metadata": {},
     "output_type": "execute_result"
    }
   ],
   "source": [
    "data['shooting'].unique()"
   ]
  },
  {
   "cell_type": "code",
   "execution_count": 67,
   "metadata": {
    "ExecuteTime": {
     "end_time": "2020-06-25T22:56:02.453089Z",
     "start_time": "2020-06-25T22:56:02.424866Z"
    }
   },
   "outputs": [],
   "source": [
    "data['shooting'] = data['shooting'].map({'0':0, 'Y':1}).fillna(0)"
   ]
  },
  {
   "cell_type": "code",
   "execution_count": 68,
   "metadata": {
    "ExecuteTime": {
     "end_time": "2020-06-25T22:56:02.553271Z",
     "start_time": "2020-06-25T22:56:02.454734Z"
    }
   },
   "outputs": [
    {
     "data": {
      "text/plain": [
       "offense_code               0\n",
       "offense_code_group     20716\n",
       "offense_description        0\n",
       "district                   5\n",
       "reporting_area             0\n",
       "shooting                   0\n",
       "occurred_on_date           0\n",
       "year                       0\n",
       "month                      0\n",
       "day_of_week                0\n",
       "hour                       0\n",
       "lat                        0\n",
       "long                       0\n",
       "reporting_cluster          0\n",
       "neighborhood               0\n",
       "census_cluster             0\n",
       "is_violent                 0\n",
       "is_property                0\n",
       "is_drug                    0\n",
       "is_other                   0\n",
       "dtype: int64"
      ]
     },
     "execution_count": 68,
     "metadata": {},
     "output_type": "execute_result"
    }
   ],
   "source": [
    "data.isnull().sum()"
   ]
  },
  {
   "cell_type": "code",
   "execution_count": 69,
   "metadata": {
    "ExecuteTime": {
     "end_time": "2020-06-25T22:56:02.660389Z",
     "start_time": "2020-06-25T22:56:02.554846Z"
    }
   },
   "outputs": [
    {
     "data": {
      "image/png": "[encoded data removed]",
      "text/plain": [
       "<Figure size 432x288 with 1 Axes>"
      ]
     },
     "metadata": {},
     "output_type": "display_data"
    }
   ],
   "source": [
    "data['year'].value_counts().sort_index().plot(kind='bar', color='skyblue')\n",
    "plt.title('Police Calls YoY');"
   ]
  },
  {
   "cell_type": "code",
   "execution_count": 70,
   "metadata": {
    "ExecuteTime": {
     "end_time": "2020-06-25T22:56:02.781843Z",
     "start_time": "2020-06-25T22:56:02.661832Z"
    },
    "scrolled": true
   },
   "outputs": [
    {
     "data": {
      "image/png": "[encoded data removed]",
      "text/plain": [
       "<Figure size 432x288 with 1 Axes>"
      ]
     },
     "metadata": {},
     "output_type": "display_data"
    }
   ],
   "source": [
    "data['month'].value_counts().sort_index().plot(kind='bar', color='skyblue')\n",
    "plt.title('Police Calls per Month');"
   ]
  },
  {
   "cell_type": "code",
   "execution_count": 71,
   "metadata": {
    "ExecuteTime": {
     "end_time": "2020-06-25T22:56:02.957492Z",
     "start_time": "2020-06-25T22:56:02.784174Z"
    }
   },
   "outputs": [
    {
     "data": {
      "image/png": "[encoded data removed]",
      "text/plain": [
       "<Figure size 432x288 with 1 Axes>"
      ]
     },
     "metadata": {},
     "output_type": "display_data"
    }
   ],
   "source": [
    "data['hour'].value_counts().sort_index().plot(kind='bar', color='skyblue')\n",
    "plt.title('Police Calls by Hour')\n",
    "plt.xticks(rotation='horizontal');\n"
   ]
  },
  {
   "cell_type": "code",
   "execution_count": 72,
   "metadata": {
    "ExecuteTime": {
     "end_time": "2020-06-25T22:56:02.990240Z",
     "start_time": "2020-06-25T22:56:02.959026Z"
    }
   },
   "outputs": [],
   "source": [
    "data['day_of_week'] = pd.Categorical(data['day_of_week'], \n",
    "              categories=['Monday','Tuesday','Wednesday','Thursday','Friday','Saturday','Sunday'],\n",
    "              ordered=True)"
   ]
  },
  {
   "cell_type": "code",
   "execution_count": 73,
   "metadata": {
    "ExecuteTime": {
     "end_time": "2020-06-25T22:56:03.105788Z",
     "start_time": "2020-06-25T22:56:02.991790Z"
    }
   },
   "outputs": [
    {
     "data": {
      "image/png": "[encoded data removed]",
      "text/plain": [
       "<Figure size 432x288 with 1 Axes>"
      ]
     },
     "metadata": {},
     "output_type": "display_data"
    }
   ],
   "source": [
    "data['day_of_week'].value_counts().sort_index().plot(kind='bar', color='skyblue')\n",
    "plt.title('Police Calls by Day of Week');"
   ]
  },
  {
   "cell_type": "code",
   "execution_count": 74,
   "metadata": {
    "ExecuteTime": {
     "end_time": "2020-06-25T22:56:03.318857Z",
     "start_time": "2020-06-25T22:56:03.107401Z"
    }
   },
   "outputs": [
    {
     "data": {
      "image/png": "[encoded data removed]",
      "text/plain": [
       "<Figure size 432x288 with 1 Axes>"
      ]
     },
     "metadata": {},
     "output_type": "display_data"
    }
   ],
   "source": [
    "data['district'].value_counts().sort_values(ascending=False).plot(kind='bar', color='skyblue')\n",
    "plt.title('Police Calls by District');"
   ]
  },
  {
   "cell_type": "code",
   "execution_count": 84,
   "metadata": {
    "ExecuteTime": {
     "end_time": "2020-06-25T22:56:18.957852Z",
     "start_time": "2020-06-25T22:56:18.849098Z"
    }
   },
   "outputs": [
    {
     "data": {
      "image/png": "[encoded data removed]",
      "text/plain": [
       "<Figure size 432x288 with 1 Axes>"
      ]
     },
     "metadata": {},
     "output_type": "display_data"
    }
   ],
   "source": [
    "data['census_cluster'].value_counts().plot(kind='barh', color='skyblue')\n",
    "plt.title('Police Calls by Census Cluster');"
   ]
  },
  {
   "cell_type": "code",
   "execution_count": 85,
   "metadata": {
    "ExecuteTime": {
     "end_time": "2020-06-25T22:56:23.052883Z",
     "start_time": "2020-06-25T22:56:22.868550Z"
    }
   },
   "outputs": [
    {
     "data": {
      "image/png": "[encoded data removed]",
      "text/plain": [
       "<Figure size 432x288 with 1 Axes>"
      ]
     },
     "metadata": {},
     "output_type": "display_data"
    }
   ],
   "source": [
    "data['neighborhood'].value_counts().plot(kind='barh', color='skyblue')\n",
    "plt.title('Police Calls by Neighborhood');"
   ]
  },
  {
   "cell_type": "markdown",
   "metadata": {},
   "source": [
    "### Weather Data Import"
   ]
  },
  {
   "cell_type": "code",
   "execution_count": 77,
   "metadata": {
    "ExecuteTime": {
     "end_time": "2020-06-25T22:56:03.659694Z",
     "start_time": "2020-06-25T22:56:03.611702Z"
    }
   },
   "outputs": [
    {
     "data": {
      "text/plain": [
       "datetime.date(2016, 1, 1)"
      ]
     },
     "execution_count": 77,
     "metadata": {},
     "output_type": "execute_result"
    }
   ],
   "source": [
    "data['occurred_on_date'].min()"
   ]
  },
  {
   "cell_type": "code",
   "execution_count": 78,
   "metadata": {
    "ExecuteTime": {
     "end_time": "2020-06-25T22:56:03.718667Z",
     "start_time": "2020-06-25T22:56:03.661618Z"
    }
   },
   "outputs": [
    {
     "data": {
      "text/plain": [
       "datetime.date(2019, 12, 31)"
      ]
     },
     "execution_count": 78,
     "metadata": {},
     "output_type": "execute_result"
    }
   ],
   "source": [
    "data['occurred_on_date'].max()"
   ]
  },
  {
   "cell_type": "code",
   "execution_count": 79,
   "metadata": {
    "ExecuteTime": {
     "end_time": "2020-06-25T22:56:03.730644Z",
     "start_time": "2020-06-25T22:56:03.720564Z"
    }
   },
   "outputs": [],
   "source": [
    "weather = pd.read_csv('boston,ma.csv')"
   ]
  },
  {
   "cell_type": "code",
   "execution_count": 80,
   "metadata": {
    "ExecuteTime": {
     "end_time": "2020-06-25T22:56:03.750821Z",
     "start_time": "2020-06-25T22:56:03.732725Z"
    }
   },
   "outputs": [
    {
     "data": {
      "text/html": [
       "<div>\n",
       "<style scoped>\n",
       "    .dataframe tbody tr th:only-of-type {\n",
       "        vertical-align: middle;\n",
       "    }\n",
       "\n",
       "    .dataframe tbody tr th {\n",
       "        vertical-align: top;\n",
       "    }\n",
       "\n",
       "    .dataframe thead th {\n",
       "        text-align: right;\n",
       "    }\n",
       "</style>\n",
       "<table border=\"1\" class=\"dataframe\">\n",
       "  <thead>\n",
       "    <tr style=\"text-align: right;\">\n",
       "      <th></th>\n",
       "      <th>date_time</th>\n",
       "      <th>boston,ma_maxtempC</th>\n",
       "      <th>boston,ma_mintempC</th>\n",
       "      <th>boston,ma_totalSnow_cm</th>\n",
       "      <th>boston,ma_sunHour</th>\n",
       "      <th>boston,ma_uvIndex</th>\n",
       "      <th>boston,ma_moon_illumination</th>\n",
       "      <th>boston,ma_moonrise</th>\n",
       "      <th>boston,ma_moonset</th>\n",
       "      <th>boston,ma_sunrise</th>\n",
       "      <th>boston,ma_sunset</th>\n",
       "      <th>boston,ma_DewPointC</th>\n",
       "      <th>boston,ma_FeelsLikeC</th>\n",
       "      <th>boston,ma_HeatIndexC</th>\n",
       "      <th>boston,ma_WindChillC</th>\n",
       "      <th>boston,ma_WindGustKmph</th>\n",
       "      <th>boston,ma_cloudcover</th>\n",
       "      <th>boston,ma_humidity</th>\n",
       "      <th>boston,ma_precipMM</th>\n",
       "      <th>boston,ma_pressure</th>\n",
       "      <th>boston,ma_tempC</th>\n",
       "      <th>boston,ma_visibility</th>\n",
       "      <th>boston,ma_winddirDegree</th>\n",
       "      <th>boston,ma_windspeedKmph</th>\n",
       "      <th>boston,ma_location</th>\n",
       "    </tr>\n",
       "  </thead>\n",
       "  <tbody>\n",
       "    <tr>\n",
       "      <th>0</th>\n",
       "      <td>2016-01-01</td>\n",
       "      <td>5</td>\n",
       "      <td>0</td>\n",
       "      <td>0.0</td>\n",
       "      <td>8.7</td>\n",
       "      <td>2</td>\n",
       "      <td>50</td>\n",
       "      <td>No moonrise</td>\n",
       "      <td>12:15 PM</td>\n",
       "      <td>08:13 AM</td>\n",
       "      <td>05:22 PM</td>\n",
       "      <td>-1</td>\n",
       "      <td>-2</td>\n",
       "      <td>2</td>\n",
       "      <td>-2</td>\n",
       "      <td>20</td>\n",
       "      <td>24</td>\n",
       "      <td>85</td>\n",
       "      <td>0.0</td>\n",
       "      <td>1014</td>\n",
       "      <td>5</td>\n",
       "      <td>10</td>\n",
       "      <td>260</td>\n",
       "      <td>13</td>\n",
       "      <td>boston,ma</td>\n",
       "    </tr>\n",
       "    <tr>\n",
       "      <th>1</th>\n",
       "      <td>2016-01-02</td>\n",
       "      <td>3</td>\n",
       "      <td>-2</td>\n",
       "      <td>0.0</td>\n",
       "      <td>8.7</td>\n",
       "      <td>2</td>\n",
       "      <td>43</td>\n",
       "      <td>12:53 AM</td>\n",
       "      <td>12:43 PM</td>\n",
       "      <td>08:13 AM</td>\n",
       "      <td>05:23 PM</td>\n",
       "      <td>-3</td>\n",
       "      <td>-3</td>\n",
       "      <td>1</td>\n",
       "      <td>-3</td>\n",
       "      <td>17</td>\n",
       "      <td>13</td>\n",
       "      <td>78</td>\n",
       "      <td>0.0</td>\n",
       "      <td>1014</td>\n",
       "      <td>3</td>\n",
       "      <td>10</td>\n",
       "      <td>259</td>\n",
       "      <td>12</td>\n",
       "      <td>boston,ma</td>\n",
       "    </tr>\n",
       "    <tr>\n",
       "      <th>2</th>\n",
       "      <td>2016-01-03</td>\n",
       "      <td>5</td>\n",
       "      <td>-5</td>\n",
       "      <td>0.0</td>\n",
       "      <td>8.7</td>\n",
       "      <td>2</td>\n",
       "      <td>36</td>\n",
       "      <td>01:50 AM</td>\n",
       "      <td>01:13 PM</td>\n",
       "      <td>08:13 AM</td>\n",
       "      <td>05:24 PM</td>\n",
       "      <td>-4</td>\n",
       "      <td>-2</td>\n",
       "      <td>1</td>\n",
       "      <td>-2</td>\n",
       "      <td>18</td>\n",
       "      <td>6</td>\n",
       "      <td>69</td>\n",
       "      <td>0.0</td>\n",
       "      <td>1010</td>\n",
       "      <td>5</td>\n",
       "      <td>10</td>\n",
       "      <td>250</td>\n",
       "      <td>12</td>\n",
       "      <td>boston,ma</td>\n",
       "    </tr>\n",
       "    <tr>\n",
       "      <th>3</th>\n",
       "      <td>2016-01-04</td>\n",
       "      <td>0</td>\n",
       "      <td>-5</td>\n",
       "      <td>1.9</td>\n",
       "      <td>5.2</td>\n",
       "      <td>2</td>\n",
       "      <td>28</td>\n",
       "      <td>02:47 AM</td>\n",
       "      <td>01:44 PM</td>\n",
       "      <td>08:13 AM</td>\n",
       "      <td>05:25 PM</td>\n",
       "      <td>-6</td>\n",
       "      <td>-8</td>\n",
       "      <td>-3</td>\n",
       "      <td>-8</td>\n",
       "      <td>29</td>\n",
       "      <td>67</td>\n",
       "      <td>77</td>\n",
       "      <td>2.4</td>\n",
       "      <td>1012</td>\n",
       "      <td>0</td>\n",
       "      <td>9</td>\n",
       "      <td>247</td>\n",
       "      <td>18</td>\n",
       "      <td>boston,ma</td>\n",
       "    </tr>\n",
       "    <tr>\n",
       "      <th>4</th>\n",
       "      <td>2016-01-05</td>\n",
       "      <td>-5</td>\n",
       "      <td>-13</td>\n",
       "      <td>0.0</td>\n",
       "      <td>8.7</td>\n",
       "      <td>2</td>\n",
       "      <td>21</td>\n",
       "      <td>03:45 AM</td>\n",
       "      <td>02:19 PM</td>\n",
       "      <td>08:13 AM</td>\n",
       "      <td>05:26 PM</td>\n",
       "      <td>-13</td>\n",
       "      <td>-12</td>\n",
       "      <td>-7</td>\n",
       "      <td>-12</td>\n",
       "      <td>15</td>\n",
       "      <td>4</td>\n",
       "      <td>62</td>\n",
       "      <td>0.0</td>\n",
       "      <td>1033</td>\n",
       "      <td>-5</td>\n",
       "      <td>10</td>\n",
       "      <td>308</td>\n",
       "      <td>12</td>\n",
       "      <td>boston,ma</td>\n",
       "    </tr>\n",
       "  </tbody>\n",
       "</table>\n",
       "</div>"
      ],
      "text/plain": [
       "    date_time  boston,ma_maxtempC  boston,ma_mintempC  boston,ma_totalSnow_cm  \\\n",
       "0  2016-01-01                   5                   0                     0.0   \n",
       "1  2016-01-02                   3                  -2                     0.0   \n",
       "2  2016-01-03                   5                  -5                     0.0   \n",
       "3  2016-01-04                   0                  -5                     1.9   \n",
       "4  2016-01-05                  -5                 -13                     0.0   \n",
       "\n",
       "   boston,ma_sunHour  boston,ma_uvIndex  boston,ma_moon_illumination  \\\n",
       "0                8.7                  2                           50   \n",
       "1                8.7                  2                           43   \n",
       "2                8.7                  2                           36   \n",
       "3                5.2                  2                           28   \n",
       "4                8.7                  2                           21   \n",
       "\n",
       "  boston,ma_moonrise boston,ma_moonset boston,ma_sunrise boston,ma_sunset  \\\n",
       "0        No moonrise          12:15 PM          08:13 AM         05:22 PM   \n",
       "1           12:53 AM          12:43 PM          08:13 AM         05:23 PM   \n",
       "2           01:50 AM          01:13 PM          08:13 AM         05:24 PM   \n",
       "3           02:47 AM          01:44 PM          08:13 AM         05:25 PM   \n",
       "4           03:45 AM          02:19 PM          08:13 AM         05:26 PM   \n",
       "\n",
       "   boston,ma_DewPointC  boston,ma_FeelsLikeC  boston,ma_HeatIndexC  \\\n",
       "0                   -1                    -2                     2   \n",
       "1                   -3                    -3                     1   \n",
       "2                   -4                    -2                     1   \n",
       "3                   -6                    -8                    -3   \n",
       "4                  -13                   -12                    -7   \n",
       "\n",
       "   boston,ma_WindChillC  boston,ma_WindGustKmph  boston,ma_cloudcover  \\\n",
       "0                    -2                      20                    24   \n",
       "1                    -3                      17                    13   \n",
       "2                    -2                      18                     6   \n",
       "3                    -8                      29                    67   \n",
       "4                   -12                      15                     4   \n",
       "\n",
       "   boston,ma_humidity  boston,ma_precipMM  boston,ma_pressure  \\\n",
       "0                  85                 0.0                1014   \n",
       "1                  78                 0.0                1014   \n",
       "2                  69                 0.0                1010   \n",
       "3                  77                 2.4                1012   \n",
       "4                  62                 0.0                1033   \n",
       "\n",
       "   boston,ma_tempC  boston,ma_visibility  boston,ma_winddirDegree  \\\n",
       "0                5                    10                      260   \n",
       "1                3                    10                      259   \n",
       "2                5                    10                      250   \n",
       "3                0                     9                      247   \n",
       "4               -5                    10                      308   \n",
       "\n",
       "   boston,ma_windspeedKmph boston,ma_location  \n",
       "0                       13          boston,ma  \n",
       "1                       12          boston,ma  \n",
       "2                       12          boston,ma  \n",
       "3                       18          boston,ma  \n",
       "4                       12          boston,ma  "
      ]
     },
     "execution_count": 80,
     "metadata": {},
     "output_type": "execute_result"
    }
   ],
   "source": [
    "weather.head()"
   ]
  },
  {
   "cell_type": "code",
   "execution_count": 90,
   "metadata": {
    "ExecuteTime": {
     "end_time": "2020-06-25T22:58:13.526695Z",
     "start_time": "2020-06-25T22:58:13.521943Z"
    }
   },
   "outputs": [],
   "source": [
    "weather['date_time'] = pd.to_datetime(weather['date_time']).dt.date"
   ]
  },
  {
   "cell_type": "code",
   "execution_count": 91,
   "metadata": {
    "ExecuteTime": {
     "end_time": "2020-06-25T22:58:14.909253Z",
     "start_time": "2020-06-25T22:58:14.906512Z"
    }
   },
   "outputs": [],
   "source": [
    "weather = weather[['date_time','boston,ma_precipMM','boston,ma_cloudcover','boston,ma_mintempC', 'boston,ma_maxtempC']]"
   ]
  },
  {
   "cell_type": "code",
   "execution_count": 92,
   "metadata": {
    "ExecuteTime": {
     "end_time": "2020-06-25T22:58:16.341373Z",
     "start_time": "2020-06-25T22:58:16.224603Z"
    }
   },
   "outputs": [],
   "source": [
    "data['occurred_on_date'] = pd.to_datetime(data['occurred_on_date']).dt.date"
   ]
  },
  {
   "cell_type": "code",
   "execution_count": 93,
   "metadata": {
    "ExecuteTime": {
     "end_time": "2020-06-25T22:58:17.885152Z",
     "start_time": "2020-06-25T22:58:17.722631Z"
    }
   },
   "outputs": [],
   "source": [
    "data = pd.merge(data, weather, how='left', left_on='occurred_on_date', right_on='date_time')"
   ]
  },
  {
   "cell_type": "code",
   "execution_count": 94,
   "metadata": {
    "ExecuteTime": {
     "end_time": "2020-06-25T22:58:19.239801Z",
     "start_time": "2020-06-25T22:58:19.222927Z"
    }
   },
   "outputs": [
    {
     "data": {
      "text/html": [
       "<div>\n",
       "<style scoped>\n",
       "    .dataframe tbody tr th:only-of-type {\n",
       "        vertical-align: middle;\n",
       "    }\n",
       "\n",
       "    .dataframe tbody tr th {\n",
       "        vertical-align: top;\n",
       "    }\n",
       "\n",
       "    .dataframe thead th {\n",
       "        text-align: right;\n",
       "    }\n",
       "</style>\n",
       "<table border=\"1\" class=\"dataframe\">\n",
       "  <thead>\n",
       "    <tr style=\"text-align: right;\">\n",
       "      <th></th>\n",
       "      <th>offense_code</th>\n",
       "      <th>offense_code_group</th>\n",
       "      <th>offense_description</th>\n",
       "      <th>district</th>\n",
       "      <th>reporting_area</th>\n",
       "      <th>shooting</th>\n",
       "      <th>occurred_on_date</th>\n",
       "      <th>year</th>\n",
       "      <th>month</th>\n",
       "      <th>day_of_week</th>\n",
       "      <th>hour</th>\n",
       "      <th>lat</th>\n",
       "      <th>long</th>\n",
       "      <th>reporting_cluster</th>\n",
       "      <th>neighborhood</th>\n",
       "      <th>census_cluster</th>\n",
       "      <th>is_violent</th>\n",
       "      <th>is_property</th>\n",
       "      <th>is_drug</th>\n",
       "      <th>is_other</th>\n",
       "      <th>date_time</th>\n",
       "      <th>boston,ma_precipMM</th>\n",
       "      <th>boston,ma_cloudcover</th>\n",
       "      <th>boston,ma_mintempC</th>\n",
       "      <th>boston,ma_maxtempC</th>\n",
       "    </tr>\n",
       "  </thead>\n",
       "  <tbody>\n",
       "    <tr>\n",
       "      <th>0</th>\n",
       "      <td>3301</td>\n",
       "      <td>NaN</td>\n",
       "      <td>VERBAL DISPUTE</td>\n",
       "      <td>E13</td>\n",
       "      <td>583</td>\n",
       "      <td>0.0</td>\n",
       "      <td>2019-12-20</td>\n",
       "      <td>2019</td>\n",
       "      <td>12</td>\n",
       "      <td>Friday</td>\n",
       "      <td>3</td>\n",
       "      <td>42.325122</td>\n",
       "      <td>-71.107779</td>\n",
       "      <td>270</td>\n",
       "      <td>Jamaica Plain</td>\n",
       "      <td>2</td>\n",
       "      <td>0</td>\n",
       "      <td>0</td>\n",
       "      <td>0</td>\n",
       "      <td>1</td>\n",
       "      <td>2019-12-20</td>\n",
       "      <td>0.0</td>\n",
       "      <td>1</td>\n",
       "      <td>-9</td>\n",
       "      <td>0</td>\n",
       "    </tr>\n",
       "    <tr>\n",
       "      <th>1</th>\n",
       "      <td>1402</td>\n",
       "      <td>Vandalism</td>\n",
       "      <td>VANDALISM</td>\n",
       "      <td>E13</td>\n",
       "      <td>583</td>\n",
       "      <td>0.0</td>\n",
       "      <td>2019-09-22</td>\n",
       "      <td>2019</td>\n",
       "      <td>9</td>\n",
       "      <td>Sunday</td>\n",
       "      <td>19</td>\n",
       "      <td>42.324692</td>\n",
       "      <td>-71.106189</td>\n",
       "      <td>270</td>\n",
       "      <td>Jamaica Plain</td>\n",
       "      <td>2</td>\n",
       "      <td>0</td>\n",
       "      <td>0</td>\n",
       "      <td>0</td>\n",
       "      <td>1</td>\n",
       "      <td>2019-09-22</td>\n",
       "      <td>0.0</td>\n",
       "      <td>1</td>\n",
       "      <td>21</td>\n",
       "      <td>30</td>\n",
       "    </tr>\n",
       "    <tr>\n",
       "      <th>2</th>\n",
       "      <td>3301</td>\n",
       "      <td>Verbal Disputes</td>\n",
       "      <td>VERBAL DISPUTE</td>\n",
       "      <td>E13</td>\n",
       "      <td>583</td>\n",
       "      <td>0.0</td>\n",
       "      <td>2019-09-22</td>\n",
       "      <td>2019</td>\n",
       "      <td>9</td>\n",
       "      <td>Sunday</td>\n",
       "      <td>22</td>\n",
       "      <td>42.324692</td>\n",
       "      <td>-71.106189</td>\n",
       "      <td>270</td>\n",
       "      <td>Jamaica Plain</td>\n",
       "      <td>2</td>\n",
       "      <td>0</td>\n",
       "      <td>0</td>\n",
       "      <td>0</td>\n",
       "      <td>1</td>\n",
       "      <td>2019-09-22</td>\n",
       "      <td>0.0</td>\n",
       "      <td>1</td>\n",
       "      <td>21</td>\n",
       "      <td>30</td>\n",
       "    </tr>\n",
       "    <tr>\n",
       "      <th>3</th>\n",
       "      <td>802</td>\n",
       "      <td>Simple Assault</td>\n",
       "      <td>ASSAULT SIMPLE - BATTERY</td>\n",
       "      <td>E13</td>\n",
       "      <td>583</td>\n",
       "      <td>0.0</td>\n",
       "      <td>2019-09-22</td>\n",
       "      <td>2019</td>\n",
       "      <td>9</td>\n",
       "      <td>Sunday</td>\n",
       "      <td>19</td>\n",
       "      <td>42.324248</td>\n",
       "      <td>-71.105252</td>\n",
       "      <td>270</td>\n",
       "      <td>Jamaica Plain</td>\n",
       "      <td>2</td>\n",
       "      <td>1</td>\n",
       "      <td>0</td>\n",
       "      <td>0</td>\n",
       "      <td>1</td>\n",
       "      <td>2019-09-22</td>\n",
       "      <td>0.0</td>\n",
       "      <td>1</td>\n",
       "      <td>21</td>\n",
       "      <td>30</td>\n",
       "    </tr>\n",
       "    <tr>\n",
       "      <th>4</th>\n",
       "      <td>3114</td>\n",
       "      <td>Investigate Property</td>\n",
       "      <td>INVESTIGATE PROPERTY</td>\n",
       "      <td>E13</td>\n",
       "      <td>583</td>\n",
       "      <td>0.0</td>\n",
       "      <td>2019-09-15</td>\n",
       "      <td>2019</td>\n",
       "      <td>9</td>\n",
       "      <td>Sunday</td>\n",
       "      <td>18</td>\n",
       "      <td>42.325064</td>\n",
       "      <td>-71.104900</td>\n",
       "      <td>270</td>\n",
       "      <td>Jamaica Plain</td>\n",
       "      <td>2</td>\n",
       "      <td>0</td>\n",
       "      <td>0</td>\n",
       "      <td>0</td>\n",
       "      <td>1</td>\n",
       "      <td>2019-09-15</td>\n",
       "      <td>0.0</td>\n",
       "      <td>13</td>\n",
       "      <td>0</td>\n",
       "      <td>0</td>\n",
       "    </tr>\n",
       "  </tbody>\n",
       "</table>\n",
       "</div>"
      ],
      "text/plain": [
       "   offense_code    offense_code_group       offense_description district  \\\n",
       "0          3301                   NaN            VERBAL DISPUTE      E13   \n",
       "1          1402             Vandalism                 VANDALISM      E13   \n",
       "2          3301       Verbal Disputes            VERBAL DISPUTE      E13   \n",
       "3           802        Simple Assault  ASSAULT SIMPLE - BATTERY      E13   \n",
       "4          3114  Investigate Property      INVESTIGATE PROPERTY      E13   \n",
       "\n",
       "  reporting_area  shooting occurred_on_date  year  month day_of_week  hour  \\\n",
       "0            583       0.0       2019-12-20  2019     12      Friday     3   \n",
       "1            583       0.0       2019-09-22  2019      9      Sunday    19   \n",
       "2            583       0.0       2019-09-22  2019      9      Sunday    22   \n",
       "3            583       0.0       2019-09-22  2019      9      Sunday    19   \n",
       "4            583       0.0       2019-09-15  2019      9      Sunday    18   \n",
       "\n",
       "         lat       long  reporting_cluster   neighborhood  census_cluster  \\\n",
       "0  42.325122 -71.107779                270  Jamaica Plain               2   \n",
       "1  42.324692 -71.106189                270  Jamaica Plain               2   \n",
       "2  42.324692 -71.106189                270  Jamaica Plain               2   \n",
       "3  42.324248 -71.105252                270  Jamaica Plain               2   \n",
       "4  42.325064 -71.104900                270  Jamaica Plain               2   \n",
       "\n",
       "   is_violent  is_property  is_drug  is_other   date_time  boston,ma_precipMM  \\\n",
       "0           0            0        0         1  2019-12-20                 0.0   \n",
       "1           0            0        0         1  2019-09-22                 0.0   \n",
       "2           0            0        0         1  2019-09-22                 0.0   \n",
       "3           1            0        0         1  2019-09-22                 0.0   \n",
       "4           0            0        0         1  2019-09-15                 0.0   \n",
       "\n",
       "   boston,ma_cloudcover  boston,ma_mintempC  boston,ma_maxtempC  \n",
       "0                     1                  -9                   0  \n",
       "1                     1                  21                  30  \n",
       "2                     1                  21                  30  \n",
       "3                     1                  21                  30  \n",
       "4                    13                   0                   0  "
      ]
     },
     "execution_count": 94,
     "metadata": {},
     "output_type": "execute_result"
    }
   ],
   "source": [
    "data.head()"
   ]
  },
  {
   "cell_type": "markdown",
   "metadata": {},
   "source": [
    "### Modeling"
   ]
  },
  {
   "cell_type": "code",
   "execution_count": 176,
   "metadata": {
    "ExecuteTime": {
     "end_time": "2020-06-25T23:48:00.965882Z",
     "start_time": "2020-06-25T23:48:00.962498Z"
    }
   },
   "outputs": [],
   "source": [
    "# load libraries\n",
    "import xgboost as xgb\n",
    "from sklearn.metrics import mean_squared_error\n",
    "from sklearn.model_selection import train_test_split\n",
    "from xgboost import XGBClassifier\n",
    "from sklearn.model_selection import train_test_split \n",
    "from sklearn.linear_model import LogisticRegression\n",
    "from sklearn.metrics import accuracy_score, confusion_matrix,precision_recall_fscore_support,classification_report"
   ]
  },
  {
   "cell_type": "code",
   "execution_count": null,
   "metadata": {
    "ExecuteTime": {
     "start_time": "2020-06-25T23:02:30.418Z"
    }
   },
   "outputs": [],
   "source": [
    "data.set_index('occurred_on_date', inplace=True)"
   ]
  },
  {
   "cell_type": "code",
   "execution_count": 108,
   "metadata": {
    "ExecuteTime": {
     "end_time": "2020-06-25T23:03:06.586313Z",
     "start_time": "2020-06-25T23:03:06.307259Z"
    }
   },
   "outputs": [],
   "source": [
    "data.sort_index(inplace=True)"
   ]
  },
  {
   "cell_type": "code",
   "execution_count": 109,
   "metadata": {
    "ExecuteTime": {
     "end_time": "2020-06-25T23:03:07.990663Z",
     "start_time": "2020-06-25T23:03:07.974756Z"
    }
   },
   "outputs": [
    {
     "data": {
      "text/html": [
       "<div>\n",
       "<style scoped>\n",
       "    .dataframe tbody tr th:only-of-type {\n",
       "        vertical-align: middle;\n",
       "    }\n",
       "\n",
       "    .dataframe tbody tr th {\n",
       "        vertical-align: top;\n",
       "    }\n",
       "\n",
       "    .dataframe thead th {\n",
       "        text-align: right;\n",
       "    }\n",
       "</style>\n",
       "<table border=\"1\" class=\"dataframe\">\n",
       "  <thead>\n",
       "    <tr style=\"text-align: right;\">\n",
       "      <th></th>\n",
       "      <th>offense_code</th>\n",
       "      <th>offense_code_group</th>\n",
       "      <th>offense_description</th>\n",
       "      <th>district</th>\n",
       "      <th>reporting_area</th>\n",
       "      <th>shooting</th>\n",
       "      <th>year</th>\n",
       "      <th>month</th>\n",
       "      <th>day_of_week</th>\n",
       "      <th>hour</th>\n",
       "      <th>lat</th>\n",
       "      <th>long</th>\n",
       "      <th>reporting_cluster</th>\n",
       "      <th>neighborhood</th>\n",
       "      <th>census_cluster</th>\n",
       "      <th>is_violent</th>\n",
       "      <th>is_property</th>\n",
       "      <th>is_drug</th>\n",
       "      <th>is_other</th>\n",
       "      <th>date_time</th>\n",
       "      <th>boston,ma_precipMM</th>\n",
       "      <th>boston,ma_cloudcover</th>\n",
       "      <th>boston,ma_mintempC</th>\n",
       "      <th>boston,ma_maxtempC</th>\n",
       "    </tr>\n",
       "    <tr>\n",
       "      <th>occurred_on_date</th>\n",
       "      <th></th>\n",
       "      <th></th>\n",
       "      <th></th>\n",
       "      <th></th>\n",
       "      <th></th>\n",
       "      <th></th>\n",
       "      <th></th>\n",
       "      <th></th>\n",
       "      <th></th>\n",
       "      <th></th>\n",
       "      <th></th>\n",
       "      <th></th>\n",
       "      <th></th>\n",
       "      <th></th>\n",
       "      <th></th>\n",
       "      <th></th>\n",
       "      <th></th>\n",
       "      <th></th>\n",
       "      <th></th>\n",
       "      <th></th>\n",
       "      <th></th>\n",
       "      <th></th>\n",
       "      <th></th>\n",
       "      <th></th>\n",
       "    </tr>\n",
       "  </thead>\n",
       "  <tbody>\n",
       "    <tr>\n",
       "      <th>2016-01-01</th>\n",
       "      <td>2647</td>\n",
       "      <td>Other</td>\n",
       "      <td>THREATS TO DO BODILY HARM</td>\n",
       "      <td>D14</td>\n",
       "      <td>795</td>\n",
       "      <td>0.0</td>\n",
       "      <td>2016</td>\n",
       "      <td>1</td>\n",
       "      <td>Friday</td>\n",
       "      <td>14</td>\n",
       "      <td>42.351742</td>\n",
       "      <td>-71.138475</td>\n",
       "      <td>485</td>\n",
       "      <td>Brighton</td>\n",
       "      <td>0</td>\n",
       "      <td>0</td>\n",
       "      <td>0</td>\n",
       "      <td>0</td>\n",
       "      <td>1</td>\n",
       "      <td>2016-01-01</td>\n",
       "      <td>0.0</td>\n",
       "      <td>24</td>\n",
       "      <td>0</td>\n",
       "      <td>5</td>\n",
       "    </tr>\n",
       "    <tr>\n",
       "      <th>2016-01-01</th>\n",
       "      <td>1201</td>\n",
       "      <td>Embezzlement</td>\n",
       "      <td>EMBEZZLEMENT</td>\n",
       "      <td>A1</td>\n",
       "      <td>102</td>\n",
       "      <td>0.0</td>\n",
       "      <td>2016</td>\n",
       "      <td>1</td>\n",
       "      <td>Friday</td>\n",
       "      <td>11</td>\n",
       "      <td>42.358255</td>\n",
       "      <td>-71.061735</td>\n",
       "      <td>90</td>\n",
       "      <td>Downtown</td>\n",
       "      <td>3</td>\n",
       "      <td>0</td>\n",
       "      <td>0</td>\n",
       "      <td>0</td>\n",
       "      <td>1</td>\n",
       "      <td>2016-01-01</td>\n",
       "      <td>0.0</td>\n",
       "      <td>24</td>\n",
       "      <td>0</td>\n",
       "      <td>5</td>\n",
       "    </tr>\n",
       "    <tr>\n",
       "      <th>2016-01-01</th>\n",
       "      <td>2610</td>\n",
       "      <td>Other</td>\n",
       "      <td>TRESPASSING</td>\n",
       "      <td>D4</td>\n",
       "      <td>143</td>\n",
       "      <td>0.0</td>\n",
       "      <td>2016</td>\n",
       "      <td>1</td>\n",
       "      <td>Friday</td>\n",
       "      <td>10</td>\n",
       "      <td>42.348152</td>\n",
       "      <td>-71.084508</td>\n",
       "      <td>61</td>\n",
       "      <td>Back Bay</td>\n",
       "      <td>2</td>\n",
       "      <td>0</td>\n",
       "      <td>0</td>\n",
       "      <td>0</td>\n",
       "      <td>1</td>\n",
       "      <td>2016-01-01</td>\n",
       "      <td>0.0</td>\n",
       "      <td>24</td>\n",
       "      <td>0</td>\n",
       "      <td>5</td>\n",
       "    </tr>\n",
       "    <tr>\n",
       "      <th>2016-01-01</th>\n",
       "      <td>3006</td>\n",
       "      <td>Medical Assistance</td>\n",
       "      <td>SICK/INJURED/MEDICAL - PERSON</td>\n",
       "      <td>D4</td>\n",
       "      <td>143</td>\n",
       "      <td>0.0</td>\n",
       "      <td>2016</td>\n",
       "      <td>1</td>\n",
       "      <td>Friday</td>\n",
       "      <td>2</td>\n",
       "      <td>42.345778</td>\n",
       "      <td>-71.084296</td>\n",
       "      <td>61</td>\n",
       "      <td>Back Bay</td>\n",
       "      <td>2</td>\n",
       "      <td>0</td>\n",
       "      <td>0</td>\n",
       "      <td>0</td>\n",
       "      <td>1</td>\n",
       "      <td>2016-01-01</td>\n",
       "      <td>0.0</td>\n",
       "      <td>24</td>\n",
       "      <td>0</td>\n",
       "      <td>5</td>\n",
       "    </tr>\n",
       "    <tr>\n",
       "      <th>2016-01-01</th>\n",
       "      <td>2900</td>\n",
       "      <td>Other</td>\n",
       "      <td>VAL - VIOLATION OF AUTO LAW - OTHER</td>\n",
       "      <td>C11</td>\n",
       "      <td>255</td>\n",
       "      <td>0.0</td>\n",
       "      <td>2016</td>\n",
       "      <td>1</td>\n",
       "      <td>Friday</td>\n",
       "      <td>22</td>\n",
       "      <td>42.311905</td>\n",
       "      <td>-71.059105</td>\n",
       "      <td>22</td>\n",
       "      <td>Dorchester</td>\n",
       "      <td>1</td>\n",
       "      <td>0</td>\n",
       "      <td>0</td>\n",
       "      <td>0</td>\n",
       "      <td>1</td>\n",
       "      <td>2016-01-01</td>\n",
       "      <td>0.0</td>\n",
       "      <td>24</td>\n",
       "      <td>0</td>\n",
       "      <td>5</td>\n",
       "    </tr>\n",
       "  </tbody>\n",
       "</table>\n",
       "</div>"
      ],
      "text/plain": [
       "                  offense_code  offense_code_group  \\\n",
       "occurred_on_date                                     \n",
       "2016-01-01                2647               Other   \n",
       "2016-01-01                1201        Embezzlement   \n",
       "2016-01-01                2610               Other   \n",
       "2016-01-01                3006  Medical Assistance   \n",
       "2016-01-01                2900               Other   \n",
       "\n",
       "                                  offense_description district reporting_area  \\\n",
       "occurred_on_date                                                                \n",
       "2016-01-01                  THREATS TO DO BODILY HARM      D14            795   \n",
       "2016-01-01                               EMBEZZLEMENT       A1            102   \n",
       "2016-01-01                                TRESPASSING       D4            143   \n",
       "2016-01-01              SICK/INJURED/MEDICAL - PERSON       D4            143   \n",
       "2016-01-01        VAL - VIOLATION OF AUTO LAW - OTHER      C11            255   \n",
       "\n",
       "                  shooting  year  month day_of_week  hour        lat  \\\n",
       "occurred_on_date                                                       \n",
       "2016-01-01             0.0  2016      1      Friday    14  42.351742   \n",
       "2016-01-01             0.0  2016      1      Friday    11  42.358255   \n",
       "2016-01-01             0.0  2016      1      Friday    10  42.348152   \n",
       "2016-01-01             0.0  2016      1      Friday     2  42.345778   \n",
       "2016-01-01             0.0  2016      1      Friday    22  42.311905   \n",
       "\n",
       "                       long  reporting_cluster neighborhood  census_cluster  \\\n",
       "occurred_on_date                                                              \n",
       "2016-01-01       -71.138475                485     Brighton               0   \n",
       "2016-01-01       -71.061735                 90     Downtown               3   \n",
       "2016-01-01       -71.084508                 61     Back Bay               2   \n",
       "2016-01-01       -71.084296                 61     Back Bay               2   \n",
       "2016-01-01       -71.059105                 22   Dorchester               1   \n",
       "\n",
       "                  is_violent  is_property  is_drug  is_other   date_time  \\\n",
       "occurred_on_date                                                           \n",
       "2016-01-01                 0            0        0         1  2016-01-01   \n",
       "2016-01-01                 0            0        0         1  2016-01-01   \n",
       "2016-01-01                 0            0        0         1  2016-01-01   \n",
       "2016-01-01                 0            0        0         1  2016-01-01   \n",
       "2016-01-01                 0            0        0         1  2016-01-01   \n",
       "\n",
       "                  boston,ma_precipMM  boston,ma_cloudcover  \\\n",
       "occurred_on_date                                             \n",
       "2016-01-01                       0.0                    24   \n",
       "2016-01-01                       0.0                    24   \n",
       "2016-01-01                       0.0                    24   \n",
       "2016-01-01                       0.0                    24   \n",
       "2016-01-01                       0.0                    24   \n",
       "\n",
       "                  boston,ma_mintempC  boston,ma_maxtempC  \n",
       "occurred_on_date                                          \n",
       "2016-01-01                         0                   5  \n",
       "2016-01-01                         0                   5  \n",
       "2016-01-01                         0                   5  \n",
       "2016-01-01                         0                   5  \n",
       "2016-01-01                         0                   5  "
      ]
     },
     "execution_count": 109,
     "metadata": {},
     "output_type": "execute_result"
    }
   ],
   "source": [
    "data.head()"
   ]
  },
  {
   "cell_type": "code",
   "execution_count": 110,
   "metadata": {
    "ExecuteTime": {
     "end_time": "2020-06-25T23:03:28.775095Z",
     "start_time": "2020-06-25T23:03:28.771365Z"
    }
   },
   "outputs": [
    {
     "data": {
      "text/plain": [
       "['offense_code',\n",
       " 'offense_code_group',\n",
       " 'offense_description',\n",
       " 'district',\n",
       " 'reporting_area',\n",
       " 'shooting',\n",
       " 'year',\n",
       " 'month',\n",
       " 'day_of_week',\n",
       " 'hour',\n",
       " 'lat',\n",
       " 'long',\n",
       " 'reporting_cluster',\n",
       " 'neighborhood',\n",
       " 'census_cluster',\n",
       " 'is_violent',\n",
       " 'is_property',\n",
       " 'is_drug',\n",
       " 'is_other',\n",
       " 'date_time',\n",
       " 'boston,ma_precipMM',\n",
       " 'boston,ma_cloudcover',\n",
       " 'boston,ma_mintempC',\n",
       " 'boston,ma_maxtempC']"
      ]
     },
     "execution_count": 110,
     "metadata": {},
     "output_type": "execute_result"
    }
   ],
   "source": [
    "list(data.columns)"
   ]
  },
  {
   "cell_type": "code",
   "execution_count": 114,
   "metadata": {
    "ExecuteTime": {
     "end_time": "2020-06-25T23:08:30.734122Z",
     "start_time": "2020-06-25T23:08:30.722566Z"
    }
   },
   "outputs": [],
   "source": [
    "X = data.drop(columns = [\n",
    " 'offense_code',\n",
    " 'offense_code_group',\n",
    " 'offense_description',\n",
    " 'district',\n",
    " 'reporting_area',\n",
    " 'day_of_week',\n",
    " 'neighborhood',\n",
    " 'date_time',\n",
    " 'is_violent'\n",
    "])\n",
    "\n",
    "y = data['is_violent']"
   ]
  },
  {
   "cell_type": "code",
   "execution_count": 115,
   "metadata": {
    "ExecuteTime": {
     "end_time": "2020-06-25T23:09:15.181515Z",
     "start_time": "2020-06-25T23:09:15.139096Z"
    }
   },
   "outputs": [],
   "source": [
    "X_train, X_test, y_train, y_test = train_test_split(X, y, shuffle=False, test_size = 0.3)"
   ]
  },
  {
   "cell_type": "code",
   "execution_count": 124,
   "metadata": {
    "ExecuteTime": {
     "end_time": "2020-06-25T23:13:51.775144Z",
     "start_time": "2020-06-25T23:13:51.772328Z"
    }
   },
   "outputs": [],
   "source": [
    "lr = LogisticRegression(penalty='none', solver='saga', max_iter=500)"
   ]
  },
  {
   "cell_type": "code",
   "execution_count": 125,
   "metadata": {
    "ExecuteTime": {
     "end_time": "2020-06-25T23:14:41.392486Z",
     "start_time": "2020-06-25T23:13:53.285272Z"
    }
   },
   "outputs": [
    {
     "name": "stderr",
     "output_type": "stream",
     "text": [
      "/Users/derekmcadam/opt/anaconda3/envs/dsi/lib/python3.7/site-packages/sklearn/linear_model/_sag.py:330: ConvergenceWarning: The max_iter was reached which means the coef_ did not converge\n",
      "  \"the coef_ did not converge\", ConvergenceWarning)\n"
     ]
    },
    {
     "data": {
      "text/plain": [
       "LogisticRegression(C=1.0, class_weight=None, dual=False, fit_intercept=True,\n",
       "                   intercept_scaling=1, l1_ratio=None, max_iter=500,\n",
       "                   multi_class='auto', n_jobs=None, penalty='none',\n",
       "                   random_state=None, solver='saga', tol=0.0001, verbose=0,\n",
       "                   warm_start=False)"
      ]
     },
     "execution_count": 125,
     "metadata": {},
     "output_type": "execute_result"
    }
   ],
   "source": [
    "lr.fit(X_train, y_train)"
   ]
  },
  {
   "cell_type": "code",
   "execution_count": 129,
   "metadata": {
    "ExecuteTime": {
     "end_time": "2020-06-25T23:15:43.311697Z",
     "start_time": "2020-06-25T23:15:43.282777Z"
    }
   },
   "outputs": [
    {
     "data": {
      "text/plain": [
       "0.9249720893141946"
      ]
     },
     "execution_count": 129,
     "metadata": {},
     "output_type": "execute_result"
    }
   ],
   "source": [
    "lr.score(X_train, y_train)"
   ]
  },
  {
   "cell_type": "code",
   "execution_count": 128,
   "metadata": {
    "ExecuteTime": {
     "end_time": "2020-06-25T23:15:24.607573Z",
     "start_time": "2020-06-25T23:15:24.591357Z"
    }
   },
   "outputs": [
    {
     "data": {
      "text/plain": [
       "0.9168364546410264"
      ]
     },
     "execution_count": 128,
     "metadata": {},
     "output_type": "execute_result"
    }
   ],
   "source": [
    "lr.score(X_test, y_test)"
   ]
  },
  {
   "cell_type": "code",
   "execution_count": 145,
   "metadata": {
    "ExecuteTime": {
     "end_time": "2020-06-25T23:32:26.241764Z",
     "start_time": "2020-06-25T23:32:26.232351Z"
    }
   },
   "outputs": [],
   "source": [
    "preds = lr.predict_proba(X_test)"
   ]
  },
  {
   "cell_type": "code",
   "execution_count": 146,
   "metadata": {
    "ExecuteTime": {
     "end_time": "2020-06-25T23:32:27.795547Z",
     "start_time": "2020-06-25T23:32:27.790041Z"
    }
   },
   "outputs": [
    {
     "name": "stdout",
     "output_type": "stream",
     "text": [
      "                Variable  Coefficient\n",
      "0               shooting     1.111247\n",
      "7         census_cluster     1.036379\n",
      "5                   long     1.013608\n",
      "13    boston,ma_mintempC     1.001915\n",
      "3                   hour     1.000610\n",
      "6      reporting_cluster     1.000135\n",
      "10              is_other     0.999945\n",
      "4                    lat     0.999797\n",
      "14    boston,ma_maxtempC     0.999751\n",
      "1                   year     0.999274\n",
      "12  boston,ma_cloudcover     0.998872\n",
      "11    boston,ma_precipMM     0.996716\n",
      "2                  month     0.994301\n",
      "9                is_drug     0.824465\n",
      "8            is_property     0.562975\n"
     ]
    }
   ],
   "source": [
    "# Create a list of original variable names from the training DataFrame\n",
    "original_variables = X_train.columns\n",
    "\n",
    "# Extract the coefficients of the logistic regression estimator\n",
    "model_coefficients = np.exp(lr.coef_[0])\n",
    "\n",
    "# Create a dataframe of the variables and coefficients & print it out\n",
    "coefficient_df = pd.DataFrame({\"Variable\" : original_variables, \"Coefficient\": model_coefficients})\n",
    "print(coefficient_df.sort_values(by='Coefficient', ascending=False))\n",
    "\n",
    "# Print out the top 3 positive variables\n",
    "#top_three_df = coefficient_df.sort_values(by=\"Coefficient\", axis=0, ascending=False)[0:3]\n",
    "# print(top_three_df)"
   ]
  },
  {
   "cell_type": "markdown",
   "metadata": {},
   "source": [
    "#### XGBoost"
   ]
  },
  {
   "cell_type": "code",
   "execution_count": 160,
   "metadata": {
    "ExecuteTime": {
     "end_time": "2020-06-25T23:38:30.311521Z",
     "start_time": "2020-06-25T23:38:30.307710Z"
    }
   },
   "outputs": [],
   "source": [
    "xgb_model = XGBClassifier(base_score=0.5, booster='gbtree', colsample_bylevel=1,\n",
    "       colsample_bynode=1, learning_rate=0.1,\n",
    "       max_delta_step=0, missing=None,\n",
    "       n_estimators=100, n_jobs=1, nthread=None,scale_pos_weight=83,\n",
    "       objective='binary:logistic', random_state=101,\n",
    "    subsample= 0.6,\n",
    " min_child_weight= 10,\n",
    " max_depth= 3,\n",
    " gamma= 1,\n",
    " colsample_bytree= 0.8)\n"
   ]
  },
  {
   "cell_type": "code",
   "execution_count": 161,
   "metadata": {
    "ExecuteTime": {
     "end_time": "2020-06-25T23:38:58.630904Z",
     "start_time": "2020-06-25T23:38:43.149969Z"
    }
   },
   "outputs": [
    {
     "data": {
      "text/plain": [
       "XGBClassifier(base_score=0.5, booster='gbtree', colsample_bylevel=1,\n",
       "              colsample_bynode=1, colsample_bytree=0.8, gamma=1,\n",
       "              learning_rate=0.1, max_delta_step=0, max_depth=3,\n",
       "              min_child_weight=10, missing=None, n_estimators=100, n_jobs=1,\n",
       "              nthread=None, objective='binary:logistic', random_state=101,\n",
       "              reg_alpha=0, reg_lambda=1, scale_pos_weight=83, seed=None,\n",
       "              silent=None, subsample=0.6, verbosity=1)"
      ]
     },
     "execution_count": 161,
     "metadata": {},
     "output_type": "execute_result"
    }
   ],
   "source": [
    "xgb_model.fit(X_train, y_train)"
   ]
  },
  {
   "cell_type": "code",
   "execution_count": 162,
   "metadata": {
    "ExecuteTime": {
     "end_time": "2020-06-25T23:39:45.360016Z",
     "start_time": "2020-06-25T23:39:44.922323Z"
    }
   },
   "outputs": [
    {
     "data": {
      "text/plain": [
       "0.28839314194577353"
      ]
     },
     "execution_count": 162,
     "metadata": {},
     "output_type": "execute_result"
    }
   ],
   "source": [
    "xgb_model.score(X_train, y_train)"
   ]
  },
  {
   "cell_type": "code",
   "execution_count": 163,
   "metadata": {
    "ExecuteTime": {
     "end_time": "2020-06-25T23:40:13.168375Z",
     "start_time": "2020-06-25T23:40:12.956720Z"
    }
   },
   "outputs": [
    {
     "data": {
      "text/plain": [
       "0.28411807939564787"
      ]
     },
     "execution_count": 163,
     "metadata": {},
     "output_type": "execute_result"
    }
   ],
   "source": [
    "xgb_model.score(X_test, y_test)"
   ]
  },
  {
   "cell_type": "code",
   "execution_count": 170,
   "metadata": {
    "ExecuteTime": {
     "end_time": "2020-06-25T23:45:16.424491Z",
     "start_time": "2020-06-25T23:45:16.228880Z"
    }
   },
   "outputs": [],
   "source": [
    "xgb_preds = xgb_model.predict(X_test)"
   ]
  },
  {
   "cell_type": "code",
   "execution_count": 171,
   "metadata": {
    "ExecuteTime": {
     "end_time": "2020-06-25T23:45:18.005854Z",
     "start_time": "2020-06-25T23:45:17.913687Z"
    }
   },
   "outputs": [
    {
     "name": "stdout",
     "output_type": "stream",
     "text": [
      "              precision    recall  f1-score   support\n",
      "\n",
      "           0       1.00      0.22      0.36     98548\n",
      "           1       0.10      1.00      0.19      8939\n",
      "\n",
      "    accuracy                           0.28    107487\n",
      "   macro avg       0.55      0.61      0.27    107487\n",
      "weighted avg       0.93      0.28      0.35    107487\n",
      "\n"
     ]
    }
   ],
   "source": [
    "# print classification report for the training data\n",
    "print(classification_report(y_test, xgb_preds))"
   ]
  },
  {
   "cell_type": "code",
   "execution_count": 178,
   "metadata": {
    "ExecuteTime": {
     "end_time": "2020-06-25T23:48:33.165526Z",
     "start_time": "2020-06-25T23:48:33.002831Z"
    }
   },
   "outputs": [
    {
     "data": {
      "text/plain": [
       "<matplotlib.axes._subplots.AxesSubplot at 0x7fbd0b2663d0>"
      ]
     },
     "execution_count": 178,
     "metadata": {},
     "output_type": "execute_result"
    },
    {
     "data": {
      "image/png": "[encoded data removed]",
      "text/plain": [
       "<Figure size 432x288 with 1 Axes>"
      ]
     },
     "metadata": {},
     "output_type": "display_data"
    }
   ],
   "source": [
    "xgb.plot_importance(xgb_model, color='skyblue')"
   ]
  },
  {
   "cell_type": "code",
   "execution_count": null,
   "metadata": {},
   "outputs": [],
   "source": []
  },
  {
   "cell_type": "code",
   "execution_count": null,
   "metadata": {},
   "outputs": [],
   "source": []
  },
  {
   "cell_type": "code",
   "execution_count": null,
   "metadata": {},
   "outputs": [],
   "source": []
  },
  {
   "cell_type": "code",
   "execution_count": null,
   "metadata": {},
   "outputs": [],
   "source": []
  },
  {
   "cell_type": "code",
   "execution_count": null,
   "metadata": {},
   "outputs": [],
   "source": []
  },
  {
   "cell_type": "code",
   "execution_count": null,
   "metadata": {},
   "outputs": [],
   "source": []
  },
  {
   "cell_type": "code",
   "execution_count": null,
   "metadata": {},
   "outputs": [],
   "source": []
  },
  {
   "cell_type": "code",
   "execution_count": null,
   "metadata": {},
   "outputs": [],
   "source": []
  },
  {
   "cell_type": "code",
   "execution_count": null,
   "metadata": {},
   "outputs": [],
   "source": []
  }
 ],
 "metadata": {
  "celltoolbar": "Slideshow",
  "kernelspec": {
   "display_name": "Python [conda env:dbm] *",
   "language": "python",
   "name": "conda-env-dbm-py"
  },
  "language_info": {
   "codemirror_mode": {
    "name": "ipython",
    "version": 3
   },
   "file_extension": ".py",
   "mimetype": "text/x-python",
   "name": "python",
   "nbconvert_exporter": "python",
   "pygments_lexer": "ipython3",
   "version": "3.7.6"
  },
  "toc": {
   "base_numbering": 1,
   "nav_menu": {},
   "number_sections": true,
   "sideBar": true,
   "skip_h1_title": false,
   "title_cell": "Table of Contents",
   "title_sidebar": "Contents",
   "toc_cell": false,
   "toc_position": {},
   "toc_section_display": true,
   "toc_window_display": false
  },
  "varInspector": {
   "cols": {
    "lenName": 16,
    "lenType": 16,
    "lenVar": 40
   },
   "kernels_config": {
    "python": {
     "delete_cmd_postfix": "",
     "delete_cmd_prefix": "del ",
     "library": "var_list.py",
     "varRefreshCmd": "print(var_dic_list())"
    },
    "r": {
     "delete_cmd_postfix": ") ",
     "delete_cmd_prefix": "rm(",
     "library": "var_list.r",
     "varRefreshCmd": "cat(var_dic_list()) "
    }
   },
   "types_to_exclude": [
    "module",
    "function",
    "builtin_function_or_method",
    "instance",
    "_Feature"
   ],
   "window_display": false
  }
 },
 "nbformat": 4,
 "nbformat_minor": 4
}
