{
 "cells": [
  {
   "cell_type": "markdown",
   "metadata": {},
   "source": [
    "## Data Cleaning & EDA\n",
    "---"
   ]
  },
  {
   "cell_type": "code",
   "execution_count": 7,
   "metadata": {
    "ExecuteTime": {
     "end_time": "2020-06-23T22:43:12.378505Z",
     "start_time": "2020-06-23T22:43:12.373714Z"
    }
   },
   "outputs": [],
   "source": [
    "import pandas as pd \n",
    "import geopandas as gpd \n",
    "import numpy as np \n",
    "import matplotlib.pyplot as plt\n",
    "import seaborn as sns\n",
    "\n",
    "from keplergl import KeplerGl\n",
    "import plotly_express as px \n",
    "import plotly.graph_objects as go\n",
    "from shapely import wkt \n",
    "from shapely.geometry import Polygon, Point\n",
    "\n",
    "plt.style.use('ggplot')\n",
    "pd.options.display.max_rows = 999\n",
    "pd.options.display.max_columns = 999"
   ]
  },
  {
   "cell_type": "code",
   "execution_count": 18,
   "metadata": {
    "ExecuteTime": {
     "end_time": "2020-06-23T22:52:34.823904Z",
     "start_time": "2020-06-23T22:52:33.819289Z"
    },
    "scrolled": true
   },
   "outputs": [
    {
     "name": "stderr",
     "output_type": "stream",
     "text": [
      "/Users/derekmcadam/opt/anaconda3/envs/dsi/lib/python3.7/site-packages/IPython/core/interactiveshell.py:3063: DtypeWarning: Columns (2,6,12) have mixed types.Specify dtype option on import or set low_memory=False.\n",
      "  interactivity=interactivity, compiler=compiler, result=result)\n"
     ]
    }
   ],
   "source": [
    "data = pd.read_csv('boston_crime_data.csv')"
   ]
  },
  {
   "cell_type": "code",
   "execution_count": 19,
   "metadata": {
    "ExecuteTime": {
     "end_time": "2020-06-23T22:52:34.871072Z",
     "start_time": "2020-06-23T22:52:34.857117Z"
    }
   },
   "outputs": [
    {
     "data": {
      "text/html": [
       "<div>\n",
       "<style scoped>\n",
       "    .dataframe tbody tr th:only-of-type {\n",
       "        vertical-align: middle;\n",
       "    }\n",
       "\n",
       "    .dataframe tbody tr th {\n",
       "        vertical-align: top;\n",
       "    }\n",
       "\n",
       "    .dataframe thead th {\n",
       "        text-align: right;\n",
       "    }\n",
       "</style>\n",
       "<table border=\"1\" class=\"dataframe\">\n",
       "  <thead>\n",
       "    <tr style=\"text-align: right;\">\n",
       "      <th></th>\n",
       "      <th>incident_number</th>\n",
       "      <th>offense_code</th>\n",
       "      <th>offense_code_group</th>\n",
       "      <th>offense_description</th>\n",
       "      <th>district</th>\n",
       "      <th>reporting_area</th>\n",
       "      <th>shooting</th>\n",
       "      <th>occurred_on_date</th>\n",
       "      <th>year</th>\n",
       "      <th>month</th>\n",
       "      <th>day_of_week</th>\n",
       "      <th>hour</th>\n",
       "      <th>ucr_part</th>\n",
       "      <th>street</th>\n",
       "      <th>lat</th>\n",
       "      <th>long</th>\n",
       "      <th>location</th>\n",
       "    </tr>\n",
       "  </thead>\n",
       "  <tbody>\n",
       "    <tr>\n",
       "      <th>0</th>\n",
       "      <td>TESTTEST2</td>\n",
       "      <td>423</td>\n",
       "      <td>NaN</td>\n",
       "      <td>ASSAULT - AGGRAVATED</td>\n",
       "      <td>External</td>\n",
       "      <td></td>\n",
       "      <td>0</td>\n",
       "      <td>2019-10-16 00:00:00</td>\n",
       "      <td>2019</td>\n",
       "      <td>10</td>\n",
       "      <td>Wednesday</td>\n",
       "      <td>0</td>\n",
       "      <td>NaN</td>\n",
       "      <td>RIVERVIEW DR</td>\n",
       "      <td>NaN</td>\n",
       "      <td>NaN</td>\n",
       "      <td>(0.00000000, 0.00000000)</td>\n",
       "    </tr>\n",
       "    <tr>\n",
       "      <th>1</th>\n",
       "      <td>I92102201</td>\n",
       "      <td>3301</td>\n",
       "      <td>NaN</td>\n",
       "      <td>VERBAL DISPUTE</td>\n",
       "      <td>E13</td>\n",
       "      <td>583</td>\n",
       "      <td>0</td>\n",
       "      <td>2019-12-20 03:08:00</td>\n",
       "      <td>2019</td>\n",
       "      <td>12</td>\n",
       "      <td>Friday</td>\n",
       "      <td>3</td>\n",
       "      <td>NaN</td>\n",
       "      <td>DAY ST</td>\n",
       "      <td>42.325122</td>\n",
       "      <td>-71.107779</td>\n",
       "      <td>(42.32512200, -71.10777900)</td>\n",
       "    </tr>\n",
       "    <tr>\n",
       "      <th>2</th>\n",
       "      <td>I92097173</td>\n",
       "      <td>3115</td>\n",
       "      <td>NaN</td>\n",
       "      <td>INVESTIGATE PERSON</td>\n",
       "      <td>C11</td>\n",
       "      <td>355</td>\n",
       "      <td>0</td>\n",
       "      <td>2019-10-23 00:00:00</td>\n",
       "      <td>2019</td>\n",
       "      <td>10</td>\n",
       "      <td>Wednesday</td>\n",
       "      <td>0</td>\n",
       "      <td>NaN</td>\n",
       "      <td>GIBSON ST</td>\n",
       "      <td>42.297555</td>\n",
       "      <td>-71.059709</td>\n",
       "      <td>(42.29755500, -71.05970900)</td>\n",
       "    </tr>\n",
       "    <tr>\n",
       "      <th>3</th>\n",
       "      <td>I92094519</td>\n",
       "      <td>3126</td>\n",
       "      <td>NaN</td>\n",
       "      <td>WARRANT ARREST - OUTSIDE OF BOSTON WARRANT</td>\n",
       "      <td>D14</td>\n",
       "      <td>765</td>\n",
       "      <td>0</td>\n",
       "      <td>2019-11-22 07:50:00</td>\n",
       "      <td>2019</td>\n",
       "      <td>11</td>\n",
       "      <td>Friday</td>\n",
       "      <td>7</td>\n",
       "      <td>NaN</td>\n",
       "      <td>BROOKS ST</td>\n",
       "      <td>42.355120</td>\n",
       "      <td>-71.162678</td>\n",
       "      <td>(42.35512000, -71.16267800)</td>\n",
       "    </tr>\n",
       "    <tr>\n",
       "      <th>4</th>\n",
       "      <td>I92089785</td>\n",
       "      <td>3005</td>\n",
       "      <td>NaN</td>\n",
       "      <td>SICK ASSIST</td>\n",
       "      <td>E13</td>\n",
       "      <td>574</td>\n",
       "      <td>0</td>\n",
       "      <td>2019-11-05 18:00:00</td>\n",
       "      <td>2019</td>\n",
       "      <td>11</td>\n",
       "      <td>Tuesday</td>\n",
       "      <td>18</td>\n",
       "      <td>NaN</td>\n",
       "      <td>WASHINGTON ST</td>\n",
       "      <td>42.309718</td>\n",
       "      <td>-71.104294</td>\n",
       "      <td>(42.30971800, -71.10429400)</td>\n",
       "    </tr>\n",
       "  </tbody>\n",
       "</table>\n",
       "</div>"
      ],
      "text/plain": [
       "  incident_number  offense_code offense_code_group  \\\n",
       "0       TESTTEST2           423                NaN   \n",
       "1       I92102201          3301                NaN   \n",
       "2       I92097173          3115                NaN   \n",
       "3       I92094519          3126                NaN   \n",
       "4       I92089785          3005                NaN   \n",
       "\n",
       "                          offense_description  district reporting_area  \\\n",
       "0                        ASSAULT - AGGRAVATED  External                  \n",
       "1                              VERBAL DISPUTE       E13            583   \n",
       "2                          INVESTIGATE PERSON       C11            355   \n",
       "3  WARRANT ARREST - OUTSIDE OF BOSTON WARRANT       D14            765   \n",
       "4                                 SICK ASSIST       E13            574   \n",
       "\n",
       "  shooting     occurred_on_date  year  month day_of_week  hour ucr_part  \\\n",
       "0        0  2019-10-16 00:00:00  2019     10   Wednesday     0      NaN   \n",
       "1        0  2019-12-20 03:08:00  2019     12      Friday     3      NaN   \n",
       "2        0  2019-10-23 00:00:00  2019     10   Wednesday     0      NaN   \n",
       "3        0  2019-11-22 07:50:00  2019     11      Friday     7      NaN   \n",
       "4        0  2019-11-05 18:00:00  2019     11     Tuesday    18      NaN   \n",
       "\n",
       "          street        lat       long                     location  \n",
       "0   RIVERVIEW DR        NaN        NaN     (0.00000000, 0.00000000)  \n",
       "1         DAY ST  42.325122 -71.107779  (42.32512200, -71.10777900)  \n",
       "2      GIBSON ST  42.297555 -71.059709  (42.29755500, -71.05970900)  \n",
       "3      BROOKS ST  42.355120 -71.162678  (42.35512000, -71.16267800)  \n",
       "4  WASHINGTON ST  42.309718 -71.104294  (42.30971800, -71.10429400)  "
      ]
     },
     "execution_count": 19,
     "metadata": {},
     "output_type": "execute_result"
    }
   ],
   "source": [
    "data.head()"
   ]
  },
  {
   "cell_type": "code",
   "execution_count": 20,
   "metadata": {
    "ExecuteTime": {
     "end_time": "2020-06-23T22:52:54.289469Z",
     "start_time": "2020-06-23T22:52:54.136135Z"
    }
   },
   "outputs": [
    {
     "name": "stdout",
     "output_type": "stream",
     "text": [
      "<class 'pandas.core.frame.DataFrame'>\n",
      "RangeIndex: 488822 entries, 0 to 488821\n",
      "Data columns (total 17 columns):\n",
      " #   Column               Non-Null Count   Dtype  \n",
      "---  ------               --------------   -----  \n",
      " 0   incident_number      488822 non-null  object \n",
      " 1   offense_code         488822 non-null  int64  \n",
      " 2   offense_code_group   426089 non-null  object \n",
      " 3   offense_description  488822 non-null  object \n",
      " 4   district             486399 non-null  object \n",
      " 5   reporting_area       488822 non-null  object \n",
      " 6   shooting             64113 non-null   object \n",
      " 7   occurred_on_date     488822 non-null  object \n",
      " 8   year                 488822 non-null  int64  \n",
      " 9   month                488822 non-null  int64  \n",
      " 10  day_of_week          488822 non-null  object \n",
      " 11  hour                 488822 non-null  int64  \n",
      " 12  ucr_part             425983 non-null  object \n",
      " 13  street               470943 non-null  object \n",
      " 14  lat                  460390 non-null  float64\n",
      " 15  long                 460390 non-null  float64\n",
      " 16  location             488822 non-null  object \n",
      "dtypes: float64(2), int64(4), object(11)\n",
      "memory usage: 63.4+ MB\n"
     ]
    }
   ],
   "source": [
    "data.info()"
   ]
  },
  {
   "cell_type": "code",
   "execution_count": 21,
   "metadata": {
    "ExecuteTime": {
     "end_time": "2020-06-23T22:53:13.079740Z",
     "start_time": "2020-06-23T22:53:13.076560Z"
    }
   },
   "outputs": [
    {
     "data": {
      "text/plain": [
       "(488822, 17)"
      ]
     },
     "execution_count": 21,
     "metadata": {},
     "output_type": "execute_result"
    }
   ],
   "source": [
    "data.shape"
   ]
  },
  {
   "cell_type": "code",
   "execution_count": 22,
   "metadata": {
    "ExecuteTime": {
     "end_time": "2020-06-23T22:53:34.726547Z",
     "start_time": "2020-06-23T22:53:34.606204Z"
    }
   },
   "outputs": [
    {
     "data": {
      "text/plain": [
       "438323"
      ]
     },
     "execution_count": 22,
     "metadata": {},
     "output_type": "execute_result"
    }
   ],
   "source": [
    "# Unique Incidents\n",
    "data['incident_number'].nunique()"
   ]
  },
  {
   "cell_type": "code",
   "execution_count": 23,
   "metadata": {
    "ExecuteTime": {
     "end_time": "2020-06-23T22:53:34.791966Z",
     "start_time": "2020-06-23T22:53:34.762707Z"
    }
   },
   "outputs": [],
   "source": [
    "data.drop(columns=['incident_number', \n",
    "                   'location'], inplace=True)"
   ]
  },
  {
   "cell_type": "code",
   "execution_count": 24,
   "metadata": {
    "ExecuteTime": {
     "end_time": "2020-06-23T22:53:34.982148Z",
     "start_time": "2020-06-23T22:53:34.888371Z"
    }
   },
   "outputs": [],
   "source": [
    "# Converting occurrance date to pandas datetime format\n",
    "data['occurred_on_date'] = pd.to_datetime(data['occurred_on_date']) "
   ]
  },
  {
   "cell_type": "code",
   "execution_count": 25,
   "metadata": {
    "ExecuteTime": {
     "end_time": "2020-06-23T22:53:35.154112Z",
     "start_time": "2020-06-23T22:53:35.039947Z"
    }
   },
   "outputs": [
    {
     "data": {
      "text/plain": [
       "offense_code                0\n",
       "offense_code_group      62733\n",
       "offense_description         0\n",
       "district                 2423\n",
       "reporting_area              0\n",
       "shooting               424709\n",
       "occurred_on_date            0\n",
       "year                        0\n",
       "month                       0\n",
       "day_of_week                 0\n",
       "hour                        0\n",
       "ucr_part                62839\n",
       "street                  17879\n",
       "lat                     28432\n",
       "long                    28432\n",
       "dtype: int64"
      ]
     },
     "execution_count": 25,
     "metadata": {},
     "output_type": "execute_result"
    }
   ],
   "source": [
    "# checking nulls\n",
    "data.isnull().sum()"
   ]
  },
  {
   "cell_type": "code",
   "execution_count": 26,
   "metadata": {
    "ExecuteTime": {
     "end_time": "2020-06-23T22:53:35.253375Z",
     "start_time": "2020-06-23T22:53:35.185012Z"
    }
   },
   "outputs": [],
   "source": [
    "# Dropping crimes located outside boston\n",
    "external = data.loc[data['district'] == 'External']\n",
    "\n",
    "data.drop(external.index, axis=0, inplace=True)"
   ]
  },
  {
   "cell_type": "code",
   "execution_count": 27,
   "metadata": {
    "ExecuteTime": {
     "end_time": "2020-06-23T22:53:35.476320Z",
     "start_time": "2020-06-23T22:53:35.458546Z"
    }
   },
   "outputs": [
    {
     "data": {
      "text/plain": [
       "880"
      ]
     },
     "execution_count": 27,
     "metadata": {},
     "output_type": "execute_result"
    }
   ],
   "source": [
    "data['reporting_area'].nunique()"
   ]
  },
  {
   "cell_type": "code",
   "execution_count": 28,
   "metadata": {
    "ExecuteTime": {
     "end_time": "2020-06-23T22:53:35.762926Z",
     "start_time": "2020-06-23T22:53:35.689600Z"
    }
   },
   "outputs": [
    {
     "name": "stderr",
     "output_type": "stream",
     "text": [
      "/Users/derekmcadam/opt/anaconda3/envs/dsi/lib/python3.7/site-packages/ipykernel_launcher.py:2: FutureWarning: Indexing with multiple keys (implicitly converted to a tuple of keys) will be deprecated, use a list instead.\n",
      "  \n"
     ]
    }
   ],
   "source": [
    "# groupby Reporting Area and take the average of Long and Lat\n",
    "reporting_area_centers = data[~data['lat'].isna()].groupby('reporting_area')['lat', 'long'].mean().reset_index()"
   ]
  },
  {
   "cell_type": "code",
   "execution_count": 29,
   "metadata": {
    "ExecuteTime": {
     "end_time": "2020-06-23T22:53:35.880047Z",
     "start_time": "2020-06-23T22:53:35.869895Z"
    }
   },
   "outputs": [],
   "source": [
    "# reporting_area_centers['geom'] = gpd.GeoSeries([Point(x, y) for x, y in zip(reporting_area_centers['lat'], reporting_area_centers['long'])])"
   ]
  },
  {
   "cell_type": "code",
   "execution_count": 42,
   "metadata": {
    "ExecuteTime": {
     "end_time": "2020-06-23T22:59:52.641511Z",
     "start_time": "2020-06-23T22:59:52.610744Z"
    }
   },
   "outputs": [],
   "source": [
    "# create a WKT representation of Reporting Area Centers: Lat/Lon values\n",
    "reporting_area_centers[\"geom\"]=reporting_area_centers.loc[:,[\"long\",\"lat\"]].apply(lambda x: \"POINT(\"+str(x[\"long\"])+\" \"+str(x[\"lat\"])+\")\",axis=1)"
   ]
  },
  {
   "cell_type": "code",
   "execution_count": 43,
   "metadata": {
    "ExecuteTime": {
     "end_time": "2020-06-23T22:59:53.721964Z",
     "start_time": "2020-06-23T22:59:53.718512Z"
    }
   },
   "outputs": [
    {
     "data": {
      "text/plain": [
       "(880, 5)"
      ]
     },
     "execution_count": 43,
     "metadata": {},
     "output_type": "execute_result"
    }
   ],
   "source": [
    "reporting_area_centers.shape"
   ]
  },
  {
   "cell_type": "code",
   "execution_count": 44,
   "metadata": {
    "ExecuteTime": {
     "end_time": "2020-06-23T22:59:55.410930Z",
     "start_time": "2020-06-23T22:59:55.399587Z"
    }
   },
   "outputs": [
    {
     "data": {
      "text/html": [
       "<div>\n",
       "<style scoped>\n",
       "    .dataframe tbody tr th:only-of-type {\n",
       "        vertical-align: middle;\n",
       "    }\n",
       "\n",
       "    .dataframe tbody tr th {\n",
       "        vertical-align: top;\n",
       "    }\n",
       "\n",
       "    .dataframe thead th {\n",
       "        text-align: right;\n",
       "    }\n",
       "</style>\n",
       "<table border=\"1\" class=\"dataframe\">\n",
       "  <thead>\n",
       "    <tr style=\"text-align: right;\">\n",
       "      <th></th>\n",
       "      <th>reporting_area</th>\n",
       "      <th>lat</th>\n",
       "      <th>long</th>\n",
       "      <th>geom</th>\n",
       "      <th>geometry</th>\n",
       "    </tr>\n",
       "  </thead>\n",
       "  <tbody>\n",
       "    <tr>\n",
       "      <th>0</th>\n",
       "      <td></td>\n",
       "      <td>38.208458</td>\n",
       "      <td>-64.418793</td>\n",
       "      <td>POINT(-64.41879255800197 38.208457994891496)</td>\n",
       "      <td>POINT (38.20846 -64.41879)</td>\n",
       "    </tr>\n",
       "    <tr>\n",
       "      <th>1</th>\n",
       "      <td>000</td>\n",
       "      <td>-1.000000</td>\n",
       "      <td>-1.000000</td>\n",
       "      <td>POINT(-1.0 -1.0)</td>\n",
       "      <td>POINT (-1.00000 -1.00000)</td>\n",
       "    </tr>\n",
       "    <tr>\n",
       "      <th>2</th>\n",
       "      <td>1</td>\n",
       "      <td>42.390204</td>\n",
       "      <td>-70.996719</td>\n",
       "      <td>POINT(-70.9967187307273 42.39020399909089)</td>\n",
       "      <td>POINT (42.39020 -70.99672)</td>\n",
       "    </tr>\n",
       "    <tr>\n",
       "      <th>3</th>\n",
       "      <td>10</td>\n",
       "      <td>42.388745</td>\n",
       "      <td>-71.008474</td>\n",
       "      <td>POINT(-71.00847405534289 42.38874486606501)</td>\n",
       "      <td>POINT (42.38874 -71.00847)</td>\n",
       "    </tr>\n",
       "    <tr>\n",
       "      <th>4</th>\n",
       "      <td>100</td>\n",
       "      <td>42.357900</td>\n",
       "      <td>-71.054753</td>\n",
       "      <td>POINT(-71.05475322458682 42.35789957921487)</td>\n",
       "      <td>POINT (42.35790 -71.05475)</td>\n",
       "    </tr>\n",
       "  </tbody>\n",
       "</table>\n",
       "</div>"
      ],
      "text/plain": [
       "  reporting_area        lat       long  \\\n",
       "0                 38.208458 -64.418793   \n",
       "1            000  -1.000000  -1.000000   \n",
       "2              1  42.390204 -70.996719   \n",
       "3             10  42.388745 -71.008474   \n",
       "4            100  42.357900 -71.054753   \n",
       "\n",
       "                                           geom                    geometry  \n",
       "0  POINT(-64.41879255800197 38.208457994891496)  POINT (38.20846 -64.41879)  \n",
       "1                              POINT(-1.0 -1.0)   POINT (-1.00000 -1.00000)  \n",
       "2    POINT(-70.9967187307273 42.39020399909089)  POINT (42.39020 -70.99672)  \n",
       "3   POINT(-71.00847405534289 42.38874486606501)  POINT (42.38874 -71.00847)  \n",
       "4   POINT(-71.05475322458682 42.35789957921487)  POINT (42.35790 -71.05475)  "
      ]
     },
     "execution_count": 44,
     "metadata": {},
     "output_type": "execute_result"
    }
   ],
   "source": [
    "# there are some outliers, we need to remove them\n",
    "reporting_area_centers.head()"
   ]
  },
  {
   "cell_type": "code",
   "execution_count": 45,
   "metadata": {
    "ExecuteTime": {
     "end_time": "2020-06-23T23:00:01.048895Z",
     "start_time": "2020-06-23T23:00:01.042341Z"
    }
   },
   "outputs": [
    {
     "name": "stdout",
     "output_type": "stream",
     "text": [
      "User Guide: https://docs.kepler.gl/docs/keplergl-jupyter\n"
     ]
    }
   ],
   "source": [
    "map_1 = KeplerGl(height=500)"
   ]
  },
  {
   "cell_type": "code",
   "execution_count": 47,
   "metadata": {
    "ExecuteTime": {
     "end_time": "2020-06-23T23:00:28.496842Z",
     "start_time": "2020-06-23T23:00:28.473347Z"
    }
   },
   "outputs": [],
   "source": [
    "# Create a geopandas dataframe. use tract_geom column for geometry.\n",
    "geodf_ra = gpd.GeoDataFrame(reporting_area_centers, geometry = reporting_area_centers['geom'].apply(wkt.loads))"
   ]
  },
  {
   "cell_type": "code",
   "execution_count": 48,
   "metadata": {
    "ExecuteTime": {
     "end_time": "2020-06-23T23:00:29.311997Z",
     "start_time": "2020-06-23T23:00:29.300790Z"
    }
   },
   "outputs": [
    {
     "data": {
      "text/html": [
       "<div>\n",
       "<style scoped>\n",
       "    .dataframe tbody tr th:only-of-type {\n",
       "        vertical-align: middle;\n",
       "    }\n",
       "\n",
       "    .dataframe tbody tr th {\n",
       "        vertical-align: top;\n",
       "    }\n",
       "\n",
       "    .dataframe thead th {\n",
       "        text-align: right;\n",
       "    }\n",
       "</style>\n",
       "<table border=\"1\" class=\"dataframe\">\n",
       "  <thead>\n",
       "    <tr style=\"text-align: right;\">\n",
       "      <th></th>\n",
       "      <th>reporting_area</th>\n",
       "      <th>lat</th>\n",
       "      <th>long</th>\n",
       "      <th>geom</th>\n",
       "      <th>geometry</th>\n",
       "    </tr>\n",
       "  </thead>\n",
       "  <tbody>\n",
       "    <tr>\n",
       "      <th>0</th>\n",
       "      <td></td>\n",
       "      <td>38.208458</td>\n",
       "      <td>-64.418793</td>\n",
       "      <td>POINT(-64.41879255800197 38.208457994891496)</td>\n",
       "      <td>POINT (-64.41879 38.20846)</td>\n",
       "    </tr>\n",
       "    <tr>\n",
       "      <th>1</th>\n",
       "      <td>000</td>\n",
       "      <td>-1.000000</td>\n",
       "      <td>-1.000000</td>\n",
       "      <td>POINT(-1.0 -1.0)</td>\n",
       "      <td>POINT (-1.00000 -1.00000)</td>\n",
       "    </tr>\n",
       "    <tr>\n",
       "      <th>2</th>\n",
       "      <td>1</td>\n",
       "      <td>42.390204</td>\n",
       "      <td>-70.996719</td>\n",
       "      <td>POINT(-70.9967187307273 42.39020399909089)</td>\n",
       "      <td>POINT (-70.99672 42.39020)</td>\n",
       "    </tr>\n",
       "    <tr>\n",
       "      <th>3</th>\n",
       "      <td>10</td>\n",
       "      <td>42.388745</td>\n",
       "      <td>-71.008474</td>\n",
       "      <td>POINT(-71.00847405534289 42.38874486606501)</td>\n",
       "      <td>POINT (-71.00847 42.38874)</td>\n",
       "    </tr>\n",
       "    <tr>\n",
       "      <th>4</th>\n",
       "      <td>100</td>\n",
       "      <td>42.357900</td>\n",
       "      <td>-71.054753</td>\n",
       "      <td>POINT(-71.05475322458682 42.35789957921487)</td>\n",
       "      <td>POINT (-71.05475 42.35790)</td>\n",
       "    </tr>\n",
       "  </tbody>\n",
       "</table>\n",
       "</div>"
      ],
      "text/plain": [
       "  reporting_area        lat       long  \\\n",
       "0                 38.208458 -64.418793   \n",
       "1            000  -1.000000  -1.000000   \n",
       "2              1  42.390204 -70.996719   \n",
       "3             10  42.388745 -71.008474   \n",
       "4            100  42.357900 -71.054753   \n",
       "\n",
       "                                           geom                    geometry  \n",
       "0  POINT(-64.41879255800197 38.208457994891496)  POINT (-64.41879 38.20846)  \n",
       "1                              POINT(-1.0 -1.0)   POINT (-1.00000 -1.00000)  \n",
       "2    POINT(-70.9967187307273 42.39020399909089)  POINT (-70.99672 42.39020)  \n",
       "3   POINT(-71.00847405534289 42.38874486606501)  POINT (-71.00847 42.38874)  \n",
       "4   POINT(-71.05475322458682 42.35789957921487)  POINT (-71.05475 42.35790)  "
      ]
     },
     "execution_count": 48,
     "metadata": {},
     "output_type": "execute_result"
    }
   ],
   "source": [
    "geodf_ra.head()"
   ]
  },
  {
   "cell_type": "code",
   "execution_count": 49,
   "metadata": {
    "ExecuteTime": {
     "end_time": "2020-06-23T23:00:31.071698Z",
     "start_time": "2020-06-23T23:00:31.024739Z"
    }
   },
   "outputs": [],
   "source": [
    "# Add data to Kepler Map\n",
    "map_1.add_data(data=geodf_ra, name=\"boston_crime\")"
   ]
  },
  {
   "cell_type": "code",
   "execution_count": 50,
   "metadata": {
    "ExecuteTime": {
     "end_time": "2020-06-23T23:00:32.233744Z",
     "start_time": "2020-06-23T23:00:32.227125Z"
    }
   },
   "outputs": [
    {
     "data": {
      "application/vnd.jupyter.widget-view+json": {
       "model_id": "cfbc4dbc22e846c6b5aee4f673c8f3fe",
       "version_major": 2,
       "version_minor": 0
      },
      "text/plain": [
       "KeplerGl(data={'boston_crime': {'index': [0, 1, 2, 3, 4, 5, 6, 7, 8, 9, 10, 11, 12, 13, 14, 15, 16, 17, 18, 19…"
      ]
     },
     "metadata": {},
     "output_type": "display_data"
    }
   ],
   "source": [
    "map_1"
   ]
  },
  {
   "cell_type": "markdown",
   "metadata": {},
   "source": [
    "**Clearly there are outlying points that are incorrect.  Lets remove them.**\n",
    "\n"
   ]
  },
  {
   "cell_type": "code",
   "execution_count": 51,
   "metadata": {
    "ExecuteTime": {
     "end_time": "2020-06-23T23:00:51.964441Z",
     "start_time": "2020-06-23T23:00:51.605463Z"
    }
   },
   "outputs": [],
   "source": [
    "# reading boston neighborhood shape file\n",
    "city_data = gpd.read_file('500Cities_City_11082016/CityBoundaries.shp')"
   ]
  },
  {
   "cell_type": "code",
   "execution_count": 52,
   "metadata": {
    "ExecuteTime": {
     "end_time": "2020-06-23T23:00:55.841738Z",
     "start_time": "2020-06-23T23:00:55.837995Z"
    }
   },
   "outputs": [
    {
     "data": {
      "text/plain": [
       "{'init': 'epsg:3857'}"
      ]
     },
     "execution_count": 52,
     "metadata": {},
     "output_type": "execute_result"
    }
   ],
   "source": [
    "city_data.crs"
   ]
  },
  {
   "cell_type": "code",
   "execution_count": 53,
   "metadata": {
    "ExecuteTime": {
     "end_time": "2020-06-23T23:01:00.765202Z",
     "start_time": "2020-06-23T23:00:59.764246Z"
    }
   },
   "outputs": [],
   "source": [
    "city_data['geometry'] = city_data['geometry'].to_crs(epsg=4326)"
   ]
  },
  {
   "cell_type": "code",
   "execution_count": 56,
   "metadata": {
    "ExecuteTime": {
     "end_time": "2020-06-23T23:02:16.959564Z",
     "start_time": "2020-06-23T23:02:16.955674Z"
    }
   },
   "outputs": [],
   "source": [
    "boston_shp = city_data.loc[city_data['NAME'] == 'Boston', :]"
   ]
  },
  {
   "cell_type": "code",
   "execution_count": 57,
   "metadata": {
    "ExecuteTime": {
     "end_time": "2020-06-23T23:02:20.665858Z",
     "start_time": "2020-06-23T23:02:20.634759Z"
    }
   },
   "outputs": [
    {
     "data": {
      "text/html": [
       "<div>\n",
       "<style scoped>\n",
       "    .dataframe tbody tr th:only-of-type {\n",
       "        vertical-align: middle;\n",
       "    }\n",
       "\n",
       "    .dataframe tbody tr th {\n",
       "        vertical-align: top;\n",
       "    }\n",
       "\n",
       "    .dataframe thead th {\n",
       "        text-align: right;\n",
       "    }\n",
       "</style>\n",
       "<table border=\"1\" class=\"dataframe\">\n",
       "  <thead>\n",
       "    <tr style=\"text-align: right;\">\n",
       "      <th></th>\n",
       "      <th>NAME</th>\n",
       "      <th>CLASS</th>\n",
       "      <th>ST</th>\n",
       "      <th>STFIPS</th>\n",
       "      <th>PLACEFIPS</th>\n",
       "      <th>POP2010</th>\n",
       "      <th>STPLFIPS</th>\n",
       "      <th>geometry</th>\n",
       "    </tr>\n",
       "  </thead>\n",
       "  <tbody>\n",
       "    <tr>\n",
       "      <th>79</th>\n",
       "      <td>Boston</td>\n",
       "      <td>city</td>\n",
       "      <td>MA</td>\n",
       "      <td>25</td>\n",
       "      <td>07000</td>\n",
       "      <td>617594</td>\n",
       "      <td>2507000</td>\n",
       "      <td>MULTIPOLYGON (((-71.05067 42.27752, -71.05092 ...</td>\n",
       "    </tr>\n",
       "  </tbody>\n",
       "</table>\n",
       "</div>"
      ],
      "text/plain": [
       "      NAME CLASS  ST STFIPS PLACEFIPS  POP2010 STPLFIPS  \\\n",
       "79  Boston  city  MA     25     07000   617594  2507000   \n",
       "\n",
       "                                             geometry  \n",
       "79  MULTIPOLYGON (((-71.05067 42.27752, -71.05092 ...  "
      ]
     },
     "execution_count": 57,
     "metadata": {},
     "output_type": "execute_result"
    }
   ],
   "source": [
    "boston_shp.head()"
   ]
  },
  {
   "cell_type": "code",
   "execution_count": 62,
   "metadata": {
    "ExecuteTime": {
     "end_time": "2020-06-23T23:03:34.500580Z",
     "start_time": "2020-06-23T23:03:34.489396Z"
    },
    "scrolled": true
   },
   "outputs": [
    {
     "data": {
      "text/html": [
       "<div>\n",
       "<style scoped>\n",
       "    .dataframe tbody tr th:only-of-type {\n",
       "        vertical-align: middle;\n",
       "    }\n",
       "\n",
       "    .dataframe tbody tr th {\n",
       "        vertical-align: top;\n",
       "    }\n",
       "\n",
       "    .dataframe thead th {\n",
       "        text-align: right;\n",
       "    }\n",
       "</style>\n",
       "<table border=\"1\" class=\"dataframe\">\n",
       "  <thead>\n",
       "    <tr style=\"text-align: right;\">\n",
       "      <th></th>\n",
       "      <th>reporting_area</th>\n",
       "      <th>lat</th>\n",
       "      <th>long</th>\n",
       "      <th>geom</th>\n",
       "      <th>geometry</th>\n",
       "    </tr>\n",
       "  </thead>\n",
       "  <tbody>\n",
       "    <tr>\n",
       "      <th>0</th>\n",
       "      <td></td>\n",
       "      <td>38.208458</td>\n",
       "      <td>-64.418793</td>\n",
       "      <td>POINT(-64.41879255800197 38.208457994891496)</td>\n",
       "      <td>POINT (-64.41879 38.20846)</td>\n",
       "    </tr>\n",
       "    <tr>\n",
       "      <th>1</th>\n",
       "      <td>000</td>\n",
       "      <td>-1.000000</td>\n",
       "      <td>-1.000000</td>\n",
       "      <td>POINT(-1.0 -1.0)</td>\n",
       "      <td>POINT (-1.00000 -1.00000)</td>\n",
       "    </tr>\n",
       "    <tr>\n",
       "      <th>2</th>\n",
       "      <td>1</td>\n",
       "      <td>42.390204</td>\n",
       "      <td>-70.996719</td>\n",
       "      <td>POINT(-70.9967187307273 42.39020399909089)</td>\n",
       "      <td>POINT (-70.99672 42.39020)</td>\n",
       "    </tr>\n",
       "    <tr>\n",
       "      <th>3</th>\n",
       "      <td>10</td>\n",
       "      <td>42.388745</td>\n",
       "      <td>-71.008474</td>\n",
       "      <td>POINT(-71.00847405534289 42.38874486606501)</td>\n",
       "      <td>POINT (-71.00847 42.38874)</td>\n",
       "    </tr>\n",
       "    <tr>\n",
       "      <th>4</th>\n",
       "      <td>100</td>\n",
       "      <td>42.357900</td>\n",
       "      <td>-71.054753</td>\n",
       "      <td>POINT(-71.05475322458682 42.35789957921487)</td>\n",
       "      <td>POINT (-71.05475 42.35790)</td>\n",
       "    </tr>\n",
       "  </tbody>\n",
       "</table>\n",
       "</div>"
      ],
      "text/plain": [
       "  reporting_area        lat       long  \\\n",
       "0                 38.208458 -64.418793   \n",
       "1            000  -1.000000  -1.000000   \n",
       "2              1  42.390204 -70.996719   \n",
       "3             10  42.388745 -71.008474   \n",
       "4            100  42.357900 -71.054753   \n",
       "\n",
       "                                           geom                    geometry  \n",
       "0  POINT(-64.41879255800197 38.208457994891496)  POINT (-64.41879 38.20846)  \n",
       "1                              POINT(-1.0 -1.0)   POINT (-1.00000 -1.00000)  \n",
       "2    POINT(-70.9967187307273 42.39020399909089)  POINT (-70.99672 42.39020)  \n",
       "3   POINT(-71.00847405534289 42.38874486606501)  POINT (-71.00847 42.38874)  \n",
       "4   POINT(-71.05475322458682 42.35789957921487)  POINT (-71.05475 42.35790)  "
      ]
     },
     "execution_count": 62,
     "metadata": {},
     "output_type": "execute_result"
    }
   ],
   "source": [
    "geodf_ra.head()"
   ]
  },
  {
   "cell_type": "code",
   "execution_count": 63,
   "metadata": {
    "ExecuteTime": {
     "end_time": "2020-06-23T23:03:43.062471Z",
     "start_time": "2020-06-23T23:03:42.996503Z"
    }
   },
   "outputs": [
    {
     "name": "stderr",
     "output_type": "stream",
     "text": [
      "/Users/derekmcadam/opt/anaconda3/envs/dsi/lib/python3.7/site-packages/geopandas/tools/sjoin.py:61: UserWarning: CRS of frames being joined does not match!(None != {'init': 'epsg:3857'})\n",
      "  \"(%s != %s)\" % (left_df.crs, right_df.crs)\n"
     ]
    }
   ],
   "source": [
    "geodf_ra_inboston = gpd.sjoin(geodf_ra,\n",
    "                              boston_shp,\n",
    "                              how='inner',\n",
    "                              op='within')"
   ]
  },
  {
   "cell_type": "code",
   "execution_count": 64,
   "metadata": {
    "ExecuteTime": {
     "end_time": "2020-06-23T23:03:46.940646Z",
     "start_time": "2020-06-23T23:03:46.937807Z"
    }
   },
   "outputs": [
    {
     "data": {
      "text/plain": [
       "(865, 13)"
      ]
     },
     "execution_count": 64,
     "metadata": {},
     "output_type": "execute_result"
    }
   ],
   "source": [
    "geodf_ra_inboston.shape"
   ]
  },
  {
   "cell_type": "code",
   "execution_count": 66,
   "metadata": {
    "ExecuteTime": {
     "end_time": "2020-06-23T23:04:39.883782Z",
     "start_time": "2020-06-23T23:04:39.870295Z"
    }
   },
   "outputs": [
    {
     "data": {
      "text/html": [
       "<div>\n",
       "<style scoped>\n",
       "    .dataframe tbody tr th:only-of-type {\n",
       "        vertical-align: middle;\n",
       "    }\n",
       "\n",
       "    .dataframe tbody tr th {\n",
       "        vertical-align: top;\n",
       "    }\n",
       "\n",
       "    .dataframe thead th {\n",
       "        text-align: right;\n",
       "    }\n",
       "</style>\n",
       "<table border=\"1\" class=\"dataframe\">\n",
       "  <thead>\n",
       "    <tr style=\"text-align: right;\">\n",
       "      <th></th>\n",
       "      <th>reporting_area</th>\n",
       "      <th>lat</th>\n",
       "      <th>long</th>\n",
       "      <th>geom</th>\n",
       "      <th>geometry</th>\n",
       "      <th>index_right</th>\n",
       "      <th>NAME</th>\n",
       "      <th>CLASS</th>\n",
       "      <th>ST</th>\n",
       "      <th>STFIPS</th>\n",
       "      <th>PLACEFIPS</th>\n",
       "      <th>POP2010</th>\n",
       "      <th>STPLFIPS</th>\n",
       "    </tr>\n",
       "  </thead>\n",
       "  <tbody>\n",
       "    <tr>\n",
       "      <th>2</th>\n",
       "      <td>1</td>\n",
       "      <td>42.390204</td>\n",
       "      <td>-70.996719</td>\n",
       "      <td>POINT(-70.9967187307273 42.39020399909089)</td>\n",
       "      <td>POINT (-70.99672 42.39020)</td>\n",
       "      <td>79</td>\n",
       "      <td>Boston</td>\n",
       "      <td>city</td>\n",
       "      <td>MA</td>\n",
       "      <td>25</td>\n",
       "      <td>07000</td>\n",
       "      <td>617594</td>\n",
       "      <td>2507000</td>\n",
       "    </tr>\n",
       "    <tr>\n",
       "      <th>3</th>\n",
       "      <td>10</td>\n",
       "      <td>42.388745</td>\n",
       "      <td>-71.008474</td>\n",
       "      <td>POINT(-71.00847405534289 42.38874486606501)</td>\n",
       "      <td>POINT (-71.00847 42.38874)</td>\n",
       "      <td>79</td>\n",
       "      <td>Boston</td>\n",
       "      <td>city</td>\n",
       "      <td>MA</td>\n",
       "      <td>25</td>\n",
       "      <td>07000</td>\n",
       "      <td>617594</td>\n",
       "      <td>2507000</td>\n",
       "    </tr>\n",
       "    <tr>\n",
       "      <th>4</th>\n",
       "      <td>100</td>\n",
       "      <td>42.357900</td>\n",
       "      <td>-71.054753</td>\n",
       "      <td>POINT(-71.05475322458682 42.35789957921487)</td>\n",
       "      <td>POINT (-71.05475 42.35790)</td>\n",
       "      <td>79</td>\n",
       "      <td>Boston</td>\n",
       "      <td>city</td>\n",
       "      <td>MA</td>\n",
       "      <td>25</td>\n",
       "      <td>07000</td>\n",
       "      <td>617594</td>\n",
       "      <td>2507000</td>\n",
       "    </tr>\n",
       "    <tr>\n",
       "      <th>5</th>\n",
       "      <td>101</td>\n",
       "      <td>42.357647</td>\n",
       "      <td>-71.054113</td>\n",
       "      <td>POINT(-71.05411256057393 42.357646679987276)</td>\n",
       "      <td>POINT (-71.05411 42.35765)</td>\n",
       "      <td>79</td>\n",
       "      <td>Boston</td>\n",
       "      <td>city</td>\n",
       "      <td>MA</td>\n",
       "      <td>25</td>\n",
       "      <td>07000</td>\n",
       "      <td>617594</td>\n",
       "      <td>2507000</td>\n",
       "    </tr>\n",
       "    <tr>\n",
       "      <th>6</th>\n",
       "      <td>102</td>\n",
       "      <td>42.356400</td>\n",
       "      <td>-71.061460</td>\n",
       "      <td>POINT(-71.06145962225473 42.3564002266129)</td>\n",
       "      <td>POINT (-71.06146 42.35640)</td>\n",
       "      <td>79</td>\n",
       "      <td>Boston</td>\n",
       "      <td>city</td>\n",
       "      <td>MA</td>\n",
       "      <td>25</td>\n",
       "      <td>07000</td>\n",
       "      <td>617594</td>\n",
       "      <td>2507000</td>\n",
       "    </tr>\n",
       "  </tbody>\n",
       "</table>\n",
       "</div>"
      ],
      "text/plain": [
       "  reporting_area        lat       long  \\\n",
       "2              1  42.390204 -70.996719   \n",
       "3             10  42.388745 -71.008474   \n",
       "4            100  42.357900 -71.054753   \n",
       "5            101  42.357647 -71.054113   \n",
       "6            102  42.356400 -71.061460   \n",
       "\n",
       "                                           geom                    geometry  \\\n",
       "2    POINT(-70.9967187307273 42.39020399909089)  POINT (-70.99672 42.39020)   \n",
       "3   POINT(-71.00847405534289 42.38874486606501)  POINT (-71.00847 42.38874)   \n",
       "4   POINT(-71.05475322458682 42.35789957921487)  POINT (-71.05475 42.35790)   \n",
       "5  POINT(-71.05411256057393 42.357646679987276)  POINT (-71.05411 42.35765)   \n",
       "6    POINT(-71.06145962225473 42.3564002266129)  POINT (-71.06146 42.35640)   \n",
       "\n",
       "   index_right    NAME CLASS  ST STFIPS PLACEFIPS  POP2010 STPLFIPS  \n",
       "2           79  Boston  city  MA     25     07000   617594  2507000  \n",
       "3           79  Boston  city  MA     25     07000   617594  2507000  \n",
       "4           79  Boston  city  MA     25     07000   617594  2507000  \n",
       "5           79  Boston  city  MA     25     07000   617594  2507000  \n",
       "6           79  Boston  city  MA     25     07000   617594  2507000  "
      ]
     },
     "execution_count": 66,
     "metadata": {},
     "output_type": "execute_result"
    }
   ],
   "source": [
    "geodf_ra_inboston.head()"
   ]
  },
  {
   "cell_type": "code",
   "execution_count": 67,
   "metadata": {
    "ExecuteTime": {
     "end_time": "2020-06-23T23:05:24.355196Z",
     "start_time": "2020-06-23T23:05:24.351196Z"
    }
   },
   "outputs": [],
   "source": [
    "reporting_area_centers = reporting_area_centers.loc[reporting_area_centers['reporting_area'].isin(geodf_ra_inboston['reporting_area']),:]"
   ]
  },
  {
   "cell_type": "code",
   "execution_count": 70,
   "metadata": {
    "ExecuteTime": {
     "end_time": "2020-06-23T23:13:38.643260Z",
     "start_time": "2020-06-23T23:13:38.639121Z"
    }
   },
   "outputs": [
    {
     "name": "stderr",
     "output_type": "stream",
     "text": [
      "/Users/derekmcadam/opt/anaconda3/envs/dsi/lib/python3.7/site-packages/pandas/core/frame.py:3997: SettingWithCopyWarning: \n",
      "A value is trying to be set on a copy of a slice from a DataFrame\n",
      "\n",
      "See the caveats in the documentation: https://pandas.pydata.org/pandas-docs/stable/user_guide/indexing.html#returning-a-view-versus-a-copy\n",
      "  errors=errors,\n"
     ]
    }
   ],
   "source": [
    "reporting_area_centers.drop('geometry', axis=1, inplace=True)"
   ]
  },
  {
   "cell_type": "code",
   "execution_count": 71,
   "metadata": {
    "ExecuteTime": {
     "end_time": "2020-06-23T23:13:42.490110Z",
     "start_time": "2020-06-23T23:13:42.483096Z"
    }
   },
   "outputs": [
    {
     "name": "stdout",
     "output_type": "stream",
     "text": [
      "User Guide: https://docs.kepler.gl/docs/keplergl-jupyter\n"
     ]
    }
   ],
   "source": [
    "map_2 = KeplerGl(height=500)"
   ]
  },
  {
   "cell_type": "code",
   "execution_count": 73,
   "metadata": {
    "ExecuteTime": {
     "end_time": "2020-06-23T23:13:57.587108Z",
     "start_time": "2020-06-23T23:13:57.538013Z"
    }
   },
   "outputs": [],
   "source": [
    "# Add data to Kepler\n",
    "map_2.add_data(data=reporting_area_centers, name=\"boston_crime\")\n",
    "# Add data to Kepler\n",
    "map_2.add_data(data=boston_shp, name=\"boston_polygon\")"
   ]
  },
  {
   "cell_type": "code",
   "execution_count": 74,
   "metadata": {
    "ExecuteTime": {
     "end_time": "2020-06-23T23:14:01.485048Z",
     "start_time": "2020-06-23T23:14:01.478448Z"
    }
   },
   "outputs": [
    {
     "data": {
      "application/vnd.jupyter.widget-view+json": {
       "model_id": "ebb991ba398d4d778f517cff29dc1ff2",
       "version_major": 2,
       "version_minor": 0
      },
      "text/plain": [
       "KeplerGl(data={'boston_crime': {'index': [2, 3, 4, 5, 6, 7, 8, 9, 10, 11, 12, 14, 15, 16, 17, 18, 19, 20, 21, …"
      ]
     },
     "metadata": {},
     "output_type": "display_data"
    }
   ],
   "source": [
    "map_2"
   ]
  },
  {
   "cell_type": "markdown",
   "metadata": {},
   "source": [
    "### K-Means Clustering to Reduce Number of Reporting Centers"
   ]
  },
  {
   "cell_type": "code",
   "execution_count": 75,
   "metadata": {
    "ExecuteTime": {
     "end_time": "2020-06-23T23:28:01.617385Z",
     "start_time": "2020-06-23T23:28:01.432930Z"
    }
   },
   "outputs": [],
   "source": [
    "from sklearn.cluster import KMeans\n",
    "from sklearn.metrics import silhouette_score\n",
    "from sklearn.preprocessing import MinMaxScaler"
   ]
  },
  {
   "cell_type": "code",
   "execution_count": 76,
   "metadata": {
    "ExecuteTime": {
     "end_time": "2020-06-23T23:28:17.320800Z",
     "start_time": "2020-06-23T23:28:17.315099Z"
    }
   },
   "outputs": [
    {
     "name": "stdout",
     "output_type": "stream",
     "text": [
      "<class 'pandas.core.frame.DataFrame'>\n",
      "Int64Index: 865 entries, 2 to 879\n",
      "Data columns (total 4 columns):\n",
      " #   Column          Non-Null Count  Dtype  \n",
      "---  ------          --------------  -----  \n",
      " 0   reporting_area  865 non-null    object \n",
      " 1   lat             865 non-null    float64\n",
      " 2   long            865 non-null    float64\n",
      " 3   geom            865 non-null    object \n",
      "dtypes: float64(2), object(2)\n",
      "memory usage: 73.8+ KB\n"
     ]
    }
   ],
   "source": [
    "reporting_area_centers.info()"
   ]
  },
  {
   "cell_type": "code",
   "execution_count": 78,
   "metadata": {
    "ExecuteTime": {
     "end_time": "2020-06-23T23:29:55.522226Z",
     "start_time": "2020-06-23T23:29:53.941139Z"
    }
   },
   "outputs": [],
   "source": [
    "# create 500 centers\n",
    "clusters = KMeans(n_clusters=500).fit_predict(reporting_area_centers[['long', 'lat']])"
   ]
  },
  {
   "cell_type": "code",
   "execution_count": 79,
   "metadata": {
    "ExecuteTime": {
     "end_time": "2020-06-23T23:30:28.418432Z",
     "start_time": "2020-06-23T23:30:28.415355Z"
    }
   },
   "outputs": [],
   "source": [
    "# create cluster column\n",
    "reporting_area_centers['reporting_cluster'] = clusters"
   ]
  },
  {
   "cell_type": "code",
   "execution_count": 80,
   "metadata": {
    "ExecuteTime": {
     "end_time": "2020-06-23T23:32:34.881430Z",
     "start_time": "2020-06-23T23:32:34.877168Z"
    }
   },
   "outputs": [],
   "source": [
    "# calculate mean lat for each cluster\n",
    "reporting_area_centers_clusters=reporting_area_centers.groupby('reporting_cluster')['lat'].mean().reset_index()"
   ]
  },
  {
   "cell_type": "code",
   "execution_count": 81,
   "metadata": {
    "ExecuteTime": {
     "end_time": "2020-06-23T23:33:23.691466Z",
     "start_time": "2020-06-23T23:33:23.684584Z"
    }
   },
   "outputs": [],
   "source": [
    "# add average Long \n",
    "reporting_area_centers_clusters = pd.merge(reporting_area_centers_clusters,reporting_area_centers.groupby('reporting_cluster')['long'].mean().reset_index(),on='reporting_cluster')"
   ]
  },
  {
   "cell_type": "code",
   "execution_count": 82,
   "metadata": {
    "ExecuteTime": {
     "end_time": "2020-06-23T23:33:35.811321Z",
     "start_time": "2020-06-23T23:33:35.806400Z"
    }
   },
   "outputs": [
    {
     "name": "stdout",
     "output_type": "stream",
     "text": [
      "<class 'pandas.core.frame.DataFrame'>\n",
      "Int64Index: 500 entries, 0 to 499\n",
      "Data columns (total 3 columns):\n",
      " #   Column             Non-Null Count  Dtype  \n",
      "---  ------             --------------  -----  \n",
      " 0   reporting_cluster  500 non-null    int64  \n",
      " 1   lat                500 non-null    float64\n",
      " 2   long               500 non-null    float64\n",
      "dtypes: float64(2), int64(1)\n",
      "memory usage: 35.6 KB\n"
     ]
    }
   ],
   "source": [
    "reporting_area_centers_clusters.info()"
   ]
  },
  {
   "cell_type": "code",
   "execution_count": 87,
   "metadata": {
    "ExecuteTime": {
     "end_time": "2020-06-23T23:34:52.148020Z",
     "start_time": "2020-06-23T23:34:52.099822Z"
    }
   },
   "outputs": [
    {
     "name": "stdout",
     "output_type": "stream",
     "text": [
      "User Guide: https://docs.kepler.gl/docs/keplergl-jupyter\n"
     ]
    }
   ],
   "source": [
    "map_3 = KeplerGl(height=500)\n",
    "map_3.add_data(data=reporting_area_centers_clusters, name=\"rac_clusters\")\n",
    "map_3.add_data(data=boston_shp, name=\"boston_polygon\")"
   ]
  },
  {
   "cell_type": "code",
   "execution_count": 89,
   "metadata": {
    "ExecuteTime": {
     "end_time": "2020-06-23T23:35:14.330154Z",
     "start_time": "2020-06-23T23:35:14.324513Z"
    }
   },
   "outputs": [
    {
     "data": {
      "application/vnd.jupyter.widget-view+json": {
       "model_id": "b76a68d6122647b7b95b118e8f34d0fd",
       "version_major": 2,
       "version_minor": 0
      },
      "text/plain": [
       "KeplerGl(config={'version': 'v1', 'config': {'visState': {'filters': [], 'layers': [{'id': 'ybahwr9', 'type': …"
      ]
     },
     "metadata": {},
     "output_type": "display_data"
    }
   ],
   "source": [
    "map_3"
   ]
  },
  {
   "cell_type": "code",
   "execution_count": 92,
   "metadata": {
    "ExecuteTime": {
     "end_time": "2020-06-23T23:47:08.568704Z",
     "start_time": "2020-06-23T23:47:08.560648Z"
    }
   },
   "outputs": [],
   "source": [
    "# reporting_area_centers.to_csv('reporting_area_centers.csv', index=False)"
   ]
  },
  {
   "cell_type": "code",
   "execution_count": 93,
   "metadata": {
    "ExecuteTime": {
     "end_time": "2020-06-23T23:48:16.320362Z",
     "start_time": "2020-06-23T23:48:16.312573Z"
    }
   },
   "outputs": [
    {
     "data": {
      "text/html": [
       "<div>\n",
       "<style scoped>\n",
       "    .dataframe tbody tr th:only-of-type {\n",
       "        vertical-align: middle;\n",
       "    }\n",
       "\n",
       "    .dataframe tbody tr th {\n",
       "        vertical-align: top;\n",
       "    }\n",
       "\n",
       "    .dataframe thead th {\n",
       "        text-align: right;\n",
       "    }\n",
       "</style>\n",
       "<table border=\"1\" class=\"dataframe\">\n",
       "  <thead>\n",
       "    <tr style=\"text-align: right;\">\n",
       "      <th></th>\n",
       "      <th>reporting_area</th>\n",
       "      <th>lat</th>\n",
       "      <th>long</th>\n",
       "      <th>geom</th>\n",
       "      <th>reporting_cluster</th>\n",
       "    </tr>\n",
       "  </thead>\n",
       "  <tbody>\n",
       "    <tr>\n",
       "      <th>2</th>\n",
       "      <td>1</td>\n",
       "      <td>42.390204</td>\n",
       "      <td>-70.996719</td>\n",
       "      <td>POINT(-70.9967187307273 42.39020399909089)</td>\n",
       "      <td>211</td>\n",
       "    </tr>\n",
       "    <tr>\n",
       "      <th>3</th>\n",
       "      <td>10</td>\n",
       "      <td>42.388745</td>\n",
       "      <td>-71.008474</td>\n",
       "      <td>POINT(-71.00847405534289 42.38874486606501)</td>\n",
       "      <td>371</td>\n",
       "    </tr>\n",
       "    <tr>\n",
       "      <th>4</th>\n",
       "      <td>100</td>\n",
       "      <td>42.357900</td>\n",
       "      <td>-71.054753</td>\n",
       "      <td>POINT(-71.05475322458682 42.35789957921487)</td>\n",
       "      <td>85</td>\n",
       "    </tr>\n",
       "    <tr>\n",
       "      <th>5</th>\n",
       "      <td>101</td>\n",
       "      <td>42.357647</td>\n",
       "      <td>-71.054113</td>\n",
       "      <td>POINT(-71.05411256057393 42.357646679987276)</td>\n",
       "      <td>85</td>\n",
       "    </tr>\n",
       "    <tr>\n",
       "      <th>6</th>\n",
       "      <td>102</td>\n",
       "      <td>42.356400</td>\n",
       "      <td>-71.061460</td>\n",
       "      <td>POINT(-71.06145962225473 42.3564002266129)</td>\n",
       "      <td>165</td>\n",
       "    </tr>\n",
       "  </tbody>\n",
       "</table>\n",
       "</div>"
      ],
      "text/plain": [
       "  reporting_area        lat       long  \\\n",
       "2              1  42.390204 -70.996719   \n",
       "3             10  42.388745 -71.008474   \n",
       "4            100  42.357900 -71.054753   \n",
       "5            101  42.357647 -71.054113   \n",
       "6            102  42.356400 -71.061460   \n",
       "\n",
       "                                           geom  reporting_cluster  \n",
       "2    POINT(-70.9967187307273 42.39020399909089)                211  \n",
       "3   POINT(-71.00847405534289 42.38874486606501)                371  \n",
       "4   POINT(-71.05475322458682 42.35789957921487)                 85  \n",
       "5  POINT(-71.05411256057393 42.357646679987276)                 85  \n",
       "6    POINT(-71.06145962225473 42.3564002266129)                165  "
      ]
     },
     "execution_count": 93,
     "metadata": {},
     "output_type": "execute_result"
    }
   ],
   "source": [
    "reporting_area_centers.head()"
   ]
  },
  {
   "cell_type": "code",
   "execution_count": 99,
   "metadata": {
    "ExecuteTime": {
     "end_time": "2020-06-23T23:59:28.019828Z",
     "start_time": "2020-06-23T23:59:27.972372Z"
    }
   },
   "outputs": [],
   "source": [
    "data = data.loc[data['reporting_area'].isin(reporting_area_centers['reporting_area']), :]"
   ]
  },
  {
   "cell_type": "code",
   "execution_count": 111,
   "metadata": {
    "ExecuteTime": {
     "end_time": "2020-06-24T00:12:56.660876Z",
     "start_time": "2020-06-24T00:12:56.463324Z"
    }
   },
   "outputs": [],
   "source": [
    "# adding clusters to crime data\n",
    "data = pd.merge(data, reporting_area_centers[['reporting_area', 'reporting_cluster']], on='reporting_area')"
   ]
  },
  {
   "cell_type": "code",
   "execution_count": 112,
   "metadata": {
    "ExecuteTime": {
     "end_time": "2020-06-24T00:13:00.556196Z",
     "start_time": "2020-06-24T00:13:00.543401Z"
    }
   },
   "outputs": [
    {
     "data": {
      "text/html": [
       "<div>\n",
       "<style scoped>\n",
       "    .dataframe tbody tr th:only-of-type {\n",
       "        vertical-align: middle;\n",
       "    }\n",
       "\n",
       "    .dataframe tbody tr th {\n",
       "        vertical-align: top;\n",
       "    }\n",
       "\n",
       "    .dataframe thead th {\n",
       "        text-align: right;\n",
       "    }\n",
       "</style>\n",
       "<table border=\"1\" class=\"dataframe\">\n",
       "  <thead>\n",
       "    <tr style=\"text-align: right;\">\n",
       "      <th></th>\n",
       "      <th>offense_code</th>\n",
       "      <th>offense_code_group</th>\n",
       "      <th>offense_description</th>\n",
       "      <th>district</th>\n",
       "      <th>reporting_area</th>\n",
       "      <th>shooting</th>\n",
       "      <th>occurred_on_date</th>\n",
       "      <th>year</th>\n",
       "      <th>month</th>\n",
       "      <th>day_of_week</th>\n",
       "      <th>hour</th>\n",
       "      <th>ucr_part</th>\n",
       "      <th>street</th>\n",
       "      <th>lat</th>\n",
       "      <th>long</th>\n",
       "      <th>reporting_cluster</th>\n",
       "    </tr>\n",
       "  </thead>\n",
       "  <tbody>\n",
       "    <tr>\n",
       "      <th>0</th>\n",
       "      <td>3301</td>\n",
       "      <td>NaN</td>\n",
       "      <td>VERBAL DISPUTE</td>\n",
       "      <td>E13</td>\n",
       "      <td>583</td>\n",
       "      <td>0.0</td>\n",
       "      <td>2019-12-20 03:08:00</td>\n",
       "      <td>2019</td>\n",
       "      <td>12</td>\n",
       "      <td>Friday</td>\n",
       "      <td>3</td>\n",
       "      <td>NaN</td>\n",
       "      <td>DAY ST</td>\n",
       "      <td>42.325122</td>\n",
       "      <td>-71.107779</td>\n",
       "      <td>497</td>\n",
       "    </tr>\n",
       "    <tr>\n",
       "      <th>1</th>\n",
       "      <td>1402</td>\n",
       "      <td>Vandalism</td>\n",
       "      <td>VANDALISM</td>\n",
       "      <td>E13</td>\n",
       "      <td>583</td>\n",
       "      <td>0.0</td>\n",
       "      <td>2019-09-22 19:20:00</td>\n",
       "      <td>2019</td>\n",
       "      <td>9</td>\n",
       "      <td>Sunday</td>\n",
       "      <td>19</td>\n",
       "      <td>Part Two</td>\n",
       "      <td>ROUND HILL ST</td>\n",
       "      <td>42.324692</td>\n",
       "      <td>-71.106189</td>\n",
       "      <td>497</td>\n",
       "    </tr>\n",
       "    <tr>\n",
       "      <th>2</th>\n",
       "      <td>3301</td>\n",
       "      <td>Verbal Disputes</td>\n",
       "      <td>VERBAL DISPUTE</td>\n",
       "      <td>E13</td>\n",
       "      <td>583</td>\n",
       "      <td>0.0</td>\n",
       "      <td>2019-09-22 22:42:00</td>\n",
       "      <td>2019</td>\n",
       "      <td>9</td>\n",
       "      <td>Sunday</td>\n",
       "      <td>22</td>\n",
       "      <td>Part Three</td>\n",
       "      <td>ROUND HILL ST</td>\n",
       "      <td>42.324692</td>\n",
       "      <td>-71.106189</td>\n",
       "      <td>497</td>\n",
       "    </tr>\n",
       "    <tr>\n",
       "      <th>3</th>\n",
       "      <td>802</td>\n",
       "      <td>Simple Assault</td>\n",
       "      <td>ASSAULT SIMPLE - BATTERY</td>\n",
       "      <td>E13</td>\n",
       "      <td>583</td>\n",
       "      <td>0.0</td>\n",
       "      <td>2019-09-22 19:32:00</td>\n",
       "      <td>2019</td>\n",
       "      <td>9</td>\n",
       "      <td>Sunday</td>\n",
       "      <td>19</td>\n",
       "      <td>Part Two</td>\n",
       "      <td>GAY HEAD ST</td>\n",
       "      <td>42.324248</td>\n",
       "      <td>-71.105252</td>\n",
       "      <td>497</td>\n",
       "    </tr>\n",
       "    <tr>\n",
       "      <th>4</th>\n",
       "      <td>3114</td>\n",
       "      <td>Investigate Property</td>\n",
       "      <td>INVESTIGATE PROPERTY</td>\n",
       "      <td>E13</td>\n",
       "      <td>583</td>\n",
       "      <td>0.0</td>\n",
       "      <td>2019-09-15 18:05:37</td>\n",
       "      <td>2019</td>\n",
       "      <td>9</td>\n",
       "      <td>Sunday</td>\n",
       "      <td>18</td>\n",
       "      <td>Part Three</td>\n",
       "      <td>GAY HEAD ST</td>\n",
       "      <td>42.325064</td>\n",
       "      <td>-71.104900</td>\n",
       "      <td>497</td>\n",
       "    </tr>\n",
       "  </tbody>\n",
       "</table>\n",
       "</div>"
      ],
      "text/plain": [
       "   offense_code    offense_code_group       offense_description district  \\\n",
       "0          3301                   NaN            VERBAL DISPUTE      E13   \n",
       "1          1402             Vandalism                 VANDALISM      E13   \n",
       "2          3301       Verbal Disputes            VERBAL DISPUTE      E13   \n",
       "3           802        Simple Assault  ASSAULT SIMPLE - BATTERY      E13   \n",
       "4          3114  Investigate Property      INVESTIGATE PROPERTY      E13   \n",
       "\n",
       "  reporting_area  shooting    occurred_on_date  year  month day_of_week  hour  \\\n",
       "0            583       0.0 2019-12-20 03:08:00  2019     12      Friday     3   \n",
       "1            583       0.0 2019-09-22 19:20:00  2019      9      Sunday    19   \n",
       "2            583       0.0 2019-09-22 22:42:00  2019      9      Sunday    22   \n",
       "3            583       0.0 2019-09-22 19:32:00  2019      9      Sunday    19   \n",
       "4            583       0.0 2019-09-15 18:05:37  2019      9      Sunday    18   \n",
       "\n",
       "     ucr_part         street        lat       long  reporting_cluster  \n",
       "0         NaN         DAY ST  42.325122 -71.107779                497  \n",
       "1    Part Two  ROUND HILL ST  42.324692 -71.106189                497  \n",
       "2  Part Three  ROUND HILL ST  42.324692 -71.106189                497  \n",
       "3    Part Two    GAY HEAD ST  42.324248 -71.105252                497  \n",
       "4  Part Three    GAY HEAD ST  42.325064 -71.104900                497  "
      ]
     },
     "execution_count": 112,
     "metadata": {},
     "output_type": "execute_result"
    }
   ],
   "source": [
    "data.head()"
   ]
  },
  {
   "cell_type": "code",
   "execution_count": 113,
   "metadata": {
    "ExecuteTime": {
     "end_time": "2020-06-24T00:13:04.645339Z",
     "start_time": "2020-06-24T00:13:04.499183Z"
    }
   },
   "outputs": [
    {
     "name": "stdout",
     "output_type": "stream",
     "text": [
      "<class 'pandas.core.frame.DataFrame'>\n",
      "Int64Index: 448803 entries, 0 to 448802\n",
      "Data columns (total 16 columns):\n",
      " #   Column               Non-Null Count   Dtype         \n",
      "---  ------               --------------   -----         \n",
      " 0   offense_code         448803 non-null  int64         \n",
      " 1   offense_code_group   393043 non-null  object        \n",
      " 2   offense_description  448803 non-null  object        \n",
      " 3   district             448771 non-null  object        \n",
      " 4   reporting_area       448803 non-null  object        \n",
      " 5   shooting             448803 non-null  float64       \n",
      " 6   occurred_on_date     448803 non-null  datetime64[ns]\n",
      " 7   year                 448803 non-null  int64         \n",
      " 8   month                448803 non-null  int64         \n",
      " 9   day_of_week          448803 non-null  object        \n",
      " 10  hour                 448803 non-null  int64         \n",
      " 11  ucr_part             392940 non-null  object        \n",
      " 12  street               445446 non-null  object        \n",
      " 13  lat                  444768 non-null  float64       \n",
      " 14  long                 444768 non-null  float64       \n",
      " 15  reporting_cluster    448803 non-null  int32         \n",
      "dtypes: datetime64[ns](1), float64(3), int32(1), int64(4), object(7)\n",
      "memory usage: 56.5+ MB\n"
     ]
    }
   ],
   "source": [
    "data.info()"
   ]
  },
  {
   "cell_type": "code",
   "execution_count": 129,
   "metadata": {
    "ExecuteTime": {
     "end_time": "2020-06-24T00:24:42.588280Z",
     "start_time": "2020-06-24T00:24:42.550936Z"
    }
   },
   "outputs": [
    {
     "data": {
      "text/html": [
       "<div>\n",
       "<style scoped>\n",
       "    .dataframe tbody tr th:only-of-type {\n",
       "        vertical-align: middle;\n",
       "    }\n",
       "\n",
       "    .dataframe tbody tr th {\n",
       "        vertical-align: top;\n",
       "    }\n",
       "\n",
       "    .dataframe thead th {\n",
       "        text-align: right;\n",
       "    }\n",
       "</style>\n",
       "<table border=\"1\" class=\"dataframe\">\n",
       "  <thead>\n",
       "    <tr style=\"text-align: right;\">\n",
       "      <th></th>\n",
       "      <th>offense_code_group</th>\n",
       "      <th>0</th>\n",
       "    </tr>\n",
       "  </thead>\n",
       "  <tbody>\n",
       "    <tr>\n",
       "      <th>0</th>\n",
       "      <td>Aggravated Assault</td>\n",
       "      <td>9765</td>\n",
       "    </tr>\n",
       "    <tr>\n",
       "      <th>1</th>\n",
       "      <td>Aircraft</td>\n",
       "      <td>48</td>\n",
       "    </tr>\n",
       "    <tr>\n",
       "      <th>2</th>\n",
       "      <td>Arson</td>\n",
       "      <td>106</td>\n",
       "    </tr>\n",
       "    <tr>\n",
       "      <th>3</th>\n",
       "      <td>Assembly or Gathering Violations</td>\n",
       "      <td>1069</td>\n",
       "    </tr>\n",
       "    <tr>\n",
       "      <th>4</th>\n",
       "      <td>Auto Theft</td>\n",
       "      <td>5860</td>\n",
       "    </tr>\n",
       "    <tr>\n",
       "      <th>5</th>\n",
       "      <td>Auto Theft Recovery</td>\n",
       "      <td>1299</td>\n",
       "    </tr>\n",
       "    <tr>\n",
       "      <th>6</th>\n",
       "      <td>Ballistics</td>\n",
       "      <td>1261</td>\n",
       "    </tr>\n",
       "    <tr>\n",
       "      <th>7</th>\n",
       "      <td>Biological Threat</td>\n",
       "      <td>3</td>\n",
       "    </tr>\n",
       "    <tr>\n",
       "      <th>8</th>\n",
       "      <td>Bomb Hoax</td>\n",
       "      <td>99</td>\n",
       "    </tr>\n",
       "    <tr>\n",
       "      <th>9</th>\n",
       "      <td>Burglary - No Property Taken</td>\n",
       "      <td>2</td>\n",
       "    </tr>\n",
       "    <tr>\n",
       "      <th>10</th>\n",
       "      <td>Commercial Burglary</td>\n",
       "      <td>1621</td>\n",
       "    </tr>\n",
       "    <tr>\n",
       "      <th>11</th>\n",
       "      <td>Confidence Games</td>\n",
       "      <td>3890</td>\n",
       "    </tr>\n",
       "    <tr>\n",
       "      <th>12</th>\n",
       "      <td>Counterfeiting</td>\n",
       "      <td>1864</td>\n",
       "    </tr>\n",
       "    <tr>\n",
       "      <th>13</th>\n",
       "      <td>Criminal Harassment</td>\n",
       "      <td>156</td>\n",
       "    </tr>\n",
       "    <tr>\n",
       "      <th>14</th>\n",
       "      <td>Disorderly Conduct</td>\n",
       "      <td>2958</td>\n",
       "    </tr>\n",
       "    <tr>\n",
       "      <th>15</th>\n",
       "      <td>Drug Violation</td>\n",
       "      <td>19356</td>\n",
       "    </tr>\n",
       "    <tr>\n",
       "      <th>16</th>\n",
       "      <td>Embezzlement</td>\n",
       "      <td>400</td>\n",
       "    </tr>\n",
       "    <tr>\n",
       "      <th>17</th>\n",
       "      <td>Evading Fare</td>\n",
       "      <td>498</td>\n",
       "    </tr>\n",
       "    <tr>\n",
       "      <th>18</th>\n",
       "      <td>Explosives</td>\n",
       "      <td>27</td>\n",
       "    </tr>\n",
       "    <tr>\n",
       "      <th>19</th>\n",
       "      <td>Fire Related Reports</td>\n",
       "      <td>2367</td>\n",
       "    </tr>\n",
       "    <tr>\n",
       "      <th>20</th>\n",
       "      <td>Firearm Discovery</td>\n",
       "      <td>853</td>\n",
       "    </tr>\n",
       "    <tr>\n",
       "      <th>21</th>\n",
       "      <td>Firearm Violations</td>\n",
       "      <td>2197</td>\n",
       "    </tr>\n",
       "    <tr>\n",
       "      <th>22</th>\n",
       "      <td>Fraud</td>\n",
       "      <td>7973</td>\n",
       "    </tr>\n",
       "    <tr>\n",
       "      <th>23</th>\n",
       "      <td>Gambling</td>\n",
       "      <td>8</td>\n",
       "    </tr>\n",
       "    <tr>\n",
       "      <th>24</th>\n",
       "      <td>HOME INVASION</td>\n",
       "      <td>88</td>\n",
       "    </tr>\n",
       "    <tr>\n",
       "      <th>25</th>\n",
       "      <td>HUMAN TRAFFICKING</td>\n",
       "      <td>7</td>\n",
       "    </tr>\n",
       "    <tr>\n",
       "      <th>26</th>\n",
       "      <td>HUMAN TRAFFICKING - INVOLUNTARY SERVITUDE</td>\n",
       "      <td>4</td>\n",
       "    </tr>\n",
       "    <tr>\n",
       "      <th>27</th>\n",
       "      <td>Harassment</td>\n",
       "      <td>5374</td>\n",
       "    </tr>\n",
       "    <tr>\n",
       "      <th>28</th>\n",
       "      <td>Harbor Related Incidents</td>\n",
       "      <td>91</td>\n",
       "    </tr>\n",
       "    <tr>\n",
       "      <th>29</th>\n",
       "      <td>Homicide</td>\n",
       "      <td>200</td>\n",
       "    </tr>\n",
       "    <tr>\n",
       "      <th>30</th>\n",
       "      <td>INVESTIGATE PERSON</td>\n",
       "      <td>4</td>\n",
       "    </tr>\n",
       "    <tr>\n",
       "      <th>31</th>\n",
       "      <td>Investigate Person</td>\n",
       "      <td>23488</td>\n",
       "    </tr>\n",
       "    <tr>\n",
       "      <th>32</th>\n",
       "      <td>Investigate Property</td>\n",
       "      <td>14239</td>\n",
       "    </tr>\n",
       "    <tr>\n",
       "      <th>33</th>\n",
       "      <td>Landlord/Tenant Disputes</td>\n",
       "      <td>1308</td>\n",
       "    </tr>\n",
       "    <tr>\n",
       "      <th>34</th>\n",
       "      <td>Larceny</td>\n",
       "      <td>33394</td>\n",
       "    </tr>\n",
       "    <tr>\n",
       "      <th>35</th>\n",
       "      <td>Larceny From Motor Vehicle</td>\n",
       "      <td>12969</td>\n",
       "    </tr>\n",
       "    <tr>\n",
       "      <th>36</th>\n",
       "      <td>License Plate Related Incidents</td>\n",
       "      <td>727</td>\n",
       "    </tr>\n",
       "    <tr>\n",
       "      <th>37</th>\n",
       "      <td>License Violation</td>\n",
       "      <td>2088</td>\n",
       "    </tr>\n",
       "    <tr>\n",
       "      <th>38</th>\n",
       "      <td>Liquor Violation</td>\n",
       "      <td>1420</td>\n",
       "    </tr>\n",
       "    <tr>\n",
       "      <th>39</th>\n",
       "      <td>Manslaughter</td>\n",
       "      <td>8</td>\n",
       "    </tr>\n",
       "    <tr>\n",
       "      <th>40</th>\n",
       "      <td>Medical Assistance</td>\n",
       "      <td>30668</td>\n",
       "    </tr>\n",
       "    <tr>\n",
       "      <th>41</th>\n",
       "      <td>Missing Person Located</td>\n",
       "      <td>7023</td>\n",
       "    </tr>\n",
       "    <tr>\n",
       "      <th>42</th>\n",
       "      <td>Missing Person Reported</td>\n",
       "      <td>4698</td>\n",
       "    </tr>\n",
       "    <tr>\n",
       "      <th>43</th>\n",
       "      <td>Motor Vehicle Accident Response</td>\n",
       "      <td>40181</td>\n",
       "    </tr>\n",
       "    <tr>\n",
       "      <th>44</th>\n",
       "      <td>Offenses Against Child / Family</td>\n",
       "      <td>640</td>\n",
       "    </tr>\n",
       "    <tr>\n",
       "      <th>45</th>\n",
       "      <td>Operating Under the Influence</td>\n",
       "      <td>587</td>\n",
       "    </tr>\n",
       "    <tr>\n",
       "      <th>46</th>\n",
       "      <td>Other</td>\n",
       "      <td>22467</td>\n",
       "    </tr>\n",
       "    <tr>\n",
       "      <th>47</th>\n",
       "      <td>Other Burglary</td>\n",
       "      <td>561</td>\n",
       "    </tr>\n",
       "    <tr>\n",
       "      <th>48</th>\n",
       "      <td>Phone Call Complaints</td>\n",
       "      <td>45</td>\n",
       "    </tr>\n",
       "    <tr>\n",
       "      <th>49</th>\n",
       "      <td>Police Service Incidents</td>\n",
       "      <td>3626</td>\n",
       "    </tr>\n",
       "    <tr>\n",
       "      <th>50</th>\n",
       "      <td>Prisoner Related Incidents</td>\n",
       "      <td>312</td>\n",
       "    </tr>\n",
       "    <tr>\n",
       "      <th>51</th>\n",
       "      <td>Property Found</td>\n",
       "      <td>4810</td>\n",
       "    </tr>\n",
       "    <tr>\n",
       "      <th>52</th>\n",
       "      <td>Property Lost</td>\n",
       "      <td>12591</td>\n",
       "    </tr>\n",
       "    <tr>\n",
       "      <th>53</th>\n",
       "      <td>Property Related Damage</td>\n",
       "      <td>1105</td>\n",
       "    </tr>\n",
       "    <tr>\n",
       "      <th>54</th>\n",
       "      <td>Prostitution</td>\n",
       "      <td>248</td>\n",
       "    </tr>\n",
       "    <tr>\n",
       "      <th>55</th>\n",
       "      <td>Recovered Stolen Property</td>\n",
       "      <td>1736</td>\n",
       "    </tr>\n",
       "    <tr>\n",
       "      <th>56</th>\n",
       "      <td>Residential Burglary</td>\n",
       "      <td>6787</td>\n",
       "    </tr>\n",
       "    <tr>\n",
       "      <th>57</th>\n",
       "      <td>Restraining Order Violations</td>\n",
       "      <td>2054</td>\n",
       "    </tr>\n",
       "    <tr>\n",
       "      <th>58</th>\n",
       "      <td>Robbery</td>\n",
       "      <td>5334</td>\n",
       "    </tr>\n",
       "    <tr>\n",
       "      <th>59</th>\n",
       "      <td>Search Warrants</td>\n",
       "      <td>1232</td>\n",
       "    </tr>\n",
       "    <tr>\n",
       "      <th>60</th>\n",
       "      <td>Service</td>\n",
       "      <td>356</td>\n",
       "    </tr>\n",
       "    <tr>\n",
       "      <th>61</th>\n",
       "      <td>Simple Assault</td>\n",
       "      <td>19874</td>\n",
       "    </tr>\n",
       "    <tr>\n",
       "      <th>62</th>\n",
       "      <td>Towed</td>\n",
       "      <td>14008</td>\n",
       "    </tr>\n",
       "    <tr>\n",
       "      <th>63</th>\n",
       "      <td>Vandalism</td>\n",
       "      <td>19153</td>\n",
       "    </tr>\n",
       "    <tr>\n",
       "      <th>64</th>\n",
       "      <td>Verbal Disputes</td>\n",
       "      <td>17370</td>\n",
       "    </tr>\n",
       "    <tr>\n",
       "      <th>65</th>\n",
       "      <td>Violations</td>\n",
       "      <td>6568</td>\n",
       "    </tr>\n",
       "    <tr>\n",
       "      <th>66</th>\n",
       "      <td>Warrant Arrests</td>\n",
       "      <td>9920</td>\n",
       "    </tr>\n",
       "  </tbody>\n",
       "</table>\n",
       "</div>"
      ],
      "text/plain": [
       "                           offense_code_group      0\n",
       "0                          Aggravated Assault   9765\n",
       "1                                    Aircraft     48\n",
       "2                                       Arson    106\n",
       "3            Assembly or Gathering Violations   1069\n",
       "4                                  Auto Theft   5860\n",
       "5                         Auto Theft Recovery   1299\n",
       "6                                  Ballistics   1261\n",
       "7                           Biological Threat      3\n",
       "8                                   Bomb Hoax     99\n",
       "9                Burglary - No Property Taken      2\n",
       "10                        Commercial Burglary   1621\n",
       "11                           Confidence Games   3890\n",
       "12                             Counterfeiting   1864\n",
       "13                        Criminal Harassment    156\n",
       "14                         Disorderly Conduct   2958\n",
       "15                             Drug Violation  19356\n",
       "16                               Embezzlement    400\n",
       "17                               Evading Fare    498\n",
       "18                                 Explosives     27\n",
       "19                       Fire Related Reports   2367\n",
       "20                          Firearm Discovery    853\n",
       "21                         Firearm Violations   2197\n",
       "22                                      Fraud   7973\n",
       "23                                   Gambling      8\n",
       "24                              HOME INVASION     88\n",
       "25                          HUMAN TRAFFICKING      7\n",
       "26  HUMAN TRAFFICKING - INVOLUNTARY SERVITUDE      4\n",
       "27                                 Harassment   5374\n",
       "28                   Harbor Related Incidents     91\n",
       "29                                   Homicide    200\n",
       "30                         INVESTIGATE PERSON      4\n",
       "31                         Investigate Person  23488\n",
       "32                       Investigate Property  14239\n",
       "33                   Landlord/Tenant Disputes   1308\n",
       "34                                    Larceny  33394\n",
       "35                 Larceny From Motor Vehicle  12969\n",
       "36            License Plate Related Incidents    727\n",
       "37                          License Violation   2088\n",
       "38                           Liquor Violation   1420\n",
       "39                               Manslaughter      8\n",
       "40                         Medical Assistance  30668\n",
       "41                     Missing Person Located   7023\n",
       "42                    Missing Person Reported   4698\n",
       "43            Motor Vehicle Accident Response  40181\n",
       "44            Offenses Against Child / Family    640\n",
       "45              Operating Under the Influence    587\n",
       "46                                      Other  22467\n",
       "47                             Other Burglary    561\n",
       "48                      Phone Call Complaints     45\n",
       "49                   Police Service Incidents   3626\n",
       "50                 Prisoner Related Incidents    312\n",
       "51                             Property Found   4810\n",
       "52                              Property Lost  12591\n",
       "53                    Property Related Damage   1105\n",
       "54                               Prostitution    248\n",
       "55                  Recovered Stolen Property   1736\n",
       "56                       Residential Burglary   6787\n",
       "57               Restraining Order Violations   2054\n",
       "58                                    Robbery   5334\n",
       "59                            Search Warrants   1232\n",
       "60                                    Service    356\n",
       "61                             Simple Assault  19874\n",
       "62                                      Towed  14008\n",
       "63                                  Vandalism  19153\n",
       "64                            Verbal Disputes  17370\n",
       "65                                 Violations   6568\n",
       "66                            Warrant Arrests   9920"
      ]
     },
     "execution_count": 129,
     "metadata": {},
     "output_type": "execute_result"
    }
   ],
   "source": [
    "data_offense_codes = data.groupby(['offense_code_group']).size().reset_index()\n",
    "data_offense_codes"
   ]
  },
  {
   "cell_type": "code",
   "execution_count": 119,
   "metadata": {
    "ExecuteTime": {
     "end_time": "2020-06-24T00:23:01.674013Z",
     "start_time": "2020-06-24T00:23:01.643846Z"
    }
   },
   "outputs": [
    {
     "data": {
      "text/plain": [
       "280"
      ]
     },
     "execution_count": 119,
     "metadata": {},
     "output_type": "execute_result"
    }
   ],
   "source": [
    "# Unique offenses\n",
    "data['offense_description'].nunique()"
   ]
  },
  {
   "cell_type": "code",
   "execution_count": 120,
   "metadata": {
    "ExecuteTime": {
     "end_time": "2020-06-24T00:23:05.583355Z",
     "start_time": "2020-06-24T00:23:05.561020Z"
    }
   },
   "outputs": [
    {
     "data": {
      "text/plain": [
       "array([nan, 'Part Two', 'Part Three', 'Part One', 'Other'], dtype=object)"
      ]
     },
     "execution_count": 120,
     "metadata": {},
     "output_type": "execute_result"
    }
   ],
   "source": [
    "data['ucr_part'].unique()"
   ]
  },
  {
   "cell_type": "code",
   "execution_count": 121,
   "metadata": {
    "ExecuteTime": {
     "end_time": "2020-06-24T00:23:09.497242Z",
     "start_time": "2020-06-24T00:23:09.466068Z"
    }
   },
   "outputs": [],
   "source": [
    "part_one = data.loc[data['ucr_part'] == 'Part One', :]"
   ]
  },
  {
   "cell_type": "code",
   "execution_count": 122,
   "metadata": {
    "ExecuteTime": {
     "end_time": "2020-06-24T00:23:13.394029Z",
     "start_time": "2020-06-24T00:23:13.381638Z"
    }
   },
   "outputs": [
    {
     "data": {
      "text/html": [
       "<div>\n",
       "<style scoped>\n",
       "    .dataframe tbody tr th:only-of-type {\n",
       "        vertical-align: middle;\n",
       "    }\n",
       "\n",
       "    .dataframe tbody tr th {\n",
       "        vertical-align: top;\n",
       "    }\n",
       "\n",
       "    .dataframe thead th {\n",
       "        text-align: right;\n",
       "    }\n",
       "</style>\n",
       "<table border=\"1\" class=\"dataframe\">\n",
       "  <thead>\n",
       "    <tr style=\"text-align: right;\">\n",
       "      <th></th>\n",
       "      <th>offense_code</th>\n",
       "      <th>offense_code_group</th>\n",
       "      <th>offense_description</th>\n",
       "      <th>district</th>\n",
       "      <th>reporting_area</th>\n",
       "      <th>shooting</th>\n",
       "      <th>occurred_on_date</th>\n",
       "      <th>year</th>\n",
       "      <th>month</th>\n",
       "      <th>day_of_week</th>\n",
       "      <th>hour</th>\n",
       "      <th>ucr_part</th>\n",
       "      <th>street</th>\n",
       "      <th>lat</th>\n",
       "      <th>long</th>\n",
       "      <th>reporting_cluster</th>\n",
       "    </tr>\n",
       "  </thead>\n",
       "  <tbody>\n",
       "    <tr>\n",
       "      <th>15</th>\n",
       "      <td>616</td>\n",
       "      <td>Larceny</td>\n",
       "      <td>LARCENY THEFT OF BICYCLE</td>\n",
       "      <td>E13</td>\n",
       "      <td>583</td>\n",
       "      <td>0.0</td>\n",
       "      <td>2019-07-20 18:00:00</td>\n",
       "      <td>2019</td>\n",
       "      <td>7</td>\n",
       "      <td>Saturday</td>\n",
       "      <td>18</td>\n",
       "      <td>Part One</td>\n",
       "      <td>EDGE HILL ST</td>\n",
       "      <td>42.324231</td>\n",
       "      <td>-71.106422</td>\n",
       "      <td>497</td>\n",
       "    </tr>\n",
       "    <tr>\n",
       "      <th>22</th>\n",
       "      <td>613</td>\n",
       "      <td>Larceny</td>\n",
       "      <td>LARCENY SHOPLIFTING</td>\n",
       "      <td>E13</td>\n",
       "      <td>583</td>\n",
       "      <td>0.0</td>\n",
       "      <td>2019-06-21 12:56:00</td>\n",
       "      <td>2019</td>\n",
       "      <td>6</td>\n",
       "      <td>Friday</td>\n",
       "      <td>12</td>\n",
       "      <td>Part One</td>\n",
       "      <td>GAY HEAD ST</td>\n",
       "      <td>42.324741</td>\n",
       "      <td>-71.104919</td>\n",
       "      <td>497</td>\n",
       "    </tr>\n",
       "    <tr>\n",
       "      <th>23</th>\n",
       "      <td>613</td>\n",
       "      <td>Larceny</td>\n",
       "      <td>LARCENY SHOPLIFTING</td>\n",
       "      <td>E13</td>\n",
       "      <td>583</td>\n",
       "      <td>0.0</td>\n",
       "      <td>2019-06-19 11:55:00</td>\n",
       "      <td>2019</td>\n",
       "      <td>6</td>\n",
       "      <td>Wednesday</td>\n",
       "      <td>11</td>\n",
       "      <td>Part One</td>\n",
       "      <td>HEATH ST</td>\n",
       "      <td>42.326655</td>\n",
       "      <td>-71.106796</td>\n",
       "      <td>497</td>\n",
       "    </tr>\n",
       "    <tr>\n",
       "      <th>26</th>\n",
       "      <td>619</td>\n",
       "      <td>Larceny</td>\n",
       "      <td>LARCENY ALL OTHERS</td>\n",
       "      <td>E13</td>\n",
       "      <td>583</td>\n",
       "      <td>0.0</td>\n",
       "      <td>2019-06-09 07:50:00</td>\n",
       "      <td>2019</td>\n",
       "      <td>6</td>\n",
       "      <td>Sunday</td>\n",
       "      <td>7</td>\n",
       "      <td>Part One</td>\n",
       "      <td>ROUND HILL ST</td>\n",
       "      <td>42.324692</td>\n",
       "      <td>-71.106189</td>\n",
       "      <td>497</td>\n",
       "    </tr>\n",
       "    <tr>\n",
       "      <th>29</th>\n",
       "      <td>614</td>\n",
       "      <td>Larceny From Motor Vehicle</td>\n",
       "      <td>LARCENY THEFT FROM MV - NON-ACCESSORY</td>\n",
       "      <td>E13</td>\n",
       "      <td>583</td>\n",
       "      <td>0.0</td>\n",
       "      <td>2019-06-04 20:30:00</td>\n",
       "      <td>2019</td>\n",
       "      <td>6</td>\n",
       "      <td>Tuesday</td>\n",
       "      <td>20</td>\n",
       "      <td>Part One</td>\n",
       "      <td>MINDEN ST</td>\n",
       "      <td>42.325360</td>\n",
       "      <td>-71.106480</td>\n",
       "      <td>497</td>\n",
       "    </tr>\n",
       "  </tbody>\n",
       "</table>\n",
       "</div>"
      ],
      "text/plain": [
       "    offense_code          offense_code_group  \\\n",
       "15           616                     Larceny   \n",
       "22           613                     Larceny   \n",
       "23           613                     Larceny   \n",
       "26           619                     Larceny   \n",
       "29           614  Larceny From Motor Vehicle   \n",
       "\n",
       "                      offense_description district reporting_area  shooting  \\\n",
       "15               LARCENY THEFT OF BICYCLE      E13            583       0.0   \n",
       "22                    LARCENY SHOPLIFTING      E13            583       0.0   \n",
       "23                    LARCENY SHOPLIFTING      E13            583       0.0   \n",
       "26                     LARCENY ALL OTHERS      E13            583       0.0   \n",
       "29  LARCENY THEFT FROM MV - NON-ACCESSORY      E13            583       0.0   \n",
       "\n",
       "      occurred_on_date  year  month day_of_week  hour  ucr_part  \\\n",
       "15 2019-07-20 18:00:00  2019      7    Saturday    18  Part One   \n",
       "22 2019-06-21 12:56:00  2019      6      Friday    12  Part One   \n",
       "23 2019-06-19 11:55:00  2019      6   Wednesday    11  Part One   \n",
       "26 2019-06-09 07:50:00  2019      6      Sunday     7  Part One   \n",
       "29 2019-06-04 20:30:00  2019      6     Tuesday    20  Part One   \n",
       "\n",
       "           street        lat       long  reporting_cluster  \n",
       "15   EDGE HILL ST  42.324231 -71.106422                497  \n",
       "22    GAY HEAD ST  42.324741 -71.104919                497  \n",
       "23       HEATH ST  42.326655 -71.106796                497  \n",
       "26  ROUND HILL ST  42.324692 -71.106189                497  \n",
       "29      MINDEN ST  42.325360 -71.106480                497  "
      ]
     },
     "execution_count": 122,
     "metadata": {},
     "output_type": "execute_result"
    }
   ],
   "source": [
    "part_one.head()"
   ]
  },
  {
   "cell_type": "code",
   "execution_count": 123,
   "metadata": {
    "ExecuteTime": {
     "end_time": "2020-06-24T00:23:17.395609Z",
     "start_time": "2020-06-24T00:23:17.363310Z"
    }
   },
   "outputs": [],
   "source": [
    "data['shooting'] = data['shooting'].map({'Y':1, 1.0:1, 0.0:0})\n",
    "data['shooting'].fillna(0, inplace=True)"
   ]
  },
  {
   "cell_type": "code",
   "execution_count": 124,
   "metadata": {
    "ExecuteTime": {
     "end_time": "2020-06-24T00:23:21.415639Z",
     "start_time": "2020-06-24T00:23:21.402431Z"
    }
   },
   "outputs": [
    {
     "data": {
      "text/plain": [
       "A&B HANDS, FEET, ETC.  - MED. ATTENTION REQ.           1\n",
       "ASSAULT & BATTERY D/W - KNIFE                          1\n",
       "ASSAULT & BATTERY D/W - OTHER                          6\n",
       "ASSAULT & BATTERY D/W - OTHER ON POLICE OFFICER        1\n",
       "ASSAULT - AGGRAVATED                                3692\n",
       "ASSAULT - AGGRAVATED - BATTERY                      6062\n",
       "ASSAULT D/W - KNIFE ON POLICE OFFICER                  1\n",
       "ASSAULT D/W - OTHER                                    1\n",
       "AUTO THEFT                                          4292\n",
       "AUTO THEFT - LEASED/RENTED VEHICLE                   513\n",
       "AUTO THEFT - MOTORCYCLE / SCOOTER                   1051\n",
       "AUTO THEFT - RECOVERED IN BY POLICE                    2\n",
       "AUTO THEFT LEASE/RENT VEHICLE                          1\n",
       "AUTO THEFT OTHER                                       1\n",
       "B&E NON-RESIDENCE DAY - FORCIBLE                       2\n",
       "B&E NON-RESIDENCE DAY - NO FORCE                       2\n",
       "B&E NON-RESIDENCE NIGHT - FORCE                        1\n",
       "B&E RESIDENCE DAY - NO FORCE                           1\n",
       "B&E RESIDENCE NIGHT - ATTEMPT FORCE                    1\n",
       "BURGLARY - COMMERICAL - ATTEMPT                      141\n",
       "BURGLARY - COMMERICAL - FORCE                       1094\n",
       "BURGLARY - COMMERICAL - NO FORCE                     381\n",
       "BURGLARY - OTHER - ATTEMPT                            53\n",
       "BURGLARY - OTHER - FORCE                             281\n",
       "BURGLARY - OTHER - NO FORCE                          227\n",
       "BURGLARY - RESIDENTIAL - ATTEMPT                     833\n",
       "BURGLARY - RESIDENTIAL - FORCE                      3045\n",
       "BURGLARY - RESIDENTIAL - NO FORCE                   2907\n",
       "LARCENY ALL OTHERS                                  7649\n",
       "LARCENY BICYCLE $200 & OVER                            3\n",
       "LARCENY IN A BUILDING $200 & OVER                      5\n",
       "LARCENY IN A BUILDING $50 TO $199                      1\n",
       "LARCENY IN A BUILDING UNDER $50                        2\n",
       "LARCENY NON-ACCESSORY FROM VEH. $50 TO $199            1\n",
       "LARCENY OTHER $200 & OVER                              7\n",
       "LARCENY OTHER $50 TO $199                              2\n",
       "LARCENY OTHER UNDER $50                                1\n",
       "LARCENY PICK-POCKET                                  489\n",
       "LARCENY PURSE SNATCH - NO FORCE                      197\n",
       "LARCENY SHOPLIFTING                                10484\n",
       "LARCENY SHOPLIFTING $200 & OVER                        4\n",
       "LARCENY SHOPLIFTING $50 TO $199                        2\n",
       "LARCENY SHOPLIFTING UNDER $50                          4\n",
       "LARCENY THEFT FROM BUILDING                        11626\n",
       "LARCENY THEFT FROM COIN-OP MACHINE                    17\n",
       "LARCENY THEFT FROM MV - NON-ACCESSORY              10646\n",
       "LARCENY THEFT OF BICYCLE                            2901\n",
       "LARCENY THEFT OF MV PARTS & ACCESSORIES             2322\n",
       "MURDER, NON-NEGLIGIENT MANSLAUGHTER                  200\n",
       "ROBBERY - BANK                                       205\n",
       "ROBBERY - CAR JACKING                                 99\n",
       "ROBBERY - COMMERCIAL                                 691\n",
       "ROBBERY - HOME INVASION                              132\n",
       "ROBBERY - KNIFE - STREET                               1\n",
       "ROBBERY - OTHER                                      737\n",
       "ROBBERY - STREET                                    3463\n",
       "ROBBERY - UNARMED - CHAIN STORE                        1\n",
       "ROBBERY - UNARMED - RESIDENCE                          1\n",
       "ROBBERY - UNARMED - STREET                             3\n",
       "ROBBERY ATTEMPT - KNIFE - BANK                         1\n",
       "Name: offense_description, dtype: int64"
      ]
     },
     "execution_count": 124,
     "metadata": {},
     "output_type": "execute_result"
    }
   ],
   "source": [
    "part_one['offense_description'].value_counts().sort_index()"
   ]
  },
  {
   "cell_type": "code",
   "execution_count": 125,
   "metadata": {
    "ExecuteTime": {
     "end_time": "2020-06-24T00:23:25.466490Z",
     "start_time": "2020-06-24T00:23:25.415831Z"
    }
   },
   "outputs": [
    {
     "data": {
      "text/html": [
       "<div>\n",
       "<style scoped>\n",
       "    .dataframe tbody tr th:only-of-type {\n",
       "        vertical-align: middle;\n",
       "    }\n",
       "\n",
       "    .dataframe tbody tr th {\n",
       "        vertical-align: top;\n",
       "    }\n",
       "\n",
       "    .dataframe thead th {\n",
       "        text-align: right;\n",
       "    }\n",
       "</style>\n",
       "<table border=\"1\" class=\"dataframe\">\n",
       "  <thead>\n",
       "    <tr style=\"text-align: right;\">\n",
       "      <th></th>\n",
       "      <th>offense_code</th>\n",
       "      <th>offense_code_group</th>\n",
       "      <th>offense_description</th>\n",
       "      <th>district</th>\n",
       "      <th>reporting_area</th>\n",
       "      <th>shooting</th>\n",
       "      <th>occurred_on_date</th>\n",
       "      <th>year</th>\n",
       "      <th>month</th>\n",
       "      <th>day_of_week</th>\n",
       "      <th>hour</th>\n",
       "      <th>ucr_part</th>\n",
       "      <th>street</th>\n",
       "      <th>lat</th>\n",
       "      <th>long</th>\n",
       "      <th>reporting_cluster</th>\n",
       "    </tr>\n",
       "  </thead>\n",
       "  <tbody>\n",
       "    <tr>\n",
       "      <th>1</th>\n",
       "      <td>1402</td>\n",
       "      <td>Vandalism</td>\n",
       "      <td>VANDALISM</td>\n",
       "      <td>E13</td>\n",
       "      <td>583</td>\n",
       "      <td>0</td>\n",
       "      <td>2019-09-22 19:20:00</td>\n",
       "      <td>2019</td>\n",
       "      <td>9</td>\n",
       "      <td>Sunday</td>\n",
       "      <td>19</td>\n",
       "      <td>Part Two</td>\n",
       "      <td>ROUND HILL ST</td>\n",
       "      <td>42.324692</td>\n",
       "      <td>-71.106189</td>\n",
       "      <td>497</td>\n",
       "    </tr>\n",
       "    <tr>\n",
       "      <th>3</th>\n",
       "      <td>802</td>\n",
       "      <td>Simple Assault</td>\n",
       "      <td>ASSAULT SIMPLE - BATTERY</td>\n",
       "      <td>E13</td>\n",
       "      <td>583</td>\n",
       "      <td>0</td>\n",
       "      <td>2019-09-22 19:32:00</td>\n",
       "      <td>2019</td>\n",
       "      <td>9</td>\n",
       "      <td>Sunday</td>\n",
       "      <td>19</td>\n",
       "      <td>Part Two</td>\n",
       "      <td>GAY HEAD ST</td>\n",
       "      <td>42.324248</td>\n",
       "      <td>-71.105252</td>\n",
       "      <td>497</td>\n",
       "    </tr>\n",
       "    <tr>\n",
       "      <th>5</th>\n",
       "      <td>2610</td>\n",
       "      <td>Other</td>\n",
       "      <td>TRESPASSING</td>\n",
       "      <td>E13</td>\n",
       "      <td>583</td>\n",
       "      <td>0</td>\n",
       "      <td>2019-09-09 13:01:00</td>\n",
       "      <td>2019</td>\n",
       "      <td>9</td>\n",
       "      <td>Monday</td>\n",
       "      <td>13</td>\n",
       "      <td>Part Two</td>\n",
       "      <td>EDGE HILL ST</td>\n",
       "      <td>42.324231</td>\n",
       "      <td>-71.106422</td>\n",
       "      <td>497</td>\n",
       "    </tr>\n",
       "    <tr>\n",
       "      <th>6</th>\n",
       "      <td>1402</td>\n",
       "      <td>Vandalism</td>\n",
       "      <td>VANDALISM</td>\n",
       "      <td>E13</td>\n",
       "      <td>583</td>\n",
       "      <td>0</td>\n",
       "      <td>2019-09-06 22:41:00</td>\n",
       "      <td>2019</td>\n",
       "      <td>9</td>\n",
       "      <td>Friday</td>\n",
       "      <td>22</td>\n",
       "      <td>Part Two</td>\n",
       "      <td>MINDEN ST</td>\n",
       "      <td>42.325360</td>\n",
       "      <td>-71.106480</td>\n",
       "      <td>497</td>\n",
       "    </tr>\n",
       "    <tr>\n",
       "      <th>8</th>\n",
       "      <td>2662</td>\n",
       "      <td>Ballistics</td>\n",
       "      <td>BALLISTICS EVIDENCE/FOUND</td>\n",
       "      <td>E13</td>\n",
       "      <td>583</td>\n",
       "      <td>0</td>\n",
       "      <td>2019-08-23 23:13:00</td>\n",
       "      <td>2019</td>\n",
       "      <td>8</td>\n",
       "      <td>Friday</td>\n",
       "      <td>23</td>\n",
       "      <td>Part Two</td>\n",
       "      <td>MINDEN ST</td>\n",
       "      <td>42.325125</td>\n",
       "      <td>-71.105205</td>\n",
       "      <td>497</td>\n",
       "    </tr>\n",
       "  </tbody>\n",
       "</table>\n",
       "</div>"
      ],
      "text/plain": [
       "   offense_code offense_code_group        offense_description district  \\\n",
       "1          1402          Vandalism                  VANDALISM      E13   \n",
       "3           802     Simple Assault   ASSAULT SIMPLE - BATTERY      E13   \n",
       "5          2610              Other                TRESPASSING      E13   \n",
       "6          1402          Vandalism                  VANDALISM      E13   \n",
       "8          2662         Ballistics  BALLISTICS EVIDENCE/FOUND      E13   \n",
       "\n",
       "  reporting_area  shooting    occurred_on_date  year  month day_of_week  hour  \\\n",
       "1            583         0 2019-09-22 19:20:00  2019      9      Sunday    19   \n",
       "3            583         0 2019-09-22 19:32:00  2019      9      Sunday    19   \n",
       "5            583         0 2019-09-09 13:01:00  2019      9      Monday    13   \n",
       "6            583         0 2019-09-06 22:41:00  2019      9      Friday    22   \n",
       "8            583         0 2019-08-23 23:13:00  2019      8      Friday    23   \n",
       "\n",
       "   ucr_part         street        lat       long  reporting_cluster  \n",
       "1  Part Two  ROUND HILL ST  42.324692 -71.106189                497  \n",
       "3  Part Two    GAY HEAD ST  42.324248 -71.105252                497  \n",
       "5  Part Two   EDGE HILL ST  42.324231 -71.106422                497  \n",
       "6  Part Two      MINDEN ST  42.325360 -71.106480                497  \n",
       "8  Part Two      MINDEN ST  42.325125 -71.105205                497  "
      ]
     },
     "execution_count": 125,
     "metadata": {},
     "output_type": "execute_result"
    }
   ],
   "source": [
    "part_two = data.loc[data['ucr_part'] == 'Part Two', :]\n",
    "part_two.head()"
   ]
  },
  {
   "cell_type": "code",
   "execution_count": 126,
   "metadata": {
    "ExecuteTime": {
     "end_time": "2020-06-24T00:23:29.382946Z",
     "start_time": "2020-06-24T00:23:29.367467Z"
    }
   },
   "outputs": [
    {
     "data": {
      "text/plain": [
       "A&B ON POLICE OFFICER                                    3\n",
       "ABDUCTION - INTICING                                    10\n",
       "AFFRAY                                                 261\n",
       "ANIMAL ABUSE                                            80\n",
       "ANNOYING AND ACCOSTIN                                    1\n",
       "ANNOYING AND ACCOSTING                                 136\n",
       "ASSAULT & BATTERY                                        9\n",
       "ASSAULT - SIMPLE                                      1287\n",
       "ASSAULT SIMPLE - BATTERY                             18503\n",
       "BALLISTICS EVIDENCE/FOUND                             1261\n",
       "BIOLOGICAL THREATS                                       3\n",
       "BOMB THREAT                                             99\n",
       "CHILD ABANDONMENT (NO ASSAULT)                          64\n",
       "CHILD ABUSE                                              1\n",
       "CHILD ENDANGERMENT                                     294\n",
       "CHILD ENDANGERMENT (NO ASSAULT)                        228\n",
       "CHINS                                                   42\n",
       "CONSPIRACY EXCEPT DRUG LAW                              30\n",
       "CONTRIBUTING TO DELINQUENCY OF MINOR                    11\n",
       "CRIMINAL HARASSMENT                                    156\n",
       "CUSTODIAL KIDNAPPING                                     9\n",
       "DISORDERLY CONDUCT                                    1640\n",
       "DISORDERLY PERSON                                        1\n",
       "DISTURBING THE PEACE                                   919\n",
       "DRUGS - CLASS A TRAFFICKING OVER 18 GRAMS              203\n",
       "DRUGS - CLASS B TRAFFICKING OVER 18 GRAMS              246\n",
       "DRUGS - CLASS D TRAFFICKING OVER 50 GRAMS               11\n",
       "DRUGS - CONSP TO VIOL CONTROLLED SUBSTANCE              97\n",
       "DRUGS - GLUE INHALATION                                  1\n",
       "DRUGS - OTHER                                         1416\n",
       "DRUGS - POSS CLASS A - HEROIN, ETC.                      4\n",
       "DRUGS - POSS CLASS A - HEROIN, ETC.                   1713\n",
       "DRUGS - POSS CLASS A - INTENT TO MFR DIST DISP        1617\n",
       "DRUGS - POSS CLASS B - COCAINE, ETC.                  3007\n",
       "DRUGS - POSS CLASS B - INTENT TO MFR DIST DISP        2806\n",
       "DRUGS - POSS CLASS C                                   506\n",
       "DRUGS - POSS CLASS C - INTENT TO MFR DIST DISP         232\n",
       "DRUGS - POSS CLASS D                                   881\n",
       "DRUGS - POSS CLASS D - INTENT MFR DIST DISP              1\n",
       "DRUGS - POSS CLASS D - INTENT TO MFR DIST DISP        1025\n",
       "DRUGS - POSS CLASS D - MARIJUANA, ETC.                   1\n",
       "DRUGS - POSS CLASS E                                   624\n",
       "DRUGS - POSS CLASS E - INTENT TO MFR DIST DISP         159\n",
       "DRUGS - POSS CLASS E INTENT TO MF DIST DISP              2\n",
       "DRUGS - POSSESSION                                     178\n",
       "DRUGS - POSSESSION OF DRUG PARAPHANALIA                 99\n",
       "DRUGS - SALE / MANUFACTURING                          2436\n",
       "DRUGS - SICK ASSIST - HEROIN                          1367\n",
       "DRUGS - SICK ASSIST - OTHER HARMFUL DRUG               361\n",
       "DRUGS - SICK ASSIST - OTHER NARCOTIC                   333\n",
       "EMBEZZLEMENT                                           400\n",
       "EVADING FARE                                           498\n",
       "EXPLOSIVES - POSSESSION OR USE                          15\n",
       "EXTORTION OR BLACKMAIL                                 258\n",
       "FIRE REPORT/ALARM - FALSE                              166\n",
       "FIREARM/WEAPON - CARRY - SELL - RENT                     1\n",
       "FIREARM/WEAPON - POSSESSION OF DANGEROUS                 3\n",
       "FORGERY / COUNTERFEITING                              1862\n",
       "FORGERY OR UTTERING                                      2\n",
       "FRAUD - CREDIT CARD / ATM FRAUD                       3890\n",
       "FRAUD - FALSE PRETENSE                                   1\n",
       "FRAUD - FALSE PRETENSE / SCHEME                       5887\n",
       "FRAUD - IMPERSONATION                                 1630\n",
       "FRAUD - WELFARE                                         17\n",
       "FRAUD - WIRE                                           437\n",
       "FRAUDS - ALL OTHER                                       1\n",
       "FUGITIVE FROM JUSTICE                                  274\n",
       "GAMBLING - BETTING / WAGERING                            8\n",
       "GRAFFITI                                               365\n",
       "HARASSMENT                                            5374\n",
       "KIDNAPPING - ENTICING OR ATTEMPTED                      67\n",
       "KIDNAPPING/CUSTODIAL KIDNAPPING                         66\n",
       "LIQUOR - DRINKING IN PUBLIC                           1151\n",
       "LIQUOR LAW VIOLATION                                   269\n",
       "OBSCENE MATERIALS - PORNOGRAPHY                        125\n",
       "OBSCENE PHONE CALLS                                     45\n",
       "OPERATING UNDER THE INFLUENCE ALCOHOL                  506\n",
       "OPERATING UNDER THE INFLUENCE DRUGS                     81\n",
       "OTHER OFFENSE                                          759\n",
       "POSSESSION OF BURGLARIOUS TOOLS                        265\n",
       "PRISONER ATTEMPT TO RESCUE                               1\n",
       "PRISONER ESCAPE / ESCAPE & RECAPTURE                    10\n",
       "PROPERTY - RECEIVING STOLEN                              2\n",
       "PROPERTY - STOLEN THEN RECOVERED                       537\n",
       "PROSTITUTE - COMMON NIGHTWALKER                          1\n",
       "PROSTITUTION                                            36\n",
       "PROSTITUTION - ASSISTING OR PROMOTING                    6\n",
       "PROSTITUTION - COMMON NIGHTWALKER                       22\n",
       "PROSTITUTION - SOLICITING                              183\n",
       "STALKING                                                72\n",
       "STOLEN PROPERTY - BUYING / RECEIVING / POSSESSING     1197\n",
       "THREATS TO DO BODILY HARM                            11776\n",
       "TRESPASSING                                           4114\n",
       "TRUANCY / RUNAWAY                                       36\n",
       "VAL - OPERATING AFTER REV/SUSP.                       2770\n",
       "VAL - OPERATING UNREG/UNINS  CAR                      1159\n",
       "VAL - OPERATING W/O AUTHORIZATION LAWFUL               544\n",
       "VAL - OPERATING WITHOUT LICENSE                       2095\n",
       "VAL - VIOLATION OF AUTO LAW - OTHER                   3069\n",
       "VANDALISM                                            18788\n",
       "VIOL. OF RESTRAINING ORDER W ARREST                    363\n",
       "VIOL. OF RESTRAINING ORDER W NO ARREST                1690\n",
       "VIOLATION - CITY ORDINANCE                             427\n",
       "VIOLATION - CITY ORDINANCE CONSTRUCTION PERMIT          48\n",
       "VIOLATION - HAWKER AND PEDDLER                          25\n",
       "VIOLATION - RESTRAINING ORDER                            1\n",
       "WEAPON - FIREARM - CARRYING / POSSESSING, ETC         1146\n",
       "WEAPON - FIREARM - OTHER VIOLATION                     278\n",
       "WEAPON - FIREARM - SALE / TRAFFICKING                   16\n",
       "WEAPON - OTHER - CARRYING / POSSESSING, ETC            753\n",
       "WEAPON - OTHER - OTHER VIOLATION                       172\n",
       "Name: offense_description, dtype: int64"
      ]
     },
     "execution_count": 126,
     "metadata": {},
     "output_type": "execute_result"
    }
   ],
   "source": [
    "part_two['offense_description'].value_counts().sort_index()"
   ]
  },
  {
   "cell_type": "code",
   "execution_count": 24,
   "metadata": {
    "ExecuteTime": {
     "end_time": "2020-06-22T22:56:30.935132Z",
     "start_time": "2020-06-22T22:56:30.886864Z"
    }
   },
   "outputs": [
    {
     "data": {
      "text/html": [
       "<div>\n",
       "<style scoped>\n",
       "    .dataframe tbody tr th:only-of-type {\n",
       "        vertical-align: middle;\n",
       "    }\n",
       "\n",
       "    .dataframe tbody tr th {\n",
       "        vertical-align: top;\n",
       "    }\n",
       "\n",
       "    .dataframe thead th {\n",
       "        text-align: right;\n",
       "    }\n",
       "</style>\n",
       "<table border=\"1\" class=\"dataframe\">\n",
       "  <thead>\n",
       "    <tr style=\"text-align: right;\">\n",
       "      <th></th>\n",
       "      <th>offense_code</th>\n",
       "      <th>offense_code_group</th>\n",
       "      <th>offense_description</th>\n",
       "      <th>district</th>\n",
       "      <th>reporting_area</th>\n",
       "      <th>shooting</th>\n",
       "      <th>occurred_on_date</th>\n",
       "      <th>year</th>\n",
       "      <th>month</th>\n",
       "      <th>day_of_week</th>\n",
       "      <th>hour</th>\n",
       "      <th>ucr_part</th>\n",
       "      <th>street</th>\n",
       "      <th>lat</th>\n",
       "      <th>long</th>\n",
       "    </tr>\n",
       "  </thead>\n",
       "  <tbody>\n",
       "    <tr>\n",
       "      <th>35</th>\n",
       "      <td>3114</td>\n",
       "      <td>Investigate Property</td>\n",
       "      <td>INVESTIGATE PROPERTY</td>\n",
       "      <td>B3</td>\n",
       "      <td>427</td>\n",
       "      <td>NaN</td>\n",
       "      <td>2019-09-29 06:39:00</td>\n",
       "      <td>2019</td>\n",
       "      <td>9</td>\n",
       "      <td>Sunday</td>\n",
       "      <td>6</td>\n",
       "      <td>Part Three</td>\n",
       "      <td>WILMORE ST</td>\n",
       "      <td>42.277964</td>\n",
       "      <td>-71.092463</td>\n",
       "    </tr>\n",
       "    <tr>\n",
       "      <th>36</th>\n",
       "      <td>3115</td>\n",
       "      <td>Investigate Person</td>\n",
       "      <td>INVESTIGATE PERSON</td>\n",
       "      <td>A1</td>\n",
       "      <td></td>\n",
       "      <td>NaN</td>\n",
       "      <td>2019-09-29 03:45:00</td>\n",
       "      <td>2019</td>\n",
       "      <td>9</td>\n",
       "      <td>Sunday</td>\n",
       "      <td>3</td>\n",
       "      <td>Part Three</td>\n",
       "      <td>NASHUA ST</td>\n",
       "      <td>42.367690</td>\n",
       "      <td>-71.065863</td>\n",
       "    </tr>\n",
       "    <tr>\n",
       "      <th>37</th>\n",
       "      <td>3301</td>\n",
       "      <td>Verbal Disputes</td>\n",
       "      <td>VERBAL DISPUTE</td>\n",
       "      <td>B3</td>\n",
       "      <td>450</td>\n",
       "      <td>NaN</td>\n",
       "      <td>2019-09-29 06:00:00</td>\n",
       "      <td>2019</td>\n",
       "      <td>9</td>\n",
       "      <td>Sunday</td>\n",
       "      <td>6</td>\n",
       "      <td>Part Three</td>\n",
       "      <td>ASPINWALL RD</td>\n",
       "      <td>42.291816</td>\n",
       "      <td>-71.072441</td>\n",
       "    </tr>\n",
       "    <tr>\n",
       "      <th>39</th>\n",
       "      <td>3820</td>\n",
       "      <td>Motor Vehicle Accident Response</td>\n",
       "      <td>M/V ACCIDENT INVOLVING PEDESTRIAN - INJURY</td>\n",
       "      <td>D4</td>\n",
       "      <td>269</td>\n",
       "      <td>NaN</td>\n",
       "      <td>2019-09-29 05:50:00</td>\n",
       "      <td>2019</td>\n",
       "      <td>9</td>\n",
       "      <td>Sunday</td>\n",
       "      <td>5</td>\n",
       "      <td>Part Three</td>\n",
       "      <td>ALBANY ST</td>\n",
       "      <td>42.332419</td>\n",
       "      <td>-71.075013</td>\n",
       "    </tr>\n",
       "    <tr>\n",
       "      <th>40</th>\n",
       "      <td>3115</td>\n",
       "      <td>Investigate Person</td>\n",
       "      <td>INVESTIGATE PERSON</td>\n",
       "      <td>A7</td>\n",
       "      <td>28</td>\n",
       "      <td>NaN</td>\n",
       "      <td>2019-09-29 01:30:00</td>\n",
       "      <td>2019</td>\n",
       "      <td>9</td>\n",
       "      <td>Sunday</td>\n",
       "      <td>1</td>\n",
       "      <td>Part Three</td>\n",
       "      <td>PARIS ST</td>\n",
       "      <td>42.373392</td>\n",
       "      <td>-71.036478</td>\n",
       "    </tr>\n",
       "  </tbody>\n",
       "</table>\n",
       "</div>"
      ],
      "text/plain": [
       "    offense_code               offense_code_group  \\\n",
       "35          3114             Investigate Property   \n",
       "36          3115               Investigate Person   \n",
       "37          3301                  Verbal Disputes   \n",
       "39          3820  Motor Vehicle Accident Response   \n",
       "40          3115               Investigate Person   \n",
       "\n",
       "                           offense_description district reporting_area  \\\n",
       "35                        INVESTIGATE PROPERTY       B3            427   \n",
       "36                          INVESTIGATE PERSON       A1                  \n",
       "37                              VERBAL DISPUTE       B3            450   \n",
       "39  M/V ACCIDENT INVOLVING PEDESTRIAN - INJURY       D4            269   \n",
       "40                          INVESTIGATE PERSON       A7             28   \n",
       "\n",
       "   shooting    occurred_on_date  year  month day_of_week  hour    ucr_part  \\\n",
       "35      NaN 2019-09-29 06:39:00  2019      9      Sunday     6  Part Three   \n",
       "36      NaN 2019-09-29 03:45:00  2019      9      Sunday     3  Part Three   \n",
       "37      NaN 2019-09-29 06:00:00  2019      9      Sunday     6  Part Three   \n",
       "39      NaN 2019-09-29 05:50:00  2019      9      Sunday     5  Part Three   \n",
       "40      NaN 2019-09-29 01:30:00  2019      9      Sunday     1  Part Three   \n",
       "\n",
       "          street        lat       long  \n",
       "35    WILMORE ST  42.277964 -71.092463  \n",
       "36     NASHUA ST  42.367690 -71.065863  \n",
       "37  ASPINWALL RD  42.291816 -71.072441  \n",
       "39     ALBANY ST  42.332419 -71.075013  \n",
       "40      PARIS ST  42.373392 -71.036478  "
      ]
     },
     "execution_count": 24,
     "metadata": {},
     "output_type": "execute_result"
    }
   ],
   "source": [
    "part_three = data.loc[data['ucr_part'] == 'Part Three', :]\n",
    "part_three.head()"
   ]
  },
  {
   "cell_type": "code",
   "execution_count": 25,
   "metadata": {
    "ExecuteTime": {
     "end_time": "2020-06-22T22:56:30.957423Z",
     "start_time": "2020-06-22T22:56:30.936781Z"
    }
   },
   "outputs": [
    {
     "data": {
      "text/plain": [
       "AIRCRAFT INCIDENTS                                    45\n",
       "ANIMAL CONTROL - DOG BITES - ETC.                    409\n",
       "ANIMAL INCIDENTS                                     303\n",
       "DANGEROUS OR HAZARDOUS CONDITION                     287\n",
       "DEATH INVESTIGATION                                 1345\n",
       "DEMONSTRATIONS/RIOT                                  225\n",
       "EXPLOSIVES - TURNED IN OR FOUND                       13\n",
       "FIRE REPORT - CAR, BRUSH, ETC.                       512\n",
       "FIRE REPORT - HOUSE, BUILDING, ETC.                 1451\n",
       "FIREARM/WEAPON - ACCIDENTAL INJURY / DEATH            10\n",
       "FIREARM/WEAPON - FOUND OR CONFISCATED                676\n",
       "FIREARM/WEAPON - LOST                                 12\n",
       "GATHERING CAUSING ANNOYANCE                           12\n",
       "HARBOR INCIDENT / VIOLATION                          175\n",
       "INJURY BICYCLE NO M/V INVOLVED                        48\n",
       "INTIMIDATING WITNESS                                 326\n",
       "INVESTIGATE PERSON                                 21358\n",
       "INVESTIGATE PROPERTY                               13289\n",
       "INVESTIGATION FOR ANOTHER AGENCY                     225\n",
       "LANDLORD - TENANT SERVICE                           1163\n",
       "LICENSE PREMISE VIOLATION                           2043\n",
       "M/V - LEAVING SCENE - PERSONAL INJURY               1194\n",
       "M/V - LEAVING SCENE - PROPERTY DAMAGE              16899\n",
       "M/V ACCIDENT - INVOLVING BICYCLE - NO INJURY         320\n",
       "M/V ACCIDENT - INVOLVING PEDESTRIAN - NO INJURY      372\n",
       "M/V ACCIDENT - INVOLVING  BICYCLE - INJURY           705\n",
       "M/V ACCIDENT - OTHER                                2956\n",
       "M/V ACCIDENT - OTHER CITY VEHICLE                    691\n",
       "M/V ACCIDENT - PERSONAL INJURY                      4324\n",
       "M/V ACCIDENT - POLICE VEHICLE                        758\n",
       "M/V ACCIDENT - PROPERTY  DAMAGE                     6432\n",
       "M/V ACCIDENT INVOLVING PEDESTRIAN - INJURY          1435\n",
       "M/V PLATES - LOST                                    572\n",
       "MISSING PERSON                                      4093\n",
       "MISSING PERSON - LOCATED                            5615\n",
       "MISSING PERSON - NOT REPORTED - LOCATED              713\n",
       "NOISY PARTY/RADIO-ARREST                              30\n",
       "NOISY PARTY/RADIO-NO ARREST                          581\n",
       "PRISONER - SUICIDE / SUICIDE ATTEMPT                  20\n",
       "PROPERTY - ACCIDENTAL DAMAGE                         989\n",
       "PROPERTY - FOUND                                    3985\n",
       "PROPERTY - LOST                                    10322\n",
       "PROPERTY - LOST THEN LOCATED                         293\n",
       "PROPERTY - MISSING                                  1063\n",
       "PROTECTIVE CUSTODY / SAFEKEEPING                      30\n",
       "REPORT AFFECTING OTHER DEPTS.                        184\n",
       "SEARCH WARRANT                                      1100\n",
       "SERVICE TO OTHER PD INSIDE OF MA.                   2778\n",
       "SERVICE TO OTHER PD OUTSIDE OF MA.                   222\n",
       "SICK/INJURED/MEDICAL - PERSON                      22816\n",
       "SICK/INJURED/MEDICAL - POLICE                       1570\n",
       "SUDDEN DEATH                                        1643\n",
       "SUICIDE / SUICIDE ATTEMPT                            369\n",
       "TOWED MOTOR VEHICLE                                12717\n",
       "VERBAL DISPUTE                                     16063\n",
       "WARRANT ARREST                                      8802\n",
       "Name: offense_description, dtype: int64"
      ]
     },
     "execution_count": 25,
     "metadata": {},
     "output_type": "execute_result"
    }
   ],
   "source": [
    "part_three['offense_description'].value_counts().sort_index()"
   ]
  },
  {
   "cell_type": "code",
   "execution_count": 26,
   "metadata": {
    "ExecuteTime": {
     "end_time": "2020-06-22T22:56:30.991123Z",
     "start_time": "2020-06-22T22:56:30.958944Z"
    }
   },
   "outputs": [
    {
     "data": {
      "text/html": [
       "<div>\n",
       "<style scoped>\n",
       "    .dataframe tbody tr th:only-of-type {\n",
       "        vertical-align: middle;\n",
       "    }\n",
       "\n",
       "    .dataframe tbody tr th {\n",
       "        vertical-align: top;\n",
       "    }\n",
       "\n",
       "    .dataframe thead th {\n",
       "        text-align: right;\n",
       "    }\n",
       "</style>\n",
       "<table border=\"1\" class=\"dataframe\">\n",
       "  <thead>\n",
       "    <tr style=\"text-align: right;\">\n",
       "      <th></th>\n",
       "      <th>offense_code</th>\n",
       "      <th>offense_code_group</th>\n",
       "      <th>offense_description</th>\n",
       "      <th>district</th>\n",
       "      <th>reporting_area</th>\n",
       "      <th>shooting</th>\n",
       "      <th>occurred_on_date</th>\n",
       "      <th>year</th>\n",
       "      <th>month</th>\n",
       "      <th>day_of_week</th>\n",
       "      <th>hour</th>\n",
       "      <th>ucr_part</th>\n",
       "      <th>street</th>\n",
       "      <th>lat</th>\n",
       "      <th>long</th>\n",
       "    </tr>\n",
       "  </thead>\n",
       "  <tbody>\n",
       "    <tr>\n",
       "      <th>833</th>\n",
       "      <td>735</td>\n",
       "      <td>Auto Theft Recovery</td>\n",
       "      <td>RECOVERED - MV RECOVERED IN BOSTON (STOLEN OUT...</td>\n",
       "      <td>C11</td>\n",
       "      <td>392</td>\n",
       "      <td>NaN</td>\n",
       "      <td>2019-09-26 10:27:00</td>\n",
       "      <td>2019</td>\n",
       "      <td>9</td>\n",
       "      <td>Thursday</td>\n",
       "      <td>10</td>\n",
       "      <td>Other</td>\n",
       "      <td>ASHMONT ST</td>\n",
       "      <td>42.287346</td>\n",
       "      <td>-71.058187</td>\n",
       "    </tr>\n",
       "    <tr>\n",
       "      <th>873</th>\n",
       "      <td>735</td>\n",
       "      <td>Auto Theft Recovery</td>\n",
       "      <td>RECOVERED - MV RECOVERED IN BOSTON (STOLEN OUT...</td>\n",
       "      <td>C11</td>\n",
       "      <td>454</td>\n",
       "      <td>NaN</td>\n",
       "      <td>2019-09-26 08:40:00</td>\n",
       "      <td>2019</td>\n",
       "      <td>9</td>\n",
       "      <td>Thursday</td>\n",
       "      <td>8</td>\n",
       "      <td>Other</td>\n",
       "      <td>WASHINGTON ST</td>\n",
       "      <td>42.300226</td>\n",
       "      <td>-71.074683</td>\n",
       "    </tr>\n",
       "    <tr>\n",
       "      <th>880</th>\n",
       "      <td>735</td>\n",
       "      <td>Auto Theft Recovery</td>\n",
       "      <td>RECOVERED - MV RECOVERED IN BOSTON (STOLEN OUT...</td>\n",
       "      <td>D4</td>\n",
       "      <td>167</td>\n",
       "      <td>NaN</td>\n",
       "      <td>2019-09-25 19:00:00</td>\n",
       "      <td>2019</td>\n",
       "      <td>9</td>\n",
       "      <td>Wednesday</td>\n",
       "      <td>19</td>\n",
       "      <td>Other</td>\n",
       "      <td>E BROOKLINE ST</td>\n",
       "      <td>42.337635</td>\n",
       "      <td>-71.070130</td>\n",
       "    </tr>\n",
       "    <tr>\n",
       "      <th>1438</th>\n",
       "      <td>735</td>\n",
       "      <td>Auto Theft Recovery</td>\n",
       "      <td>RECOVERED - MV RECOVERED IN BOSTON (STOLEN OUT...</td>\n",
       "      <td>B2</td>\n",
       "      <td>317</td>\n",
       "      <td>NaN</td>\n",
       "      <td>2019-09-24 12:10:00</td>\n",
       "      <td>2019</td>\n",
       "      <td>9</td>\n",
       "      <td>Tuesday</td>\n",
       "      <td>12</td>\n",
       "      <td>Other</td>\n",
       "      <td>HOMESTEAD ST</td>\n",
       "      <td>42.311277</td>\n",
       "      <td>-71.089093</td>\n",
       "    </tr>\n",
       "    <tr>\n",
       "      <th>1502</th>\n",
       "      <td>735</td>\n",
       "      <td>Auto Theft Recovery</td>\n",
       "      <td>RECOVERED - MV RECOVERED IN BOSTON (STOLEN OUT...</td>\n",
       "      <td>C11</td>\n",
       "      <td>344</td>\n",
       "      <td>NaN</td>\n",
       "      <td>2019-09-24 08:47:00</td>\n",
       "      <td>2019</td>\n",
       "      <td>9</td>\n",
       "      <td>Tuesday</td>\n",
       "      <td>8</td>\n",
       "      <td>Other</td>\n",
       "      <td>CORONA ST</td>\n",
       "      <td>42.301462</td>\n",
       "      <td>-71.068960</td>\n",
       "    </tr>\n",
       "  </tbody>\n",
       "</table>\n",
       "</div>"
      ],
      "text/plain": [
       "      offense_code   offense_code_group  \\\n",
       "833            735  Auto Theft Recovery   \n",
       "873            735  Auto Theft Recovery   \n",
       "880            735  Auto Theft Recovery   \n",
       "1438           735  Auto Theft Recovery   \n",
       "1502           735  Auto Theft Recovery   \n",
       "\n",
       "                                    offense_description district  \\\n",
       "833   RECOVERED - MV RECOVERED IN BOSTON (STOLEN OUT...      C11   \n",
       "873   RECOVERED - MV RECOVERED IN BOSTON (STOLEN OUT...      C11   \n",
       "880   RECOVERED - MV RECOVERED IN BOSTON (STOLEN OUT...       D4   \n",
       "1438  RECOVERED - MV RECOVERED IN BOSTON (STOLEN OUT...       B2   \n",
       "1502  RECOVERED - MV RECOVERED IN BOSTON (STOLEN OUT...      C11   \n",
       "\n",
       "     reporting_area shooting    occurred_on_date  year  month day_of_week  \\\n",
       "833             392      NaN 2019-09-26 10:27:00  2019      9    Thursday   \n",
       "873             454      NaN 2019-09-26 08:40:00  2019      9    Thursday   \n",
       "880             167      NaN 2019-09-25 19:00:00  2019      9   Wednesday   \n",
       "1438            317      NaN 2019-09-24 12:10:00  2019      9     Tuesday   \n",
       "1502            344      NaN 2019-09-24 08:47:00  2019      9     Tuesday   \n",
       "\n",
       "      hour ucr_part          street        lat       long  \n",
       "833     10    Other      ASHMONT ST  42.287346 -71.058187  \n",
       "873      8    Other   WASHINGTON ST  42.300226 -71.074683  \n",
       "880     19    Other  E BROOKLINE ST  42.337635 -71.070130  \n",
       "1438    12    Other    HOMESTEAD ST  42.311277 -71.089093  \n",
       "1502     8    Other       CORONA ST  42.301462 -71.068960  "
      ]
     },
     "execution_count": 26,
     "metadata": {},
     "output_type": "execute_result"
    }
   ],
   "source": [
    "part_other = data.loc[data['ucr_part'] == 'Other', :]\n",
    "part_other.head()"
   ]
  },
  {
   "cell_type": "code",
   "execution_count": 27,
   "metadata": {
    "ExecuteTime": {
     "end_time": "2020-06-22T22:56:30.997939Z",
     "start_time": "2020-06-22T22:56:30.992524Z"
    }
   },
   "outputs": [
    {
     "data": {
      "text/plain": [
       "ARSON                                                           94\n",
       "AUTO THEFT - OUTSIDE - RECOVERED IN BOSTON                       1\n",
       "B&E RESIDENCE DAY - NO PROP TAKEN                                3\n",
       "KILLING OF FELON BY POLICE                                       1\n",
       "MANSLAUGHTER - NON-VEHICLE - NEGLIGENCE                          2\n",
       "MANSLAUGHTER - VEHICLE - NEGLIGENCE                              6\n",
       "PROPERTY - CONCEALING LEASED                                    36\n",
       "RECOVERED - MV RECOVERED IN BOSTON (STOLEN OUTSIDE BOSTON)    1155\n",
       "RECOVERED STOLEN PLATE                                          75\n",
       "Name: offense_description, dtype: int64"
      ]
     },
     "execution_count": 27,
     "metadata": {},
     "output_type": "execute_result"
    }
   ],
   "source": [
    "part_other['offense_description'].value_counts().sort_index()\n"
   ]
  },
  {
   "cell_type": "code",
   "execution_count": 130,
   "metadata": {
    "ExecuteTime": {
     "end_time": "2020-06-24T00:27:07.410604Z",
     "start_time": "2020-06-24T00:27:07.346947Z"
    }
   },
   "outputs": [
    {
     "data": {
      "text/html": [
       "<div>\n",
       "<style scoped>\n",
       "    .dataframe tbody tr th:only-of-type {\n",
       "        vertical-align: middle;\n",
       "    }\n",
       "\n",
       "    .dataframe tbody tr th {\n",
       "        vertical-align: top;\n",
       "    }\n",
       "\n",
       "    .dataframe thead th {\n",
       "        text-align: right;\n",
       "    }\n",
       "</style>\n",
       "<table border=\"1\" class=\"dataframe\">\n",
       "  <thead>\n",
       "    <tr style=\"text-align: right;\">\n",
       "      <th></th>\n",
       "      <th>offense_code</th>\n",
       "      <th>offense_code_group</th>\n",
       "      <th>offense_description</th>\n",
       "      <th>district</th>\n",
       "      <th>reporting_area</th>\n",
       "      <th>shooting</th>\n",
       "      <th>occurred_on_date</th>\n",
       "      <th>year</th>\n",
       "      <th>month</th>\n",
       "      <th>day_of_week</th>\n",
       "      <th>hour</th>\n",
       "      <th>ucr_part</th>\n",
       "      <th>street</th>\n",
       "      <th>lat</th>\n",
       "      <th>long</th>\n",
       "      <th>reporting_cluster</th>\n",
       "    </tr>\n",
       "  </thead>\n",
       "  <tbody>\n",
       "    <tr>\n",
       "      <th>0</th>\n",
       "      <td>3301</td>\n",
       "      <td>NaN</td>\n",
       "      <td>VERBAL DISPUTE</td>\n",
       "      <td>E13</td>\n",
       "      <td>583</td>\n",
       "      <td>0</td>\n",
       "      <td>2019-12-20 03:08:00</td>\n",
       "      <td>2019</td>\n",
       "      <td>12</td>\n",
       "      <td>Friday</td>\n",
       "      <td>3</td>\n",
       "      <td>unknown</td>\n",
       "      <td>DAY ST</td>\n",
       "      <td>42.325122</td>\n",
       "      <td>-71.107779</td>\n",
       "      <td>497</td>\n",
       "    </tr>\n",
       "    <tr>\n",
       "      <th>255</th>\n",
       "      <td>614</td>\n",
       "      <td>NaN</td>\n",
       "      <td>LARCENY THEFT FROM MV - NON-ACCESSORY</td>\n",
       "      <td>E13</td>\n",
       "      <td>583</td>\n",
       "      <td>0</td>\n",
       "      <td>2020-06-08 05:39:00</td>\n",
       "      <td>2020</td>\n",
       "      <td>6</td>\n",
       "      <td>Monday</td>\n",
       "      <td>5</td>\n",
       "      <td>unknown</td>\n",
       "      <td>SCHILLER ST</td>\n",
       "      <td>42.325642</td>\n",
       "      <td>-71.105357</td>\n",
       "      <td>497</td>\n",
       "    </tr>\n",
       "    <tr>\n",
       "      <th>256</th>\n",
       "      <td>3006</td>\n",
       "      <td>NaN</td>\n",
       "      <td>SICK/INJURED/MEDICAL - PERSON</td>\n",
       "      <td>E13</td>\n",
       "      <td>583</td>\n",
       "      <td>0</td>\n",
       "      <td>2020-05-30 23:00:00</td>\n",
       "      <td>2020</td>\n",
       "      <td>5</td>\n",
       "      <td>Saturday</td>\n",
       "      <td>23</td>\n",
       "      <td>unknown</td>\n",
       "      <td>WALDEN ST</td>\n",
       "      <td>42.324754</td>\n",
       "      <td>-71.104252</td>\n",
       "      <td>497</td>\n",
       "    </tr>\n",
       "    <tr>\n",
       "      <th>257</th>\n",
       "      <td>3114</td>\n",
       "      <td>NaN</td>\n",
       "      <td>INVESTIGATE PROPERTY</td>\n",
       "      <td>E13</td>\n",
       "      <td>583</td>\n",
       "      <td>0</td>\n",
       "      <td>2020-05-29 10:36:00</td>\n",
       "      <td>2020</td>\n",
       "      <td>5</td>\n",
       "      <td>Friday</td>\n",
       "      <td>10</td>\n",
       "      <td>unknown</td>\n",
       "      <td>ROUND HILL ST</td>\n",
       "      <td>42.324691</td>\n",
       "      <td>-71.106189</td>\n",
       "      <td>497</td>\n",
       "    </tr>\n",
       "    <tr>\n",
       "      <th>258</th>\n",
       "      <td>617</td>\n",
       "      <td>NaN</td>\n",
       "      <td>LARCENY THEFT FROM BUILDING</td>\n",
       "      <td>E13</td>\n",
       "      <td>583</td>\n",
       "      <td>0</td>\n",
       "      <td>2020-05-09 16:30:00</td>\n",
       "      <td>2020</td>\n",
       "      <td>5</td>\n",
       "      <td>Saturday</td>\n",
       "      <td>16</td>\n",
       "      <td>unknown</td>\n",
       "      <td>MINDEN ST</td>\n",
       "      <td>42.325359</td>\n",
       "      <td>-71.106480</td>\n",
       "      <td>497</td>\n",
       "    </tr>\n",
       "  </tbody>\n",
       "</table>\n",
       "</div>"
      ],
      "text/plain": [
       "     offense_code offense_code_group                    offense_description  \\\n",
       "0            3301                NaN                         VERBAL DISPUTE   \n",
       "255           614                NaN  LARCENY THEFT FROM MV - NON-ACCESSORY   \n",
       "256          3006                NaN          SICK/INJURED/MEDICAL - PERSON   \n",
       "257          3114                NaN                   INVESTIGATE PROPERTY   \n",
       "258           617                NaN            LARCENY THEFT FROM BUILDING   \n",
       "\n",
       "    district reporting_area  shooting    occurred_on_date  year  month  \\\n",
       "0        E13            583         0 2019-12-20 03:08:00  2019     12   \n",
       "255      E13            583         0 2020-06-08 05:39:00  2020      6   \n",
       "256      E13            583         0 2020-05-30 23:00:00  2020      5   \n",
       "257      E13            583         0 2020-05-29 10:36:00  2020      5   \n",
       "258      E13            583         0 2020-05-09 16:30:00  2020      5   \n",
       "\n",
       "    day_of_week  hour ucr_part         street        lat       long  \\\n",
       "0        Friday     3  unknown         DAY ST  42.325122 -71.107779   \n",
       "255      Monday     5  unknown    SCHILLER ST  42.325642 -71.105357   \n",
       "256    Saturday    23  unknown      WALDEN ST  42.324754 -71.104252   \n",
       "257      Friday    10  unknown  ROUND HILL ST  42.324691 -71.106189   \n",
       "258    Saturday    16  unknown      MINDEN ST  42.325359 -71.106480   \n",
       "\n",
       "     reporting_cluster  \n",
       "0                  497  \n",
       "255                497  \n",
       "256                497  \n",
       "257                497  \n",
       "258                497  "
      ]
     },
     "execution_count": 130,
     "metadata": {},
     "output_type": "execute_result"
    }
   ],
   "source": [
    "data['ucr_part'].fillna('unknown', inplace=True)\n",
    "\n",
    "\n",
    "part_unknown = data.loc[data['ucr_part'] == 'unknown', :]\n",
    "part_unknown.head()"
   ]
  },
  {
   "cell_type": "code",
   "execution_count": 150,
   "metadata": {
    "ExecuteTime": {
     "end_time": "2020-06-24T00:44:28.245868Z",
     "start_time": "2020-06-24T00:44:28.234682Z"
    }
   },
   "outputs": [
    {
     "data": {
      "text/plain": [
       "AFFRAY                                                                                24\n",
       "AIRCRAFT INCIDENTS                                                                    10\n",
       "ANIMAL ABUSE                                                                           7\n",
       "ANIMAL INCIDENTS (DOG BITES, LOST DOG, ETC)                                           69\n",
       "ARSON                                                                                 17\n",
       "ASSAULT - AGGRAVATED                                                                1469\n",
       "ASSAULT - SIMPLE                                                                    3563\n",
       "AUTO THEFT                                                                           655\n",
       "AUTO THEFT - LEASED/RENTED VEHICLE                                                    67\n",
       "AUTO THEFT - MOTORCYCLE / SCOOTER                                                    105\n",
       "BALLISTICS EVIDENCE/FOUND                                                            174\n",
       "BIOLOGICAL THREATS                                                                     1\n",
       "BOMB THREAT                                                                           13\n",
       "BREAKING AND ENTERING (B&E) MOTOR VEHICLE                                            146\n",
       "BREAKING AND ENTERING (B&E) MOTOR VEHICLE (NO PROPERTY STOLEN)                        70\n",
       "BURGLARY - COMMERICAL                                                                351\n",
       "BURGLARY - RESIDENTIAL                                                               729\n",
       "CHILD ENDANGERMENT                                                                    47\n",
       "CHILD ENDANGERMENT/ABANDONMENT (NO ASSAULT)                                           17\n",
       "CHILD REQUIRING ASSISTANCE (FOMERLY CHINS)                                            13\n",
       "DANGEROUS OR HAZARDOUS CONDITION                                                      74\n",
       "DEATH INVESTIGATION                                                                  283\n",
       "DISTURBING THE PEACE/ DISORDERLY CONDUCT/ GATHERING CAUSING ANNOYANCE/ NOISY PAR     144\n",
       "DRUGS - POSSESSION OF DRUG PARAPHANALIA                                               15\n",
       "DRUGS - POSSESSION/ SALE/ MANUFACTURING/ USE                                         883\n",
       "DRUNKENNESS                                                                           15\n",
       "EMBEZZLEMENT                                                                          41\n",
       "EVADING FARE                                                                          40\n",
       "EXPLOSIVES - POSSESSION OR USE                                                         1\n",
       "EXPLOSIVES - TURNED IN OR FOUND                                                        5\n",
       "EXTORTION OR BLACKMAIL                                                                50\n",
       "FIRE REPORT                                                                          300\n",
       "FIRE REPORT/ALARM - FALSE                                                             33\n",
       "FIREARM/WEAPON - ACCIDENTAL INJURY / DEATH                                             1\n",
       "FIREARM/WEAPON - FOUND OR CONFISCATED                                                110\n",
       "FIREARM/WEAPON - LOST                                                                  2\n",
       "FORGERY / COUNTERFEITING                                                             175\n",
       "FRAUD - CREDIT CARD / ATM FRAUD                                                      376\n",
       "FRAUD - FALSE PRETENSE / SCHEME                                                      957\n",
       "FRAUD - IMPERSONATION                                                                425\n",
       "FRAUD - WELFARE                                                                        6\n",
       "FRAUD - WIRE                                                                          85\n",
       "FUGITIVE FROM JUSTICE                                                                 17\n",
       "Fondling - Indecent Assault                                                           70\n",
       "GRAFFITI                                                                              40\n",
       "HARASSMENT/ CRIMINAL HARASSMENT                                                      991\n",
       "HARBOR INCIDENT / VIOLATION                                                           11\n",
       "HOME INVASION                                                                         88\n",
       "HUMAN TRAFFICKING - COMMERCIAL SEX ACTS                                                7\n",
       "HUMAN TRAFFICKING - INVOLUNTARY SERVITUDE                                              4\n",
       "INJURY BICYCLE NO M/V INVOLVED                                                         9\n",
       "INTIMIDATING WITNESS                                                                  24\n",
       "INVESTIGATE PERSON                                                                  4763\n",
       "INVESTIGATE PROPERTY                                                                2123\n",
       "Justifiable Homicide                                                                   1\n",
       "KIDNAPPING/CUSTODIAL KIDNAPPING/ ABDUCTION                                            22\n",
       "LANDLORD - TENANT                                                                    210\n",
       "LARCENY ALL OTHERS                                                                  1176\n",
       "LARCENY PICK-POCKET                                                                   46\n",
       "LARCENY PURSE SNATCH - NO FORCE                                                       17\n",
       "LARCENY SHOPLIFTING                                                                 1275\n",
       "LARCENY THEFT FROM BUILDING                                                         1485\n",
       "LARCENY THEFT FROM COIN-OP MACHINE                                                     1\n",
       "LARCENY THEFT FROM MV - NON-ACCESSORY                                               1493\n",
       "LARCENY THEFT OF BICYCLE                                                             328\n",
       "LARCENY THEFT OF MV PARTS & ACCESSORIES                                              322\n",
       "LICENSE PREMISE VIOLATION                                                            377\n",
       "LIQUOR LAW VIOLATION                                                                   6\n",
       "LIQUOR/ALCOHOL - DRINKING IN PUBLIC                                                   63\n",
       "M/V - LEAVING SCENE - PERSONAL INJURY                                                136\n",
       "M/V - LEAVING SCENE - PROPERTY DAMAGE                                               2481\n",
       "M/V ACCIDENT - INVOLVING BICYCLE - INJURY                                             57\n",
       "M/V ACCIDENT - INVOLVING BICYCLE - NO INJURY                                          31\n",
       "M/V ACCIDENT - INVOLVING PEDESTRIAN - INJURY                                         232\n",
       "M/V ACCIDENT - INVOLVING PEDESTRIAN - NO INJURY                                       67\n",
       "M/V ACCIDENT - OTHER                                                                 489\n",
       "M/V ACCIDENT - OTHER CITY VEHICLE                                                     88\n",
       "M/V ACCIDENT - PERSONAL INJURY                                                       443\n",
       "M/V ACCIDENT - POLICE VEHICLE                                                         99\n",
       "M/V ACCIDENT - PROPERTY DAMAGE                                                       932\n",
       "M/V PLATES - LOST                                                                     87\n",
       "MISSING PERSON                                                                       535\n",
       "MISSING PERSON - LOCATED                                                             681\n",
       "MISSING PERSON - NOT REPORTED - LOCATED                                              110\n",
       "MURDER, NON-NEGLIGIENT MANSLAUGHTER                                                   16\n",
       "NOISY PARTY/RADIO-NO ARREST                                                           37\n",
       "OBSCENE MATERIALS - PORNOGRAPHY                                                       18\n",
       "OBSCENE PHONE CALLS                                                                    1\n",
       "OPERATING UNDER THE INFLUENCE (OUI) ALCOHOL                                           48\n",
       "OPERATING UNDER THE INFLUENCE (OUI) DRUGS                                             12\n",
       "OTHER OFFENSE                                                                         49\n",
       "POSSESSION OF BURGLARIOUS TOOLS                                                        5\n",
       "PRISONER - SUICIDE / SUICIDE ATTEMPT                                                   5\n",
       "PROPERTY - ACCIDENTAL DAMAGE                                                         144\n",
       "PROPERTY - FOUND                                                                     596\n",
       "PROPERTY - LOST THEN LOCATED                                                          20\n",
       "PROPERTY - LOST/ MISSING                                                            1620\n",
       "PROPERTY - STOLEN THEN RECOVERED                                                      20\n",
       "PROSTITUTION                                                                           4\n",
       "PROSTITUTION - ASSISTING OR PROMOTING                                                  2\n",
       "PROSTITUTION - SOLICITING                                                             10\n",
       "PROTECTIVE CUSTODY / SAFEKEEPING                                                       5\n",
       "RECOVERED - MV RECOVERED IN BOSTON (STOLEN IN BOSTON) MUST BE SUPPLEMENTAL            14\n",
       "RECOVERED - MV RECOVERED IN BOSTON (STOLEN OUTSIDE BOSTON)                           100\n",
       "ROBBERY                                                                              577\n",
       "SEARCH WARRANT                                                                        96\n",
       "SERVICE TO OTHER AGENCY                                                              172\n",
       "SEX OFFENSE - RAPE -  FONDLING                                                         2\n",
       "SEX OFFENSE - RAPE -  OTHER                                                           18\n",
       "SEX OFFENSE - RAPE - FORCIBLE                                                         92\n",
       "SEX OFFENSE - RAPE - SODOMY                                                            3\n",
       "SEXUAL ASSAULT KIT COLLECTED                                                          31\n",
       "SICK ASSIST                                                                         2695\n",
       "SICK ASSIST - DRUG RELATED ILLNESS                                                   430\n",
       "SICK/INJURED/MEDICAL - PERSON                                                       1965\n",
       "SICK/INJURED/MEDICAL - POLICE                                                        658\n",
       "STALKING                                                                               9\n",
       "STOLEN PROPERTY - BUYING / RECEIVING / POSSESSING                                     65\n",
       "SUDDEN DEATH                                                                         331\n",
       "SUICIDE / SUICIDE ATTEMPT                                                             33\n",
       "THREATS TO DO BODILY HARM                                                           1537\n",
       "TOWED MOTOR VEHICLE                                                                 1489\n",
       "TRESPASSING                                                                          326\n",
       "TRUANCY / RUNAWAY                                                                      4\n",
       "VAL - OPERATING AFTER REV/SUSP.                                                      205\n",
       "VAL - OPERATING W/O AUTHORIZATION LAWFUL                                              67\n",
       "VAL - VIOLATION OF AUTO LAW                                                          429\n",
       "VANDALISM                                                                           2262\n",
       "VERBAL DISPUTE                                                                      5503\n",
       "VIOL. OF RESTRAINING ORDER W ARREST                                                   68\n",
       "VIOLATION - CITY ORDINANCE                                                            42\n",
       "VIOLATION - HARASSMENT PREVENTION ORDER                                               58\n",
       "VIOLATION - RESTRAINING ORDER (NO ARREST)                                            448\n",
       "WARRANT ARREST - BOSTON WARRANT (MUST BE SUPPLEMENTAL)                                94\n",
       "WARRANT ARREST - OUTSIDE OF BOSTON WARRANT                                           313\n",
       "WEAPON VIOLATION - CARRY/ POSSESSING/ SALE/ TRAFFICKING/ OTHER                       110\n",
       "Name: offense_description, dtype: int64"
      ]
     },
     "execution_count": 150,
     "metadata": {},
     "output_type": "execute_result"
    }
   ],
   "source": [
    "part_unknown['offense_description'].value_counts().sort_index()"
   ]
  },
  {
   "cell_type": "code",
   "execution_count": 149,
   "metadata": {
    "ExecuteTime": {
     "end_time": "2020-06-24T00:44:04.930256Z",
     "start_time": "2020-06-24T00:44:04.642125Z"
    },
    "scrolled": true
   },
   "outputs": [
    {
     "name": "stderr",
     "output_type": "stream",
     "text": [
      "/Users/derekmcadam/opt/anaconda3/envs/dsi/lib/python3.7/site-packages/pandas/core/generic.py:6245: SettingWithCopyWarning: \n",
      "A value is trying to be set on a copy of a slice from a DataFrame\n",
      "\n",
      "See the caveats in the documentation: https://pandas.pydata.org/pandas-docs/stable/user_guide/indexing.html#returning-a-view-versus-a-copy\n",
      "  self._update_inplace(new_data)\n"
     ]
    }
   ],
   "source": [
    "data.loc[data['offense_description'].str.contains('sex offense', case=False), :]['offense_code_group'].fillna('SEX OFFENSE', inplace=True)"
   ]
  },
  {
   "cell_type": "code",
   "execution_count": 30,
   "metadata": {
    "ExecuteTime": {
     "end_time": "2020-06-22T22:56:31.101828Z",
     "start_time": "2020-06-22T22:56:31.066830Z"
    }
   },
   "outputs": [
    {
     "data": {
      "text/plain": [
       "Part Three    176583\n",
       "Part Two      104713\n",
       "Part One       65390\n",
       "unknown        61552\n",
       "Other           1373\n",
       "Name: ucr_part, dtype: int64"
      ]
     },
     "execution_count": 30,
     "metadata": {},
     "output_type": "execute_result"
    }
   ],
   "source": [
    "data['ucr_part'].value_counts()"
   ]
  },
  {
   "cell_type": "code",
   "execution_count": null,
   "metadata": {},
   "outputs": [],
   "source": []
  },
  {
   "cell_type": "code",
   "execution_count": 31,
   "metadata": {
    "ExecuteTime": {
     "end_time": "2020-06-22T22:56:31.362817Z",
     "start_time": "2020-06-22T22:56:31.103181Z"
    }
   },
   "outputs": [],
   "source": [
    "data['is_auto_theft'] = data['offense_description'].str.contains('Auto Theft', case=False).map({True:1, False:0})"
   ]
  },
  {
   "cell_type": "code",
   "execution_count": 32,
   "metadata": {
    "ExecuteTime": {
     "end_time": "2020-06-22T22:56:31.621917Z",
     "start_time": "2020-06-22T22:56:31.364427Z"
    }
   },
   "outputs": [],
   "source": [
    "data['is_robbery'] = data['offense_description'].str.contains('Robbery', case=False).map({True:1, False:0})"
   ]
  },
  {
   "cell_type": "code",
   "execution_count": 33,
   "metadata": {
    "ExecuteTime": {
     "end_time": "2020-06-22T22:56:31.875735Z",
     "start_time": "2020-06-22T22:56:31.623400Z"
    }
   },
   "outputs": [],
   "source": [
    "data['is_larceny'] = data['offense_description'].str.contains('Larceny', case=False).map({True:1, False:0})"
   ]
  },
  {
   "cell_type": "code",
   "execution_count": 34,
   "metadata": {
    "ExecuteTime": {
     "end_time": "2020-06-22T22:56:32.142475Z",
     "start_time": "2020-06-22T22:56:31.877498Z"
    }
   },
   "outputs": [],
   "source": [
    "burglary_or_be = ['burglary', 'b&e']\n",
    "\n",
    "data['is_burglary'] = data['offense_description'].str.contains('|'.join(burglary_or_be), case=False).map({True:1, False:0})\n"
   ]
  },
  {
   "cell_type": "code",
   "execution_count": 35,
   "metadata": {
    "ExecuteTime": {
     "end_time": "2020-06-22T22:56:32.404317Z",
     "start_time": "2020-06-22T22:56:32.143845Z"
    }
   },
   "outputs": [],
   "source": [
    "data['is_drug'] = data['offense_description'].str.contains('drug', case=False).map({True:1, False:0})"
   ]
  },
  {
   "cell_type": "code",
   "execution_count": 37,
   "metadata": {
    "ExecuteTime": {
     "end_time": "2020-06-22T22:56:32.782993Z",
     "start_time": "2020-06-22T22:56:32.449416Z"
    }
   },
   "outputs": [],
   "source": [
    "data['is_sexual_assault'] = data['offense_description'].str.contains('sex offense', case=False).map({True:1, False:0})"
   ]
  },
  {
   "cell_type": "code",
   "execution_count": 38,
   "metadata": {
    "ExecuteTime": {
     "end_time": "2020-06-22T22:56:33.039670Z",
     "start_time": "2020-06-22T22:56:32.784398Z"
    }
   },
   "outputs": [],
   "source": [
    "data['is_weapon'] = data['offense_description'].str.contains('weapon', case=False).map({True:1, False:0})"
   ]
  },
  {
   "cell_type": "code",
   "execution_count": 39,
   "metadata": {
    "ExecuteTime": {
     "end_time": "2020-06-22T22:56:33.300983Z",
     "start_time": "2020-06-22T22:56:33.041418Z"
    }
   },
   "outputs": [],
   "source": [
    "data['is_aggrevated_assault'] = data['offense_description'].str.contains('assault', case=False).map({True:1, False:0})"
   ]
  },
  {
   "cell_type": "code",
   "execution_count": 40,
   "metadata": {
    "ExecuteTime": {
     "end_time": "2020-06-22T22:56:33.560919Z",
     "start_time": "2020-06-22T22:56:33.304187Z"
    }
   },
   "outputs": [],
   "source": [
    "data['is_murder'] = data['offense_description'].str.contains('murder', case=False).map({True:1, False:0})"
   ]
  },
  {
   "cell_type": "code",
   "execution_count": 41,
   "metadata": {
    "ExecuteTime": {
     "end_time": "2020-06-22T22:56:33.577769Z",
     "start_time": "2020-06-22T22:56:33.562427Z"
    }
   },
   "outputs": [
    {
     "data": {
      "text/html": [
       "<div>\n",
       "<style scoped>\n",
       "    .dataframe tbody tr th:only-of-type {\n",
       "        vertical-align: middle;\n",
       "    }\n",
       "\n",
       "    .dataframe tbody tr th {\n",
       "        vertical-align: top;\n",
       "    }\n",
       "\n",
       "    .dataframe thead th {\n",
       "        text-align: right;\n",
       "    }\n",
       "</style>\n",
       "<table border=\"1\" class=\"dataframe\">\n",
       "  <thead>\n",
       "    <tr style=\"text-align: right;\">\n",
       "      <th></th>\n",
       "      <th>offense_code</th>\n",
       "      <th>offense_code_group</th>\n",
       "      <th>offense_description</th>\n",
       "      <th>district</th>\n",
       "      <th>reporting_area</th>\n",
       "      <th>shooting</th>\n",
       "      <th>occurred_on_date</th>\n",
       "      <th>year</th>\n",
       "      <th>month</th>\n",
       "      <th>day_of_week</th>\n",
       "      <th>hour</th>\n",
       "      <th>ucr_part</th>\n",
       "      <th>street</th>\n",
       "      <th>lat</th>\n",
       "      <th>long</th>\n",
       "      <th>is_auto_theft</th>\n",
       "      <th>is_robbery</th>\n",
       "      <th>is_larceny</th>\n",
       "      <th>is_burglary</th>\n",
       "      <th>is_drug</th>\n",
       "      <th>is_sexual_assault</th>\n",
       "      <th>is_weapon</th>\n",
       "      <th>is_aggrevated_assault</th>\n",
       "      <th>is_murder</th>\n",
       "    </tr>\n",
       "  </thead>\n",
       "  <tbody>\n",
       "    <tr>\n",
       "      <th>1</th>\n",
       "      <td>3301</td>\n",
       "      <td>NaN</td>\n",
       "      <td>VERBAL DISPUTE</td>\n",
       "      <td>E13</td>\n",
       "      <td>583</td>\n",
       "      <td>0.0</td>\n",
       "      <td>2019-12-20 03:08:00</td>\n",
       "      <td>2019</td>\n",
       "      <td>12</td>\n",
       "      <td>Friday</td>\n",
       "      <td>3</td>\n",
       "      <td>unknown</td>\n",
       "      <td>DAY ST</td>\n",
       "      <td>42.325122</td>\n",
       "      <td>-71.107779</td>\n",
       "      <td>0</td>\n",
       "      <td>0</td>\n",
       "      <td>0</td>\n",
       "      <td>0</td>\n",
       "      <td>0</td>\n",
       "      <td>0</td>\n",
       "      <td>0</td>\n",
       "      <td>0</td>\n",
       "      <td>0</td>\n",
       "    </tr>\n",
       "    <tr>\n",
       "      <th>2</th>\n",
       "      <td>3115</td>\n",
       "      <td>NaN</td>\n",
       "      <td>INVESTIGATE PERSON</td>\n",
       "      <td>C11</td>\n",
       "      <td>355</td>\n",
       "      <td>0.0</td>\n",
       "      <td>2019-10-23 00:00:00</td>\n",
       "      <td>2019</td>\n",
       "      <td>10</td>\n",
       "      <td>Wednesday</td>\n",
       "      <td>0</td>\n",
       "      <td>unknown</td>\n",
       "      <td>GIBSON ST</td>\n",
       "      <td>42.297555</td>\n",
       "      <td>-71.059709</td>\n",
       "      <td>0</td>\n",
       "      <td>0</td>\n",
       "      <td>0</td>\n",
       "      <td>0</td>\n",
       "      <td>0</td>\n",
       "      <td>0</td>\n",
       "      <td>0</td>\n",
       "      <td>0</td>\n",
       "      <td>0</td>\n",
       "    </tr>\n",
       "    <tr>\n",
       "      <th>3</th>\n",
       "      <td>3126</td>\n",
       "      <td>NaN</td>\n",
       "      <td>WARRANT ARREST - OUTSIDE OF BOSTON WARRANT</td>\n",
       "      <td>D14</td>\n",
       "      <td>765</td>\n",
       "      <td>0.0</td>\n",
       "      <td>2019-11-22 07:50:00</td>\n",
       "      <td>2019</td>\n",
       "      <td>11</td>\n",
       "      <td>Friday</td>\n",
       "      <td>7</td>\n",
       "      <td>unknown</td>\n",
       "      <td>BROOKS ST</td>\n",
       "      <td>42.355120</td>\n",
       "      <td>-71.162678</td>\n",
       "      <td>0</td>\n",
       "      <td>0</td>\n",
       "      <td>0</td>\n",
       "      <td>0</td>\n",
       "      <td>0</td>\n",
       "      <td>0</td>\n",
       "      <td>0</td>\n",
       "      <td>0</td>\n",
       "      <td>0</td>\n",
       "    </tr>\n",
       "    <tr>\n",
       "      <th>4</th>\n",
       "      <td>3005</td>\n",
       "      <td>NaN</td>\n",
       "      <td>SICK ASSIST</td>\n",
       "      <td>E13</td>\n",
       "      <td>574</td>\n",
       "      <td>0.0</td>\n",
       "      <td>2019-11-05 18:00:00</td>\n",
       "      <td>2019</td>\n",
       "      <td>11</td>\n",
       "      <td>Tuesday</td>\n",
       "      <td>18</td>\n",
       "      <td>unknown</td>\n",
       "      <td>WASHINGTON ST</td>\n",
       "      <td>42.309718</td>\n",
       "      <td>-71.104294</td>\n",
       "      <td>0</td>\n",
       "      <td>0</td>\n",
       "      <td>0</td>\n",
       "      <td>0</td>\n",
       "      <td>0</td>\n",
       "      <td>0</td>\n",
       "      <td>0</td>\n",
       "      <td>0</td>\n",
       "      <td>0</td>\n",
       "    </tr>\n",
       "    <tr>\n",
       "      <th>5</th>\n",
       "      <td>1402</td>\n",
       "      <td>NaN</td>\n",
       "      <td>VANDALISM</td>\n",
       "      <td>E18</td>\n",
       "      <td>498</td>\n",
       "      <td>0.0</td>\n",
       "      <td>2019-11-02 05:09:00</td>\n",
       "      <td>2019</td>\n",
       "      <td>11</td>\n",
       "      <td>Saturday</td>\n",
       "      <td>5</td>\n",
       "      <td>unknown</td>\n",
       "      <td>BRADLEE ST</td>\n",
       "      <td>42.271616</td>\n",
       "      <td>-71.118074</td>\n",
       "      <td>0</td>\n",
       "      <td>0</td>\n",
       "      <td>0</td>\n",
       "      <td>0</td>\n",
       "      <td>0</td>\n",
       "      <td>0</td>\n",
       "      <td>0</td>\n",
       "      <td>0</td>\n",
       "      <td>0</td>\n",
       "    </tr>\n",
       "  </tbody>\n",
       "</table>\n",
       "</div>"
      ],
      "text/plain": [
       "   offense_code offense_code_group  \\\n",
       "1          3301                NaN   \n",
       "2          3115                NaN   \n",
       "3          3126                NaN   \n",
       "4          3005                NaN   \n",
       "5          1402                NaN   \n",
       "\n",
       "                          offense_description district reporting_area  \\\n",
       "1                              VERBAL DISPUTE      E13            583   \n",
       "2                          INVESTIGATE PERSON      C11            355   \n",
       "3  WARRANT ARREST - OUTSIDE OF BOSTON WARRANT      D14            765   \n",
       "4                                 SICK ASSIST      E13            574   \n",
       "5                                   VANDALISM      E18            498   \n",
       "\n",
       "   shooting    occurred_on_date  year  month day_of_week  hour ucr_part  \\\n",
       "1       0.0 2019-12-20 03:08:00  2019     12      Friday     3  unknown   \n",
       "2       0.0 2019-10-23 00:00:00  2019     10   Wednesday     0  unknown   \n",
       "3       0.0 2019-11-22 07:50:00  2019     11      Friday     7  unknown   \n",
       "4       0.0 2019-11-05 18:00:00  2019     11     Tuesday    18  unknown   \n",
       "5       0.0 2019-11-02 05:09:00  2019     11    Saturday     5  unknown   \n",
       "\n",
       "          street        lat       long  is_auto_theft  is_robbery  is_larceny  \\\n",
       "1         DAY ST  42.325122 -71.107779              0           0           0   \n",
       "2      GIBSON ST  42.297555 -71.059709              0           0           0   \n",
       "3      BROOKS ST  42.355120 -71.162678              0           0           0   \n",
       "4  WASHINGTON ST  42.309718 -71.104294              0           0           0   \n",
       "5     BRADLEE ST  42.271616 -71.118074              0           0           0   \n",
       "\n",
       "   is_burglary  is_drug  is_sexual_assault  is_weapon  is_aggrevated_assault  \\\n",
       "1            0        0                  0          0                      0   \n",
       "2            0        0                  0          0                      0   \n",
       "3            0        0                  0          0                      0   \n",
       "4            0        0                  0          0                      0   \n",
       "5            0        0                  0          0                      0   \n",
       "\n",
       "   is_murder  \n",
       "1          0  \n",
       "2          0  \n",
       "3          0  \n",
       "4          0  \n",
       "5          0  "
      ]
     },
     "execution_count": 41,
     "metadata": {},
     "output_type": "execute_result"
    }
   ],
   "source": [
    "data.head()"
   ]
  },
  {
   "cell_type": "code",
   "execution_count": 42,
   "metadata": {
    "ExecuteTime": {
     "end_time": "2020-06-22T22:56:33.727683Z",
     "start_time": "2020-06-22T22:56:33.579980Z"
    }
   },
   "outputs": [
    {
     "data": {
      "text/plain": [
       "offense_code                 0\n",
       "offense_code_group       61445\n",
       "offense_description          0\n",
       "district                  1905\n",
       "reporting_area               0\n",
       "shooting                     0\n",
       "occurred_on_date             0\n",
       "year                         0\n",
       "month                        0\n",
       "day_of_week                  0\n",
       "hour                         0\n",
       "ucr_part                     0\n",
       "street                    7943\n",
       "lat                          0\n",
       "long                         0\n",
       "is_auto_theft                0\n",
       "is_robbery                   0\n",
       "is_larceny                   0\n",
       "is_burglary                  0\n",
       "is_drug                      0\n",
       "is_sexual_assault            0\n",
       "is_weapon                    0\n",
       "is_aggrevated_assault        0\n",
       "is_murder                    0\n",
       "dtype: int64"
      ]
     },
     "execution_count": 42,
     "metadata": {},
     "output_type": "execute_result"
    }
   ],
   "source": [
    "data.isnull().sum()"
   ]
  },
  {
   "cell_type": "code",
   "execution_count": 43,
   "metadata": {
    "ExecuteTime": {
     "end_time": "2020-06-22T22:56:33.731497Z",
     "start_time": "2020-06-22T22:56:33.729141Z"
    }
   },
   "outputs": [],
   "source": [
    "# data.drop('shooting', axis=1, inplace=True)"
   ]
  },
  {
   "cell_type": "code",
   "execution_count": 44,
   "metadata": {
    "ExecuteTime": {
     "end_time": "2020-06-22T22:56:33.748822Z",
     "start_time": "2020-06-22T22:56:33.733034Z"
    }
   },
   "outputs": [
    {
     "data": {
      "text/html": [
       "<div>\n",
       "<style scoped>\n",
       "    .dataframe tbody tr th:only-of-type {\n",
       "        vertical-align: middle;\n",
       "    }\n",
       "\n",
       "    .dataframe tbody tr th {\n",
       "        vertical-align: top;\n",
       "    }\n",
       "\n",
       "    .dataframe thead th {\n",
       "        text-align: right;\n",
       "    }\n",
       "</style>\n",
       "<table border=\"1\" class=\"dataframe\">\n",
       "  <thead>\n",
       "    <tr style=\"text-align: right;\">\n",
       "      <th></th>\n",
       "      <th>offense_code</th>\n",
       "      <th>offense_code_group</th>\n",
       "      <th>offense_description</th>\n",
       "      <th>district</th>\n",
       "      <th>reporting_area</th>\n",
       "      <th>shooting</th>\n",
       "      <th>occurred_on_date</th>\n",
       "      <th>year</th>\n",
       "      <th>month</th>\n",
       "      <th>day_of_week</th>\n",
       "      <th>hour</th>\n",
       "      <th>ucr_part</th>\n",
       "      <th>street</th>\n",
       "      <th>lat</th>\n",
       "      <th>long</th>\n",
       "      <th>is_auto_theft</th>\n",
       "      <th>is_robbery</th>\n",
       "      <th>is_larceny</th>\n",
       "      <th>is_burglary</th>\n",
       "      <th>is_drug</th>\n",
       "      <th>is_sexual_assault</th>\n",
       "      <th>is_weapon</th>\n",
       "      <th>is_aggrevated_assault</th>\n",
       "      <th>is_murder</th>\n",
       "    </tr>\n",
       "  </thead>\n",
       "  <tbody>\n",
       "    <tr>\n",
       "      <th>1</th>\n",
       "      <td>3301</td>\n",
       "      <td>NaN</td>\n",
       "      <td>VERBAL DISPUTE</td>\n",
       "      <td>E13</td>\n",
       "      <td>583</td>\n",
       "      <td>0.0</td>\n",
       "      <td>2019-12-20 03:08:00</td>\n",
       "      <td>2019</td>\n",
       "      <td>12</td>\n",
       "      <td>Friday</td>\n",
       "      <td>3</td>\n",
       "      <td>unknown</td>\n",
       "      <td>DAY ST</td>\n",
       "      <td>42.325122</td>\n",
       "      <td>-71.107779</td>\n",
       "      <td>0</td>\n",
       "      <td>0</td>\n",
       "      <td>0</td>\n",
       "      <td>0</td>\n",
       "      <td>0</td>\n",
       "      <td>0</td>\n",
       "      <td>0</td>\n",
       "      <td>0</td>\n",
       "      <td>0</td>\n",
       "    </tr>\n",
       "    <tr>\n",
       "      <th>2</th>\n",
       "      <td>3115</td>\n",
       "      <td>NaN</td>\n",
       "      <td>INVESTIGATE PERSON</td>\n",
       "      <td>C11</td>\n",
       "      <td>355</td>\n",
       "      <td>0.0</td>\n",
       "      <td>2019-10-23 00:00:00</td>\n",
       "      <td>2019</td>\n",
       "      <td>10</td>\n",
       "      <td>Wednesday</td>\n",
       "      <td>0</td>\n",
       "      <td>unknown</td>\n",
       "      <td>GIBSON ST</td>\n",
       "      <td>42.297555</td>\n",
       "      <td>-71.059709</td>\n",
       "      <td>0</td>\n",
       "      <td>0</td>\n",
       "      <td>0</td>\n",
       "      <td>0</td>\n",
       "      <td>0</td>\n",
       "      <td>0</td>\n",
       "      <td>0</td>\n",
       "      <td>0</td>\n",
       "      <td>0</td>\n",
       "    </tr>\n",
       "    <tr>\n",
       "      <th>3</th>\n",
       "      <td>3126</td>\n",
       "      <td>NaN</td>\n",
       "      <td>WARRANT ARREST - OUTSIDE OF BOSTON WARRANT</td>\n",
       "      <td>D14</td>\n",
       "      <td>765</td>\n",
       "      <td>0.0</td>\n",
       "      <td>2019-11-22 07:50:00</td>\n",
       "      <td>2019</td>\n",
       "      <td>11</td>\n",
       "      <td>Friday</td>\n",
       "      <td>7</td>\n",
       "      <td>unknown</td>\n",
       "      <td>BROOKS ST</td>\n",
       "      <td>42.355120</td>\n",
       "      <td>-71.162678</td>\n",
       "      <td>0</td>\n",
       "      <td>0</td>\n",
       "      <td>0</td>\n",
       "      <td>0</td>\n",
       "      <td>0</td>\n",
       "      <td>0</td>\n",
       "      <td>0</td>\n",
       "      <td>0</td>\n",
       "      <td>0</td>\n",
       "    </tr>\n",
       "    <tr>\n",
       "      <th>4</th>\n",
       "      <td>3005</td>\n",
       "      <td>NaN</td>\n",
       "      <td>SICK ASSIST</td>\n",
       "      <td>E13</td>\n",
       "      <td>574</td>\n",
       "      <td>0.0</td>\n",
       "      <td>2019-11-05 18:00:00</td>\n",
       "      <td>2019</td>\n",
       "      <td>11</td>\n",
       "      <td>Tuesday</td>\n",
       "      <td>18</td>\n",
       "      <td>unknown</td>\n",
       "      <td>WASHINGTON ST</td>\n",
       "      <td>42.309718</td>\n",
       "      <td>-71.104294</td>\n",
       "      <td>0</td>\n",
       "      <td>0</td>\n",
       "      <td>0</td>\n",
       "      <td>0</td>\n",
       "      <td>0</td>\n",
       "      <td>0</td>\n",
       "      <td>0</td>\n",
       "      <td>0</td>\n",
       "      <td>0</td>\n",
       "    </tr>\n",
       "    <tr>\n",
       "      <th>5</th>\n",
       "      <td>1402</td>\n",
       "      <td>NaN</td>\n",
       "      <td>VANDALISM</td>\n",
       "      <td>E18</td>\n",
       "      <td>498</td>\n",
       "      <td>0.0</td>\n",
       "      <td>2019-11-02 05:09:00</td>\n",
       "      <td>2019</td>\n",
       "      <td>11</td>\n",
       "      <td>Saturday</td>\n",
       "      <td>5</td>\n",
       "      <td>unknown</td>\n",
       "      <td>BRADLEE ST</td>\n",
       "      <td>42.271616</td>\n",
       "      <td>-71.118074</td>\n",
       "      <td>0</td>\n",
       "      <td>0</td>\n",
       "      <td>0</td>\n",
       "      <td>0</td>\n",
       "      <td>0</td>\n",
       "      <td>0</td>\n",
       "      <td>0</td>\n",
       "      <td>0</td>\n",
       "      <td>0</td>\n",
       "    </tr>\n",
       "  </tbody>\n",
       "</table>\n",
       "</div>"
      ],
      "text/plain": [
       "   offense_code offense_code_group  \\\n",
       "1          3301                NaN   \n",
       "2          3115                NaN   \n",
       "3          3126                NaN   \n",
       "4          3005                NaN   \n",
       "5          1402                NaN   \n",
       "\n",
       "                          offense_description district reporting_area  \\\n",
       "1                              VERBAL DISPUTE      E13            583   \n",
       "2                          INVESTIGATE PERSON      C11            355   \n",
       "3  WARRANT ARREST - OUTSIDE OF BOSTON WARRANT      D14            765   \n",
       "4                                 SICK ASSIST      E13            574   \n",
       "5                                   VANDALISM      E18            498   \n",
       "\n",
       "   shooting    occurred_on_date  year  month day_of_week  hour ucr_part  \\\n",
       "1       0.0 2019-12-20 03:08:00  2019     12      Friday     3  unknown   \n",
       "2       0.0 2019-10-23 00:00:00  2019     10   Wednesday     0  unknown   \n",
       "3       0.0 2019-11-22 07:50:00  2019     11      Friday     7  unknown   \n",
       "4       0.0 2019-11-05 18:00:00  2019     11     Tuesday    18  unknown   \n",
       "5       0.0 2019-11-02 05:09:00  2019     11    Saturday     5  unknown   \n",
       "\n",
       "          street        lat       long  is_auto_theft  is_robbery  is_larceny  \\\n",
       "1         DAY ST  42.325122 -71.107779              0           0           0   \n",
       "2      GIBSON ST  42.297555 -71.059709              0           0           0   \n",
       "3      BROOKS ST  42.355120 -71.162678              0           0           0   \n",
       "4  WASHINGTON ST  42.309718 -71.104294              0           0           0   \n",
       "5     BRADLEE ST  42.271616 -71.118074              0           0           0   \n",
       "\n",
       "   is_burglary  is_drug  is_sexual_assault  is_weapon  is_aggrevated_assault  \\\n",
       "1            0        0                  0          0                      0   \n",
       "2            0        0                  0          0                      0   \n",
       "3            0        0                  0          0                      0   \n",
       "4            0        0                  0          0                      0   \n",
       "5            0        0                  0          0                      0   \n",
       "\n",
       "   is_murder  \n",
       "1          0  \n",
       "2          0  \n",
       "3          0  \n",
       "4          0  \n",
       "5          0  "
      ]
     },
     "execution_count": 44,
     "metadata": {},
     "output_type": "execute_result"
    }
   ],
   "source": [
    "data.head()"
   ]
  },
  {
   "cell_type": "code",
   "execution_count": 45,
   "metadata": {
    "ExecuteTime": {
     "end_time": "2020-06-22T22:56:33.753601Z",
     "start_time": "2020-06-22T22:56:33.750373Z"
    }
   },
   "outputs": [
    {
     "data": {
      "text/plain": [
       "['offense_code',\n",
       " 'offense_code_group',\n",
       " 'offense_description',\n",
       " 'district',\n",
       " 'reporting_area',\n",
       " 'shooting',\n",
       " 'occurred_on_date',\n",
       " 'year',\n",
       " 'month',\n",
       " 'day_of_week',\n",
       " 'hour',\n",
       " 'ucr_part',\n",
       " 'street',\n",
       " 'lat',\n",
       " 'long',\n",
       " 'is_auto_theft',\n",
       " 'is_robbery',\n",
       " 'is_larceny',\n",
       " 'is_burglary',\n",
       " 'is_drug',\n",
       " 'is_sexual_assault',\n",
       " 'is_weapon',\n",
       " 'is_aggrevated_assault',\n",
       " 'is_murder']"
      ]
     },
     "execution_count": 45,
     "metadata": {},
     "output_type": "execute_result"
    }
   ],
   "source": [
    "list(data.columns)"
   ]
  },
  {
   "cell_type": "code",
   "execution_count": 46,
   "metadata": {
    "ExecuteTime": {
     "end_time": "2020-06-22T22:56:33.891924Z",
     "start_time": "2020-06-22T22:56:33.755048Z"
    }
   },
   "outputs": [
    {
     "data": {
      "image/png": "[encoded data removed]",
      "text/plain": [
       "<Figure size 432x288 with 1 Axes>"
      ]
     },
     "metadata": {},
     "output_type": "display_data"
    }
   ],
   "source": [
    "data['year'].value_counts().sort_index().plot(kind='line', color='skyblue')\n",
    "plt.title('Police Calls YoY');"
   ]
  },
  {
   "cell_type": "code",
   "execution_count": 47,
   "metadata": {
    "ExecuteTime": {
     "end_time": "2020-06-22T22:56:34.022116Z",
     "start_time": "2020-06-22T22:56:33.893701Z"
    },
    "scrolled": true
   },
   "outputs": [
    {
     "data": {
      "text/plain": [
       "''"
      ]
     },
     "execution_count": 47,
     "metadata": {},
     "output_type": "execute_result"
    },
    {
     "data": {
      "image/png": "[encoded data removed]",
      "text/plain": [
       "<Figure size 432x288 with 1 Axes>"
      ]
     },
     "metadata": {},
     "output_type": "display_data"
    }
   ],
   "source": [
    "data['month'].value_counts().sort_index().plot(kind='bar', color='skyblue')\n",
    "plt.title('Police Calls per Month')\n",
    ";"
   ]
  },
  {
   "cell_type": "code",
   "execution_count": 48,
   "metadata": {
    "ExecuteTime": {
     "end_time": "2020-06-22T22:56:34.179211Z",
     "start_time": "2020-06-22T22:56:34.023975Z"
    }
   },
   "outputs": [
    {
     "data": {
      "image/png": "[encoded data removed]",
      "text/plain": [
       "<Figure size 432x288 with 1 Axes>"
      ]
     },
     "metadata": {},
     "output_type": "display_data"
    }
   ],
   "source": [
    "data['hour'].value_counts().sort_index().plot(kind='bar', color='skyblue')\n",
    "plt.title('Police Calls by Hour')\n",
    "plt.xticks(rotation='horizontal');\n"
   ]
  },
  {
   "cell_type": "code",
   "execution_count": 49,
   "metadata": {
    "ExecuteTime": {
     "end_time": "2020-06-22T22:56:34.203054Z",
     "start_time": "2020-06-22T22:56:34.180850Z"
    }
   },
   "outputs": [],
   "source": [
    "data['day_of_week'] = pd.Categorical(data['day_of_week'], \n",
    "              categories=['Monday','Tuesday','Wednesday','Thursday','Friday','Saturday','Sunday'],\n",
    "              ordered=True)"
   ]
  },
  {
   "cell_type": "code",
   "execution_count": 50,
   "metadata": {
    "ExecuteTime": {
     "end_time": "2020-06-22T22:56:34.321674Z",
     "start_time": "2020-06-22T22:56:34.204679Z"
    }
   },
   "outputs": [
    {
     "data": {
      "image/png": "[encoded data removed]",
      "text/plain": [
       "<Figure size 432x288 with 1 Axes>"
      ]
     },
     "metadata": {},
     "output_type": "display_data"
    }
   ],
   "source": [
    "data['day_of_week'].value_counts().sort_index().plot(kind='bar', color='skyblue')\n",
    "plt.title('Police Calls by Day of Week');"
   ]
  },
  {
   "cell_type": "code",
   "execution_count": 51,
   "metadata": {
    "ExecuteTime": {
     "end_time": "2020-06-22T22:56:34.472451Z",
     "start_time": "2020-06-22T22:56:34.323175Z"
    }
   },
   "outputs": [
    {
     "data": {
      "image/png": "[encoded data removed]",
      "text/plain": [
       "<Figure size 432x288 with 1 Axes>"
      ]
     },
     "metadata": {},
     "output_type": "display_data"
    }
   ],
   "source": [
    "data['district'].value_counts().sort_values(ascending=False).plot(kind='bar', color='skyblue')\n",
    "plt.title('Police Calls by District');"
   ]
  },
  {
   "cell_type": "code",
   "execution_count": 52,
   "metadata": {
    "ExecuteTime": {
     "end_time": "2020-06-22T22:56:34.490397Z",
     "start_time": "2020-06-22T22:56:34.474080Z"
    }
   },
   "outputs": [
    {
     "data": {
      "text/html": [
       "<div>\n",
       "<style scoped>\n",
       "    .dataframe tbody tr th:only-of-type {\n",
       "        vertical-align: middle;\n",
       "    }\n",
       "\n",
       "    .dataframe tbody tr th {\n",
       "        vertical-align: top;\n",
       "    }\n",
       "\n",
       "    .dataframe thead th {\n",
       "        text-align: right;\n",
       "    }\n",
       "</style>\n",
       "<table border=\"1\" class=\"dataframe\">\n",
       "  <thead>\n",
       "    <tr style=\"text-align: right;\">\n",
       "      <th></th>\n",
       "      <th>offense_code</th>\n",
       "      <th>offense_code_group</th>\n",
       "      <th>offense_description</th>\n",
       "      <th>district</th>\n",
       "      <th>reporting_area</th>\n",
       "      <th>shooting</th>\n",
       "      <th>occurred_on_date</th>\n",
       "      <th>year</th>\n",
       "      <th>month</th>\n",
       "      <th>day_of_week</th>\n",
       "      <th>hour</th>\n",
       "      <th>ucr_part</th>\n",
       "      <th>street</th>\n",
       "      <th>lat</th>\n",
       "      <th>long</th>\n",
       "      <th>is_auto_theft</th>\n",
       "      <th>is_robbery</th>\n",
       "      <th>is_larceny</th>\n",
       "      <th>is_burglary</th>\n",
       "      <th>is_drug</th>\n",
       "      <th>is_sexual_assault</th>\n",
       "      <th>is_weapon</th>\n",
       "      <th>is_aggrevated_assault</th>\n",
       "      <th>is_murder</th>\n",
       "    </tr>\n",
       "  </thead>\n",
       "  <tbody>\n",
       "    <tr>\n",
       "      <th>1</th>\n",
       "      <td>3301</td>\n",
       "      <td>NaN</td>\n",
       "      <td>VERBAL DISPUTE</td>\n",
       "      <td>E13</td>\n",
       "      <td>583</td>\n",
       "      <td>0.0</td>\n",
       "      <td>2019-12-20 03:08:00</td>\n",
       "      <td>2019</td>\n",
       "      <td>12</td>\n",
       "      <td>Friday</td>\n",
       "      <td>3</td>\n",
       "      <td>unknown</td>\n",
       "      <td>DAY ST</td>\n",
       "      <td>42.325122</td>\n",
       "      <td>-71.107779</td>\n",
       "      <td>0</td>\n",
       "      <td>0</td>\n",
       "      <td>0</td>\n",
       "      <td>0</td>\n",
       "      <td>0</td>\n",
       "      <td>0</td>\n",
       "      <td>0</td>\n",
       "      <td>0</td>\n",
       "      <td>0</td>\n",
       "    </tr>\n",
       "    <tr>\n",
       "      <th>2</th>\n",
       "      <td>3115</td>\n",
       "      <td>NaN</td>\n",
       "      <td>INVESTIGATE PERSON</td>\n",
       "      <td>C11</td>\n",
       "      <td>355</td>\n",
       "      <td>0.0</td>\n",
       "      <td>2019-10-23 00:00:00</td>\n",
       "      <td>2019</td>\n",
       "      <td>10</td>\n",
       "      <td>Wednesday</td>\n",
       "      <td>0</td>\n",
       "      <td>unknown</td>\n",
       "      <td>GIBSON ST</td>\n",
       "      <td>42.297555</td>\n",
       "      <td>-71.059709</td>\n",
       "      <td>0</td>\n",
       "      <td>0</td>\n",
       "      <td>0</td>\n",
       "      <td>0</td>\n",
       "      <td>0</td>\n",
       "      <td>0</td>\n",
       "      <td>0</td>\n",
       "      <td>0</td>\n",
       "      <td>0</td>\n",
       "    </tr>\n",
       "    <tr>\n",
       "      <th>3</th>\n",
       "      <td>3126</td>\n",
       "      <td>NaN</td>\n",
       "      <td>WARRANT ARREST - OUTSIDE OF BOSTON WARRANT</td>\n",
       "      <td>D14</td>\n",
       "      <td>765</td>\n",
       "      <td>0.0</td>\n",
       "      <td>2019-11-22 07:50:00</td>\n",
       "      <td>2019</td>\n",
       "      <td>11</td>\n",
       "      <td>Friday</td>\n",
       "      <td>7</td>\n",
       "      <td>unknown</td>\n",
       "      <td>BROOKS ST</td>\n",
       "      <td>42.355120</td>\n",
       "      <td>-71.162678</td>\n",
       "      <td>0</td>\n",
       "      <td>0</td>\n",
       "      <td>0</td>\n",
       "      <td>0</td>\n",
       "      <td>0</td>\n",
       "      <td>0</td>\n",
       "      <td>0</td>\n",
       "      <td>0</td>\n",
       "      <td>0</td>\n",
       "    </tr>\n",
       "    <tr>\n",
       "      <th>4</th>\n",
       "      <td>3005</td>\n",
       "      <td>NaN</td>\n",
       "      <td>SICK ASSIST</td>\n",
       "      <td>E13</td>\n",
       "      <td>574</td>\n",
       "      <td>0.0</td>\n",
       "      <td>2019-11-05 18:00:00</td>\n",
       "      <td>2019</td>\n",
       "      <td>11</td>\n",
       "      <td>Tuesday</td>\n",
       "      <td>18</td>\n",
       "      <td>unknown</td>\n",
       "      <td>WASHINGTON ST</td>\n",
       "      <td>42.309718</td>\n",
       "      <td>-71.104294</td>\n",
       "      <td>0</td>\n",
       "      <td>0</td>\n",
       "      <td>0</td>\n",
       "      <td>0</td>\n",
       "      <td>0</td>\n",
       "      <td>0</td>\n",
       "      <td>0</td>\n",
       "      <td>0</td>\n",
       "      <td>0</td>\n",
       "    </tr>\n",
       "    <tr>\n",
       "      <th>5</th>\n",
       "      <td>1402</td>\n",
       "      <td>NaN</td>\n",
       "      <td>VANDALISM</td>\n",
       "      <td>E18</td>\n",
       "      <td>498</td>\n",
       "      <td>0.0</td>\n",
       "      <td>2019-11-02 05:09:00</td>\n",
       "      <td>2019</td>\n",
       "      <td>11</td>\n",
       "      <td>Saturday</td>\n",
       "      <td>5</td>\n",
       "      <td>unknown</td>\n",
       "      <td>BRADLEE ST</td>\n",
       "      <td>42.271616</td>\n",
       "      <td>-71.118074</td>\n",
       "      <td>0</td>\n",
       "      <td>0</td>\n",
       "      <td>0</td>\n",
       "      <td>0</td>\n",
       "      <td>0</td>\n",
       "      <td>0</td>\n",
       "      <td>0</td>\n",
       "      <td>0</td>\n",
       "      <td>0</td>\n",
       "    </tr>\n",
       "  </tbody>\n",
       "</table>\n",
       "</div>"
      ],
      "text/plain": [
       "   offense_code offense_code_group  \\\n",
       "1          3301                NaN   \n",
       "2          3115                NaN   \n",
       "3          3126                NaN   \n",
       "4          3005                NaN   \n",
       "5          1402                NaN   \n",
       "\n",
       "                          offense_description district reporting_area  \\\n",
       "1                              VERBAL DISPUTE      E13            583   \n",
       "2                          INVESTIGATE PERSON      C11            355   \n",
       "3  WARRANT ARREST - OUTSIDE OF BOSTON WARRANT      D14            765   \n",
       "4                                 SICK ASSIST      E13            574   \n",
       "5                                   VANDALISM      E18            498   \n",
       "\n",
       "   shooting    occurred_on_date  year  month day_of_week  hour ucr_part  \\\n",
       "1       0.0 2019-12-20 03:08:00  2019     12      Friday     3  unknown   \n",
       "2       0.0 2019-10-23 00:00:00  2019     10   Wednesday     0  unknown   \n",
       "3       0.0 2019-11-22 07:50:00  2019     11      Friday     7  unknown   \n",
       "4       0.0 2019-11-05 18:00:00  2019     11     Tuesday    18  unknown   \n",
       "5       0.0 2019-11-02 05:09:00  2019     11    Saturday     5  unknown   \n",
       "\n",
       "          street        lat       long  is_auto_theft  is_robbery  is_larceny  \\\n",
       "1         DAY ST  42.325122 -71.107779              0           0           0   \n",
       "2      GIBSON ST  42.297555 -71.059709              0           0           0   \n",
       "3      BROOKS ST  42.355120 -71.162678              0           0           0   \n",
       "4  WASHINGTON ST  42.309718 -71.104294              0           0           0   \n",
       "5     BRADLEE ST  42.271616 -71.118074              0           0           0   \n",
       "\n",
       "   is_burglary  is_drug  is_sexual_assault  is_weapon  is_aggrevated_assault  \\\n",
       "1            0        0                  0          0                      0   \n",
       "2            0        0                  0          0                      0   \n",
       "3            0        0                  0          0                      0   \n",
       "4            0        0                  0          0                      0   \n",
       "5            0        0                  0          0                      0   \n",
       "\n",
       "   is_murder  \n",
       "1          0  \n",
       "2          0  \n",
       "3          0  \n",
       "4          0  \n",
       "5          0  "
      ]
     },
     "execution_count": 52,
     "metadata": {},
     "output_type": "execute_result"
    }
   ],
   "source": [
    "data.head()"
   ]
  },
  {
   "cell_type": "code",
   "execution_count": 53,
   "metadata": {
    "ExecuteTime": {
     "end_time": "2020-06-22T22:56:34.500687Z",
     "start_time": "2020-06-22T22:56:34.492080Z"
    }
   },
   "outputs": [],
   "source": [
    "violent_related = data[[ 'is_auto_theft',\n",
    " 'is_robbery',\n",
    " 'is_larceny',\n",
    " 'is_burglary',\n",
    " 'is_drug',\n",
    " 'is_sexual_assault',\n",
    " 'is_weapon',\n",
    " 'is_aggrevated_assault',\n",
    " 'is_murder', \n",
    " 'shooting']]"
   ]
  },
  {
   "cell_type": "code",
   "execution_count": 54,
   "metadata": {
    "ExecuteTime": {
     "end_time": "2020-06-22T22:56:34.558268Z",
     "start_time": "2020-06-22T22:56:34.502318Z"
    }
   },
   "outputs": [],
   "source": [
    "data['is_violent'] = violent_related.sum(axis=1)"
   ]
  },
  {
   "cell_type": "code",
   "execution_count": 55,
   "metadata": {
    "ExecuteTime": {
     "end_time": "2020-06-22T22:56:34.562695Z",
     "start_time": "2020-06-22T22:56:34.559688Z"
    }
   },
   "outputs": [
    {
     "data": {
      "text/plain": [
       "(409611, 25)"
      ]
     },
     "execution_count": 55,
     "metadata": {},
     "output_type": "execute_result"
    }
   ],
   "source": [
    "data.shape"
   ]
  },
  {
   "cell_type": "code",
   "execution_count": 56,
   "metadata": {
    "ExecuteTime": {
     "end_time": "2020-06-22T22:56:34.703148Z",
     "start_time": "2020-06-22T22:56:34.564201Z"
    }
   },
   "outputs": [
    {
     "name": "stdout",
     "output_type": "stream",
     "text": [
      "<class 'pandas.core.frame.DataFrame'>\n",
      "Int64Index: 409611 entries, 1 to 489571\n",
      "Data columns (total 25 columns):\n",
      " #   Column                 Non-Null Count   Dtype         \n",
      "---  ------                 --------------   -----         \n",
      " 0   offense_code           409611 non-null  int64         \n",
      " 1   offense_code_group     348166 non-null  object        \n",
      " 2   offense_description    409611 non-null  object        \n",
      " 3   district               407706 non-null  object        \n",
      " 4   reporting_area         409611 non-null  object        \n",
      " 5   shooting               409611 non-null  float64       \n",
      " 6   occurred_on_date       409611 non-null  datetime64[ns]\n",
      " 7   year                   409611 non-null  int64         \n",
      " 8   month                  409611 non-null  int64         \n",
      " 9   day_of_week            409611 non-null  category      \n",
      " 10  hour                   409611 non-null  int64         \n",
      " 11  ucr_part               409611 non-null  object        \n",
      " 12  street                 401668 non-null  object        \n",
      " 13  lat                    409611 non-null  float64       \n",
      " 14  long                   409611 non-null  float64       \n",
      " 15  is_auto_theft          409611 non-null  int64         \n",
      " 16  is_robbery             409611 non-null  int64         \n",
      " 17  is_larceny             409611 non-null  int64         \n",
      " 18  is_burglary            409611 non-null  int64         \n",
      " 19  is_drug                409611 non-null  int64         \n",
      " 20  is_sexual_assault      409611 non-null  int64         \n",
      " 21  is_weapon              409611 non-null  int64         \n",
      " 22  is_aggrevated_assault  409611 non-null  int64         \n",
      " 23  is_murder              409611 non-null  int64         \n",
      " 24  is_violent             409611 non-null  float64       \n",
      "dtypes: category(1), datetime64[ns](1), float64(4), int64(13), object(6)\n",
      "memory usage: 78.5+ MB\n"
     ]
    }
   ],
   "source": [
    "data.info()"
   ]
  },
  {
   "cell_type": "code",
   "execution_count": 57,
   "metadata": {
    "ExecuteTime": {
     "end_time": "2020-06-22T22:56:34.873117Z",
     "start_time": "2020-06-22T22:56:34.705083Z"
    }
   },
   "outputs": [
    {
     "data": {
      "text/html": [
       "<div>\n",
       "<style scoped>\n",
       "    .dataframe tbody tr th:only-of-type {\n",
       "        vertical-align: middle;\n",
       "    }\n",
       "\n",
       "    .dataframe tbody tr th {\n",
       "        vertical-align: top;\n",
       "    }\n",
       "\n",
       "    .dataframe thead th {\n",
       "        text-align: right;\n",
       "    }\n",
       "</style>\n",
       "<table border=\"1\" class=\"dataframe\">\n",
       "  <thead>\n",
       "    <tr style=\"text-align: right;\">\n",
       "      <th></th>\n",
       "      <th>count</th>\n",
       "      <th>mean</th>\n",
       "      <th>std</th>\n",
       "      <th>min</th>\n",
       "      <th>25%</th>\n",
       "      <th>50%</th>\n",
       "      <th>75%</th>\n",
       "      <th>max</th>\n",
       "    </tr>\n",
       "  </thead>\n",
       "  <tbody>\n",
       "    <tr>\n",
       "      <th>offense_code</th>\n",
       "      <td>409611.0</td>\n",
       "      <td>2332.329088</td>\n",
       "      <td>1175.424895</td>\n",
       "      <td>111.000000</td>\n",
       "      <td>1102.000000</td>\n",
       "      <td>3006.000000</td>\n",
       "      <td>3201.000000</td>\n",
       "      <td>3831.000000</td>\n",
       "    </tr>\n",
       "    <tr>\n",
       "      <th>shooting</th>\n",
       "      <td>409611.0</td>\n",
       "      <td>0.005036</td>\n",
       "      <td>0.070789</td>\n",
       "      <td>0.000000</td>\n",
       "      <td>0.000000</td>\n",
       "      <td>0.000000</td>\n",
       "      <td>0.000000</td>\n",
       "      <td>1.000000</td>\n",
       "    </tr>\n",
       "    <tr>\n",
       "      <th>year</th>\n",
       "      <td>409611.0</td>\n",
       "      <td>2017.727832</td>\n",
       "      <td>1.285221</td>\n",
       "      <td>2016.000000</td>\n",
       "      <td>2017.000000</td>\n",
       "      <td>2018.000000</td>\n",
       "      <td>2019.000000</td>\n",
       "      <td>2020.000000</td>\n",
       "    </tr>\n",
       "    <tr>\n",
       "      <th>month</th>\n",
       "      <td>409611.0</td>\n",
       "      <td>6.261861</td>\n",
       "      <td>3.404410</td>\n",
       "      <td>1.000000</td>\n",
       "      <td>3.000000</td>\n",
       "      <td>6.000000</td>\n",
       "      <td>9.000000</td>\n",
       "      <td>12.000000</td>\n",
       "    </tr>\n",
       "    <tr>\n",
       "      <th>hour</th>\n",
       "      <td>409611.0</td>\n",
       "      <td>13.106694</td>\n",
       "      <td>6.316336</td>\n",
       "      <td>0.000000</td>\n",
       "      <td>9.000000</td>\n",
       "      <td>14.000000</td>\n",
       "      <td>18.000000</td>\n",
       "      <td>23.000000</td>\n",
       "    </tr>\n",
       "    <tr>\n",
       "      <th>lat</th>\n",
       "      <td>409611.0</td>\n",
       "      <td>42.228220</td>\n",
       "      <td>2.010579</td>\n",
       "      <td>-1.000000</td>\n",
       "      <td>42.296661</td>\n",
       "      <td>42.324923</td>\n",
       "      <td>42.348288</td>\n",
       "      <td>42.395042</td>\n",
       "    </tr>\n",
       "    <tr>\n",
       "      <th>long</th>\n",
       "      <td>409611.0</td>\n",
       "      <td>-70.932001</td>\n",
       "      <td>3.252455</td>\n",
       "      <td>-71.178674</td>\n",
       "      <td>-71.097567</td>\n",
       "      <td>-71.077763</td>\n",
       "      <td>-71.062563</td>\n",
       "      <td>0.000000</td>\n",
       "    </tr>\n",
       "    <tr>\n",
       "      <th>is_auto_theft</th>\n",
       "      <td>409611.0</td>\n",
       "      <td>0.014028</td>\n",
       "      <td>0.117606</td>\n",
       "      <td>0.000000</td>\n",
       "      <td>0.000000</td>\n",
       "      <td>0.000000</td>\n",
       "      <td>0.000000</td>\n",
       "      <td>1.000000</td>\n",
       "    </tr>\n",
       "    <tr>\n",
       "      <th>is_robbery</th>\n",
       "      <td>409611.0</td>\n",
       "      <td>0.012402</td>\n",
       "      <td>0.110672</td>\n",
       "      <td>0.000000</td>\n",
       "      <td>0.000000</td>\n",
       "      <td>0.000000</td>\n",
       "      <td>0.000000</td>\n",
       "      <td>1.000000</td>\n",
       "    </tr>\n",
       "    <tr>\n",
       "      <th>is_larceny</th>\n",
       "      <td>409611.0</td>\n",
       "      <td>0.113298</td>\n",
       "      <td>0.316957</td>\n",
       "      <td>0.000000</td>\n",
       "      <td>0.000000</td>\n",
       "      <td>0.000000</td>\n",
       "      <td>0.000000</td>\n",
       "      <td>1.000000</td>\n",
       "    </tr>\n",
       "    <tr>\n",
       "      <th>is_burglary</th>\n",
       "      <td>409611.0</td>\n",
       "      <td>0.021144</td>\n",
       "      <td>0.143866</td>\n",
       "      <td>0.000000</td>\n",
       "      <td>0.000000</td>\n",
       "      <td>0.000000</td>\n",
       "      <td>0.000000</td>\n",
       "      <td>1.000000</td>\n",
       "    </tr>\n",
       "    <tr>\n",
       "      <th>is_drug</th>\n",
       "      <td>409611.0</td>\n",
       "      <td>0.044401</td>\n",
       "      <td>0.205984</td>\n",
       "      <td>0.000000</td>\n",
       "      <td>0.000000</td>\n",
       "      <td>0.000000</td>\n",
       "      <td>0.000000</td>\n",
       "      <td>1.000000</td>\n",
       "    </tr>\n",
       "    <tr>\n",
       "      <th>is_sexual_assault</th>\n",
       "      <td>409611.0</td>\n",
       "      <td>0.000471</td>\n",
       "      <td>0.021702</td>\n",
       "      <td>0.000000</td>\n",
       "      <td>0.000000</td>\n",
       "      <td>0.000000</td>\n",
       "      <td>0.000000</td>\n",
       "      <td>1.000000</td>\n",
       "    </tr>\n",
       "    <tr>\n",
       "      <th>is_weapon</th>\n",
       "      <td>409611.0</td>\n",
       "      <td>0.007268</td>\n",
       "      <td>0.084942</td>\n",
       "      <td>0.000000</td>\n",
       "      <td>0.000000</td>\n",
       "      <td>0.000000</td>\n",
       "      <td>0.000000</td>\n",
       "      <td>1.000000</td>\n",
       "    </tr>\n",
       "    <tr>\n",
       "      <th>is_aggrevated_assault</th>\n",
       "      <td>409611.0</td>\n",
       "      <td>0.078142</td>\n",
       "      <td>0.268396</td>\n",
       "      <td>0.000000</td>\n",
       "      <td>0.000000</td>\n",
       "      <td>0.000000</td>\n",
       "      <td>0.000000</td>\n",
       "      <td>1.000000</td>\n",
       "    </tr>\n",
       "    <tr>\n",
       "      <th>is_murder</th>\n",
       "      <td>409611.0</td>\n",
       "      <td>0.000581</td>\n",
       "      <td>0.024098</td>\n",
       "      <td>0.000000</td>\n",
       "      <td>0.000000</td>\n",
       "      <td>0.000000</td>\n",
       "      <td>0.000000</td>\n",
       "      <td>1.000000</td>\n",
       "    </tr>\n",
       "    <tr>\n",
       "      <th>is_violent</th>\n",
       "      <td>409611.0</td>\n",
       "      <td>0.296772</td>\n",
       "      <td>0.463494</td>\n",
       "      <td>0.000000</td>\n",
       "      <td>0.000000</td>\n",
       "      <td>0.000000</td>\n",
       "      <td>1.000000</td>\n",
       "      <td>2.000000</td>\n",
       "    </tr>\n",
       "  </tbody>\n",
       "</table>\n",
       "</div>"
      ],
      "text/plain": [
       "                          count         mean          std          min  \\\n",
       "offense_code           409611.0  2332.329088  1175.424895   111.000000   \n",
       "shooting               409611.0     0.005036     0.070789     0.000000   \n",
       "year                   409611.0  2017.727832     1.285221  2016.000000   \n",
       "month                  409611.0     6.261861     3.404410     1.000000   \n",
       "hour                   409611.0    13.106694     6.316336     0.000000   \n",
       "lat                    409611.0    42.228220     2.010579    -1.000000   \n",
       "long                   409611.0   -70.932001     3.252455   -71.178674   \n",
       "is_auto_theft          409611.0     0.014028     0.117606     0.000000   \n",
       "is_robbery             409611.0     0.012402     0.110672     0.000000   \n",
       "is_larceny             409611.0     0.113298     0.316957     0.000000   \n",
       "is_burglary            409611.0     0.021144     0.143866     0.000000   \n",
       "is_drug                409611.0     0.044401     0.205984     0.000000   \n",
       "is_sexual_assault      409611.0     0.000471     0.021702     0.000000   \n",
       "is_weapon              409611.0     0.007268     0.084942     0.000000   \n",
       "is_aggrevated_assault  409611.0     0.078142     0.268396     0.000000   \n",
       "is_murder              409611.0     0.000581     0.024098     0.000000   \n",
       "is_violent             409611.0     0.296772     0.463494     0.000000   \n",
       "\n",
       "                               25%          50%          75%          max  \n",
       "offense_code           1102.000000  3006.000000  3201.000000  3831.000000  \n",
       "shooting                  0.000000     0.000000     0.000000     1.000000  \n",
       "year                   2017.000000  2018.000000  2019.000000  2020.000000  \n",
       "month                     3.000000     6.000000     9.000000    12.000000  \n",
       "hour                      9.000000    14.000000    18.000000    23.000000  \n",
       "lat                      42.296661    42.324923    42.348288    42.395042  \n",
       "long                    -71.097567   -71.077763   -71.062563     0.000000  \n",
       "is_auto_theft             0.000000     0.000000     0.000000     1.000000  \n",
       "is_robbery                0.000000     0.000000     0.000000     1.000000  \n",
       "is_larceny                0.000000     0.000000     0.000000     1.000000  \n",
       "is_burglary               0.000000     0.000000     0.000000     1.000000  \n",
       "is_drug                   0.000000     0.000000     0.000000     1.000000  \n",
       "is_sexual_assault         0.000000     0.000000     0.000000     1.000000  \n",
       "is_weapon                 0.000000     0.000000     0.000000     1.000000  \n",
       "is_aggrevated_assault     0.000000     0.000000     0.000000     1.000000  \n",
       "is_murder                 0.000000     0.000000     0.000000     1.000000  \n",
       "is_violent                0.000000     0.000000     1.000000     2.000000  "
      ]
     },
     "execution_count": 57,
     "metadata": {},
     "output_type": "execute_result"
    }
   ],
   "source": [
    "data.describe().T"
   ]
  },
  {
   "cell_type": "code",
   "execution_count": 58,
   "metadata": {
    "ExecuteTime": {
     "end_time": "2020-06-22T22:56:34.883076Z",
     "start_time": "2020-06-22T22:56:34.874504Z"
    }
   },
   "outputs": [],
   "source": [
    "crime_types = data[[ \n",
    " 'is_auto_theft',\n",
    " 'is_robbery',\n",
    " 'is_larceny',\n",
    " 'is_burglary',\n",
    " 'is_drug',\n",
    " 'is_sexual_assault',\n",
    " 'is_weapon',\n",
    " 'is_aggrevated_assault',\n",
    " 'is_murder',\n",
    " 'shooting']]"
   ]
  },
  {
   "cell_type": "code",
   "execution_count": 61,
   "metadata": {
    "ExecuteTime": {
     "end_time": "2020-06-22T23:16:29.710372Z",
     "start_time": "2020-06-22T23:16:29.561539Z"
    }
   },
   "outputs": [
    {
     "data": {
      "image/png": "[encoded data removed]",
      "text/plain": [
       "<Figure size 432x288 with 1 Axes>"
      ]
     },
     "metadata": {},
     "output_type": "display_data"
    }
   ],
   "source": [
    "crime_types.sum().sort_values().plot(kind='barh');"
   ]
  },
  {
   "cell_type": "code",
   "execution_count": null,
   "metadata": {},
   "outputs": [],
   "source": []
  }
 ],
 "metadata": {
  "kernelspec": {
   "display_name": "Python 3.7.7 64-bit ('dsi': conda)",
   "language": "python",
   "name": "python37764bitdsicondaddfe0c05640c4e1581da44e0f6b96ae5"
  },
  "language_info": {
   "codemirror_mode": {
    "name": "ipython",
    "version": 3
   },
   "file_extension": ".py",
   "mimetype": "text/x-python",
   "name": "python",
   "nbconvert_exporter": "python",
   "pygments_lexer": "ipython3",
   "version": "3.7.7"
  },
  "toc": {
   "base_numbering": 1,
   "nav_menu": {},
   "number_sections": true,
   "sideBar": true,
   "skip_h1_title": false,
   "title_cell": "Table of Contents",
   "title_sidebar": "Contents",
   "toc_cell": false,
   "toc_position": {},
   "toc_section_display": true,
   "toc_window_display": false
  },
  "varInspector": {
   "cols": {
    "lenName": 16,
    "lenType": 16,
    "lenVar": 40
   },
   "kernels_config": {
    "python": {
     "delete_cmd_postfix": "",
     "delete_cmd_prefix": "del ",
     "library": "var_list.py",
     "varRefreshCmd": "print(var_dic_list())"
    },
    "r": {
     "delete_cmd_postfix": ") ",
     "delete_cmd_prefix": "rm(",
     "library": "var_list.r",
     "varRefreshCmd": "cat(var_dic_list()) "
    }
   },
   "types_to_exclude": [
    "module",
    "function",
    "builtin_function_or_method",
    "instance",
    "_Feature"
   ],
   "window_display": false
  }
 },
 "nbformat": 4,
 "nbformat_minor": 4
}
